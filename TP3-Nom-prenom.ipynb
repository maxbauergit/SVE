{
 "cells": [
  {
   "cell_type": "markdown",
   "id": "bd447c89",
   "metadata": {},
   "source": [
    "<link rel=\"stylesheet\" href=\"https://cdnjs.cloudflare.com/ajax/libs/font-awesome/4.7.0/css/font-awesome.min.css\">"
   ]
  },
  {
   "cell_type": "markdown",
   "id": "ab70ef98",
   "metadata": {},
   "source": [
    "**Nom prénom :**                                                                 \n",
    "**Groupe :**    \n",
    "**Date :**"
   ]
  },
  {
   "cell_type": "markdown",
   "id": "601ddbc1",
   "metadata": {},
   "source": [
    "<span style=\"background:yellow;color:black\"> Avant de commencer: </span>\n",
    "\n",
    "- Remplir et exécuter la cellule ci-dessus.\n",
    "- Modififier le nom du notebook (cliquer sur TP2-Nom-prenom) en y mettant votre nom, prénom.  "
   ]
  },
  {
   "cell_type": "markdown",
   "id": "58f10bef",
   "metadata": {},
   "source": [
    "<span style=\"background:yellow;color:black\"> Instructions pour déposer votre compte rendu à la fin du TP</span>\n",
    "\n",
    "- Exporter votre notebook (ouvert) sous forme pdf : `Print Preview` du menu `File` de Jupyter. Dans le nouveau onglet du navigateur, faire `Imprimer`, puis `Exporter au format Pdf` du menu du navigateur (décocher \n",
    "`Imprimer les en-têtes`) et sauvegarder dans votre (H:).\n",
    "- Déposer le notebook (fichier .ipynb) et le fichier pdf dans le dépôt Moodle. Votre nom doit figurer dans le nom des deux fichiers.    "
   ]
  },
  {
   "cell_type": "markdown",
   "id": "0c850a46",
   "metadata": {},
   "source": [
    "<span style=\"background:yellow;color:black\"> Rappels :</span>\n",
    "- Le raccourcis pour <i class=\"fa fa-play\" aria-hidden=\"true\"></i> est `Ctrl+Entrée` sur Windows ou `Ctrl+Retour` sur Mac. Voir <i class=\"fa fa-keyboard-o\"></i> pour d'autre raccourcis.\n",
    "- Pour **annuler une modification** dans une cellule, utilisez `Ctrl+Z`\n",
    "sous Windows et `Commande+Z` sous Mac.     \n",
    "- Pour **insérer** une nouvelle cellule utiliser <i class=\"fa fa-plus\" aria-hidden=\"true\"></i> ou les raccourcis `esc a` et `esc b`.   \n",
    "- Pour **déplacer** une cellule, utiliser <i class=\"fa fa-arrow-up\"></i> et  <i class=\"fa fa-arrow-down\"></i>.\n",
    "- Pour **effacer** une cellule, utiliser <i class=\"fa fa-scissors\"></i>\n",
    "- Pour **interrompre** l'exécution d'une cellule, utiliser <i class=\"fa fa-square\" aria-hidden=\"true\"></i>."
   ]
  },
  {
   "cell_type": "markdown",
   "id": "f686355a",
   "metadata": {},
   "source": [
    "<span style=\"background:yellow;color:black\"> Astuce :</span> Utiliser `Esc L` pour afficher le numéro des lignes.  (Ceci aide à localiser les erreurs de syntaxe.)"
   ]
  },
  {
   "cell_type": "markdown",
   "id": "2f06d9b5",
   "metadata": {},
   "source": [
    "# <center> TP 3 - Numpy, graphiques, fonctions </center>"
   ]
  },
  {
   "cell_type": "markdown",
   "id": "27c77cf9",
   "metadata": {},
   "source": [
    "## Module Numpy"
   ]
  },
  {
   "cell_type": "markdown",
   "id": "d802728b",
   "metadata": {},
   "source": [
    "Pour pouvoir utiliser des fonctions comme $\\sin$, $\\cos$, ... il faut d'abord les importer\n",
    "via un module (bibliothèque de fonctions prédéfinies). Nous allons utiliser le module *Numpy* qui est \n",
    "optimisé pour le calcul numérique."
   ]
  },
  {
   "cell_type": "code",
   "execution_count": null,
   "id": "941d8785",
   "metadata": {},
   "outputs": [],
   "source": [
    "import numpy as np # importation de numpy et création d'un alias np\n",
    "print(np.pi) # utilise pi de la bibliothèque numpy\n",
    "print(np.sin(np.pi/2)) # sin(pi)"
   ]
  },
  {
   "cell_type": "markdown",
   "id": "22ca5803",
   "metadata": {},
   "source": [
    "Si on n'utilise qu'un petit nombre de fonctions (méthodes), on peut aussi utiliser"
   ]
  },
  {
   "cell_type": "code",
   "execution_count": null,
   "id": "ff4aca7c",
   "metadata": {},
   "outputs": [],
   "source": [
    "from numpy import sin, cos, pi # on n'importe que sin, cos, et pi\n",
    "\n",
    "print(sin(pi)) # vrai valeur est 0; valeur affichée est 1.22... 10^(-16) ~ 0\n",
    "print(cos(pi))"
   ]
  },
  {
   "cell_type": "markdown",
   "id": "e9b13361",
   "metadata": {},
   "source": [
    "<span style=\"background:yellow;color:black\"> Conseils :</span> \n",
    "- On place en général la commande qui importe les modules en début du programme.    \n",
    "- Il faut importer les modules chaque fois que vous ouvrez un notebook, mais il suffit de les importer une fois dans une cellule pour pouvoir les utiliser dans les autres.   \n",
    "- Il faut les importer à nouveau après un restart <i class=\"fa fa-repeat\"></i>."
   ]
  },
  {
   "cell_type": "markdown",
   "id": "e78a9f5c",
   "metadata": {},
   "source": [
    "### Fonctions numériques prédéfinies\n",
    "\n",
    "```py\n",
    "import numpy as np # si le module n'est pas encore importé\n",
    "np.sin(), np.cos(), np.tan()\n",
    "np.sqrt() # racine carrée\n",
    "np.exp() # exponentielle\n",
    "np.log() np.log10, np.log2() # ln, log base 10, log base 2\n",
    "np.abs() # valeur absolue\n",
    "np.degrees(), np.radians() # radians en degrés, degrés en radians\n",
    "```"
   ]
  },
  {
   "cell_type": "markdown",
   "id": "43930a41",
   "metadata": {},
   "source": [
    "### Exercice 1\n",
    "\n",
    "> Déterminer la valeur de la fonction $x\\mapsto f(x)$ donnée par\n",
    "> $$f(x)=\\frac{1}{\\sqrt{2\\pi}} \\exp(-\\frac{1}{2}x^2)$$\n",
    "> pour $x=1$.     \n",
    "> Utiliser les f-string pour afficher le resultat sous la forme `f(1)=0.242`, donc en arrondissant la valeur de `f(1)` à trois chiffres après la virgule. Votre commande `print` devrait fonctionner sans changement si vous modifiez la valeur de `x`.\n",
    ">\n",
    ">> *Remarque:* Nous allons utiliser cette fonction plus loin pour tracer sa courbe (courbe de Gauss)\n",
    "\n",
    "### Solution : "
   ]
  },
  {
   "cell_type": "code",
   "execution_count": null,
   "id": "b1093597",
   "metadata": {},
   "outputs": [],
   "source": [
    "# import numpy as np\n",
    "# x = 1\n",
    "# y = ....\n",
    "# print(f\"....\") # utiliser {x} et {y}"
   ]
  },
  {
   "cell_type": "markdown",
   "id": "6dc7fd6c",
   "metadata": {},
   "source": [
    "### Array numpy\n",
    "\n",
    "Les listes ne sont pas les objets les plus pratiques pour faire des\n",
    "calculs car  `+` et `*` sont des opérateurs\n",
    "de concaténation pour les listes.   "
   ]
  },
  {
   "cell_type": "code",
   "execution_count": null,
   "id": "4cb9b722",
   "metadata": {},
   "outputs": [],
   "source": [
    "liste_a = [1, 2, 3]\n",
    "liste_b = [2, 3, 5]\n",
    "print(\"Opeérations sur les listes: \")\n",
    "print(f\"{liste_a} + {liste_b} = {liste_a + liste_b} (concaténaton)\")\n",
    "print(f\"2 * {liste_a} = {2 * liste_a} (concaténaton)\")"
   ]
  },
  {
   "cell_type": "markdown",
   "id": "40d26c4d",
   "metadata": {},
   "source": [
    "Lorsque les deux listes sont de même longueur, nous aimerions\n",
    "parfois faire une somme  ou un produit terme à terme.\n",
    "L'objet *Numpy* qui correspond aux listes est le tableau (array)\n",
    "qui permet des opérations élément par élément:"
   ]
  },
  {
   "cell_type": "code",
   "execution_count": null,
   "id": "e1a5ac61",
   "metadata": {},
   "outputs": [],
   "source": [
    "import numpy as np # si numpy n'est pas encore importé\n",
    "array_a = np.array([1, 2, 3])\n",
    "array_b = np.array([2, 3, 5])\n",
    "print(\"Opeérations terme à terme sur les array numpy: \")\n",
    "print(f\"{array_a} + {array_b} = {array_a + array_b} (addition terme par terme)\")\n",
    "print(f\"{array_a} * {array_b} = {array_a * array_b} (multiplication terme par terme)\")\n",
    "print(f\"2 * {array_a} = {2 * array_a} (multiplication terme par terme)\")"
   ]
  },
  {
   "cell_type": "markdown",
   "id": "1e22b7a0",
   "metadata": {},
   "source": [
    "Nous avons les cas particuliers :"
   ]
  },
  {
   "cell_type": "code",
   "execution_count": null,
   "id": "d27cbab0",
   "metadata": {},
   "outputs": [],
   "source": [
    "print(np.linspace(1, 3, 11)) # liste (array) de 11 points équidistants entre 1 et 3 (inclus)"
   ]
  },
  {
   "cell_type": "code",
   "execution_count": null,
   "id": "7e25fad0",
   "metadata": {},
   "outputs": [],
   "source": [
    "print(np.arange(1, 3, 0.2)) # liste (array) de points entre 1 (inclus) et 3 (exclus) espacés de 0.2"
   ]
  },
  {
   "cell_type": "markdown",
   "id": "9b7aebc0",
   "metadata": {},
   "source": [
    "<span style=\"background:yellow;color:black\">Syntaxe :</span>\n",
    "    \n",
    "\n",
    "- La syntaxe est `np.linspace(debut, fin, nb_points)` qui est similaire à celle de `range`.\n",
    "- Il n'est pas nécessaire de spécifier `nb_points`. S'il est omis, sa valeur par défaut est $50$.   \n",
    "- `np.arange(debut, fin, pas)` renvoie une liste de valeurs espacés de `pas` qui commence avec `debut` et termine **avant** `fin`. "
   ]
  },
  {
   "cell_type": "markdown",
   "id": "f76e9a47",
   "metadata": {},
   "source": [
    "### Opérations élément par élément des fonctions numpy\n",
    "\n",
    "Les fonctions *Numpy* opèrent élément par élément sur les listes et les array :"
   ]
  },
  {
   "cell_type": "code",
   "execution_count": null,
   "id": "88d6c4db",
   "metadata": {},
   "outputs": [],
   "source": [
    "from numpy import sqrt\n",
    "l_x = [1, 4, 9, 16]\n",
    "print(f\"racine carrés de {l_x} :\")\n",
    "print(np.sqrt(l_x)) # opération élément par élément\n",
    "print([np.sqrt(1), np.sqrt(4), np.sqrt(9), np.sqrt(16)]) # idem"
   ]
  },
  {
   "cell_type": "markdown",
   "id": "02367f11",
   "metadata": {},
   "source": [
    "### Résumé : Trois méthodes pour créer une liste (array)\n",
    "\n",
    "Nous souhaitons créer la liste des carrées de $1, 2, \\ldots, 5$"
   ]
  },
  {
   "cell_type": "code",
   "execution_count": null,
   "id": "6a660c43",
   "metadata": {},
   "outputs": [],
   "source": [
    "import numpy as np\n",
    "l_x = np.arange(1, 5, 1) # début=0, fin=5 (exclu), pas=1\n",
    "print(f\"l_x = {l_x}\")"
   ]
  },
  {
   "cell_type": "code",
   "execution_count": null,
   "id": "5438b3b7",
   "metadata": {},
   "outputs": [],
   "source": [
    "print(\"Méthode 1 : construction par itération\")\n",
    "l_y = [] # liste vide auquel nous rajoutons les carrés\n",
    "for x in l_x: # pour chaque élément x de l_x:\n",
    "    l_y.append(x**2) # x**2 est rajouté à l_y\n",
    "print(f\"l_y = {l_y}\")"
   ]
  },
  {
   "cell_type": "code",
   "execution_count": null,
   "id": "04cefe95",
   "metadata": {},
   "outputs": [],
   "source": [
    "print(\"Méthode 2 : liste en compréhension\")\n",
    "l_y = [x**2 for x in l_x] # liste des x**2 pour tout élément x in l_x\n",
    "print(f\"l_y = {l_y}\")"
   ]
  },
  {
   "cell_type": "code",
   "execution_count": null,
   "id": "38e95f99",
   "metadata": {},
   "outputs": [],
   "source": [
    "print(\"Méthode 3 : opération élément par élément\")\n",
    "l_y = l_x**2 # le carré est appliqué à chaque élément de l_x\n",
    "print(f\"l_y = {l_y}\")"
   ]
  },
  {
   "cell_type": "markdown",
   "id": "5e62f1bd",
   "metadata": {},
   "source": [
    "<span style=\"background:yellow;color:black\">Attention :</span> Les premières deux méthodes marchent pour les listes et les array *Numpy* alors que la troisième méthode ne marche que pour les array car elle utilise les opérations élément par élément. "
   ]
  },
  {
   "cell_type": "markdown",
   "id": "ef4bec96",
   "metadata": {},
   "source": [
    "### Exercice 2  \n",
    "\n",
    "> Déterminer `l_y`, la liste (array) des $\\ln(x)$ pour $x$ dans `l_x = np.linspace(0.1, 4, 6)`, en utilisant les trois méthodes: \n",
    "> - par itération, \n",
    "> - liste en compréhension\n",
    "> - opération élément par élément.    \n",
    "\n",
    "<span style=\"background:yellow;color:black\"> Conseil :</span> La plupart d'entre vous allez probablement adapter un copier/coller. Mais vous allez apprendre bien mieux les commandes si vous les tapez à nouveau. Faites-le au moins de temps en temps.\n",
    "\n",
    "### Solution :"
   ]
  },
  {
   "cell_type": "markdown",
   "id": "c3275a8f",
   "metadata": {},
   "source": [
    "## Module math\n",
    "\n",
    "Les fonctions $\\sin$, $\\cos$, ... existent aussi dans le module `math`\n",
    "qui a l'avantage de faire partie de la bibliothèque standard *Python*. Par contre, \n",
    "les fonctions `math` ne s'appliquent que pour les scalaires et pas pour les listes."
   ]
  },
  {
   "cell_type": "code",
   "execution_count": null,
   "id": "eb5cd612",
   "metadata": {},
   "outputs": [],
   "source": [
    "import math\n",
    "math.sqrt(4)"
   ]
  },
  {
   "cell_type": "code",
   "execution_count": null,
   "id": "3190fa18",
   "metadata": {},
   "outputs": [],
   "source": [
    "math.sqrt([4, 9]) # erreur car les fonctions math n'opèrent pas élément par élément"
   ]
  },
  {
   "cell_type": "markdown",
   "id": "def6d9d0",
   "metadata": {},
   "source": [
    "## Représentation graphique\n",
    "\n",
    "Pour faire des représentations graphiques, nous utilisons la bibliothèque suivante"
   ]
  },
  {
   "cell_type": "code",
   "execution_count": null,
   "id": "8b5b435d",
   "metadata": {},
   "outputs": [],
   "source": [
    "import matplotlib.pyplot as plt # outils pour les représentations graphiques"
   ]
  },
  {
   "cell_type": "markdown",
   "id": "8af01386",
   "metadata": {},
   "source": [
    "### Exemple\n",
    "\n",
    "- Nous allons\n",
    "tracer le triangle de sommets $A(0, 1)$, $B(4, 1)$, $C(2, 5)$. Il faut donc relier\n",
    "les points $A\\rightarrow B\\rightarrow C\\rightarrow A$ par des segments.      \n",
    "- Pour cela,\n",
    "il faut construire la liste des abscisses : `l_x = [0, 4, 2, 0]`, et la liste des ordonnés `l_y = [1, 1, 5, 1]`.    \n",
    "- La fonction (méthode) `plt.plot(l_x, l_y)` relie les points $A(0, 1)$, $B(4, 1)$, $C(2, 5)$, $A(0, 1)$ par des segments: "
   ]
  },
  {
   "cell_type": "code",
   "execution_count": null,
   "id": "98fd7536",
   "metadata": {},
   "outputs": [],
   "source": [
    "import matplotlib.pyplot as plt\n",
    "l_x = [0, 4, 2, 0] # abscisses des points A, B, C, A\n",
    "l_y = [1, 1, 5, 1] # ordonnées des points A, B, C, A\n",
    "plt.plot(l_x, l_y) # relie les points A, B, C, A par des ségments\n",
    "plt.show() # affiche le graphique"
   ]
  },
  {
   "cell_type": "markdown",
   "id": "50f8fe42",
   "metadata": {},
   "source": [
    "### Représentation du triangle avec options"
   ]
  },
  {
   "cell_type": "code",
   "execution_count": null,
   "id": "0ca87ad4",
   "metadata": {},
   "outputs": [],
   "source": [
    "import matplotlib.pyplot as plt\n",
    "\n",
    "l_x = [0, 4, 2, 0] # liste des abscisse\n",
    "l_y = [1, 1, 5, 1] # liste des ordonnés\n",
    "\n",
    "plt.figure(figsize=(8, 5)) # en option: taille du graphique: largeur=8, hauteur=5\n",
    "plt.plot(l_x, l_y, # construction du graphique\n",
    "    color=\"red\", # en option: couleur\n",
    "    label=\"triangle\" # en option: légende\n",
    "    ) \n",
    "plt.title(\"Triangle équilatéral\",  # en option\n",
    "    fontsize=14, # en option: taille des caractères\n",
    "    color = \"blue\" # en option: couleur\n",
    "    )\n",
    "plt.xlabel(\"Axe des abscisses\", # en option\n",
    "    fontsize = 9, # en option: taille des caractères\n",
    "    color = \"blue\" # en option: couleur\n",
    "    )\n",
    "plt.ylabel(\"Axe des ordonnés\", # en option\n",
    "    fontsize = 9, # en option: taille des caractères\n",
    "    color = \"blue\", # en option: couleur\n",
    "    )\n",
    "plt.legend(fontsize=11) # affiche la légende; fontsize en option\n",
    "plt.grid() # en option : grille\n",
    "plt.show()"
   ]
  },
  {
   "cell_type": "markdown",
   "id": "3c978ca7",
   "metadata": {},
   "source": [
    "## Exercices"
   ]
  },
  {
   "cell_type": "markdown",
   "id": "6bd1e94b",
   "metadata": {},
   "source": [
    "<span style=\"background:yellow;color:black\">Important :</span> Si vous utiliser *Basthon*, toujours utiliser `plt.figure()` (sans spécifier la taille du graphique) ou `plt.figure(figsize=(...)` (avec taille du graphique). Sinon, certains graphiques se superposent à des graphiques précédents."
   ]
  },
  {
   "cell_type": "markdown",
   "id": "c515e85d",
   "metadata": {},
   "source": [
    "### Exercice 3\n",
    ">1. En imitant la représentation graphique du triangle:\n",
    ">    - Tracer le rectangle de sommets $A(0, 1)$, $B(5, 1)$, $C(5, 3)$, $D(0, 3)$\n",
    ">    - Utiliser une fenêtre graphique de largeur $7$ et hauteur $7$\n",
    ">    - Adapter le titre et la légende\n",
    ">    - Rajouter la commande `plt.axis(\"equal\")`. Que fait cette commande ?\n",
    ">2. Remplacer successivement la commande `plt.plot(l_x, l_y, ....)` par :\n",
    ">    - `plt.plot(l_x, l_y, \":\", ....)`   \n",
    ">    - `plt.plot(l_x, l_y, \"o\", ....)`  \n",
    ">    - `plt.plot(l_x, l_y, \"-o\", ....)`   \n",
    ">    - `plt.plot(l_x, l_y, \"-o\", markersize=3, ....)`       \n",
    "> et décrire très succinctement ce que font les options. Il suffit d'afficher **un seul graphique**, ne dupliquer pas votre programme.\n",
    ">\n",
    ">> *Remarques* :    \n",
    ">> - Si on trace une seule courbe, une légende n'est pas vraiment nécessaire.   \n",
    ">> - **A vous de décider quelles options semblent utiles.**\n",
    "\n",
    "### Solution de la question 1 :"
   ]
  },
  {
   "cell_type": "code",
   "execution_count": null,
   "id": "4d452a0b",
   "metadata": {},
   "outputs": [],
   "source": [
    "# Graphique avec une variante de `plt.plot()` : au choix avec `\":\"`, ou `\"o\"`, ...\n"
   ]
  },
  {
   "cell_type": "markdown",
   "id": "d09ec47d",
   "metadata": {},
   "source": [
    "### Solution de la question 2 (cellule texte) :\n",
    "\n",
    "Donner votre explication (très succincte) de ce que font les variantes par rapport au `plt.plot` initial :\n",
    "       \n",
    "- l'option `\":\"` dans `plt.plot(l_x, l_y, \":\", color=....)` .......(compléter)\n",
    "- l'option `\"o\"` dans `plt.plot(l_x, l_y, \"o\", ....)` .......\n",
    "- l'option `\"-o\"` dans `plt.plot(l_x, l_y, \"-o\", ....)` .......   \n",
    "- l'option `markersize` dans `plt.plot(l_x, l_y, \"-o\", markersize=3, ....)` ......\n",
    "- la commande `plt.axis(\"equal\")` .......(compléter)"
   ]
  },
  {
   "cell_type": "markdown",
   "id": "92db7386",
   "metadata": {},
   "source": [
    "### Exercice 4\n",
    "\n",
    ">Le tableau ci-dessous donne des abondances en nombre d'individus par ml en fonction du temps en jours. Ces données pourraient par exemple décrire la croissance d'une population de *Paramecium aurelia* à 10 degrés celsius dans une solution stérile de peptone protéolysée (1\\% masse/vol). \n",
    ">\n",
    ">| Temps (jours)     | 0   | 3    | 6    | 9    |  12  | \n",
    ">| :-:               | :-: | :-:  | :-:  | :-:  | :-: |     \n",
    ">| Abondance (ind/ml) | 10  | 102    | 1221    | 2435    |  5184  |\n",
    "> 1. Représenter les abondances en fonction du temps par une suite de points (reliés ou non). \n",
    ">> - Pour plus de lisibilité, utiliser `jours = [0, 3, ....]` et `abondances = [10, 102, ...]` au lieu de `l_x = [0, 3, ....]` et `l_y = [10, 102, ...]`. Il faut alors écrire `plt.plot(jours, abondances,....)`.    \n",
    ">> - Pour ce graphique, \"axe des abscisses\" et \"axe des ordonnés\"  **ne sont pas très utiles** comme description.     \n",
    ">\n",
    "> Rajouter la commande `plt.xticks(jours)`. Que fait cette commande?     \n",
    "> 2. En biologie, il est souvent intéressant d'utiliser les échelles logarithmiques. Représenter dans un nouveau graphique (nouvelle cellule) les donnés de l'exercice en échelle logarithmique en remplaçant  `plt.plot` par la fonction `plt.semilogy` qui prend en entrée les mêmes arguments. \n",
    "\n",
    "<span style=\"background:yellow;color:black\">Important :</span> Si vous utiliser *Basthon*, n'oublier pas `plt.figure()`  ou `plt.figure(figsize=(...)`.\n",
    "\n",
    "### Solution de la question 1 :"
   ]
  },
  {
   "cell_type": "markdown",
   "id": "abf6aea5",
   "metadata": {},
   "source": [
    "### Solution de la question 2 :"
   ]
  },
  {
   "cell_type": "markdown",
   "id": "d300b2ab",
   "metadata": {},
   "source": [
    "<span style=\"background:yellow;color:black\"> Conseil :</span> \n",
    "- Prendre l'habitude de **commencer par un graphique minimale** et ne rajouter les options que si le graphique minimal s'affiche. \n",
    "- Le même conseil s'applique aux programmes : **exécuter souvent votre programme partiel** pour vérifier si ce que vous avez déjà écrit fonctionne.\n",
    "- À vous de décider quelles options rendent une représentation graphique plus explicite. "
   ]
  },
  {
   "cell_type": "markdown",
   "id": "657cb4b7",
   "metadata": {},
   "source": [
    "## Représentation de la courbe d'une fonction"
   ]
  },
  {
   "cell_type": "markdown",
   "id": "334e7726",
   "metadata": {},
   "source": [
    "Pour représenter la courbe de $\\ln(x)$ sur $[0.1, 4]$, nous utilisons le vecteur (array) des abscisses `l_x` et le vecteur des ordonnés `l_y` de l'exercice 2:"
   ]
  },
  {
   "cell_type": "code",
   "execution_count": null,
   "id": "aff7259b",
   "metadata": {},
   "outputs": [],
   "source": [
    "import numpy as np\n",
    "import matplotlib.pyplot as plt\n",
    "plt.figure()\n",
    "l_x = np.linspace(0.1, 4, 6) # Axe des abscisses\n",
    "l_y = [np.log(x) for x in l_x] # vecteur (array) des ordonnés: liste en compréhension\n",
    "# option: l_y = np.log(l_x) # opération élément par élément\n",
    "plt.plot(l_x, l_y)\n",
    "plt.show()"
   ]
  },
  {
   "cell_type": "markdown",
   "id": "8e662716",
   "metadata": {},
   "source": [
    "Pour avoir une courbe plus lisse, il faut augmenter le nombre de points dans `linspace`: "
   ]
  },
  {
   "cell_type": "code",
   "execution_count": null,
   "id": "1aafe89d",
   "metadata": {},
   "outputs": [],
   "source": [
    "import numpy as np\n",
    "import matplotlib.pyplot as plt\n",
    "plt.figure()\n",
    "l_x = np.linspace(0.1, 4, 100) # 100 points au lieu de 6\n",
    "l_y = [np.log(x) for x in l_x] \n",
    "# option: l_y = np.log(l_x)\n",
    "plt.plot(l_x, l_y)\n",
    "plt.show()"
   ]
  },
  {
   "cell_type": "markdown",
   "id": "3daae720",
   "metadata": {},
   "source": [
    "### Fonctions Python\n",
    "\n",
    "Pour plus de lisibilité, nous définissons d'abord une fonction Python:"
   ]
  },
  {
   "cell_type": "code",
   "execution_count": null,
   "id": "593c464f",
   "metadata": {},
   "outputs": [],
   "source": [
    "import numpy as np # il suffit de l'importer une fois\n",
    "\n",
    "def f(x): # définition d'une fonction qui s'appelle f\n",
    "    return np.log(x) # donne en retour np.log(x), fonc f(x) vaut ln(x)\n",
    "\n",
    "f(2) # comme np.log(2)"
   ]
  },
  {
   "cell_type": "markdown",
   "id": "bc5ddfb4",
   "metadata": {},
   "source": [
    "<span style=\"background:yellow;color:black\"> Important :</span>    \n",
    "- Quand Python lit `def f(x)`, le nom `f` de cette fonction est stocké en mémoire, mais la fonction **n'est pas exécutée**. \n",
    "- C'est seulement à la dernière ligne avec la commande `f(2)` que la fonction est exécuté avec $x=2$.\n",
    "\n",
    "La notion de fonction sera approfondi lors du prochain TP."
   ]
  },
  {
   "cell_type": "code",
   "execution_count": null,
   "id": "73d8d7c9",
   "metadata": {},
   "outputs": [],
   "source": [
    "c = 5\n",
    "f(c) # comme f(5) = np.log(5)"
   ]
  },
  {
   "cell_type": "markdown",
   "id": "931910bd",
   "metadata": {},
   "source": [
    "Cela nous permet d'écrire:"
   ]
  },
  {
   "cell_type": "markdown",
   "id": "971a45c4",
   "metadata": {},
   "source": [
    "### Exemple basique de la représentation graphique de la courbe d'une fonction"
   ]
  },
  {
   "cell_type": "code",
   "execution_count": null,
   "id": "d2956ad8",
   "metadata": {},
   "outputs": [],
   "source": [
    "import numpy as np # il suffit de l'importer une fois\n",
    "import matplotlib.pyplot as plt # idem\n",
    "\n",
    "def f(x): # définition d'une fonction qui s'appelle f\n",
    "    return np.log(x) \n",
    "\n",
    "plt.figure(figsize=(7, 5))\n",
    "l_x = np.linspace(0.1, 4, 100) # vecteur (array) des abscisses. si besoin, augmenter 100\n",
    "l_y = [f(x) for x in l_x] # vecteur (array) des ordonnés: liste en compréhension\n",
    "# option: l_y = f(l_x) # opération élément par élément\n",
    "plt.plot(l_x, l_y)\n",
    "plt.show()"
   ]
  },
  {
   "cell_type": "markdown",
   "id": "f2b4ea11",
   "metadata": {},
   "source": [
    "### Exercice 5\n",
    "\n",
    "> 1. En imitant \"Exemple basique de la représentation graphique de la courbe d'une fonction\", représenter la \"cloche de Gauss\" (loi normale centrée réduite) qui est donné par \n",
    "> $$f(x)=\\frac{1}{\\sqrt{2\\pi}} \\exp(-\\frac{1}{2}x^2)$$ sur $[-3, 3]$. Comme pour l'exemple, définir une fonction Python qui donne en retour $f(x)$.\n",
    ">> *Noter que vous avez déjà utilisé l'expression de cette fonction pour l'exercice 1.* \n",
    "> 2. Rajouter (dans le même graphique) des options (voir la représentation graphique du triangle avec options) comme:\n",
    ">    - taille de la fenêtre graphique\n",
    ">    - un titre qui explique le graphique. **Un titre comme \"courbe de f\" ne sert à rien** \n",
    ">    - description des axes comme par exemple $x$ et $f(x)$. Modifier si besoin la taille des caractères.\n",
    ">    - grille\n",
    "\n",
    "<span style=\"background:yellow;color:black\">Important :</span> Si vous utiliser *Basthon*, n'oublier pas `plt.figure()`  ou `plt.figure(figsize=(...)`."
   ]
  },
  {
   "cell_type": "markdown",
   "id": "5538f60d",
   "metadata": {},
   "source": [
    "### Solution :"
   ]
  },
  {
   "cell_type": "markdown",
   "id": "ff01a9cb",
   "metadata": {},
   "source": [
    "## Représentation de plusieurs courbes\n",
    "\n",
    "Pour représenter les courbes de deux fonctions $x\\mapsto f(x)$ et $x\\mapsto g(x)$ dans le même graphique,\n",
    "procéder comme avant, mais utiliser deux `plt.plot(...)` avant (un seul) `plt.show()`:"
   ]
  },
  {
   "cell_type": "code",
   "execution_count": null,
   "id": "ba28ce20",
   "metadata": {},
   "outputs": [],
   "source": [
    "# Représentation minimale\n",
    "def f(x):\n",
    "    return x**2\n",
    "def g(x):\n",
    "    return x**3\n",
    "\n",
    "plt.figure(figsize=(7, 5))\n",
    "l_x = np.linspace(-2, 2, 100) # vecteur des ordonnés\n",
    "l_y1 = [f(x) for x in l_x] # vecteur (array) des abscisses\n",
    "l_y2 = [g(x) for x in l_x] # vecteur (array) des ordonnés\n",
    "# option: l_y1 = f(l_x)\n",
    "# option: l_y2 = g(l_x)\n",
    "plt.plot(l_x, l_y1, label=\"x**2\") # première courbe\n",
    "plt.plot(l_x, l_y2, label=\"x**3\") # deuxième courbe\n",
    "plt.legend() # affiche la légende\n",
    "plt.show() # affiche le graphique avec les deux courbes"
   ]
  },
  {
   "cell_type": "markdown",
   "id": "581d5dd5",
   "metadata": {},
   "source": [
    "### Exercice 6 (pour les plus rapides)\n",
    "\n",
    "> Tracer dans le même graphique la courbe des fonctions $x\\mapsto 3\\ln(x)-1$ et $x\\mapsto 3\\sqrt{x}-1$ pour $x$ variant de 0.1 à 20 après avoir définie deux fonctions Python.`\n",
    ">   - Ajouter un titre, une légende, ... \n",
    ">   - D'après le graphique, quelle est la fonction qui semble croître le plus vite en $+\\infty$? Connaissez-vous un résultat qui confirme cette observation ?\n",
    "\n",
    "### Solution :"
   ]
  }
 ],
 "metadata": {
  "kernelspec": {
   "display_name": "Python 3 (ipykernel)",
   "language": "python",
   "name": "python3"
  },
  "language_info": {
   "codemirror_mode": {
    "name": "ipython",
    "version": 3
   },
   "file_extension": ".py",
   "mimetype": "text/x-python",
   "name": "python",
   "nbconvert_exporter": "python",
   "pygments_lexer": "ipython3",
   "version": "3.9.7"
  }
 },
 "nbformat": 4,
 "nbformat_minor": 5
}

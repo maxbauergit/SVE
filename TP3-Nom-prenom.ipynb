{
 "cells": [
  {
   "cell_type": "markdown",
   "id": "a2c26f7f",
   "metadata": {},
   "source": [
    "<link rel=\"stylesheet\" href=\"https://cdnjs.cloudflare.com/ajax/libs/font-awesome/4.7.0/css/font-awesome.min.css\">"
   ]
  },
  {
   "cell_type": "markdown",
   "id": "eddbcdf4",
   "metadata": {},
   "source": [
    "**Nom prénom :**                                                                 \n",
    "**Groupe :**    \n",
    "**Date :**"
   ]
  },
  {
   "cell_type": "markdown",
   "id": "d8d367a9",
   "metadata": {},
   "source": [
    "<span style=\"background:yellow;color:black\"> Avant de commencer: </span>\n",
    "\n",
    "- Remplir la cellule ci-dessus.\n",
    "- Modifier le nom du notebook        "
   ]
  },
  {
   "cell_type": "markdown",
   "id": "3f5dca41",
   "metadata": {},
   "source": [
    "<span style=\"background:yellow;color:black\"> Instructions pour déposer votre compte rendu </span>\n",
    "\n",
    "- Si vous utilisez Basthon: `imprimer` du menu du navigateur (trois points), puis `enregistrer au format pdf`. (\"Print preview\" n'est pas disponible.)\n",
    "- Dans les salles TP : `Print Preview` du menu `File` de Jupyter. Ensuite : `imprimer` du menu du navigateur (trois points), puis `enregistrer au format pdf`.\n",
    "- Déposer le notebook (fichier .ipynb) et le fichier pdf dans le dépôt Moodle. Votre nom doit figurer dans le nom des deux fichiers.    "
   ]
  },
  {
   "cell_type": "markdown",
   "id": "b1806951",
   "metadata": {},
   "source": [
    "<span style=\"background:yellow;color:black\"> Rappels :</span>\n",
    "\n",
    "- Utiliser `Esc L` pour afficher le numéro des lignes\\.\n",
    "- Le raccourcis pour <i class=\"fa fa-play\" aria-hidden=\"true\"></i> est `Ctrl+Entrée` sur Windows ou `Ctrl+Retour` sur Mac. Voir <i class=\"fa fa-keyboard-o\"></i> pour d'autre raccourcis.\n",
    "- Pour **annuler une modification** dans une cellule, utilisez `Ctrl+Z`\n",
    "sous Windows et `Commande+Z` sous Mac.     \n",
    "- Pour **insérer** une nouvelle cellule utiliser <i class=\"fa fa-plus\" aria-hidden=\"true\"></i> ou les raccourcis `esc a` et `esc b`.   \n",
    "- Pour **déplacer** une cellule, utiliser <i class=\"fa fa-arrow-up\"></i> et  <i class=\"fa fa-arrow-down\"></i>.\n",
    "- Pour **effacer** une cellule, utiliser <i class=\"fa fa-scissors\"></i>\n",
    "- Pour **interrompre** l'exécution d'une cellule, utiliser <i class=\"fa fa-square\" aria-hidden=\"true\"></i>."
   ]
  },
  {
   "cell_type": "markdown",
   "id": "6b453eb4",
   "metadata": {},
   "source": [
    "### <center> TP 3 - Boucles et fonctions </center>"
   ]
  },
  {
   "cell_type": "markdown",
   "id": "820a9940",
   "metadata": {},
   "source": [
    "## Rappel sur la boucle for (voir TP2)"
   ]
  },
  {
   "cell_type": "code",
   "execution_count": null,
   "id": "c0c4cddd",
   "metadata": {},
   "outputs": [],
   "source": [
    "liste = [1, 3, 5]\n",
    "for val in liste: # la variable val prend successivement les éléments de liste\n",
    "    print(val)"
   ]
  },
  {
   "cell_type": "code",
   "execution_count": null,
   "id": "532e682d",
   "metadata": {},
   "outputs": [],
   "source": [
    "ADN = \"CGATTC\"\n",
    "for base in ADN: # la variable base prend successivement les caractères de la chaine ADN\n",
    "    print(base)"
   ]
  },
  {
   "cell_type": "code",
   "execution_count": null,
   "id": "e319b50e",
   "metadata": {},
   "outputs": [],
   "source": [
    "for i in range(0, 3): # i prend les valeurs 0, 1, 2 : la borne supérieure 3 est exclue\n",
    "    print(i)"
   ]
  },
  {
   "cell_type": "markdown",
   "id": "21b1accd",
   "metadata": {},
   "source": [
    "### Exercice 1\n",
    "\n",
    ">  - Compter le nombre de bases adénine (`A`), cytosine (`C`) guanine (`G`) et thymine (`T`) \n",
    "> dans une chaine d'ARN et stocker les valeurs dans une liste `nb_bases`.    \n",
    ">> Pour comter par exemple le nombre de lettres `A` dans `ARN` on peut utiliser la commande `ARN.count(A)`.\n",
    ">\n",
    "> - Représenter ces donnés par un diagramme en bâtons en utilisant `plt.bar(..compléter...)`.   \n",
    "> - Tester votre programme avec la chaine `ARN` de la cellule ci-dessous.         \n",
    ">> Votre programme pourrait avoir la structure suivante\n",
    ">> ```py\n",
    ">> importer matplotlib.pyplot et numpy # traduire en \"Python\"\n",
    ">> ARN = \"CGAUUCGAC..\" # utiliser ARN de la cellule suivante    \n",
    ">>\n",
    ">> bases = [\"A\", ..compléter..] # liste des 4 bases  \n",
    ">> nb_bases = \"liste vide\" # traduire en \"Python\"\n",
    ">> pour chaque base dans bases: # traduire en \"Python\"   \n",
    ">>       déterminer le nombre de \"base\" dans \"bases\" # traduire en \"Python\"\n",
    ">>       rajouter ce nombre à nb_bases avec \"append\" # traduire en \"Python\"\n",
    ">> plt.figure(figsize=(..compléter..)) # spécifier la taille du graphque\n",
    ">> représenter les donnés par un diagramme en bâtons\n",
    ">> plt.show()\n",
    ">> plt.close(\"all\")\n",
    ">>```\n",
    "\n",
    "**Solution :**"
   ]
  },
  {
   "cell_type": "code",
   "execution_count": null,
   "id": "72660d0c",
   "metadata": {},
   "outputs": [],
   "source": [
    "ARN = \"CGAUUCGACCGUAAUAUGCCUACCCGUAAUGUGCUCCACCUCUUACGAUUGUCAGUAUUCCGACGAUAAACUUAGGGG\"\n",
    "\n"
   ]
  },
  {
   "cell_type": "markdown",
   "id": "39edd43a",
   "metadata": {},
   "source": [
    "## Création d'une liste par itération (rappel du TP2)\n",
    "\n",
    "Nous souhaitons créer la liste  $1^2, 2^2, \\ldots, 5^2$."
   ]
  },
  {
   "cell_type": "code",
   "execution_count": null,
   "id": "a753cdba",
   "metadata": {},
   "outputs": [],
   "source": [
    "l_y = [] # liste vide auquel nous rajoutons les carrés\n",
    "for x in range(1, 6): \n",
    "    y = x**2\n",
    "    l_y.append(y) # y = x**2 est rajouté à la liste l_y\n",
    "print(l_y)"
   ]
  },
  {
   "cell_type": "markdown",
   "id": "65031d59",
   "metadata": {},
   "source": [
    "### Exercice 2 - population de bactéries\n",
    "\n",
    ">On cultive une population de bactéries. Tous les jours, la population de bactéries est multipliée par $1.6$.\n",
    ">\n",
    "> - 1a. Pour une population initiale de `nb_bacteries=10` bactéries, déterminer la liste `evolution_pop` \n",
    "> qui contient le nombre de bactéries pendant les premiers `nb_jours = 25` jours.\n",
    ">> Donc `evolution_pop[0]=10` est la population initiale, `evolution_pop[1]=10*1.6` est la taille \n",
    ">>de la population après un jour,..., et `evolution_pop[25]` est la taille de la \n",
    ">> population après $25$ jours.\n",
    "> \n",
    "> - 1b. Donner une représentation graphique de l'évolution de la population par une suite de points (série temporelle) en utilisant\n",
    "> `plt.plot(evolution_pop, \"o\")`\n",
    ">> - Il serait plus cohérent d'utiliser `plt.plot(jours, evolution_pop, \"o\")` ou `jours=[0, 1, ..., 25]`, \n",
    ">> mais si on ne spécifie pas la liste des abscisses, la liste par defaut `[0, 1, 2, ...]` est utilisée.   \n",
    ">> - Votre programme pourrait avoir la forme suivante\n",
    ">> ```py\n",
    ">> # importer matplotlib.pyplot\n",
    ">> nb_bacteries = ..compléter..\n",
    ">> nb_jours = ..compléter..\n",
    ">> evolution_pop = [nb_bacteries]\n",
    ">> # pour i de 1 à nb_jours (inclus):\n",
    ">>        # nb_bacteries = ..compléter..\n",
    ">>        # rajouter nb_bacteries à la liste evolution_pop\n",
    ">> # définir la taille de la fenêtre graphique\n",
    ">> # représenter l'évolution de la population par une suite de points\n",
    ">> plt.show()\n",
    ">> plt.close(\"all\")\n",
    ">> ```\n",
    ">  \n",
    "> - 2. Refaites la représentation graphique, mais avec une échelle logarithmique sur l'axe des ordonnés en utilisant `plt.semilogy()` (voir TP foad)."
   ]
  },
  {
   "cell_type": "markdown",
   "id": "b86e299c",
   "metadata": {},
   "source": [
    "### Solution de la question 1."
   ]
  },
  {
   "cell_type": "code",
   "execution_count": null,
   "id": "8d5c7682",
   "metadata": {},
   "outputs": [],
   "source": []
  },
  {
   "cell_type": "markdown",
   "id": "de894949",
   "metadata": {},
   "source": [
    "### Solution de la question 2."
   ]
  },
  {
   "cell_type": "code",
   "execution_count": null,
   "id": "717b310c",
   "metadata": {},
   "outputs": [],
   "source": []
  },
  {
   "cell_type": "markdown",
   "id": "b40d54f8",
   "metadata": {},
   "source": [
    "## Boucle conditionnelle"
   ]
  },
  {
   "cell_type": "markdown",
   "id": "9402f8e0",
   "metadata": {},
   "source": [
    "Une boucle conditionnelle exécute une suite d'instructions tant qu'une certaine condition est réalisée.\n",
    "On utilise `while` qui signifie *tant que*. \n",
    "\n",
    "Par exemple:"
   ]
  },
  {
   "cell_type": "code",
   "execution_count": null,
   "id": "92c20cad",
   "metadata": {},
   "outputs": [],
   "source": [
    "n = 1 # Initialisation de la variable d'itération\n",
    "while n**2 < 50: # tant que n^2 < 50\n",
    "    n = n + 1 # incrémentation de la variable d'itération : sinon boucle infini !!!!\n",
    "print(n)"
   ]
  },
  {
   "cell_type": "markdown",
   "id": "8674ee19",
   "metadata": {},
   "source": [
    "La même boucle avec des `print` pour comprendre son fonctionnement :"
   ]
  },
  {
   "cell_type": "code",
   "execution_count": null,
   "id": "44db1626",
   "metadata": {},
   "outputs": [],
   "source": [
    "n = 1\n",
    "while n**2 < 50: \n",
    "    print(f\"Entrée de boucle : n = {n}, n^2 = {n**2:>2d}\", end = \". \")\n",
    "    n = n + 1\n",
    "    print(f\"Sortie de boucle : n = {n}, n^2={n**2:>7d}\")\n",
    "print(f\"le plus petit n telle que n**2>=50 est {n}\")"
   ]
  },
  {
   "cell_type": "markdown",
   "id": "e159d540",
   "metadata": {},
   "source": [
    "### Explication de la commande print\n",
    "\n",
    "- `{n**2:>7d}` dans la commande print veut dire que $n^2$ est affiche comme entier (`d`) en utilisant `7` espaces pour un alignement à droire `>`. Vous pouvez chercher `f-strings` sur le web pour d'autre options de formatage."
   ]
  },
  {
   "cell_type": "markdown",
   "id": "b53a6e9b",
   "metadata": {},
   "source": [
    "<span style=\"background:yellow;color:black\">Conseil :</span> En général, on utilise une boucle `for` si on connait dès le départ le nombre \n",
    "d'itérations. Une boucle `while` est utilisé pour une itération qui s'arrête si une condition n'est plus vérifié, donc\n",
    "on ne connait pas (à priori) le nombre d'itérations."
   ]
  },
  {
   "cell_type": "markdown",
   "id": "8f50685e",
   "metadata": {},
   "source": [
    "<span style=\"background:yellow;color:black\">Attention :</span> Pour une boucle `while` (contrairement à une boucle `for`), il ne faut pas oublier d'initialiser la variable\n",
    "d'itérations et surtout de la modifier. Sinon on a une boucle infinie !"
   ]
  },
  {
   "cell_type": "markdown",
   "id": "fb3c8999",
   "metadata": {},
   "source": [
    "<span style=\"background:yellow;color:black\">Conseil :</span> Si une boucle `for` et une boucle `while` conviennent pour un exemple, privilégiez la boucle `for` car elle est plus concise (pas besoin d'initialiser \n",
    "ni d'incrémenter la variable d'itération) et plus sûr, car avec une boucle `while` on produit plus facilement une boucle infinie.\n"
   ]
  },
  {
   "cell_type": "markdown",
   "id": "deda183b",
   "metadata": {},
   "source": [
    "### Exercice 3 - population de bactéries (bis)\n",
    "\n",
    ">On cultive une population de bactéries. Tous les jours, la population de bactéries est multipliée par $1.6$.\n",
    ">\n",
    "> Pour une population initiale de `nb_bacteries=10` bactéries, déterminer le nombre de jours nécessaires pour \n",
    "> que la population dépasse deux millions de bactéries en utilisant une boucle `while`.\n",
    ">> - Contrairement à l'exercice 2, il **n'est pas demandé de créer une liste, ni de faire une représentation graphique**.\n",
    ">> - Vous pouvez utiliser `2E6` pour représenter 2 millions (float) ou alors `2_000_000` (entier). Le symbole `_` est utilisé pour améliorer la lisibilité mais peut bien sûr être omis.\n",
    ">> - La réponse est 26 jours\n",
    "\n",
    "<span style=\"background:yellow;color:black\">Important :</span> Pendant l'exécution d'une cellule, vous voyez\n",
    "`In[*]` à droite de la cellule. Si cela se produit pendant un laps de temps tropt important, il est possible que vous avez une **boucle infinie**. Il faut alors arrêter le programme avec <i class=\"fa fa-square\" aria-hidden=\"true\"></i>.\n",
    "\n",
    "**Solution**"
   ]
  },
  {
   "cell_type": "code",
   "execution_count": null,
   "id": "3c222dde",
   "metadata": {},
   "outputs": [],
   "source": []
  },
  {
   "cell_type": "markdown",
   "id": "5cd44351",
   "metadata": {},
   "source": [
    "### Exercice 4 - marche aléatoire d'une ivrogne $(*)$\n",
    "\n",
    "> Une femme ivre doit longer la rive d'un fleuve. Au début \n",
    "> elle se trouve à $1$m de la rive qui est à sa droite et à chaque pas, elle dévie à droite ou à gauche \n",
    "> de $40$cm d'une façon aléatoire.    \n",
    "> Si on note par $+1$ une déviation à droite  et par $-1$ une déviation à gauche (de $40$cm),\n",
    "> alors les déviations successives $+1, +1, -1, +1, +1$ se traduisent par la trajectoire \n",
    "> `trajectoire=[+1, +2, +1, +2, +3]`. Après $5$ pas, elle aurait donc fait une déviation totale de $3$ fois $40$cm à droite par rapport à sa position initiale ce qui veut dire qu'elle est tombée dans l'eau.   \n",
    "> - Ecrire un script qui fait une simulation de ses positions successives qu'on nomme `trajectoire` qui se termine dès que la dernière position est $+3$.\n",
    ">> Pour faire le choix aléatoire d'une déviation à droite ou à gauche, utiliser la fonction `random.choice([-1,1])` de la bibliothèque `random` qui retourne $+1$ ou $-1$ suivant une loi uniforme. N'oublier pas `importer random`.\n",
    "> - Exécuter plusieurs fois votre script pour trouver une simulation ou la femme tombe dans l'eau après plus \n",
    "de $100$ pas. \n",
    ">\n",
    "> $(*)$ Dans tous les livres, c'est toujours la marche aléatoire d'un ivrogne, mais il s'agit d'un stéréotype sexiste. \n"
   ]
  },
  {
   "cell_type": "markdown",
   "id": "8b7361a1",
   "metadata": {},
   "source": [
    "### Solution"
   ]
  },
  {
   "cell_type": "code",
   "execution_count": null,
   "id": "1684d577",
   "metadata": {},
   "outputs": [],
   "source": [
    "# programme à compléter\n",
    "# import random # pour pouvoir utiliser random.choice\n",
    "\n",
    "# position = 0\n",
    "# trajectoire = [0]\n",
    "\n",
    "# tant que la position est différente de 3\n",
    "#     choisir une valeur 1 ou -1 avec random.choice([-1,1]) \n",
    "#     déterminer la nouvelle position\n",
    "#     rajouter la nouvelle position à la liste trajectoire\n",
    "# donner une représentation graphique de la trajectoire"
   ]
  },
  {
   "cell_type": "markdown",
   "id": "16ddb003",
   "metadata": {},
   "source": [
    "## Fonctions"
   ]
  },
  {
   "cell_type": "markdown",
   "id": "cfdf9964",
   "metadata": {},
   "source": [
    "### Exemple"
   ]
  },
  {
   "cell_type": "code",
   "execution_count": null,
   "id": "d05e63a8",
   "metadata": {},
   "outputs": [],
   "source": [
    "def plus_un(a): # pas besoin de définir a avant de définir la fonction\n",
    "    b = a + 1\n",
    "    return b \n",
    "\n",
    "resultat = plus_un(5) # la valeur que ma_fonction donne en retour est stocké dans resultat\n",
    "print(resultat) # on affiche le résultat\n",
    "\n",
    "# Variante de l'utilisation\n",
    "b = 5 # pas besoin d'utiliser la variable a\n",
    "resultat = plus_un(b)\n",
    "print(resultat)\n",
    "\n",
    "# Variante de l'utilisation\n",
    "a = 5 # pas le même \"a\" que celui utilisé dans la fonction\n",
    "resultat = plus_un(a)\n",
    "print(resultat)"
   ]
  },
  {
   "cell_type": "markdown",
   "id": "1e4590a1",
   "metadata": {},
   "source": [
    "**Explication du programme**\n",
    "\n",
    "- ligne 1 : Quand Python lit `def plus_un(a):`, le nom de cette fonction est stocké en mémoire, mais elle **n'est pas exécuté** \n",
    "- ligne 5 : la commande `resultat = plus_un(5)` fait appel à la fonction et associe la valeur $5$ au paramètre `a` de la fonction. La fonction calcule `b=5+1=6` et donne cette valeur en retour. Cette valeur est stocké dans la variable resultat.\n",
    "- ligne 9 : On a utilisé `b=5` et `resultat = plus_un(b)`, sans tenir compte du nom du paramètre de la fonction `plus_un(a)`.  \n",
    "- ligne 14 : L'expression `a=5` crée une variable qui est connue en dehors du bloc d'instructions de la fonction `plus_un` et qui est indépendante du paramètre `a` du même nom  utilisé uniquement dans le bloc d'instructions de la fonction (lignes 1, 2, 3).\n",
    "\n",
    "<span style=\"background:yellow;color:black\">Important :</span>\n",
    "\n",
    "- La définition d'une fonction doit **précéder** son utilisation.\n",
    "- Une fonction n'est exécuté que lorsqu'elle est appelée.\n",
    "- **N'oubliez pas `return`.**"
   ]
  },
  {
   "cell_type": "markdown",
   "id": "1bbfd0be",
   "metadata": {},
   "source": [
    "### Exercice 5\n",
    "\n",
    "> Écrire une fonction `convertir(temp_fahrenheit)` qui prend en argument \n",
    "> une temperature en degrés Fahrenheit et donne en retour la température convertie en degrés Celsius.\n",
    "> Exécuter la fonction avec plusieurs valeurs.\n",
    ">> *Indication :* Si $t_f$ est la temperature en degrés Fahrenheit, alors la température en degrés Celcius\n",
    "$t_c$ est donnée par\n",
    "\t$$ t_c =\\frac{5}{9} (t_f-32)$$\n",
    "    \n",
    "### Solution  :\n",
    "\n",
    "<span style=\"background:yellow;color:black\">Important :</span>\n",
    "Il ne faut surtout pas recopier la définition d'une fonction si on l'utilise une nouvelle fois, même dans une autre cellule.   \n"
   ]
  },
  {
   "cell_type": "code",
   "execution_count": null,
   "id": "a7668e23",
   "metadata": {},
   "outputs": [],
   "source": [
    "# def convertir(temp_fahrenheit): # définition de la fonction en début de cellule\n",
    "#     temp_celcius = ...\n",
    "#     return temp_celcius\n",
    "\n",
    "# tester votre fonction avec une valeur\n",
    "# tester avec une autre valeur"
   ]
  },
  {
   "cell_type": "markdown",
   "id": "ab3a063d",
   "metadata": {},
   "source": [
    "### Exercice 6 - le modèle de Verhulst\n",
    "\n",
    "> Une étude porte sur une population de coccinelles. On note $c_n$ le nombre de coccinelles, en million, pour l’année $n$ avec $n\\in\\mathbb{N}$.      \n",
    "> Le modèle de Verhulst affirme que pour tout entier naturel $n$, on a $c_{n+1} =kc_n(1−c_n)$, où $k>0$ est un paramètre qui dépend de l’environnement. \n",
    "> En adaptant l'exercice sur une population de bactéries :\n",
    "> 1. Écrire une fonction `Verhulst_pop(c0, nb_annees, k)` dont les paramètres sont la taille initiale de la population (`c0`), le nombre d'années (`nb_annees`) et le paramètre `k` du modèle de Verhulst et qui donne en retour\n",
    "> la liste `evolution_pop` qui contient le nombre de coccinelles pendant les premiers `nb_annees` années.    \n",
    "> Tester votre fonction avec `c0 = 0.2`, `nb_annees = 10` et `k = 1.8`.\n",
    "> 2. Écrire une fonction `Verhulst_graph(c0, nb_annees, k)` qui appelle la fonction `Verhulst_pop(c0, nb_annees, k)` et qui fait une représentation graphique de la liste que `Verhulst_pop(c0, nb_annees, k)` donne en retour.   \n",
    "> Rajouter un titre (avant `plt.show()`) avec la commande `plt.title(f\"Evolution de la population pour c0 = {c0} et k={k}\")`   \n",
    "> Tester votre fonction avec la commande `Verhulst_graph(0.2, 10, 1.8)`\n",
    ">> N'oublier pas `plt.figure(....)`, `plt.show()`, `plt.close(\"all\")`      \n",
    ">> Cette fonction ne donne rien en retour. Vous pouvez donc omettre `return`.  \n",
    "> 3. Exécuter les cellules qui contiennent une commande comme\n",
    "> ```py\n",
    "> Verhulst_graph(...) # la suite est ..compléter..\n",
    ">``` \n",
    "> et rajouter \"croissante\", \"décroissante\", \"constante\", \"convergente\", si la représentation graphique laisse penser que la suite possède une (ou plusieurs) de ces propriétés. Rajouter \"rien\" si la suite ne semble posséder aucune de ces propriétés. "
   ]
  },
  {
   "cell_type": "markdown",
   "id": "4d24be2f",
   "metadata": {},
   "source": [
    "### Solution"
   ]
  },
  {
   "cell_type": "code",
   "execution_count": null,
   "id": "16e4cea5",
   "metadata": {},
   "outputs": [],
   "source": [
    "import matplotlib.pyplot as plt\n",
    "import numpy as np\n",
    "\n",
    "def Verhulst_pop(c0, nb_annees, k):\n",
    "    \"\"\"Fonction qui à comme paramètres:\n",
    "    - c0: taille iniaiale de la population\n",
    "    - nb_annees : nombre années pendant lesquels on étudie l'évolution de la population\n",
    "    - k : le facteur k du modèle de Verhulst\n",
    "    cette fonction donne en retour une liste evolution_pop tel que:\n",
    "    - evolution_pop[i] est la taille de la population après i années, pour\n",
    "      i = 0,1, ..., nb_annees. Donc evolution_pop[0] = c0\n",
    "    \"\"\"\n",
    "    ..compléter..\n",
    "\n",
    "    \n",
    "def Verhulst_graph(c0, nb_annees, k):\n",
    "    \"\"\"appelle la fonction Verhulst_pop(c0, nb_annees, k) \n",
    "    et représente la liste que cette fonction donne en retour par une suite de points\n",
    "    cette fonction ne donne rien en retour (None par défaut)\"\"\"\n",
    "    ..compléter.."
   ]
  },
  {
   "cell_type": "code",
   "execution_count": null,
   "id": "b4c1141a",
   "metadata": {},
   "outputs": [],
   "source": [
    "Verhulst_graph(0.2, 20, 0.8) # la suite est ..compléter.."
   ]
  },
  {
   "cell_type": "code",
   "execution_count": null,
   "id": "13ac8d81",
   "metadata": {},
   "outputs": [],
   "source": [
    "Verhulst_graph(0.2, 20, 1.4) # la suite est ..compléter.."
   ]
  },
  {
   "cell_type": "code",
   "execution_count": null,
   "id": "441a0c2e",
   "metadata": {},
   "outputs": [],
   "source": [
    "Verhulst_graph(0.6, 20, 2.7) # la suite est ..compléter.."
   ]
  },
  {
   "cell_type": "code",
   "execution_count": null,
   "id": "b06fb991",
   "metadata": {},
   "outputs": [],
   "source": [
    "Verhulst_graph(0.6, 20, 2.5) # la suite est ..compléter.."
   ]
  },
  {
   "cell_type": "code",
   "execution_count": null,
   "id": "6b7ba8e9",
   "metadata": {},
   "outputs": [],
   "source": [
    "Verhulst_graph(0.6, 20, 3.2) # la suite est ..compléter.."
   ]
  },
  {
   "cell_type": "code",
   "execution_count": null,
   "id": "efd127e9",
   "metadata": {},
   "outputs": [],
   "source": [
    "Verhulst_graph(0.6, 20, 3.4) # la suite est ..compléter.."
   ]
  },
  {
   "cell_type": "code",
   "execution_count": null,
   "id": "c0efbc18",
   "metadata": {},
   "outputs": [],
   "source": [
    "Verhulst_graph(0.4, 40, 4) # la suite est ..compléter.."
   ]
  },
  {
   "cell_type": "markdown",
   "id": "0a907289",
   "metadata": {},
   "source": [
    "**Remarque :** la déscription d'une fonction donnée entre tripe guillemets peut être affiché avec la commande `help`:"
   ]
  },
  {
   "cell_type": "code",
   "execution_count": null,
   "id": "2bd29d75",
   "metadata": {},
   "outputs": [],
   "source": [
    "help(Verhulst_pop)"
   ]
  },
  {
   "cell_type": "markdown",
   "id": "c95e01a7",
   "metadata": {},
   "source": [
    "### Exercice 7 - devine mon numéro\n",
    "\n",
    "> Pour cet exercice le joueur doit deviner un nombre entre $1$ et $n=5$ que le programme a choisi au hasard. Le joueur à un nombre illimité de tentatives et le programme dit à chaque fois si le nombre proposé par le joueur est trop grand ou trop petit. Le programme termine et affiche le nombre de tentatives si le joueur a trouvé le bon numéro.    \n",
    "> Si le programme fonctionne pour $n=5$, utiliser  $n=100$.   \n",
    ">>Avec la bonne stratégie (dichotomie), vous pouvez trouver la bonne réponse en au plus 7 tentatives pour $n=100$.             \n",
    ">>*Indications :* \n",
    ">> - La commande `random.randint(1, 5)` du module (bibliothèque) `random` renvoie au hasard un entier entre \n",
    "$1$ et $5$ (incluses).  \n",
    ">> - Ne pas oublier de transformer le résultat de `input` en entier.\n",
    ">> - Vous pouvez utiliser les f-string dans `input`\n",
    "###  Solution"
   ]
  },
  {
   "cell_type": "code",
   "execution_count": null,
   "id": "e5a0ff0d",
   "metadata": {},
   "outputs": [],
   "source": [
    "# import random\n",
    "\n",
    "# n = 5\n",
    "# nb_tentatives = ... # initialiser le compteur\n",
    "# mystere = random.randint(1, n)\n",
    "# demander (input) à l'utilisateur de choisir un entier entre 1 et n\n",
    "# ne pas oublier de transformer le résultat de input en entier\n",
    "# tant que la valeur choisie par l'utilisateur est différente de mystere:\n",
    "#     incrémenter nb_tentatives\n",
    "#     si la valeur est trop grande, afficher \"valeur trop grande\"\n",
    "#     sinon, afficher \"valeur trop petite\"\n",
    "#     demander à l'utilisateur de choisir un nouveau nombre\n",
    "# affiche le nombre de tentatives"
   ]
  }
 ],
 "metadata": {
  "kernelspec": {
   "display_name": "Python 3 (ipykernel)",
   "language": "python",
   "name": "python3"
  },
  "language_info": {
   "codemirror_mode": {
    "name": "ipython",
    "version": 3
   },
   "file_extension": ".py",
   "mimetype": "text/x-python",
   "name": "python",
   "nbconvert_exporter": "python",
   "pygments_lexer": "ipython3",
   "version": "3.9.7"
  }
 },
 "nbformat": 4,
 "nbformat_minor": 5
}

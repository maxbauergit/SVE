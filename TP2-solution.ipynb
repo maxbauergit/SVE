{
 "cells": [
  {
   "cell_type": "markdown",
   "id": "30ab5dab",
   "metadata": {},
   "source": [
    "<link rel=\"stylesheet\" href=\"https://cdnjs.cloudflare.com/ajax/libs/font-awesome/4.7.0/css/font-awesome.min.css\">"
   ]
  },
  {
   "cell_type": "markdown",
   "id": "5ec22efa",
   "metadata": {},
   "source": [
    "**Nom prénom :**                                                                 \n",
    "**Groupe :**    \n",
    "**Date :**"
   ]
  },
  {
   "cell_type": "markdown",
   "id": "bcde28b1",
   "metadata": {},
   "source": [
    "<span style=\"background:yellow;color:black\"> Avant de commencer: </span>\n",
    "\n",
    "- Remplir et exécuter (<i class=\"fa fa-play\" aria-hidden=\"true\"></i>) la cellule ci-dessus.\n",
    "- Modififier le nom du notebook (cliquer sur TP2-Nom-prenom) en y mettant votre nom, prénom.          "
   ]
  },
  {
   "cell_type": "markdown",
   "id": "9b6c3d61",
   "metadata": {},
   "source": [
    "<span style=\"background:yellow;color:black\"> Instructions pour déposer votre compte rendu </span>\n",
    "\n",
    "- Exporter votre notebook (ouvert) sous forme pdf : `Print Preview` du menu `File` de Jupyter. Dans le nouveau onglet du navigateur, faire `Imprimer`, puis `Exporter au format Pdf` du menu du navigateur (décocher \n",
    "`Imprimer les en-têtes`) et sauvegarder dans votre (H:).\n",
    "- Sauf si vous avez lancé Jupyter depuis votre (H:), utiliser depuis la fenêtre de votre notebook `File/Download as/Notebook (.ipynb)` du menu Jupyter et sauvegarder votydans votre (H:)\n",
    "- Déposer le notebook (fichier .ipynb) et le fichier pdf dans le dépôt Moodle. Votre nom doit figurer dans le nom des deux fichiers.    "
   ]
  },
  {
   "cell_type": "markdown",
   "id": "8b0571a2",
   "metadata": {},
   "source": [
    "<span style=\"background:yellow;color:black\"> Rappels :</span>\n",
    "- Le raccourcis pour <i class=\"fa fa-play\" aria-hidden=\"true\"></i> est `Ctrl+Entrée` sur Windows ou `Ctrl+Retour` sur Mac. Voir <i class=\"fa fa-keyboard-o\"></i> pour d'autre raccourcis.\n",
    "- Pour **annuler une modification** dans une cellule, utilisez `Ctrl+Z`\n",
    "sous Windows et `Commande+Z` sous Mac.     \n",
    "- Pour **insérer** une nouvelle cellule utiliser <i class=\"fa fa-plus\" aria-hidden=\"true\"></i> ou les raccourcis `esc a` et `esc b`.   \n",
    "- Pour **déplacer** une cellule, utiliser <i class=\"fa fa-arrow-up\"></i> et  <i class=\"fa fa-arrow-down\"></i>.\n",
    "- Pour **effacer** une cellule, utiliser <i class=\"fa fa-scissors\"></i>\n",
    "- Pour **interrompre** l'exécution d'une cellule, utiliser <i class=\"fa fa-square\" aria-hidden=\"true\"></i>."
   ]
  },
  {
   "cell_type": "markdown",
   "id": "e37863fd",
   "metadata": {},
   "source": [
    "<span style=\"background:yellow;color:black\"> Astuce :</span> Utiliser `Esc L` pour afficher le numéro des lignes pour plus facilement localiser les erreurs de syntaxe."
   ]
  },
  {
   "cell_type": "markdown",
   "id": "b1581346",
   "metadata": {},
   "source": [
    "# <center> Corrigé du TP 2 - Listes et boucles for </center>\n",
    "\n",
    "<span style=\"background:yellow;color:black\"> Version légèrement modifiée par rapport au sujet du TP</span>"
   ]
  },
  {
   "cell_type": "markdown",
   "id": "ef701326",
   "metadata": {},
   "source": [
    "- Avant de faire un exercice, **lire les explications et exécuter les cellules qui contiennent les exemples**. Comprendre ce que font les commandes.    \n",
    "- Vous pouvez modifier les commandes dex exemples si cela vous aide, mais **aucune action de votre part n'est exigée**."
   ]
  },
  {
   "cell_type": "markdown",
   "id": "52c27b85",
   "metadata": {},
   "source": [
    "## Listes"
   ]
  },
  {
   "cell_type": "markdown",
   "id": "6afbe15b",
   "metadata": {},
   "source": [
    "Une <span style=\"color:red\">liste</span> est une structure de données qui contient une série de valeurs séparées par des virgules et entourées par des crochets :"
   ]
  },
  {
   "cell_type": "code",
   "execution_count": null,
   "id": "d62c4384",
   "metadata": {},
   "outputs": [],
   "source": [
    "# exécuter cette cellule (et les suivants). Vous pouvez tout modifier\n",
    "animaux = [\"girafe\", \"tigre\", \"singe\", \"souris\"] \n",
    "animaux # pas besoin de print pour la dernière ligne d'une cellule"
   ]
  },
  {
   "cell_type": "markdown",
   "id": "61c6ac3b",
   "metadata": {},
   "source": [
    "Dans l'exemple ci-dessus, `animaux` est le nom qu'on donne à la liste. Et `\"girafe\"`, `\"tigre\"`, `\"singe\"`, `\"souris\"` sont les éléments contenus par la liste. On rappelle que les guillemets indiquent à *Python* qu'il s'agit d'une <span style=\"color:red\">chaine de caractères</span> ou  <span style=\"color:red\">string</span>.\n",
    "\n",
    "Python autorise la construction de listes contenant des valeurs de types différents"
   ]
  },
  {
   "cell_type": "code",
   "execution_count": null,
   "id": "c070ea92",
   "metadata": {},
   "outputs": [],
   "source": [
    "mixte = [\"girafe\", 5, \"souris\", 0.15] # contient un entier, un float, deux string\n",
    "mixte"
   ]
  },
  {
   "cell_type": "markdown",
   "id": "bbb6fcb9",
   "metadata": {},
   "source": [
    "La fonction `len` permet d'afficher la longueur d'une liste. "
   ]
  },
  {
   "cell_type": "code",
   "execution_count": null,
   "id": "a094d9d8",
   "metadata": {},
   "outputs": [],
   "source": [
    "len([0, 1, 2, \"souris\"]) "
   ]
  },
  {
   "cell_type": "markdown",
   "id": "3eff5f10",
   "metadata": {},
   "source": [
    "### Accès aux éléments"
   ]
  },
  {
   "cell_type": "markdown",
   "id": "e9272c2a",
   "metadata": {},
   "source": [
    "On peut appeler les éléments d'une liste par leur position. Ce numéro est appelé\n",
    "<span style=\"color:red\">indice (ou index)</span> de la liste:"
   ]
  },
  {
   "cell_type": "markdown",
   "id": "f4b688cd",
   "metadata": {},
   "source": [
    "<span style=\"background:yellow;color:black\">Attention :</span> On compte à partir de 0."
   ]
  },
  {
   "cell_type": "code",
   "execution_count": null,
   "id": "9822ee87",
   "metadata": {},
   "outputs": [],
   "source": [
    "liste = [\"a\", \"b\", \"c\", \"d\", \"e\", \"f\", \"g\"]\n",
    "liste[0] # premier élément "
   ]
  },
  {
   "cell_type": "code",
   "execution_count": null,
   "id": "da0fed55",
   "metadata": {},
   "outputs": [],
   "source": [
    "liste[1] # deuxième élément"
   ]
  },
  {
   "cell_type": "code",
   "execution_count": null,
   "id": "9cee4d3d",
   "metadata": {},
   "outputs": [],
   "source": [
    "liste[-1] # dernier élément"
   ]
  },
  {
   "cell_type": "code",
   "execution_count": null,
   "id": "ca03e4fb",
   "metadata": {},
   "outputs": [],
   "source": [
    "liste[-2] # avant dernier élément"
   ]
  },
  {
   "cell_type": "markdown",
   "id": "1c98bc4e",
   "metadata": {},
   "source": [
    "### Accès par tranche"
   ]
  },
  {
   "cell_type": "code",
   "execution_count": null,
   "id": "ae3e1f54",
   "metadata": {},
   "outputs": [],
   "source": [
    "liste = [\"a\", \"b\", \"c\", \"d\", \"e\", \"f\", \"g\"]\n",
    "liste[0:2] # lettres d'indices 0, 1, mais pas 2"
   ]
  },
  {
   "cell_type": "code",
   "execution_count": null,
   "id": "59b8ec24",
   "metadata": {},
   "outputs": [],
   "source": [
    "liste[:2] # idem"
   ]
  },
  {
   "cell_type": "code",
   "execution_count": null,
   "id": "72259cc7",
   "metadata": {},
   "outputs": [],
   "source": [
    "liste[4: len(liste)] # tous les lettres à partir de l'indice 4 (5ème élément)"
   ]
  },
  {
   "cell_type": "code",
   "execution_count": null,
   "id": "02f7ec88",
   "metadata": {},
   "outputs": [],
   "source": [
    "liste[4:] # idem"
   ]
  },
  {
   "cell_type": "code",
   "execution_count": null,
   "id": "cafae65d",
   "metadata": {},
   "outputs": [],
   "source": [
    "liste[-2:] # les dernier deux lettres : liste[-2], liste[-1]"
   ]
  },
  {
   "cell_type": "code",
   "execution_count": null,
   "id": "f321b23b",
   "metadata": {},
   "outputs": [],
   "source": [
    "liste[0:len(liste):2] # du début à la fin une lettre sur deux"
   ]
  },
  {
   "cell_type": "code",
   "execution_count": null,
   "id": "563eb7b6",
   "metadata": {},
   "outputs": [],
   "source": [
    "liste[::2] # idem"
   ]
  },
  {
   "cell_type": "code",
   "execution_count": null,
   "id": "1ccdccc6",
   "metadata": {},
   "outputs": [],
   "source": [
    "liste[5:2:-1] # pas négatif: liste[5], liste[4], liste[3] (pas liste[2])"
   ]
  },
  {
   "cell_type": "code",
   "execution_count": null,
   "id": "dc0c0eb6",
   "metadata": {},
   "outputs": [],
   "source": [
    "liste[::-1] # liste inversée !!"
   ]
  },
  {
   "cell_type": "markdown",
   "id": "283f8c1a",
   "metadata": {},
   "source": [
    "<span style=\"background:yellow;color:black\">Syntaxe :</span>\n",
    "\n",
    "- La syntaxe est `liste[start: stop: pas]` avec `start`, `stop`, et `pas` des entiers relatifs.  \n",
    "- Cette sous-liste contient les éléments d'indices `start`, `start+pas`, `start+2*pas`, ..., et s'arrête **avant** `stop`.    \n",
    "- La valeur par défaut de `start` est $0$, celle de `stop` est `len(liste)`, et celle de `pas` est $1$."
   ]
  },
  {
   "cell_type": "markdown",
   "id": "6025b469",
   "metadata": {},
   "source": [
    "<span style=\"background:yellow;color:black\">Attention :</span> La sous-liste\n",
    "`liste[start: stop: pas]` ne contient pas l'élément d'indice `stop`."
   ]
  },
  {
   "cell_type": "markdown",
   "id": "26cfd07a",
   "metadata": {},
   "source": [
    "### Exercice 1\n",
    "     \n",
    ">On considère la séquence d'ADN suivante:  \n",
    ">`sequence = ['A','T','T','G','C','C','T','T','A','C','A','A','G','T','A','T','A','C']`\n",
    ">\n",
    ">1. Une séquence est composé de codons de trois nucléotides, donc sa longueur est un multiple de trois. Écrire un test pour vérifier si `sequence` à la bonne longueur ou non. Enlever ensuite un nucléotide de `sequence` et faites à nouveau le test. \n",
    ">*Indication:* `%`.\n",
    ">\n",
    ">2. En utilisant l'accès aux listes par tranches, afficher le premier codon, puis le deuxième, le dernier, l'avant dernier codon de `sequence`. Afficher le résultat sous la forme \"le premier codon est ...\" en utilisant les f-string."
   ]
  },
  {
   "cell_type": "markdown",
   "id": "fff2a3a1",
   "metadata": {},
   "source": [
    "### Solution de la question 1 :\n",
    "\n",
    "**Nous utilisons :** \n",
    "- un nombre est un multiple de $3$ si le reste de la division par $3$ est 0.\n",
    "- l'opérateur *Python* qui donne le reste d'une division est `%`."
   ]
  },
  {
   "cell_type": "code",
   "execution_count": null,
   "id": "c4545d57",
   "metadata": {},
   "outputs": [],
   "source": [
    "# déplacer \"#\" pour tester l'autre séquence\n",
    "sequence = ['A','T','T','G','C','C','T','T','A','C','A','A','G','T','A','T','A','C']\n",
    "#sequence = ['A','T','T','G','C','C','T','T','A','C','A','A','G','T','A','T','A']\n",
    "if len(sequence)%3 == 0: # le reste de la division de la longueur de sequence par 3 est 0\n",
    "    print(\"la séquence à la bonne longueur\")\n",
    "else:\n",
    "    print(\"la séquence n'a pas la bonne longueur\")"
   ]
  },
  {
   "cell_type": "markdown",
   "id": "9c2c95d7",
   "metadata": {},
   "source": [
    "### Solution de la question 2 :"
   ]
  },
  {
   "cell_type": "code",
   "execution_count": null,
   "id": "2e75e58a",
   "metadata": {},
   "outputs": [],
   "source": [
    "sequence = ['A','T','T','G','C','C','T','T','A','C','A','A','G','T','A','T','A','C']\n",
    "print(f\"le premier codon est {sequence[:3]}\")\n",
    "print(f\"le deuxième codon est {sequence[3:6]}\")\n",
    "print(f\"le dernier codon est {sequence[-3:]}\")\n",
    "print(f\"l'avant dernier codon est {sequence[-6:-3]}\")"
   ]
  },
  {
   "cell_type": "markdown",
   "id": "3bb0aefa",
   "metadata": {},
   "source": [
    "### Liste d'entiers"
   ]
  },
  {
   "cell_type": "markdown",
   "id": "00c157d8",
   "metadata": {},
   "source": [
    "`range` est une fonction qui génère des nombres entiers et si elle est combiné avec \n",
    "`list` on obtient une liste d'entiers:"
   ]
  },
  {
   "cell_type": "code",
   "execution_count": null,
   "id": "359a7e44",
   "metadata": {},
   "outputs": [],
   "source": [
    "list(range(5)) # comme list(range(0, 5)); notez que 5 est exlcu"
   ]
  },
  {
   "cell_type": "code",
   "execution_count": null,
   "id": "e7c59646",
   "metadata": {},
   "outputs": [],
   "source": [
    "list(range(0, 5)) # idem"
   ]
  },
  {
   "cell_type": "code",
   "execution_count": null,
   "id": "d99314c3",
   "metadata": {},
   "outputs": [],
   "source": [
    "list(range(2, 6)) # 6 est exclu"
   ]
  },
  {
   "cell_type": "code",
   "execution_count": null,
   "id": "fe1fc56a",
   "metadata": {},
   "outputs": [],
   "source": [
    "list(range(6, 15, 3)) # le pas est 3; 15 est exclu"
   ]
  },
  {
   "cell_type": "code",
   "execution_count": null,
   "id": "5c47f9b2",
   "metadata": {},
   "outputs": [],
   "source": [
    "list(range(2, -2, -1)) # le pas est négatif; -2 est exlclu"
   ]
  },
  {
   "cell_type": "markdown",
   "id": "e152c0ec",
   "metadata": {},
   "source": [
    "<span style=\"background:yellow;color:black\">Syntaxe :</span>\n",
    "    \n",
    "- `range` fonctionne sur le modèle `range[start, stop, pas]`.    \n",
    "- Seulement `stop` est obligatoire. Si omis, on a `start=0`, `step=1`."
   ]
  },
  {
   "cell_type": "markdown",
   "id": "b6047ef2",
   "metadata": {},
   "source": [
    "<span style=\"background:yellow;color:black\">Attention :</span>\n",
    "    \n",
    "- `range[start: stop: pas]` s'arrête **avant** `stop`. \n",
    "- Retenez que `range(n)` qui est la même chose\n",
    "que `range(0, n)` et `range(0, n, 1)` contient $n$ éléments.\n"
   ]
  },
  {
   "cell_type": "markdown",
   "id": "1dab65ee",
   "metadata": {},
   "source": [
    "### Exercice 2   \n",
    ">Utiliser `list(range(...))` pour créer les listes d'entiers suivantes:\n",
    ">\n",
    ">[2, 4, 6, ... , 20]   \n",
    ">[21, 19, 17, ... , 7, 5]   \n",
    ">[-2, -5, -8, ... , -23]    "
   ]
  },
  {
   "cell_type": "markdown",
   "id": "553026d4",
   "metadata": {},
   "source": [
    "<span style=\"background:yellow;color:black\"> Conseil :</span>\n",
    "Par prudence, **relancer le noyeau** avec <i class=\"fa fa-repeat\"></i> pour re-initialiser les variables\n",
    "chaque fois que vous commencez un nouveau exercice.\n",
    "\n",
    "### Solution\n",
    "**Rajouter une (ou plusieurs) cellule(s) pour votre solution**."
   ]
  },
  {
   "cell_type": "code",
   "execution_count": null,
   "id": "4995f465",
   "metadata": {},
   "outputs": [],
   "source": [
    "list(range(2,21,2))"
   ]
  },
  {
   "cell_type": "code",
   "execution_count": null,
   "id": "2902fa01",
   "metadata": {},
   "outputs": [],
   "source": [
    "list(range(21,4,-2))"
   ]
  },
  {
   "cell_type": "code",
   "execution_count": null,
   "id": "e86f8c64",
   "metadata": {},
   "outputs": [],
   "source": [
    "list(range(-2,-24,-3))"
   ]
  },
  {
   "cell_type": "markdown",
   "id": "a0e57498",
   "metadata": {},
   "source": [
    "### Concaténation\n",
    "\n",
    "La concaténation de deux listes est similaire à la concaténation de deux string (chaines de caractères)"
   ]
  },
  {
   "cell_type": "code",
   "execution_count": null,
   "id": "47c39eb3",
   "metadata": {},
   "outputs": [],
   "source": [
    "[1, 2, 3] + [4]"
   ]
  },
  {
   "cell_type": "code",
   "execution_count": null,
   "id": "23708134",
   "metadata": {},
   "outputs": [],
   "source": [
    "[\"a\", 2, \"b\"] + [\"c\", \"d\"]"
   ]
  },
  {
   "cell_type": "code",
   "execution_count": null,
   "id": "9c8c24bd",
   "metadata": {},
   "outputs": [],
   "source": [
    "2*[1, 2, 3]"
   ]
  },
  {
   "cell_type": "code",
   "execution_count": null,
   "id": "eba71d39",
   "metadata": {},
   "outputs": [],
   "source": [
    "6*[0] # peut servir pour initialiser une liste qui sera modifiée par la suite"
   ]
  },
  {
   "cell_type": "code",
   "execution_count": null,
   "id": "50e5a39d",
   "metadata": {},
   "outputs": [],
   "source": [
    "[] # liste vide; peut servir pour initialiser une liste auquelle on rajoute des éléments"
   ]
  },
  {
   "cell_type": "markdown",
   "id": "71c5ce4b",
   "metadata": {},
   "source": [
    "Pour rajouter un élément, on peut aussi utiliser `append` (qui n'existe pas pour les `string`)"
   ]
  },
  {
   "cell_type": "code",
   "execution_count": null,
   "id": "db3ef694",
   "metadata": {},
   "outputs": [],
   "source": [
    "list1 = [1, 2, 3]\n",
    "list1.append(4)\n",
    "list1"
   ]
  },
  {
   "cell_type": "markdown",
   "id": "6fb15c72",
   "metadata": {},
   "source": [
    "## Chaines de caractères (accès)"
   ]
  },
  {
   "cell_type": "markdown",
   "id": "dcf34198",
   "metadata": {},
   "source": [
    "L'accès aux chaines de caractères par élément ou tranche se fait avec la même syntaxe que l'accès aux listes:"
   ]
  },
  {
   "cell_type": "code",
   "execution_count": null,
   "id": "42ea36da",
   "metadata": {},
   "outputs": [],
   "source": [
    "chaine = \"Rayon X\"\n",
    "chaine[0]"
   ]
  },
  {
   "cell_type": "code",
   "execution_count": null,
   "id": "3946a456",
   "metadata": {},
   "outputs": [],
   "source": [
    "chaine[-1]"
   ]
  },
  {
   "cell_type": "code",
   "execution_count": null,
   "id": "354c80aa",
   "metadata": {},
   "outputs": [],
   "source": [
    "chaine[1:4] # 'ayo' <-> chaine[1]+chaine[2]+chaine[3] "
   ]
  },
  {
   "cell_type": "code",
   "execution_count": null,
   "id": "193d97ab",
   "metadata": {},
   "outputs": [],
   "source": [
    "chaine[-3:]"
   ]
  },
  {
   "cell_type": "code",
   "execution_count": null,
   "id": "365fd8c1",
   "metadata": {},
   "outputs": [],
   "source": [
    "chaine[::-1] # chaine inversée: on parcourt toute la chaine avec un pas négatif, donc à l'envers"
   ]
  },
  {
   "cell_type": "markdown",
   "id": "3b911388",
   "metadata": {},
   "source": [
    "### Exercice 3\n",
    "    \n",
    "> Écrire un test qui vérifie si un mot est palindrome, donc le même si on inverse l'ordre des lettres. Tester avec \"laval\" et \"Laval\". \n",
    ">> Indications:\n",
    ">> - Pour comparer deux chaines `chaine1` et `chaine2`, on peut utiliser `chaine1 == chaine2`.\n",
    ">> - Voir ci-dessus pour une méthode simple pour inverser une chaine. \n",
    ">> - Pour aller plus loin : si vous voulez que votre test dit que \"Laval\" est palindrome, vous pouvez utiliser la commande `chaine.lower()` qui donne en retour la chaine en minuscules.\n",
    "\n",
    "### Solution"
   ]
  },
  {
   "cell_type": "code",
   "execution_count": null,
   "id": "48805f98",
   "metadata": {},
   "outputs": [],
   "source": [
    "#mot = \"laval\" # exemple de mot palindrome\n",
    "mot = \"Laval\" # le programme ne le déclare pas palindrome car \"Laval\" != \"laval\"\n",
    "if mot == mot[::-1]: # mot[::-1] et mot inversé\n",
    "    print(f\"{mot} est palindrome\")\n",
    "else: \n",
    "    print(f\"{mot} n'est pas palindrome\")"
   ]
  },
  {
   "cell_type": "markdown",
   "id": "f03d7e81",
   "metadata": {},
   "source": [
    "Version qui ne tient pas compte des majuscules, donc qui fait que \"Laval\" compte comme palindrome"
   ]
  },
  {
   "cell_type": "code",
   "execution_count": null,
   "id": "0408c212",
   "metadata": {},
   "outputs": [],
   "source": [
    "#mot = \"laval\" # est palyndrome\n",
    "mot = \"Laval\" # sa version minuscule est palindrome\n",
    "mot_minuscule = mot.lower() # transforme mot en un mot en minuscule\n",
    "if mot_minuscule == mot_minuscule[::-1]: # mot_minuscule[::-1] est mot_minuscule inversé\n",
    "    print(f\"{mot} est palindrome\")\n",
    "else: \n",
    "    print(f\"{mot} n'est pas palindrome\")"
   ]
  },
  {
   "cell_type": "markdown",
   "id": "ca27b90a",
   "metadata": {},
   "source": [
    "### Exercice 4\n",
    ">Votre solution pour les questions 1. et 2. de l'exercice 1 devrait fonctionner sans modification pour les chaines de caractères.   \n",
    ">\n",
    ">Vérifier que votre solution de la question 2. de l'exercice 1 fonnctionne pour\n",
    ">`sequence = ATTGCCTTACAAGTATAC`.\n",
    "### Solution"
   ]
  },
  {
   "cell_type": "code",
   "execution_count": null,
   "id": "2289b6dd",
   "metadata": {},
   "outputs": [],
   "source": [
    "sequence = \"ATTGCCTTACAAGTATAC\"\n",
    "# copier coller les commandes de votre solution de la question 2. de l'exercice 1\n",
    "print(f\"le premier codon est {sequence[:3]}\")\n",
    "print(f\"le deuxième codon est {sequence[3:6]}\")\n",
    "print(f\"le dernier codon est {sequence[-3:]}\")\n",
    "print(f\"l'avant dernier codon est {sequence[-6:-3]}\")"
   ]
  },
  {
   "cell_type": "markdown",
   "id": "e3d23e3b",
   "metadata": {},
   "source": [
    "## Pour aller plus loin\n",
    "\n",
    "On peut passer entre listes de caractères et chaines de caractères avec les commandes suivantes:"
   ]
  },
  {
   "cell_type": "code",
   "execution_count": null,
   "id": "9d4b3029",
   "metadata": {},
   "outputs": [],
   "source": [
    "sequence = \"ATTGCCTTACAAGTA\"\n",
    "list(sequence)"
   ]
  },
  {
   "cell_type": "code",
   "execution_count": null,
   "id": "6427c839",
   "metadata": {},
   "outputs": [],
   "source": [
    "sequence = ['A', 'T', 'T', 'G', 'C', 'C', 'T', 'T', 'A', 'C', 'A', 'A', 'G', 'T', 'A']\n",
    "\"\".join(sequence)"
   ]
  },
  {
   "cell_type": "markdown",
   "id": "399042e2",
   "metadata": {},
   "source": [
    "## Boucle for"
   ]
  },
  {
   "cell_type": "markdown",
   "id": "71758e17",
   "metadata": {},
   "source": [
    "Comme premier exemple, nous avons"
   ]
  },
  {
   "cell_type": "code",
   "execution_count": null,
   "id": "263c51d5",
   "metadata": {},
   "outputs": [],
   "source": [
    "for i in range(0, 3): # range(0, n) donne les entiers 0, 1, ..., n-1 (n exclus)\n",
    "    print(i)"
   ]
  },
  {
   "cell_type": "markdown",
   "id": "2d026e9a",
   "metadata": {},
   "source": [
    "Pour cet exemple, la <span style=\"color:red\">variable d'itération</span> `i` prend successivement les trois valeurs $0, 1, 2$ générées par `range(0, 3)`, et chaque valeur est affichée par  `print`"
   ]
  },
  {
   "cell_type": "code",
   "execution_count": null,
   "id": "3153dc35",
   "metadata": {},
   "outputs": [],
   "source": [
    "for i in range(0, 3): \n",
    "    print(i, end=\", \") # end=\", \" remplace le retour à la ligne produit par print par \", \" (virgule espace)"
   ]
  },
  {
   "cell_type": "markdown",
   "id": "25bd90b1",
   "metadata": {},
   "source": [
    "Pour éviter que chaque `print` se fait sur une nouvelle ligne,\n",
    "nous avons remplaçé le retour à la ligne généré à la fin de `print` par\n",
    "`\", \"`. Toute autre chaine de caractères est possible."
   ]
  },
  {
   "cell_type": "markdown",
   "id": "60a7edf3",
   "metadata": {},
   "source": [
    "<span style=\"background:yellow;color:black\">Attention :</span>\n",
    "\n",
    "- Ne pas oublier le caractère `\":\"` à la fin de la ligne débutant par `for` qui indique à *Python* qu'un bloc d'instructions commence.  \n",
    "- Le bloc d'instructions peut contenir plusieurs lignes qui seront toutes exécutés \n",
    "pour chaque itération.   \n",
    "- Ne pas oublier <span style=\"color:red\">l'indentation</span> (décalage du text).\n",
    "Elle est  **indispensable** pour que Python identifie correctement le début et la fin du bloc d'instructions. Utiliser de préférence quatre espaces (ou une tabulation) pour indenter.\n",
    "- `range` **n'est pas** une liste. Il produit simplement \n",
    "une séquence d'entiers qui ne sont pas stockés en mémoire. Pour avoir une liste d'entiers,\n",
    "il faut utiliser `list(range(...))`."
   ]
  },
  {
   "cell_type": "markdown",
   "id": "b2ba86a9",
   "metadata": {},
   "source": [
    "<span style=\"background:yellow;color:black\"> Conseil :</span> L'étoile à côté d'une cellule indique qu'elle est en train d'être exécuté. Vous pouvez **interrompre** un programme avec <i class=\"fa fa-square\" aria-hidden=\"true\"></i>. "
   ]
  },
  {
   "cell_type": "markdown",
   "id": "dc6b57b2",
   "metadata": {},
   "source": [
    "### Exercice 5    \n",
    "    \n",
    "> Utiliser une boucle `for` pour afficher     \n",
    "`*`   \n",
    "`**`   \n",
    "`***`   \n",
    "`****`    \n",
    "`*****`         \n",
    ">>*Indication:* pensez à la concaténation d'une chaine comme `\"*\"`.\n",
    "\n",
    "### Solution"
   ]
  },
  {
   "cell_type": "code",
   "execution_count": null,
   "id": "61bd188d",
   "metadata": {},
   "outputs": [],
   "source": [
    "for i in range(6):\n",
    "    print(i*\"*\")"
   ]
  },
  {
   "cell_type": "markdown",
   "id": "6f4db546",
   "metadata": {},
   "source": [
    "### Parcourir une liste"
   ]
  },
  {
   "cell_type": "code",
   "execution_count": null,
   "id": "fc60c0cd",
   "metadata": {},
   "outputs": [],
   "source": [
    "# Version sans indice. À privilégier !\n",
    "animaux = [\"girafe\", \"tigre\", \"singe\", \"souris\"]\n",
    "for animal in animaux: # la variable animal prend successivement les éléments (chaines) de animaux\n",
    "      print(animal)"
   ]
  },
  {
   "cell_type": "markdown",
   "id": "1aead64f",
   "metadata": {},
   "source": [
    "Parfois on a besoin du rang (indice) des éléments de la liste. Il faut alors faire:"
   ]
  },
  {
   "cell_type": "code",
   "execution_count": null,
   "id": "3936b3dd",
   "metadata": {},
   "outputs": [],
   "source": [
    "animaux = [\"girafe\",\"tigre\",\"singe\",\"souris\"]\n",
    "for i in range(0, len(animaux)): # i est le rang des éléments: i = 0, 1, 2, 3\n",
    "    print(f\"l'animal de range {i} est {animaux[i]}\")"
   ]
  },
  {
   "cell_type": "markdown",
   "id": "34134969",
   "metadata": {},
   "source": [
    "### Parcourir une chaine\n",
    "\n",
    "Parcourir une chaine de caractères se fait avec la même syntaxe:"
   ]
  },
  {
   "cell_type": "code",
   "execution_count": null,
   "id": "641d69f2",
   "metadata": {},
   "outputs": [],
   "source": [
    "# Version sans indice. À privilégier !\n",
    "adn = \"atcacgtta\"\n",
    "for base in adn:\n",
    "    print(base, end=\", \")\n"
   ]
  },
  {
   "cell_type": "code",
   "execution_count": null,
   "id": "92ebe102",
   "metadata": {},
   "outputs": [],
   "source": [
    "# Version avec indice\n",
    "adn = \"atcacgtta\"\n",
    "for i in range(0, len(adn)):\n",
    "    print(adn[i], end=\", \")"
   ]
  },
  {
   "cell_type": "markdown",
   "id": "f1f9e093",
   "metadata": {},
   "source": [
    "<span style=\"background:yellow;color:black\"> Conseil :</span> Écriver si possible une boucle sans indice.    Le script devient plus facile à écrire et à comprendre ! Il est proche du langue parlé."
   ]
  },
  {
   "cell_type": "markdown",
   "id": "8987fb9b",
   "metadata": {},
   "source": [
    "## Exercices"
   ]
  },
  {
   "cell_type": "markdown",
   "id": "02faa0ff",
   "metadata": {},
   "source": [
    "### Exercice 6\n",
    "    \n",
    "> 1. Remplacer dans les deux programmes ci-dessous les pointillés dans la commande `print` pour indiquer ce que `S` compte.\n",
    "> 2. Écrire une version du premier programme qui utilise l'indice.\n",
    ">\n",
    ">**Comprener bien les programmes, ils seront utiles pour les exercices suivants**\n",
    "\n",
    "### Solution de la question 1 :"
   ]
  },
  {
   "cell_type": "code",
   "execution_count": null,
   "id": "2db5a08b",
   "metadata": {},
   "outputs": [],
   "source": [
    "y = [1, 3, 5, 7]\n",
    "S = 0 # Initialisation \n",
    "for val in y:\n",
    "    S = S + val\n",
    "print(f\"{S} est la somme des valeurs de {y}\")"
   ]
  },
  {
   "cell_type": "code",
   "execution_count": null,
   "id": "dca087a2",
   "metadata": {},
   "outputs": [],
   "source": [
    "y = [-1, 0, -2, 2, 4, -3, 6] \n",
    "S = 0 # Initialisation \n",
    "for val in y:\n",
    "    if val < 0:\n",
    "        S = S + 1 # On incrémente S; variante : S += 1\n",
    "print(f\"{S} est le nombre de valeurs négatifs de {y}\")"
   ]
  },
  {
   "cell_type": "markdown",
   "id": "2518920f",
   "metadata": {},
   "source": [
    "### Solution de la question 2 :"
   ]
  },
  {
   "cell_type": "code",
   "execution_count": null,
   "id": "bb677e6b",
   "metadata": {},
   "outputs": [],
   "source": [
    "y = [1, 3, 5, 7]\n",
    "S = 0 # Initialisation \n",
    "for i in range(len(y)): # i est le rang des éléments de y\n",
    "    S = S + y[i] # on rajoute l'élément de rang i\n",
    "print(f\"{S} est la somme des valeurs de {y}\")"
   ]
  },
  {
   "cell_type": "markdown",
   "id": "a1ccc7dc",
   "metadata": {},
   "source": [
    "### Exercice 7\n",
    "    \n",
    ">On cherche à compter les atomes de Cystéines\n",
    "et de soufre de la séquence protéique (utilisant le code international des acides aminés) suivante:       \n",
    "`proteine = ['C','V','A','P','G','P','M','C','A','W','C','D','S','T','A','C']`\n",
    ">\n",
    ">1. Compter dans cette séquence protéique le nombre de Cystéines (code C).\n",
    ">2. Dans la même séquence protéique, compter le nombre d'atomes de soufre. \n",
    ">>*Indication : les acides aminés soufrés sont la Cystéine (C) et la Méthionine (M).*    \n",
    ">3. Vérifier que votre programme fonctionne sans modification pour `proteine = \"CVAPGPMCAWCDSTAC\"`\n",
    "\n",
    "### Solution "
   ]
  },
  {
   "cell_type": "code",
   "execution_count": null,
   "id": "a0e9210e",
   "metadata": {},
   "outputs": [],
   "source": [
    "#proteine = ['C','V','A','P','G','P','M','C','A','W','C','D','S','T','A','C']\n",
    "proteine = \"CVAPGPMCAWCDSTAC\"\n",
    "\n",
    "nb_C = 0 # on initialise le compteur qui compte les Cystéines\n",
    "for molecule in proteine:\n",
    "    if molecule == \"C\":\n",
    "        nb_C += 1 # on incremente le compteur\n",
    "print(f\"le nombre d'acide aminés C est {nb_C}\")\n",
    "\n",
    "nb_soufre = 0\n",
    "for acide_amin in proteine:\n",
    "    if (acide_amin == \"C\") or (acide_amin == \"M\"):\n",
    "    #if acide_amin in [\"C\", \"M\"]: # Variante\n",
    "        nb_soufre += 1\n",
    "print(f\"le nombre d'acide aminés de soufre est {nb_soufre}\")"
   ]
  },
  {
   "cell_type": "markdown",
   "id": "9c6115dc",
   "metadata": {},
   "source": [
    "### Version avec indice"
   ]
  },
  {
   "cell_type": "code",
   "execution_count": null,
   "id": "f719477b",
   "metadata": {},
   "outputs": [],
   "source": [
    "#proteine = ['C','V','A','P','G','P','M','C','A','W','C','D','S','T','A','C']\n",
    "proteine = \"CVAPGPMCAWCDSTAC\"\n",
    "\n",
    "nb_C = 0 \n",
    "for i in range(len(proteine)):\n",
    "    if proteine[i] == \"C\":\n",
    "        nb_C += 1 # on incremente le compteur\n",
    "print(f\"le nombre d'acide aminés C est {nb_C}\")\n",
    "\n",
    "nb_soufre = 0\n",
    "for i in range(len(proteine)):\n",
    "    if (proteine[i] == \"C\") or (proteine[i] == \"M\"):\n",
    "    #if proteine[i] in [\"C\", \"M\"]: # Variante\n",
    "        nb_soufre += 1\n",
    "print(f\"le nombre d'acide aminés de soufre est {nb_soufre}\")"
   ]
  },
  {
   "cell_type": "markdown",
   "id": "72ea7c4b",
   "metadata": {},
   "source": [
    "### Exercice 8 - Bonus pour les plus rapides\n",
    " \n",
    ">    \n",
    ">En complétant le script ci-dessous, transcrire la séquence d'ADN suivante:\n",
    ">\n",
    ">`sequence = \"ATTGCCTTACAAGTATAC\"`\n",
    ">\n",
    ">>*Indication: Pour transcrire une séquence, il faut remplacer G par C et C par G,\n",
    "T par A, et A par U.*\n",
    "\n",
    "### Solution\n",
    "\n",
    "**Remarque :** Vous allez découvrir lors du TP qui est à faire en autonomie une solution plus concise qui évite les if/elif/else"
   ]
  },
  {
   "cell_type": "code",
   "execution_count": null,
   "id": "6d48985c",
   "metadata": {},
   "outputs": [],
   "source": [
    "sequence = \"ATTGCCTTACAAGTATAC\"\n",
    "transcrit = \"\"\n",
    "\n",
    "for base in sequence:\n",
    "    if base == \"G\":\n",
    "        transcrit = transcrit + \"C\"\n",
    "    elif base == \"C\":\n",
    "        transcrit = transcrit + \"G\"\n",
    "    elif base == \"T\":\n",
    "        transcrit = transcrit + \"A\"\n",
    "    elif base == \"A\":\n",
    "        transcrit = transcrit + \"U\"\n",
    "\n",
    "print(f\"la séquence transcrite est {transcrit}\")"
   ]
  }
 ],
 "metadata": {
  "kernelspec": {
   "display_name": "Python 3 (ipykernel)",
   "language": "python",
   "name": "python3"
  },
  "language_info": {
   "codemirror_mode": {
    "name": "ipython",
    "version": 3
   },
   "file_extension": ".py",
   "mimetype": "text/x-python",
   "name": "python",
   "nbconvert_exporter": "python",
   "pygments_lexer": "ipython3",
   "version": "3.9.7"
  }
 },
 "nbformat": 4,
 "nbformat_minor": 5
}

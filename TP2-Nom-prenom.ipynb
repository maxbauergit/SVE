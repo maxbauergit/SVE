{
 "cells": [
  {
   "cell_type": "markdown",
   "id": "be9a8430",
   "metadata": {},
   "source": [
    "## Listes"
   ]
  },
  {
   "cell_type": "markdown",
   "id": "7718a32f",
   "metadata": {},
   "source": [
    "Une <span style=\"color:red\">liste</span> est une structure de données qui contient une série de valeurs séparées par des virgules et entourées par des crochets :"
   ]
  },
  {
   "cell_type": "code",
   "execution_count": 55,
   "id": "6ef2550c",
   "metadata": {},
   "outputs": [
    {
     "data": {
      "text/plain": [
       "['lundi', 'mardi', 'mercredi']"
      ]
     },
     "execution_count": 55,
     "metadata": {},
     "output_type": "execute_result"
    }
   ],
   "source": [
    "[\"lundi\", \"mardi\", \"mercredi\"]"
   ]
  },
  {
   "cell_type": "markdown",
   "id": "62755d4d",
   "metadata": {},
   "source": [
    "Python autorise la construction de listes contenant des valeurs de types différents"
   ]
  },
  {
   "cell_type": "code",
   "execution_count": 56,
   "id": "17f4b022",
   "metadata": {},
   "outputs": [
    {
     "data": {
      "text/plain": [
       "['lundi', 'mardi', 'mercredi', 2024]"
      ]
     },
     "execution_count": 56,
     "metadata": {},
     "output_type": "execute_result"
    }
   ],
   "source": [
    "[\"lundi\", \"mardi\", \"mercredi\", 2024]"
   ]
  },
  {
   "cell_type": "code",
   "execution_count": 57,
   "id": "6f41fd38",
   "metadata": {},
   "outputs": [
    {
     "data": {
      "text/plain": [
       "[]"
      ]
     },
     "execution_count": 57,
     "metadata": {},
     "output_type": "execute_result"
    }
   ],
   "source": [
    "[] # liste vide"
   ]
  },
  {
   "cell_type": "markdown",
   "id": "3fcadfab",
   "metadata": {},
   "source": [
    "### Concaténation\n",
    "\n",
    "Comme pour les chaines de caractères, on peut concaténér des listes avec les opérateurs `+` et `*` "
   ]
  },
  {
   "cell_type": "code",
   "execution_count": 32,
   "id": "23708134",
   "metadata": {},
   "outputs": [
    {
     "data": {
      "text/plain": [
       "['a', 2, 'b', 'c', 'd']"
      ]
     },
     "execution_count": 32,
     "metadata": {},
     "output_type": "execute_result"
    }
   ],
   "source": [
    "[\"a\", 2, \"b\"] + [\"c\", \"d\"]"
   ]
  },
  {
   "cell_type": "code",
   "execution_count": 33,
   "id": "0e3c3514",
   "metadata": {},
   "outputs": [
    {
     "data": {
      "text/plain": [
       "[1, 2, 3, 1, 2, 3]"
      ]
     },
     "execution_count": 33,
     "metadata": {},
     "output_type": "execute_result"
    }
   ],
   "source": [
    "[1, 2, 3] + [1, 2, 3]"
   ]
  },
  {
   "cell_type": "code",
   "execution_count": 34,
   "id": "9c8c24bd",
   "metadata": {},
   "outputs": [
    {
     "data": {
      "text/plain": [
       "[1, 2, 3, 1, 2, 3]"
      ]
     },
     "execution_count": 34,
     "metadata": {},
     "output_type": "execute_result"
    }
   ],
   "source": [
    "2*[1, 2, 3] # idem"
   ]
  },
  {
   "cell_type": "code",
   "execution_count": 35,
   "id": "eba71d39",
   "metadata": {},
   "outputs": [
    {
     "data": {
      "text/plain": [
       "[0, 0, 0, 0, 0, 0]"
      ]
     },
     "execution_count": 35,
     "metadata": {},
     "output_type": "execute_result"
    }
   ],
   "source": [
    "6*[0] # peut servir pour initialiser une liste"
   ]
  },
  {
   "cell_type": "code",
   "execution_count": 36,
   "id": "50e5a39d",
   "metadata": {},
   "outputs": [
    {
     "data": {
      "text/plain": [
       "[]"
      ]
     },
     "execution_count": 36,
     "metadata": {},
     "output_type": "execute_result"
    }
   ],
   "source": [
    "[] # liste vide; peut servir pour initialiser une liste auquelle on rajoute des éléments"
   ]
  },
  {
   "cell_type": "markdown",
   "id": "71c5ce4b",
   "metadata": {},
   "source": [
    "Pour rajouter un élément, on peut aussi utiliser `append` (qui n'existe pas pour les `string`)"
   ]
  },
  {
   "cell_type": "code",
   "execution_count": 37,
   "id": "db3ef694",
   "metadata": {},
   "outputs": [
    {
     "data": {
      "text/plain": [
       "[1, 2, 3, 4]"
      ]
     },
     "execution_count": 37,
     "metadata": {},
     "output_type": "execute_result"
    }
   ],
   "source": [
    "list1 = [1, 2, 3]\n",
    "list1.append(4)\n",
    "list1"
   ]
  },
  {
   "cell_type": "markdown",
   "id": "d5fd0a4f",
   "metadata": {},
   "source": [
    "### Accès aux éléments"
   ]
  },
  {
   "cell_type": "markdown",
   "id": "18173dd4",
   "metadata": {},
   "source": [
    "On peut appeler les éléments d'une liste par leur position. Ce numéro est appelé\n",
    "<span style=\"color:red\">indice (ou index)</span> de la liste.   \n",
    "<span style=\"background:yellow;color:black\">Attention :</span> On compte à partir de 0."
   ]
  },
  {
   "cell_type": "code",
   "execution_count": 1,
   "id": "9822ee87",
   "metadata": {},
   "outputs": [
    {
     "data": {
      "text/plain": [
       "'a'"
      ]
     },
     "execution_count": 1,
     "metadata": {},
     "output_type": "execute_result"
    }
   ],
   "source": [
    "liste = [\"a\", \"b\", \"c\", \"d\", \"e\", \"f\", \"g\"]\n",
    "liste[0] # premier élément "
   ]
  },
  {
   "cell_type": "code",
   "execution_count": 2,
   "id": "da0fed55",
   "metadata": {},
   "outputs": [
    {
     "data": {
      "text/plain": [
       "'b'"
      ]
     },
     "execution_count": 2,
     "metadata": {},
     "output_type": "execute_result"
    }
   ],
   "source": [
    "liste[1] # deuxième élément"
   ]
  },
  {
   "cell_type": "code",
   "execution_count": 3,
   "id": "9cee4d3d",
   "metadata": {},
   "outputs": [
    {
     "data": {
      "text/plain": [
       "'g'"
      ]
     },
     "execution_count": 3,
     "metadata": {},
     "output_type": "execute_result"
    }
   ],
   "source": [
    "liste[-1] # dernier élément"
   ]
  },
  {
   "cell_type": "code",
   "execution_count": 4,
   "id": "ca03e4fb",
   "metadata": {},
   "outputs": [
    {
     "data": {
      "text/plain": [
       "'f'"
      ]
     },
     "execution_count": 4,
     "metadata": {},
     "output_type": "execute_result"
    }
   ],
   "source": [
    "liste[-2] # avant dernier élément"
   ]
  },
  {
   "cell_type": "markdown",
   "id": "1c98bc4e",
   "metadata": {},
   "source": [
    "### Accès par tranche"
   ]
  },
  {
   "cell_type": "code",
   "execution_count": 5,
   "id": "ae3e1f54",
   "metadata": {},
   "outputs": [
    {
     "data": {
      "text/plain": [
       "['a', 'b']"
      ]
     },
     "execution_count": 5,
     "metadata": {},
     "output_type": "execute_result"
    }
   ],
   "source": [
    "liste = [\"a\", \"b\", \"c\", \"d\", \"e\", \"f\", \"g\"]\n",
    "liste[0:2] # lettres d'indices 0, 1, mais pas 2"
   ]
  },
  {
   "cell_type": "code",
   "execution_count": 6,
   "id": "59b8ec24",
   "metadata": {},
   "outputs": [
    {
     "data": {
      "text/plain": [
       "['a', 'b']"
      ]
     },
     "execution_count": 6,
     "metadata": {},
     "output_type": "execute_result"
    }
   ],
   "source": [
    "liste[:2] # idem"
   ]
  },
  {
   "cell_type": "code",
   "execution_count": 7,
   "id": "72259cc7",
   "metadata": {},
   "outputs": [
    {
     "data": {
      "text/plain": [
       "['e', 'f', 'g']"
      ]
     },
     "execution_count": 7,
     "metadata": {},
     "output_type": "execute_result"
    }
   ],
   "source": [
    "liste[4: len(liste)] # tous les lettres à partir de l'indice 4 (5ème élément)"
   ]
  },
  {
   "cell_type": "code",
   "execution_count": 8,
   "id": "02f7ec88",
   "metadata": {},
   "outputs": [
    {
     "data": {
      "text/plain": [
       "['e', 'f', 'g']"
      ]
     },
     "execution_count": 8,
     "metadata": {},
     "output_type": "execute_result"
    }
   ],
   "source": [
    "liste[4:] # idem"
   ]
  },
  {
   "cell_type": "code",
   "execution_count": 9,
   "id": "cafae65d",
   "metadata": {},
   "outputs": [
    {
     "data": {
      "text/plain": [
       "['f', 'g']"
      ]
     },
     "execution_count": 9,
     "metadata": {},
     "output_type": "execute_result"
    }
   ],
   "source": [
    "liste[-2:] # les dernier deux lettres : liste[-2], liste[-1]"
   ]
  },
  {
   "cell_type": "code",
   "execution_count": 10,
   "id": "f321b23b",
   "metadata": {},
   "outputs": [
    {
     "data": {
      "text/plain": [
       "['a', 'c', 'e', 'g']"
      ]
     },
     "execution_count": 10,
     "metadata": {},
     "output_type": "execute_result"
    }
   ],
   "source": [
    "liste[0:len(liste):2] # du début à la fin une lettre sur deux"
   ]
  },
  {
   "cell_type": "code",
   "execution_count": 11,
   "id": "563eb7b6",
   "metadata": {},
   "outputs": [
    {
     "data": {
      "text/plain": [
       "['a', 'c', 'e', 'g']"
      ]
     },
     "execution_count": 11,
     "metadata": {},
     "output_type": "execute_result"
    }
   ],
   "source": [
    "liste[::2] # idem"
   ]
  },
  {
   "cell_type": "code",
   "execution_count": 12,
   "id": "1ccdccc6",
   "metadata": {},
   "outputs": [
    {
     "data": {
      "text/plain": [
       "['f', 'e', 'd']"
      ]
     },
     "execution_count": 12,
     "metadata": {},
     "output_type": "execute_result"
    }
   ],
   "source": [
    "liste[5:2:-1] # pas négatif: liste[5], liste[4], liste[3] (pas liste[2])"
   ]
  },
  {
   "cell_type": "code",
   "execution_count": 13,
   "id": "dc0c0eb6",
   "metadata": {},
   "outputs": [
    {
     "data": {
      "text/plain": [
       "['g', 'f', 'e', 'd', 'c', 'b', 'a']"
      ]
     },
     "execution_count": 13,
     "metadata": {},
     "output_type": "execute_result"
    }
   ],
   "source": [
    "liste[::-1] # liste inversée !!"
   ]
  },
  {
   "cell_type": "markdown",
   "id": "283f8c1a",
   "metadata": {},
   "source": [
    "<span style=\"background:yellow;color:black\">Syntaxe :</span>\n",
    "\n",
    "- La syntaxe est `liste[start: stop: pas]` avec `start`, `stop`, et `pas` des entiers relatifs.  \n",
    "- Cette sous-liste contient les éléments d'indices `start`, `start+pas`, `start+2*pas`, ..., et s'arrête **avant** `stop`.    \n",
    "- La valeur par défaut de `start` est $0$, celle de `stop` est `len(liste)`, et celle de `pas` est $1$.\n",
    "\n",
    "<span style=\"background:yellow;color:black\">Attention :</span> La sous-liste\n",
    "`liste[start: stop: pas]` ne contient pas l'élément d'indice `stop`."
   ]
  },
  {
   "cell_type": "markdown",
   "id": "ad10be4a",
   "metadata": {},
   "source": [
    "### Exercice 1\n",
    "\n",
    "> Soit `semaine = [\"lundi\", \"mardi\", \"mercredi\", \"jeudi\", \"vendredi\", \"samedi\", \"dimanche\"]`.\n",
    ">    \n",
    ">- Afficher l'élément `\"mercredi\"` avec `semaine[i]` pour une valeur `i` appropriée.\n",
    ">- En utilisant un accès par tranche, afficher les jours du weekend.\n",
    ">- En utilisant un accès par tranche, afficher la liste `[\"lundi\", \"mercredi\", \"vendredi\", \"dimanche\"]\n",
    "\n",
    "**Solution**"
   ]
  },
  {
   "cell_type": "code",
   "execution_count": 15,
   "id": "245406b8",
   "metadata": {},
   "outputs": [],
   "source": [
    "semaine = [\"lundi\", \"mardi\", \"mercredi\", \"jeudi\", \"vendredi\", \"samedi\", \"dimanche\"]\n",
    "\n"
   ]
  },
  {
   "cell_type": "markdown",
   "id": "6fb15c72",
   "metadata": {},
   "source": [
    "## Accès aux chaines de caractères"
   ]
  },
  {
   "cell_type": "markdown",
   "id": "dcf34198",
   "metadata": {},
   "source": [
    "L'accès aux chaines de caractères par élément ou tranche se fait avec la même syntaxe que l'accès aux listes:"
   ]
  },
  {
   "cell_type": "code",
   "execution_count": 100,
   "id": "42ea36da",
   "metadata": {},
   "outputs": [
    {
     "data": {
      "text/plain": [
       "'R'"
      ]
     },
     "execution_count": 100,
     "metadata": {},
     "output_type": "execute_result"
    }
   ],
   "source": [
    "chaine = \"Rayon X\"\n",
    "chaine[0]"
   ]
  },
  {
   "cell_type": "code",
   "execution_count": 101,
   "id": "3946a456",
   "metadata": {},
   "outputs": [
    {
     "data": {
      "text/plain": [
       "'X'"
      ]
     },
     "execution_count": 101,
     "metadata": {},
     "output_type": "execute_result"
    }
   ],
   "source": [
    "chaine[-1]"
   ]
  },
  {
   "cell_type": "code",
   "execution_count": 102,
   "id": "354c80aa",
   "metadata": {},
   "outputs": [
    {
     "data": {
      "text/plain": [
       "'ayo'"
      ]
     },
     "execution_count": 102,
     "metadata": {},
     "output_type": "execute_result"
    }
   ],
   "source": [
    "chaine[1:4] # chaine[1]+chaine[2]+chaine[3] "
   ]
  },
  {
   "cell_type": "code",
   "execution_count": 103,
   "id": "a33a6e18",
   "metadata": {},
   "outputs": [
    {
     "data": {
      "text/plain": [
       "'n X'"
      ]
     },
     "execution_count": 103,
     "metadata": {},
     "output_type": "execute_result"
    }
   ],
   "source": [
    "chaine[-3:] # chaine[-3]+chaine[-22]+chaine[-1] "
   ]
  },
  {
   "cell_type": "code",
   "execution_count": 104,
   "id": "5367236a",
   "metadata": {},
   "outputs": [
    {
     "data": {
      "text/plain": [
       "'X noyaR'"
      ]
     },
     "execution_count": 104,
     "metadata": {},
     "output_type": "execute_result"
    }
   ],
   "source": [
    "chaine[::-1] # chaine inversée"
   ]
  },
  {
   "cell_type": "markdown",
   "id": "48f0461e",
   "metadata": {},
   "source": [
    "### Exercice 2\n",
    "     \n",
    "> Une séquence d'ADN peut être représenté par une suite de lettres `'A'`, `'C'`, `'G'`, `'T'` qui représentent les nucléotides \"Adénine\", \"Cytosine\", \"Guanine\", \"Thymine\".\n",
    "> Elle est composé de codons de trois nucléotides. \n",
    "> En utilisant l'accès par tranches afficher pour la séquence `ADN` de la cellule ci-dessous\n",
    "> 1. le premier codon; \n",
    "> 2. le deuxième codon;\n",
    "> 3. le dernier codon.     \n"
   ]
  },
  {
   "cell_type": "code",
   "execution_count": 105,
   "id": "e5d85f99",
   "metadata": {},
   "outputs": [],
   "source": [
    "ADN = \"CGATTCGACCGTAATATGCCTACCCGTAATGTGCTCCACCTCTTACGATTGTCAGTATTCCGACGA\""
   ]
  },
  {
   "cell_type": "markdown",
   "id": "def6d9d0",
   "metadata": {},
   "source": [
    "## Représentation graphique\n",
    "\n",
    "Pour faire des représentations graphiques, nous utilisons le module (la bibliothèque) suivante"
   ]
  },
  {
   "cell_type": "code",
   "execution_count": 23,
   "id": "8b5b435d",
   "metadata": {},
   "outputs": [],
   "source": [
    "import matplotlib.pyplot as plt # outils pour les représentations graphiques"
   ]
  },
  {
   "cell_type": "markdown",
   "id": "5d98469a",
   "metadata": {},
   "source": [
    "- Cette commande charge en mémoire le contenu de la bibliothèque `matplotlib.pyplot` sous le nom abrégé `plt`.\n",
    "- Par exemple, pour utiliser la fonction `plot` de cette bibliothèque, on utilise la commande `plt.plot()` qui indique à Python de chercher la commande `plot` dans la bibliothèque `matplotlib.pyplot`."
   ]
  },
  {
   "cell_type": "markdown",
   "id": "8af01386",
   "metadata": {},
   "source": [
    "### Exemple basique\n",
    "\n",
    "Nous souhaitons représenter l'évolution du nombre d'abonnés en milliers à un blog sur la cuisine bretonne de 2014 à 2022\n",
    "\n",
    "| Année   | 2017   | 2018   | 2019    | 2020    | 2021    |  2022  | 2023  |\n",
    "| :-:     | :-: | :-:  | :-:  | :-:  | :-: | :-: |  :-: |    \n",
    "| nombre (en milliers) | 20  | 30    | 50    | 80    |  120 | 150 | 200|\n",
    "\n",
    "- Pour cela, il faut construire la liste des abscisses : `l_x = [2017, 2018, 2019, 2020, 2021, 2022, 2023]`, et la liste des ordonnés `l_y = [20, 30, 50, 80, 120, 150, 200 ]`.   \n",
    "- La fonction (méthode) `plt.plot(l_x, l_y)` relie les points de coordonnés $(2017, 20)$, $(2018, 30)$, ...  par des segments: "
   ]
  },
  {
   "cell_type": "code",
   "execution_count": 17,
   "id": "98fd7536",
   "metadata": {
    "scrolled": false
   },
   "outputs": [
    {
     "data": {
      "image/png": "[encoded data removed]",
      "text/plain": [
       "<Figure size 600x500 with 1 Axes>"
      ]
     },
     "metadata": {},
     "output_type": "display_data"
    }
   ],
   "source": [
    "import matplotlib.pyplot as plt\n",
    "\n",
    "l_x = [2017, 2018, 2019, 2020, 2021, 2022, 2023] # liste des abscisses\n",
    "l_y = [20, 30, 50, 80, 120, 150, 200] # liste des ordonnés\n",
    "plt.figure(figsize=(6, 5)) # définit la taille du graphique\n",
    "plt.plot(l_x, l_y) # relie les points (2017, 20), (2018, 30), ...\n",
    "plt.show() # affiche le graphique"
   ]
  },
  {
   "cell_type": "markdown",
   "id": "1a788d5a",
   "metadata": {},
   "source": [
    "<span style=\"background:yellow;color:black\">Important :</span> `l_x` et `l_y` sont des noms de variables qui peuvent être remplacés pour n'importe quel autre nom, comme par exemple `annee` et `abonnes` :"
   ]
  },
  {
   "cell_type": "code",
   "execution_count": 18,
   "id": "bc77a67a",
   "metadata": {},
   "outputs": [
    {
     "data": {
      "image/png": "[encoded data removed]",
      "text/plain": [
       "<Figure size 600x500 with 1 Axes>"
      ]
     },
     "metadata": {},
     "output_type": "display_data"
    }
   ],
   "source": [
    "# matplotlib.pyplot était déjà importé dans la cellule précédente\n",
    "annee = [2017, 2018, 2019, 2020, 2021, 2022, 2023] # liste des abscisses\n",
    "abonnes = [20, 30, 50, 60, 100, 120, 160] # liste des ordonnés\n",
    "plt.figure(figsize=(6, 5)) # définit la taille du graphique\n",
    "plt.plot(annee, abonnes) # relie les points (2017, 20), (2018, 30), ...\n",
    "plt.show() # affiche le graphique"
   ]
  },
  {
   "cell_type": "markdown",
   "id": "e9b13361",
   "metadata": {},
   "source": [
    "<span style=\"background:yellow;color:black\"> Convention :</span> \n",
    "On place en général la commande qui importe les modules en début du programme."
   ]
  },
  {
   "cell_type": "markdown",
   "id": "969334e5",
   "metadata": {},
   "source": [
    "<span style=\"background:yellow;color:black\">Important :</span> Avec *Basthon*, il faut toujours utiliser `plt.figure(figsize=(...)` (ou au moins `plt.figure()` si on ne veut pas spécifier la taille du graphique). Sinon, certains graphiques se superposent à des graphiques précédents."
   ]
  },
  {
   "cell_type": "markdown",
   "id": "ef00de57",
   "metadata": {},
   "source": [
    "### Exercice 3\n",
    "\n",
    ">Le tableau ci-dessous donne des abondances en nombre d'individus par ml en fonction du temps en jours. Ces données pourraient par exemple décrire la croissance d'une population de *Paramecium aurelia* à 10 degrés celsius dans une solution stérile de peptone protéolysée (1\\% masse/vol). \n",
    ">\n",
    ">| Temps (jours)     | 0   | 3    | 6    | 9    |  12  | \n",
    ">| :-:               | :-: | :-:  | :-:  | :-:  | :-: |     \n",
    ">| Abondance (ind/ml) | 10  | 102    | 1221    | 2435    |  5184  | \n",
    ">\n",
    "> 1. Faites une représentation graphique des abondances en fonction du temps. \n",
    ">> - Pour plus de lisibilité, utiliser `jours = [0, 3, ....]` et `abondances = [10, 102, ...]` et écrire ensuite `plt.plot(jours, abondances)`.        \n",
    ">\n",
    "> 2. Remplacer la commande `plt.plot(jours, abondances)` par `plt.plot(jours, abondances, \"-o\")` et observer comment l'option `-o` modifie le graphique.\n",
    "\n",
    "### Solution: "
   ]
  },
  {
   "cell_type": "code",
   "execution_count": null,
   "id": "aab1a125",
   "metadata": {},
   "outputs": [],
   "source": []
  },
  {
   "cell_type": "markdown",
   "id": "27c77cf9",
   "metadata": {},
   "source": [
    "## Module Numpy"
   ]
  },
  {
   "cell_type": "markdown",
   "id": "d802728b",
   "metadata": {},
   "source": [
    "Les fonctions usuelles comme $\\sin$, $\\cos$, ... sont contenus dans le module `numpy` (et aussi `math`):"
   ]
  },
  {
   "cell_type": "code",
   "execution_count": 38,
   "id": "941d8785",
   "metadata": {},
   "outputs": [
    {
     "name": "stdout",
     "output_type": "stream",
     "text": [
      "3.141592653589793\n",
      "1.0\n"
     ]
    }
   ],
   "source": [
    "import numpy as np # importation de numpy et création d'un alias np\n",
    "print(np.pi) # utilise pi de la bibliothèque numpy\n",
    "print(np.sin(np.pi/2)) # sin(pi)"
   ]
  },
  {
   "cell_type": "markdown",
   "id": "22ca5803",
   "metadata": {},
   "source": [
    "Si on n'utilise qu'un petit nombre de fonctions (méthodes), on peut aussi utiliser"
   ]
  },
  {
   "cell_type": "code",
   "execution_count": 39,
   "id": "ff4aca7c",
   "metadata": {},
   "outputs": [
    {
     "name": "stdout",
     "output_type": "stream",
     "text": [
      "1.2246467991473532e-16\n",
      "-1.0\n"
     ]
    }
   ],
   "source": [
    "from numpy import sin, cos, pi # on n'importe que sin, cos, et pi\n",
    "\n",
    "print(sin(pi)) # vrai valeur est 0; valeur affichée est 1.22... 10^(-16) ~ 0\n",
    "print(cos(pi))"
   ]
  },
  {
   "cell_type": "markdown",
   "id": "e78a9f5c",
   "metadata": {},
   "source": [
    "### Fonctions numériques prédéfinies\n",
    "\n",
    "```py\n",
    "import numpy as np # si le module n'est pas encore importé\n",
    "np.sin(), np.cos(), np.tan()\n",
    "np.sqrt() # racine carrée\n",
    "np.exp() # exponentielle\n",
    "np.log() # ln()\n",
    "np.log10, np.log2() # log base 10, log base 2\n",
    "np.abs() # valeur absolue\n",
    "```"
   ]
  },
  {
   "cell_type": "markdown",
   "id": "234ce915",
   "metadata": {},
   "source": [
    "## Boucle for"
   ]
  },
  {
   "cell_type": "markdown",
   "id": "4e64f0a5",
   "metadata": {},
   "source": [
    "On peut parcourir une liste ou une chaine de caractères avec la syntaxe suivante:"
   ]
  },
  {
   "cell_type": "code",
   "execution_count": 86,
   "id": "2a664098",
   "metadata": {},
   "outputs": [
    {
     "name": "stdout",
     "output_type": "stream",
     "text": [
      "1\n",
      "3\n",
      "5\n"
     ]
    }
   ],
   "source": [
    "liste = [1, 3, 5]\n",
    "for val in liste: # la variable val prend successivement les éléments de liste\n",
    "    print(val)"
   ]
  },
  {
   "cell_type": "code",
   "execution_count": 87,
   "id": "90894f36",
   "metadata": {},
   "outputs": [
    {
     "name": "stdout",
     "output_type": "stream",
     "text": [
      "girafe\n",
      "tigre\n",
      "singe\n",
      "souris\n"
     ]
    }
   ],
   "source": [
    "animaux = [\"girafe\", \"tigre\", \"singe\", \"souris\"]\n",
    "for animal in animaux: # la variable animal prend successivement les éléments de animaux\n",
    "      print(animal)"
   ]
  },
  {
   "cell_type": "markdown",
   "id": "ae89d84f",
   "metadata": {},
   "source": [
    "<span style=\"background:yellow;color:black\">Attention :</span>\n",
    "\n",
    "- Ne pas oublier le caractère `\":\"` à la fin de la ligne débutant par `for` qui indique à *Python* qu'un bloc d'instructions commence.  \n",
    "- Le bloc d'instructions peut contenir plusieurs lignes qui seront toutes exécutés \n",
    "pour chaque itération.   \n",
    "- Ne pas oublier <span style=\"color:red\">l'indentation</span> (décalage du text).\n",
    "Elle est  **indispensable** pour que Python identifie correctement le début et la fin du bloc d'instructions. Utiliser de préférence quatre espaces (ou une tabulation) pour indenter."
   ]
  },
  {
   "cell_type": "markdown",
   "id": "bc984587",
   "metadata": {},
   "source": [
    "### `range`\n",
    "\n",
    "- `range(m, n, p)` permet d'itérer sur l'ensemble des entiers (relatifs) commençant par l'entier $m$, finissant **avant** l'entier $n$, en augmentant d'un pas p.\n",
    "- `range(m, n)` : même chose que `range(m, n, 1)`. Le pas par défaut est $1$. \n",
    "- `range(n)` : même chose que `range(0, m)`. La valeur par défaut de `n` est $1$."
   ]
  },
  {
   "cell_type": "code",
   "execution_count": 83,
   "id": "afcdaa80",
   "metadata": {},
   "outputs": [
    {
     "name": "stdout",
     "output_type": "stream",
     "text": [
      "0\n",
      "1\n",
      "2\n"
     ]
    }
   ],
   "source": [
    "for i in range(0, 3):\n",
    "    print(i)"
   ]
  },
  {
   "cell_type": "code",
   "execution_count": 86,
   "id": "c7d85aa1",
   "metadata": {},
   "outputs": [
    {
     "name": "stdout",
     "output_type": "stream",
     "text": [
      "0\n",
      "1\n",
      "2\n"
     ]
    }
   ],
   "source": [
    "for i in range(3): # idem; 0 est la valeur par défaut\n",
    "    print(i)"
   ]
  },
  {
   "cell_type": "code",
   "execution_count": 91,
   "id": "ef429b60",
   "metadata": {},
   "outputs": [
    {
     "name": "stdout",
     "output_type": "stream",
     "text": [
      "Bonjour\n",
      "Bonjour\n",
      "Bonjour\n"
     ]
    }
   ],
   "source": [
    "for i in range(3): # \n",
    "    print(\"Bonjour\")"
   ]
  },
  {
   "cell_type": "markdown",
   "id": "98671358",
   "metadata": {},
   "source": [
    "<span style=\"background:yellow;color:black\">Attention :</span> `range` n'est pas une liste. Pour transformer `range` en liste, on peut utiliser `list`:"
   ]
  },
  {
   "cell_type": "code",
   "execution_count": 89,
   "id": "5e13ab53",
   "metadata": {},
   "outputs": [
    {
     "data": {
      "text/plain": [
       "[-3, -1, 1, 3, 5, 7]"
      ]
     },
     "execution_count": 89,
     "metadata": {},
     "output_type": "execute_result"
    }
   ],
   "source": [
    "list(range(-3, 9, 2)) "
   ]
  },
  {
   "cell_type": "markdown",
   "id": "39edd43a",
   "metadata": {},
   "source": [
    "### Deux méthodes pour créer une liste"
   ]
  },
  {
   "cell_type": "markdown",
   "id": "8ee2f035",
   "metadata": {},
   "source": [
    "Nous souhaitons créer la liste des carrées de $1, 2, \\ldots, 5$.\n",
    "\n",
    "**Méthode 1 : construction par itération**"
   ]
  },
  {
   "cell_type": "code",
   "execution_count": 97,
   "id": "a753cdba",
   "metadata": {},
   "outputs": [
    {
     "name": "stdout",
     "output_type": "stream",
     "text": [
      "[1, 4, 9, 16, 25]\n"
     ]
    }
   ],
   "source": [
    "l_x = [1, 2, 3, 4, 5] # liste de valeurs\n",
    "\n",
    "l_y = [] # liste vide auquel nous rajoutons les carrés\n",
    "for x in l_x: \n",
    "    l_y.append(x**2) # x**2 est rajouté à la liste l_y\n",
    "print(l_y)"
   ]
  },
  {
   "cell_type": "markdown",
   "id": "f20080ef",
   "metadata": {},
   "source": [
    "### Méthode 2 : liste en compréhension"
   ]
  },
  {
   "cell_type": "code",
   "execution_count": 43,
   "id": "bba30af2",
   "metadata": {},
   "outputs": [
    {
     "name": "stdout",
     "output_type": "stream",
     "text": [
      "[1, 4, 9, 16, 25]\n"
     ]
    }
   ],
   "source": [
    "l_x = [1, 2, 3, 4, 5]\n",
    "\n",
    "l_y = [x**2 for x in l_x] # liste des x**2 pour tout  x in l_x\n",
    "print(l_y)"
   ]
  },
  {
   "cell_type": "markdown",
   "id": "e179ba8d",
   "metadata": {},
   "source": [
    "On aurait pu utiliser `l_x = list(range(1, 6))` qui donne aussi `[1, 2, 3, 4, 5]`"
   ]
  },
  {
   "cell_type": "markdown",
   "id": "1067e92c",
   "metadata": {},
   "source": [
    "### linspace\n",
    "\n",
    "- `np.linspace(a, b, n)` crée la liste des `n` points de `a` à `b` équidistants.  \n",
    "- Si on écrit `np.linspace(a, b)` sans spécifier `n`, alors la valeur par défaut `n=50` est prise"
   ]
  },
  {
   "cell_type": "code",
   "execution_count": 65,
   "id": "84ad5407",
   "metadata": {},
   "outputs": [
    {
     "name": "stdout",
     "output_type": "stream",
     "text": [
      "[1. 2.]\n"
     ]
    }
   ],
   "source": [
    "print(np.linspace(1, 2, 2))"
   ]
  },
  {
   "cell_type": "code",
   "execution_count": 66,
   "id": "9a855ab8",
   "metadata": {},
   "outputs": [
    {
     "name": "stdout",
     "output_type": "stream",
     "text": [
      "[1.   1.25 1.5  1.75 2.  ]\n"
     ]
    }
   ],
   "source": [
    "print(np.linspace(1, 2, 5))"
   ]
  },
  {
   "cell_type": "markdown",
   "id": "63c01f14",
   "metadata": {},
   "source": [
    "### Exercice 4  \n",
    "\n",
    "> 1. Déterminer `l_y`, la liste  des $e^x$ pour $x$ dans `l_x = [-3, -2, -1, 0, 1]`, en utilisant une des deux méthodes ci-dessus.\n",
    "> 2. Adapter le programme de l'exemple basique du début de ce sujet de TP pour faire une représentation graphique des donnés `l_x,l_y`. \n",
    "> 3. Refaites 1. et 2. avec `l_x=np.linspace(-3, 1, 200)`.\n",
    "\n",
    "\n",
    "### Solution :"
   ]
  },
  {
   "cell_type": "code",
   "execution_count": null,
   "id": "0eb9061f",
   "metadata": {},
   "outputs": [],
   "source": []
  },
  {
   "cell_type": "markdown",
   "id": "a5b0fef5",
   "metadata": {},
   "source": [
    "## Définir ses propre fonctions"
   ]
  },
  {
   "cell_type": "code",
   "execution_count": 69,
   "id": "c22cb9ff",
   "metadata": {},
   "outputs": [
    {
     "data": {
      "text/plain": [
       "0.4546487134128409"
      ]
     },
     "execution_count": 69,
     "metadata": {},
     "output_type": "execute_result"
    }
   ],
   "source": [
    "def f(x):\n",
    "    y = np.sin(x)*np.cos(x)\n",
    "    return y\n",
    "\n",
    "f(1)"
   ]
  },
  {
   "cell_type": "markdown",
   "id": "80a8efe0",
   "metadata": {},
   "source": [
    "<span style=\"background:yellow;color:black\">Important :</span>\n",
    "- la fonction n'est exécuté qu'à la ligne 5.\n",
    "- `x` est le paramètre de la fonction `f` qui n'a pas de valeur associée au moment de sa définition (ligne 1).\n",
    "- `f(1)` appelle la fonction avec `x=1` qui retourne la valeur $\\sin(1)\\cos(1)$.\n"
   ]
  },
  {
   "cell_type": "markdown",
   "id": "329db8ff",
   "metadata": {},
   "source": [
    "<span style=\"background:yellow;color:black\">Bien comprendre :</span> Vous n'avez pas accès aux variables internes (locales) de la fonction comme `y`. Donc le programme suivant ne marche pas:"
   ]
  },
  {
   "cell_type": "code",
   "execution_count": 53,
   "id": "0140c5ce",
   "metadata": {},
   "outputs": [
    {
     "ename": "NameError",
     "evalue": "name 'y' is not defined",
     "output_type": "error",
     "traceback": [
      "\u001b[0;31m---------------------------------------------------------------------------\u001b[0m",
      "\u001b[0;31mNameError\u001b[0m                                 Traceback (most recent call last)",
      "\u001b[0;32m/var/folders/8s/x8jdscw11ps_xd11xz22tyk00000gq/T/ipykernel_4170/695778035.py\u001b[0m in \u001b[0;36m<module>\u001b[0;34m\u001b[0m\n\u001b[1;32m      3\u001b[0m     \u001b[0my\u001b[0m \u001b[0;34m=\u001b[0m \u001b[0mnp\u001b[0m\u001b[0;34m.\u001b[0m\u001b[0msin\u001b[0m\u001b[0;34m(\u001b[0m\u001b[0mx\u001b[0m\u001b[0;34m)\u001b[0m\u001b[0;34m*\u001b[0m\u001b[0mnp\u001b[0m\u001b[0;34m.\u001b[0m\u001b[0mcos\u001b[0m\u001b[0;34m(\u001b[0m\u001b[0mx\u001b[0m\u001b[0;34m)\u001b[0m\u001b[0;34m\u001b[0m\u001b[0;34m\u001b[0m\u001b[0m\n\u001b[1;32m      4\u001b[0m     \u001b[0;32mreturn\u001b[0m \u001b[0my\u001b[0m\u001b[0;34m\u001b[0m\u001b[0;34m\u001b[0m\u001b[0m\n\u001b[0;32m----> 5\u001b[0;31m \u001b[0my\u001b[0m\u001b[0;34m\u001b[0m\u001b[0;34m\u001b[0m\u001b[0m\n\u001b[0m",
      "\u001b[0;31mNameError\u001b[0m: name 'y' is not defined"
     ]
    }
   ],
   "source": [
    "x = 1 # ne sert à rien\n",
    "def f(x): # aucune valeur n'est associé à x avant l'appel de la fonction\n",
    "    y = np.sin(x)*np.cos(x)\n",
    "    return y\n",
    "y # pas défini, car on ne peux pas accéder aux variables internes (locales) de la fonction\n",
    "# la fonction f n'était pas exécuté"
   ]
  },
  {
   "cell_type": "markdown",
   "id": "9336ab27",
   "metadata": {},
   "source": [
    "### Modèle simple pour tracer la courbe d'une fonction\n",
    "\n",
    "On souhaite tracer le graphe de la fonction $x\\mapsto\\sin(x)$ sur l'intervalle $[a,b] = [-2\\pi, 2\\pi]$."
   ]
  },
  {
   "cell_type": "code",
   "execution_count": 93,
   "id": "bb342a2d",
   "metadata": {},
   "outputs": [
    {
     "data": {
      "image/png": "[encoded data removed]",
      "text/plain": [
       "<Figure size 800x400 with 1 Axes>"
      ]
     },
     "metadata": {},
     "output_type": "display_data"
    }
   ],
   "source": [
    "import matplotlib.pyplot as plt # il suffit de l'importer dans une seule cellule\n",
    "import numpy as np # mettre les importations en début de la cellule\n",
    "\n",
    "def f(x): # mettre toutes les définitions en haut de la cellule juste après les importations\n",
    "    y = np.arctan(x) # donner ici l'expression qui définit la fonction\n",
    "    return y\n",
    "\n",
    "a, b = -10, 10 # la courbe est tracé sur l'intervalle [a, b];\n",
    "l_x = np.linspace(a, b, 200) # liste des abscisses; modifier si besoin le nombre de points\n",
    "l_y = [f(x) for x in l_x] # liste des ordonnés\n",
    "\n",
    "plt.figure(figsize=(8, 4)) # définit la taille du graphique\n",
    "plt.plot(l_x, l_y) # établit le graphique\n",
    "plt.show() # affiche le graphique"
   ]
  },
  {
   "cell_type": "markdown",
   "id": "783d60b2",
   "metadata": {},
   "source": [
    "### Exercice 5\n",
    "\n",
    "> En adaptant le \"Modèle simple pour tracer la courbe d'une fonction\", représenter sur l'intervalle $[-3, 3]$ la \"cloche de Gauss\" (loi normale centrée réduite) qui est donné par \n",
    "> $$f(x)=\\frac{1}{\\sqrt{2\\pi}} \\exp(-\\frac{1}{2}x^2).$$ \n",
    "\n",
    "**Solution**"
   ]
  },
  {
   "cell_type": "markdown",
   "id": "c62b1c68",
   "metadata": {},
   "source": [
    "### Exercice 6\n",
    "\n",
    ">Afficher les codons (suite de trois lettres consécutifs) de la séquence d'ADN suivante :\n",
    ">\n",
    ">`ADN = \"CGATTCGACCGTAATATGCCTACCCGTAATGTGCTCCACCTCTTACGATTGTCAGTATTCCGACGA\"`\n",
    "> Vous devriez donc afficher `\"CGA\"`, puis `\"TTC\"`, ...\n",
    ">> On pourrait itérer sur `range(...)` qui produit les entiers $0, 3, 6, ...$ et afficher à chaque fois un codon en utilisant un accès par tranches.    \n",
    "\n",
    "**Solution :**"
   ]
  },
  {
   "cell_type": "code",
   "execution_count": 103,
   "id": "1ff704f1",
   "metadata": {},
   "outputs": [],
   "source": [
    "ADN = \"CGATTCGACCGTAATATGCCTACCCGTAATGTGCTCCACCTCTTACGATTGTCAGTATTCCGACGA\"\n",
    "\n"
   ]
  },
  {
   "cell_type": "code",
   "execution_count": null,
   "id": "3601b68a",
   "metadata": {},
   "outputs": [],
   "source": []
  }
 ],
 "metadata": {
  "kernelspec": {
   "display_name": "Python 3 (ipykernel)",
   "language": "python",
   "name": "python3"
  },
  "language_info": {
   "codemirror_mode": {
    "name": "ipython",
    "version": 3
   },
   "file_extension": ".py",
   "mimetype": "text/x-python",
   "name": "python",
   "nbconvert_exporter": "python",
   "pygments_lexer": "ipython3",
   "version": "3.9.7"
  }
 },
 "nbformat": 4,
 "nbformat_minor": 5
}

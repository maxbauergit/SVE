{
 "cells": [
  {
   "cell_type": "markdown",
   "id": "7a5e79c9",
   "metadata": {},
   "source": [
    "<link rel=\"stylesheet\" href=\"https://cdnjs.cloudflare.com/ajax/libs/font-awesome/4.7.0/css/font-awesome.min.css\">"
   ]
  },
  {
   "cell_type": "markdown",
   "id": "3c2febd5",
   "metadata": {},
   "source": [
    "**Nom prénom:**                                                                 \n",
    "**Groupe :**    \n",
    "**Date :**"
   ]
  },
  {
   "cell_type": "markdown",
   "id": "018dbe71",
   "metadata": {},
   "source": [
    "<span style=\"background:yellow;color:black\"> Avant de commencer: </span>\n",
    "\n",
    "- Double cliquer sur la cellule ci-dessus, renseigner votre Nom, prénom, groupe et date. Puis éxécuter (<i class=\"fa fa-play\" aria-hidden=\"true\"></i>) la cellule.\n",
    "- Cliquer sur le nom de ce fichier (en haut de la fenêtre) et remplacer le par \n",
    "TP1-nom-prenom (le vôtre !).         \n",
    "\n",
    "<span style=\"background:yellow;color:black\"> Instructions pour déposer votre compte rendu à la fin du TP</span>\n",
    "\n",
    "- Exporter ce fichier sous forme pdf : faire `Imprimer`, puis `Exporter au format Pdf`.\n",
    "- Déposer le fichier .ipynb et le fichier .pdf dans le dépôt Moodle. Votre nom doit figurer dans le nom des deux fichiers.   \n",
    "- Si vous déposez les deux fichiers dans le \"H:\" dans la salle informatique, vous le retrouvez dans votre \"ENT/Mon Bureau/Espaces documents\"."
   ]
  },
  {
   "cell_type": "markdown",
   "id": "d73bc6e4",
   "metadata": {},
   "source": [
    "<span style=\"background:yellow;color:black\"> Commandes utiles :</span>\n",
    "- Le raccourcis pour <i class=\"fa fa-play\" aria-hidden=\"true\"></i> est `Ctrl+Entrée` sur Windows ou `Ctrl+Retour` sur Mac. Voir <i class=\"fa fa-keyboard-o\"></i> pour d'autre raccourcis.\n",
    "- Pour **annuler une modification** dans une cellule, utilisez `Ctrl+Z`\n",
    "sous Windows et `Commande+Z` sous Mac.     \n",
    "- Pour **insérer** une nouvelle cellule utiliser <i class=\"fa fa-plus\" aria-hidden=\"true\"></i> ou les raccourcis `esc a` et `esc b`.   \n",
    "- Pour **déplacer** une cellule, utiliser <i class=\"fa fa-arrow-up\"></i> et  <i class=\"fa fa-arrow-down\"></i>.\n",
    "- Pour **effacer** une cellule, utiliser <i class=\"fa fa-scissors\"></i>\n",
    "- Pour **interrompre** l'exécution d'une cellule, utiliser <i class=\"fa fa-square\" aria-hidden=\"true\"></i>.\n",
    "\n",
    "<span style=\"background:yellow;color:black\"> Astuce :</span> Utiliser `Esc L` pour afficher le numéro des lignes pour plus facilement localiser les erreurs de syntaxe."
   ]
  },
  {
   "cell_type": "markdown",
   "id": "fb4a4af8",
   "metadata": {},
   "source": [
    "# <center> TP 2 - Listes, boucles for, graphiques, numpy </center>"
   ]
  },
  {
   "cell_type": "markdown",
   "id": "be9a8430",
   "metadata": {},
   "source": [
    "## Listes"
   ]
  },
  {
   "cell_type": "markdown",
   "id": "7718a32f",
   "metadata": {},
   "source": [
    "Une <span style=\"color:red\">liste</span> est une structure de données qui contient une série de valeurs séparées par des virgules et entourées par des crochets :"
   ]
  },
  {
   "cell_type": "code",
   "execution_count": null,
   "id": "6ef2550c",
   "metadata": {},
   "outputs": [],
   "source": [
    "[\"lundi\", \"mardi\", \"mercredi\"]"
   ]
  },
  {
   "cell_type": "markdown",
   "id": "62755d4d",
   "metadata": {},
   "source": [
    "Python autorise la construction de listes contenant des valeurs de types différents"
   ]
  },
  {
   "cell_type": "code",
   "execution_count": null,
   "id": "17f4b022",
   "metadata": {},
   "outputs": [],
   "source": [
    "[\"lundi\", \"mardi\", \"mercredi\", 2024]"
   ]
  },
  {
   "cell_type": "code",
   "execution_count": null,
   "id": "6f41fd38",
   "metadata": {},
   "outputs": [],
   "source": [
    "[] # liste vide"
   ]
  },
  {
   "cell_type": "markdown",
   "id": "3fcadfab",
   "metadata": {},
   "source": [
    "### Concaténation\n",
    "\n",
    "Comme pour les chaines de caractères, on peut concaténér des listes avec les opérateurs `+` et `*` "
   ]
  },
  {
   "cell_type": "code",
   "execution_count": null,
   "id": "23708134",
   "metadata": {},
   "outputs": [],
   "source": [
    "[\"a\", 2, \"b\"] + [\"c\", \"d\"]"
   ]
  },
  {
   "cell_type": "code",
   "execution_count": null,
   "id": "980ee63a",
   "metadata": {},
   "outputs": [],
   "source": [
    "[1, 2, 3] + [1, 2, 3]"
   ]
  },
  {
   "cell_type": "code",
   "execution_count": null,
   "id": "9c8c24bd",
   "metadata": {},
   "outputs": [],
   "source": [
    "2*[1, 2, 3] # idem"
   ]
  },
  {
   "cell_type": "code",
   "execution_count": null,
   "id": "eba71d39",
   "metadata": {},
   "outputs": [],
   "source": [
    "6*[0] # peut servir pour initialiser une liste"
   ]
  },
  {
   "cell_type": "code",
   "execution_count": null,
   "id": "50e5a39d",
   "metadata": {},
   "outputs": [],
   "source": [
    "[] # liste vide; peut servir pour initialiser une liste auquelle on rajoute des éléments"
   ]
  },
  {
   "cell_type": "markdown",
   "id": "71c5ce4b",
   "metadata": {},
   "source": [
    "Pour rajouter un élément, on peut aussi utiliser `append` (qui n'existe pas pour les `string`)"
   ]
  },
  {
   "cell_type": "code",
   "execution_count": null,
   "id": "db3ef694",
   "metadata": {},
   "outputs": [],
   "source": [
    "list1 = [1, 2, 3]\n",
    "list1.append(4)\n",
    "list1"
   ]
  },
  {
   "cell_type": "markdown",
   "id": "d5fd0a4f",
   "metadata": {},
   "source": [
    "### Accès aux éléments"
   ]
  },
  {
   "cell_type": "markdown",
   "id": "18173dd4",
   "metadata": {},
   "source": [
    "On peut appeler les éléments d'une liste par leur position. Ce numéro est appelé\n",
    "<span style=\"color:red\">indice (ou index)</span> de la liste.   \n",
    "<span style=\"background:yellow;color:black\">Attention :</span> On compte à partir de 0."
   ]
  },
  {
   "cell_type": "code",
   "execution_count": null,
   "id": "9822ee87",
   "metadata": {},
   "outputs": [],
   "source": [
    "liste = [\"a\", \"b\", \"c\", \"d\", \"e\", \"f\", \"g\"]\n",
    "liste[0] # premier élément "
   ]
  },
  {
   "cell_type": "code",
   "execution_count": null,
   "id": "da0fed55",
   "metadata": {},
   "outputs": [],
   "source": [
    "liste[1] # deuxième élément"
   ]
  },
  {
   "cell_type": "code",
   "execution_count": null,
   "id": "9cee4d3d",
   "metadata": {},
   "outputs": [],
   "source": [
    "liste[-1] # dernier élément"
   ]
  },
  {
   "cell_type": "code",
   "execution_count": null,
   "id": "ca03e4fb",
   "metadata": {},
   "outputs": [],
   "source": [
    "liste[-2] # avant dernier élément"
   ]
  },
  {
   "cell_type": "markdown",
   "id": "1c98bc4e",
   "metadata": {},
   "source": [
    "### Accès par tranche"
   ]
  },
  {
   "cell_type": "code",
   "execution_count": null,
   "id": "ae3e1f54",
   "metadata": {},
   "outputs": [],
   "source": [
    "liste = [\"a\", \"b\", \"c\", \"d\", \"e\", \"f\", \"g\"]\n",
    "liste[0:2] # lettres d'indices 0, 1, mais pas 2"
   ]
  },
  {
   "cell_type": "code",
   "execution_count": null,
   "id": "59b8ec24",
   "metadata": {},
   "outputs": [],
   "source": [
    "liste[:2] # idem; si omis, 0 est la valeur initial par défaut"
   ]
  },
  {
   "cell_type": "code",
   "execution_count": null,
   "id": "72259cc7",
   "metadata": {},
   "outputs": [],
   "source": [
    "liste[4: len(liste)] # tous les lettres à partir de l'indice 4 (5ème élément)"
   ]
  },
  {
   "cell_type": "code",
   "execution_count": null,
   "id": "02f7ec88",
   "metadata": {},
   "outputs": [],
   "source": [
    "liste[4:] # idem"
   ]
  },
  {
   "cell_type": "code",
   "execution_count": null,
   "id": "cafae65d",
   "metadata": {},
   "outputs": [],
   "source": [
    "liste[-2:] # les dernier deux lettres : liste[-2], liste[-1]"
   ]
  },
  {
   "cell_type": "code",
   "execution_count": null,
   "id": "f321b23b",
   "metadata": {},
   "outputs": [],
   "source": [
    "liste[0:len(liste):2] # du début à la fin une lettre sur deux"
   ]
  },
  {
   "cell_type": "code",
   "execution_count": null,
   "id": "563eb7b6",
   "metadata": {},
   "outputs": [],
   "source": [
    "liste[::2] # idem"
   ]
  },
  {
   "cell_type": "code",
   "execution_count": null,
   "id": "1ccdccc6",
   "metadata": {},
   "outputs": [],
   "source": [
    "liste[5:2:-1] # pas négatif: liste[5], liste[4], liste[3] (pas liste[2])"
   ]
  },
  {
   "cell_type": "code",
   "execution_count": null,
   "id": "dc0c0eb6",
   "metadata": {},
   "outputs": [],
   "source": [
    "liste[::-1] # liste inversée !!"
   ]
  },
  {
   "cell_type": "markdown",
   "id": "283f8c1a",
   "metadata": {},
   "source": [
    "<span style=\"background:yellow;color:black\">Syntaxe :</span>\n",
    "\n",
    "- La syntaxe est `liste[start: stop: pas]` avec `start`, `stop`, et `pas` des entiers relatifs.  \n",
    "- Cette sous-liste contient les éléments d'indices `start`, `start+pas`, `start+2*pas`, ..., et s'arrête **avant** `stop`.    \n",
    "- La valeur par défaut de `start` est $0$, celle de `stop` est `len(liste)`, et celle de `pas` est $1$.\n",
    "\n",
    "<span style=\"background:yellow;color:black\">Attention :</span> La sous-liste\n",
    "`liste[start: stop: pas]` ne contient pas l'élément d'indice `stop`."
   ]
  },
  {
   "cell_type": "markdown",
   "id": "ad10be4a",
   "metadata": {},
   "source": [
    "### Exercice 1\n",
    "\n",
    "> Soit `semaine = [\"lundi\", \"mardi\", \"mercredi\", \"jeudi\", \"vendredi\", \"samedi\", \"dimanche\"]`.\n",
    ">    \n",
    ">- Afficher l'élément `\"mercredi\"` avec `semaine[i]` pour une valeur `i` appropriée.\n",
    ">- En utilisant un accès par tranche avec des indices négatifs, afficher les jours du weekend.\n",
    ">- En utilisant un accès par tranche, afficher la liste `[\"lundi\", \"mercredi\", \"vendredi\", \"dimanche\"]` (un jour sur deux).\n",
    ">- Afficher la liste `semaine` avec éléments inversés, donc `[\"dimanche\", \"samedi\", ..., \"lundi\"]`\n",
    "\n",
    "**Solution**"
   ]
  },
  {
   "cell_type": "code",
   "execution_count": null,
   "id": "57f4d394",
   "metadata": {},
   "outputs": [],
   "source": [
    "semaine = [\"lundi\", \"mardi\", \"mercredi\", \"jeudi\", \"vendredi\", \"samedi\", \"dimanche\"]\n"
   ]
  },
  {
   "cell_type": "markdown",
   "id": "6fb15c72",
   "metadata": {},
   "source": [
    "## Accès aux chaines de caractères"
   ]
  },
  {
   "cell_type": "markdown",
   "id": "dcf34198",
   "metadata": {},
   "source": [
    "L'accès aux chaines de caractères par élément ou tranche se fait avec la même syntaxe que l'accès aux listes:"
   ]
  },
  {
   "cell_type": "code",
   "execution_count": null,
   "id": "42ea36da",
   "metadata": {},
   "outputs": [],
   "source": [
    "chaine = \"Rayon X\"\n",
    "chaine[0]"
   ]
  },
  {
   "cell_type": "code",
   "execution_count": null,
   "id": "3946a456",
   "metadata": {},
   "outputs": [],
   "source": [
    "chaine[-1]"
   ]
  },
  {
   "cell_type": "code",
   "execution_count": null,
   "id": "354c80aa",
   "metadata": {},
   "outputs": [],
   "source": [
    "chaine[1:4] # chaine[1]+chaine[2]+chaine[3] "
   ]
  },
  {
   "cell_type": "code",
   "execution_count": null,
   "id": "a33a6e18",
   "metadata": {},
   "outputs": [],
   "source": [
    "chaine[-3:] # chaine[-3]+chaine[-22]+chaine[-1] "
   ]
  },
  {
   "cell_type": "code",
   "execution_count": null,
   "id": "5367236a",
   "metadata": {},
   "outputs": [],
   "source": [
    "chaine[::-1] # chaine inversée"
   ]
  },
  {
   "cell_type": "markdown",
   "id": "def6d9d0",
   "metadata": {},
   "source": [
    "## Représentation graphique\n",
    "\n",
    "Pour faire des représentations graphiques, nous utilisons le module (la bibliothèque) suivante"
   ]
  },
  {
   "cell_type": "code",
   "execution_count": null,
   "id": "8b5b435d",
   "metadata": {},
   "outputs": [],
   "source": [
    "import matplotlib.pyplot as plt # outils pour les représentations graphiques"
   ]
  },
  {
   "cell_type": "markdown",
   "id": "5d98469a",
   "metadata": {},
   "source": [
    "- Cette commande charge en mémoire le contenu de la bibliothèque `matplotlib.pyplot` sous le nom abrégé `plt`.\n",
    "- Par exemple, pour utiliser la fonction `plot` de cette bibliothèque, on utilise la commande `plt.plot()` qui indique à Python de chercher la commande `plot` dans la bibliothèque `matplotlib.pyplot`."
   ]
  },
  {
   "cell_type": "markdown",
   "id": "8af01386",
   "metadata": {},
   "source": [
    "### Exemple basique du nombre d'abonnés à un blog\n",
    "\n",
    "Nous souhaitons représenter l'évolution du nombre d'abonnés en milliers à un blog sur la cuisine bretonne de 2014 à 2023\n",
    "\n",
    "| Année   | 2017   | 2018   | 2019    | 2020    | 2021    |  2022  | 2023  |\n",
    "| :-:     | :-: | :-:  | :-:  | :-:  | :-: | :-: |  :-: |    \n",
    "| nombre (en milliers) | 20  | 30    | 50    | 60    |  100 | 120 | 160|\n",
    "\n",
    "- Pour cela, il faut construire la liste des abscisses : `l_x = [2017, 2018, 2019, 2020, 2021, 2022, 2023]`, et la liste des ordonnés `l_y = [20, 30, 50, 60, 100, 120, 160 ]`.   \n",
    "- La fonction (méthode) `plt.plot(l_x, l_y)` relie les points de coordonnés $(2017, 20)$, $(2018, 30)$, ...  par des segments: "
   ]
  },
  {
   "cell_type": "code",
   "execution_count": null,
   "id": "98fd7536",
   "metadata": {
    "scrolled": false
   },
   "outputs": [],
   "source": [
    "import matplotlib.pyplot as plt\n",
    "\n",
    "plt.figure(figsize=(6, 5)) # définit la taille du graphique\n",
    "\n",
    "l_x = [2017, 2018, 2019, 2020, 2021, 2022, 2023] # liste des abscisses\n",
    "l_y = [20, 30, 50, 60, 100, 120, 160] # liste des ordonnés\n",
    "plt.plot(l_x, l_y) # crée le graphique\n",
    "\n",
    "plt.show() # affiche le graphique"
   ]
  },
  {
   "cell_type": "markdown",
   "id": "1a788d5a",
   "metadata": {},
   "source": [
    "<span style=\"background:yellow;color:black\">Important :</span> `l_x` et `l_y` sont des noms de variables qui peuvent être remplacés pour n'importe quel autre nom, comme par exemple `annee` et `abonnes`. On écrit alors `plt.plot(annee, abonnes)` :"
   ]
  },
  {
   "cell_type": "code",
   "execution_count": null,
   "id": "bc77a67a",
   "metadata": {},
   "outputs": [],
   "source": [
    "# matplotlib.pyplot était déjà importé dans la cellule précédente\n",
    "plt.figure(figsize=(6, 5)) \n",
    "\n",
    "annee = [2017, 2018, 2019, 2020, 2021, 2022, 2023] # au lieu de l_x\n",
    "abonnes = [20, 30, 50, 60, 100, 120, 160] # au lieu de l_y\n",
    "plt.plot(annee, abonnes)\n",
    "\n",
    "plt.show() "
   ]
  },
  {
   "cell_type": "markdown",
   "id": "e9b13361",
   "metadata": {},
   "source": [
    "<span style=\"background:yellow;color:black\"> Convention :</span> \n",
    "On place en général la commande qui importe les modules en début du programme."
   ]
  },
  {
   "cell_type": "markdown",
   "id": "d743b921",
   "metadata": {},
   "source": [
    "<span style=\"background:yellow;color:black\">Important :</span> Avec *Basthon*, il faut toujours utiliser `plt.figure(figsize=(...)` (ou au moins `plt.figure()` si on ne veut pas spécifier la taille du graphique). Sinon, certains graphiques se superposent à des graphiques précédents."
   ]
  },
  {
   "cell_type": "markdown",
   "id": "ef00de57",
   "metadata": {},
   "source": [
    "### Exercice 2\n",
    "\n",
    ">Le tableau ci-dessous donne des abondances en nombre d'individus par ml en fonction du temps en jours. Ces données pourraient par exemple décrire la croissance d'une population de *Paramecium aurelia* à 10 degrés celsius dans une solution stérile de peptone protéolysée (1\\% masse/vol). \n",
    ">\n",
    ">| Temps (jours)     | 0   | 3    | 6    | 9    |  12  | \n",
    ">| :-:               | :-: | :-:  | :-:  | :-:  | :-: |     \n",
    ">| Abondance (ind/ml) | 10  | 102    | 1221    | 2435    |  5184  | \n",
    ">\n",
    "> 1. Faites une représentation graphique des abondances en fonction du temps. \n",
    ">> - Pour rendre le programme plus lisibilité, utiliser `jours = [0, 3, ....]` et `abondances = [10, 102, ...]` et écrire ensuite `plt.plot(jours, abondances)`.        \n",
    ">\n",
    "> 2. Remplacer la commande `plt.plot(jours, abondances)` par `plt.plot(jours, abondances, \"-o\")` et observer comment l'option `-o` modifie le graphique.\n",
    "\n",
    "### Solution: "
   ]
  },
  {
   "cell_type": "code",
   "execution_count": null,
   "id": "31ff24fe",
   "metadata": {},
   "outputs": [],
   "source": []
  },
  {
   "cell_type": "markdown",
   "id": "27c77cf9",
   "metadata": {},
   "source": [
    "## Module Numpy"
   ]
  },
  {
   "cell_type": "markdown",
   "id": "d802728b",
   "metadata": {},
   "source": [
    "Les fonctions usuelles comme $\\sin$, $\\cos$, ... sont contenus dans le module `numpy` (et aussi `math`):"
   ]
  },
  {
   "cell_type": "code",
   "execution_count": null,
   "id": "941d8785",
   "metadata": {},
   "outputs": [],
   "source": [
    "import numpy as np # importation de numpy et création d'un alias np\n",
    "print(np.pi) # utilise pi de la bibliothèque numpy\n",
    "print(np.sin(np.pi/2)) # sin(pi/2)"
   ]
  },
  {
   "cell_type": "markdown",
   "id": "22ca5803",
   "metadata": {},
   "source": [
    "Si on n'utilise qu'un petit nombre de fonctions (méthodes), on peut aussi utiliser"
   ]
  },
  {
   "cell_type": "code",
   "execution_count": null,
   "id": "ff4aca7c",
   "metadata": {},
   "outputs": [],
   "source": [
    "from numpy import sin, cos, pi # on n'importe que sin, cos, et pi\n",
    "\n",
    "print(sin(pi)) # vrai valeur est 0; valeur affichée est 1.22... 10^(-16) ~ 0\n",
    "print(cos(pi))"
   ]
  },
  {
   "cell_type": "markdown",
   "id": "e78a9f5c",
   "metadata": {},
   "source": [
    "### Fonctions numériques prédéfinies\n",
    "\n",
    "```py\n",
    "import numpy as np # suffit de l'importer dans une seule cellule\n",
    "np.sin(), np.cos(), np.tan()\n",
    "np.sqrt() # racine carrée\n",
    "np.exp() # exponentielle\n",
    "np.log() # ln()\n",
    "np.log10, np.log2() # log base 10, log base 2\n",
    "np.abs() # valeur absolue\n",
    "np.arctan(), np.arcsin()\n",
    "```"
   ]
  },
  {
   "cell_type": "markdown",
   "id": "234ce915",
   "metadata": {},
   "source": [
    "## Boucle for"
   ]
  },
  {
   "cell_type": "markdown",
   "id": "4e64f0a5",
   "metadata": {},
   "source": [
    "On peut parcourir une liste ou une chaine de caractères avec la syntaxe suivante:"
   ]
  },
  {
   "cell_type": "code",
   "execution_count": null,
   "id": "2a664098",
   "metadata": {},
   "outputs": [],
   "source": [
    "liste = [1, 3, 5]\n",
    "for val in liste: # la variable val prend successivement les éléments de liste\n",
    "    print(val)"
   ]
  },
  {
   "cell_type": "code",
   "execution_count": null,
   "id": "90894f36",
   "metadata": {},
   "outputs": [],
   "source": [
    "animaux = [\"girafe\", \"tigre\", \"singe\", \"souris\"]\n",
    "for animal in animaux: # la variable animal prend successivement les éléments de animaux\n",
    "      print(animal)"
   ]
  },
  {
   "cell_type": "code",
   "execution_count": null,
   "id": "161ee18c",
   "metadata": {},
   "outputs": [],
   "source": [
    "ADN = \"CGATTC\"\n",
    "for base in ADN:\n",
    "    print(base)"
   ]
  },
  {
   "cell_type": "markdown",
   "id": "ae89d84f",
   "metadata": {},
   "source": [
    "<span style=\"background:yellow;color:black\">Attention :</span>\n",
    "\n",
    "- Ne pas oublier le caractère `\":\"` à la fin de la ligne débutant par `for` qui indique à *Python* qu'un bloc d'instructions commence.  \n",
    "- Le bloc d'instructions peut contenir plusieurs lignes qui seront toutes exécutés \n",
    "pour chaque itération.   \n",
    "- Ne pas oublier <span style=\"color:red\">l'indentation</span> (décalage du text).\n",
    "Elle est  **indispensable** pour que Python identifie correctement le début et la fin du bloc d'instructions. Utiliser de préférence quatre espaces (ou une tabulation) pour indenter."
   ]
  },
  {
   "cell_type": "markdown",
   "id": "2712961b",
   "metadata": {},
   "source": [
    "### `range`\n",
    "\n",
    "- `range(m, n, p)` permet d'itérer sur l'ensemble des entiers (relatifs) commençant par l'entier $m$, finissant **avant** l'entier $n$, en augmentant d'un pas p.\n",
    "- `range(m, n)` : même chose que `range(m, n, 1)`. Le pas par défaut est $1$. \n",
    "- `range(n)` : même chose que `range(0, m)`. La valeur par défaut de `n` est $1$."
   ]
  },
  {
   "cell_type": "code",
   "execution_count": null,
   "id": "548cfa0d",
   "metadata": {},
   "outputs": [],
   "source": [
    "for i in range(0, 3):\n",
    "    print(i)"
   ]
  },
  {
   "cell_type": "code",
   "execution_count": null,
   "id": "47d5272a",
   "metadata": {},
   "outputs": [],
   "source": [
    "for i in range(3): # idem; 0 est la valeur par défaut\n",
    "    print(i)"
   ]
  },
  {
   "cell_type": "code",
   "execution_count": null,
   "id": "f1bcabb4",
   "metadata": {},
   "outputs": [],
   "source": [
    "for i in range(3): # \n",
    "    print(\"Bonjour\")"
   ]
  },
  {
   "cell_type": "markdown",
   "id": "c0c7275c",
   "metadata": {},
   "source": [
    "<span style=\"background:yellow;color:black\">Attention :</span> `range` n'est pas une liste. Pour transformer `range` en liste, on peut utiliser `list`:"
   ]
  },
  {
   "cell_type": "code",
   "execution_count": null,
   "id": "b6aaae0a",
   "metadata": {},
   "outputs": [],
   "source": [
    "list(range(-3, 9, 2)) "
   ]
  },
  {
   "cell_type": "markdown",
   "id": "7649afd2",
   "metadata": {},
   "source": [
    "Le pas peut être négatif:"
   ]
  },
  {
   "cell_type": "code",
   "execution_count": null,
   "id": "2e03a163",
   "metadata": {
    "scrolled": true
   },
   "outputs": [],
   "source": [
    "list(range(30, 25, -1)) # 25 exclu, donc 26 est la dernière valeur"
   ]
  },
  {
   "cell_type": "markdown",
   "id": "39edd43a",
   "metadata": {},
   "source": [
    "### Deux méthodes pour créer une liste"
   ]
  },
  {
   "cell_type": "markdown",
   "id": "8ee2f035",
   "metadata": {},
   "source": [
    "Nous souhaitons créer la liste  $1^2, 2^2, \\ldots, 5^2$.\n",
    "\n",
    "**Méthode 1 : construction par itération**"
   ]
  },
  {
   "cell_type": "code",
   "execution_count": null,
   "id": "a753cdba",
   "metadata": {},
   "outputs": [],
   "source": [
    "l_x = [1, 2, 3, 4, 5] # liste de valeurs\n",
    "\n",
    "l_y = [] # liste vide auquel nous rajoutons les carrés\n",
    "for x in l_x: \n",
    "    l_y.append(x**2) # x**2 est rajouté à la liste l_y\n",
    "print(l_y)"
   ]
  },
  {
   "cell_type": "markdown",
   "id": "f20080ef",
   "metadata": {},
   "source": [
    "### Méthode 2 : liste en compréhension"
   ]
  },
  {
   "cell_type": "code",
   "execution_count": null,
   "id": "bba30af2",
   "metadata": {},
   "outputs": [],
   "source": [
    "l_x = [1, 2, 3, 4, 5]\n",
    "\n",
    "l_y = [x**2 for x in l_x] # liste des x**2 pour tout  x in l_x\n",
    "print(l_y)"
   ]
  },
  {
   "cell_type": "markdown",
   "id": "35c0bb80",
   "metadata": {},
   "source": [
    "On aurait pu utiliser `l_x = list(range(1, 6))` qui donne aussi `[1, 2, 3, 4, 5]`"
   ]
  },
  {
   "cell_type": "markdown",
   "id": "d7ad40f0",
   "metadata": {},
   "source": [
    "### linspace\n",
    "\n",
    "- `np.linspace(a, b, n)` crée la liste des `n` points de `a` à `b` équidistants.  \n",
    "- Si on écrit `np.linspace(a, b)` sans spécifier `n`, alors la valeur par défaut `n=50` est prise"
   ]
  },
  {
   "cell_type": "code",
   "execution_count": null,
   "id": "242662f4",
   "metadata": {},
   "outputs": [],
   "source": [
    "print(np.linspace(1, 2, 2))"
   ]
  },
  {
   "cell_type": "code",
   "execution_count": null,
   "id": "2d9ad065",
   "metadata": {},
   "outputs": [],
   "source": [
    "print(np.linspace(1, 2, 5))"
   ]
  },
  {
   "cell_type": "markdown",
   "id": "e7d5b8c7",
   "metadata": {},
   "source": [
    "### Exercice 3  \n",
    "\n",
    "> 1. Déterminer `l_y`, la liste  des $e^x$ pour $x$ dans `l_x = [-3, -2, -1, 0, 1]`, en utilisant une des deux méthodes ci-dessus.   \n",
    "> Puis, adapter le programme de l'\"exemple basique des abonnées à un blog\" pour faire une représentation graphique des donnés `l_x,l_y` avec `plt.plot(l_x, l_y)`. \n",
    "> 3. Dans un nouveau graphique, reprenez le programme de 1., mais remplaçer `l_x = [-3, -2, -1, 0, 1]` par `l_x=np.linspace(-3, 1, 200)`.\n",
    "\n",
    "\n",
    "**Solution de la question 1 :**"
   ]
  },
  {
   "cell_type": "code",
   "execution_count": null,
   "id": "aeb90b97",
   "metadata": {},
   "outputs": [],
   "source": []
  },
  {
   "cell_type": "markdown",
   "id": "0d9a010e",
   "metadata": {},
   "source": [
    "**Solution de la question 2 :**"
   ]
  },
  {
   "cell_type": "code",
   "execution_count": null,
   "id": "3bc43d84",
   "metadata": {},
   "outputs": [],
   "source": []
  },
  {
   "cell_type": "markdown",
   "id": "20c0087a",
   "metadata": {},
   "source": [
    "## Définir ses propre fonctions\n",
    "\n",
    "Pour définir une fonction comme par exemple $x\\mapsto\\sin(x)\\cos(x)$:"
   ]
  },
  {
   "cell_type": "code",
   "execution_count": null,
   "id": "3afe3d23",
   "metadata": {},
   "outputs": [],
   "source": [
    "def f(x):\n",
    "    return np.sin(x)*np.cos(x) # retourne sin(x)cos(x)\n",
    "\n",
    "f(1)"
   ]
  },
  {
   "cell_type": "markdown",
   "id": "281aa96b",
   "metadata": {},
   "source": [
    "<span style=\"background:yellow;color:black\">Important :</span>\n",
    "- la fonction `f(x)` n'est exécuté qu'à la ligne 4.\n",
    "- `x` est le paramètre de la fonction `f` qui n'a pas de valeur associée au moment de sa définition (ligne 1).\n",
    "- `f(1)` appelle la fonction avec `x=1` qui retourne la valeur $\\sin(1)\\cos(1)$.\n"
   ]
  },
  {
   "cell_type": "markdown",
   "id": "18e167a2",
   "metadata": {},
   "source": [
    "On peut aussi écrire:"
   ]
  },
  {
   "cell_type": "code",
   "execution_count": null,
   "id": "af3aa9fa",
   "metadata": {},
   "outputs": [],
   "source": [
    "def f(x):\n",
    "    y = np.sin(x)*np.cos(x)\n",
    "    return y\n",
    "\n",
    "f(1)"
   ]
  },
  {
   "cell_type": "markdown",
   "id": "77be88b3",
   "metadata": {},
   "source": [
    "<span style=\"background:yellow;color:black\">Bien comprendre :</span> Vous n'avez pas accès aux variables internes (locales) de la fonction comme `y`. Donc le programme suivant ne marche pas:"
   ]
  },
  {
   "cell_type": "code",
   "execution_count": null,
   "id": "f58976db",
   "metadata": {},
   "outputs": [],
   "source": [
    "x = 1 # ne sert à rien\n",
    "def f(x): # aucune valeur n'est associé à x avant l'appel de la fonction\n",
    "    y = np.sin(x)*np.cos(x)\n",
    "    return y\n",
    "y # pas défini, car on ne peux pas accéder aux variables internes (locales) de la fonction\n",
    "# la fonction f n'était pas exécuté"
   ]
  },
  {
   "cell_type": "markdown",
   "id": "495d0192",
   "metadata": {},
   "source": [
    "### Modèle simple pour tracer la courbe d'une fonction\n",
    "\n",
    "On souhaite tracer le graphe de la fonction $x\\mapsto\\arctan(x)$ sur l'intervalle $[a,b] = [-10, 10]$."
   ]
  },
  {
   "cell_type": "code",
   "execution_count": null,
   "id": "dd4db1d0",
   "metadata": {},
   "outputs": [],
   "source": [
    "import matplotlib.pyplot as plt # il suffit de l'importer dans une seule cellule\n",
    "import numpy as np # mettre les importations en début de la cellule\n",
    "\n",
    "def f(x): # mettre toutes les définitions en haut de la cellule juste après les importations\n",
    "    y = np.arctan(x) # donner ici l'expression qui définit la fonction\n",
    "    return y\n",
    "\n",
    "plt.figure(figsize=(8, 4)) # définit la taille du graphique\n",
    "\n",
    "a, b = -10, 10 # la courbe est tracé sur l'intervalle [a, b] = [-10, 10];\n",
    "l_x = np.linspace(a, b, 200) # liste des abscisses; modifier si besoin le nombre de points\n",
    "l_y = [f(x) for x in l_x] # liste des ordonnés\n",
    "plt.plot(l_x, l_y) # construit le graphique\n",
    "\n",
    "plt.show() # affiche le graphique"
   ]
  },
  {
   "cell_type": "markdown",
   "id": "27908631",
   "metadata": {},
   "source": [
    "### Exercice 4\n",
    "\n",
    "> En adaptant le \"Modèle simple pour tracer la courbe d'une fonction\", représenter sur l'intervalle $[-10, 10]$ la courbe du sinus cardinal (normalisé) qui est définie par\n",
    "> $$f(x)=\\frac{1}{\\pi x} \\sin(\\pi x).$$ \n",
    "> Notons que $f$ n'est pas définie en $0$, mais le graphe de la fonction sugère que ...\n",
    "\n",
    "**Solution**"
   ]
  },
  {
   "cell_type": "code",
   "execution_count": null,
   "id": "ce09cb38",
   "metadata": {},
   "outputs": [],
   "source": []
  },
  {
   "cell_type": "markdown",
   "id": "6f4936dd",
   "metadata": {},
   "source": [
    "## Diagramme en bâtons"
   ]
  },
  {
   "cell_type": "markdown",
   "id": "6374f230",
   "metadata": {},
   "source": [
    "### Exemple (sans options): popularité des sports\n",
    "\n",
    "Si on mesure la popularité des sports en France par le nombre de licenciés/licenciées (exprimés en 1000), on a\n",
    "\n",
    "| football  | tennis   | équitation   | basket    | judo  |\n",
    "| :-:     | :-: | :-:  | :-:  | :-:  |     \n",
    "|2200  | 1000  | 670    | 600    | 550|\n",
    "\n",
    "Pour représenter ces donnés par un diagramme en bâtons, on peut utiliser:"
   ]
  },
  {
   "cell_type": "code",
   "execution_count": null,
   "id": "a95ae2d9",
   "metadata": {},
   "outputs": [],
   "source": [
    "import matplotlib.pyplot as plt\n",
    "\n",
    "plt.figure(figsize=(8, 4))\n",
    "sport = ['football', 'tennis', 'équitation', 'basket', 'judo']\n",
    "effectif = [2200, 1000, 670, 600, 550]\n",
    "\n",
    "plt.bar(sport, effectif, width=0.5, color=\"blue\") # diagramme en bâtons; width = largeur rectangles\n",
    "\n",
    "plt.show()"
   ]
  },
  {
   "cell_type": "markdown",
   "id": "dd23f592",
   "metadata": {},
   "source": [
    "<span style=\"background:yellow;color:black\">Erreur fréquente :</span> \n",
    "- Si vous exécutez la cellule précédente avec `effectif = [2200, 1000, 670, 600]` (un élément de la liste manque), vous allez obtenir le message d'erreur\n",
    "```py\n",
    "ValueError: shape mismatch: objects cannot be broadcast to a single shape\n",
    "```\n",
    "- Ceci veut dire que les listes (\"objets\") n'ont pas la même longueur (\"shape\"). Il y a un \"shape mismatch\", donc des longeurs incompatibles. \n",
    "- Pour vérifier, vous pouvez afficher `len(sport)` et `len(effectif)`, ou alors utiliser `len(sport) == len(effectif)` qui devrait être `True`."
   ]
  },
  {
   "cell_type": "markdown",
   "id": "ba63c9a0",
   "metadata": {},
   "source": [
    "### Exercice 5\n",
    "\n",
    "> La listes `nb_francais` de la cellule ci-dessous donne le nombre de français par age : `nb_francais[k]` est le nombre de français\n",
    ">dont l'age est $k$ années, pour $k=0,\\ldots, 100$. \n",
    ">> Pour être plus précis : `nb_francais[0]` est le nombre de français né en $2023$, donc d'age $0$, ...,  `nb_francais[99]` est le nombre de français né en $1924$, donc d'age $99$. Dans `nb_francais[100]` on a regroupé les français nés en $1923$ ou avant, donc d'age $100$ ou plus.    \n",
    "> 1. Créer une liste `age=[0, 1, ..., 100]` en utilisant `age=liste(range(n, m))` \n",
    "pour un `n` et `m` approprié.     \n",
    "> Puis représenter le nombre de français par age par un diagramme en bâtons \n",
    ">en adaptant l'exemple de la \"popularité des sports\". Essayer `width=1`, \n",
    "> donc `plt.bar(age, nb_francais, width=1, color=\"....\")`, \n",
    "> mais choisissez la valeur pour `width` dans l'intervalle $[0,1]$ qui vous plait le plus.  \n",
    "> 2. Dans une nouvelle cellule, reprener le programme de la question 1, mais remplacer  \n",
    ">`age=[0, 1, ..., 100]` par `annee_naissance = [2023, 2022, ..., 1923]`. \n",
    ">> - Noter que le graphique est \"inversé\".   \n",
    ">> - Vous n'avez pas besoin de rajouter un titre, une description des axes,... Cela sera fait pour le TP prochain.\n",
    "\n",
    "**Solution de la question 1:**"
   ]
  },
  {
   "cell_type": "code",
   "execution_count": null,
   "id": "9112c7f6",
   "metadata": {},
   "outputs": [],
   "source": [
    "\n",
    "\n",
    "nb_francais = [635546, 685044, 703006, 704543, 730529, 742875, 761453, 783155,\n",
    "               803903, 827448, 832105, 847879, 853083, 874342, 865847, 873124,\n",
    "               865230, 871942, 844154, 823068, 796866, 793711, 796721, 808375,\n",
    "               765255, 760545, 751498, 760273, 761730, 751133, 758705, 794204,\n",
    "               808952, 831087, 832847, 847804, 844314, 856610, 853671, 843813,\n",
    "               832921, 881008, 882256, 893900, 842625, 823189, 824062, 801663,\n",
    "               825596, 866820, 906426, 927443, 920305, 899219, 885221, 874171,\n",
    "               871886, 891198, 890465, 899356, 885969, 852595, 850170, 841017,\n",
    "               832092, 806942, 798896, 787505, 774048, 763915, 744603, 751776,\n",
    "               724438, 743981, 723191, 712808, 687253, 640051, 473088, 452496,\n",
    "               431528, 390072, 335666, 335679, 337607, 315214, 292599, 275909,\n",
    "               244971, 225306, 193489, 173663, 144636, 117531,  89465,  70000,\n",
    "                51837,  38918,  26949,  17796,  31644]\n"
   ]
  },
  {
   "cell_type": "markdown",
   "id": "fb36db0e",
   "metadata": {},
   "source": [
    "**Solution de la question 2:**"
   ]
  },
  {
   "cell_type": "code",
   "execution_count": null,
   "id": "76b12791",
   "metadata": {},
   "outputs": [],
   "source": []
  }
 ],
 "metadata": {
  "kernelspec": {
   "display_name": "Python 3 (ipykernel)",
   "language": "python",
   "name": "python3"
  },
  "language_info": {
   "codemirror_mode": {
    "name": "ipython",
    "version": 3
   },
   "file_extension": ".py",
   "mimetype": "text/x-python",
   "name": "python",
   "nbconvert_exporter": "python",
   "pygments_lexer": "ipython3",
   "version": "3.9.7"
  }
 },
 "nbformat": 4,
 "nbformat_minor": 5
}

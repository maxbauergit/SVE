{
 "cells": [
  {
   "cell_type": "markdown",
   "id": "62944072",
   "metadata": {},
   "source": [
    "<link rel=\"stylesheet\" href=\"https://cdnjs.cloudflare.com/ajax/libs/font-awesome/4.7.0/css/font-awesome.min.css\">"
   ]
  },
  {
   "cell_type": "markdown",
   "id": "882f3cf8",
   "metadata": {},
   "source": [
    "**Nom, prénoms :**                                                                 \n",
    "**Groupe :**    \n",
    "**Date :**"
   ]
  },
  {
   "cell_type": "markdown",
   "id": "5d5f9b38",
   "metadata": {},
   "source": [
    "<span style=\"background:yellow;color:black\"> Avant de commencer: </span>\n",
    "\n",
    "- Double cliquer sur la cellule ci-dessus, renseigner votre Nom, prénom, groupe et date. Puis éxécuter (<i class=\"fa fa-play\" aria-hidden=\"true\"></i>) la cellule.\n",
    "- Cliquer sur le nom de ce fichier (en haut de la fenêtre) et remplacer le par \n",
    "TP1-nom-prenom (le vôtre !).          "
   ]
  },
  {
   "cell_type": "markdown",
   "id": "9086c80e",
   "metadata": {},
   "source": [
    "<span style=\"background:yellow;color:black\"> Instructions pour déposer votre compte rendu à la fin du TP</span>\n",
    "\n",
    "- Exporter ce fichier sous forme pdf : Chosir `Print Preview` du menu `Fichier`. Dans le nouveau onglet du navigateur, faire `Imprimer`, puis `Exporter au format Pdf`.\n",
    "- Déposer le fichier .ipynb et le fichier pdf dans le dépôt Moodle. Votre nom doit figurer dans le nom des deux fichiers.    "
   ]
  },
  {
   "cell_type": "markdown",
   "id": "93d39909",
   "metadata": {},
   "source": [
    "**À noter :**\n",
    "    \n",
    "- Si vous cliquez (une ou deux fois) sur la cellule qui contient \"Nom, Prénom....\", vous voyez apparaître\n",
    "\"Markdown\" dans le menu horizontal. Ceci signifie qu'il s'agit d'une **cellule text (formaté)**.\n",
    "- Observer que le text en gras est fait avec des double étoiles. "
   ]
  },
  {
   "cell_type": "markdown",
   "id": "74aa9a28",
   "metadata": {},
   "source": [
    "# <center> TP 1 - Premiers pas </center>"
   ]
  },
  {
   "cell_type": "markdown",
   "id": "594200fb",
   "metadata": {},
   "source": [
    "- Avant de faire un exercice, **lire les explications et exécuter les cellules qui contiennent les exemples**. Comprendre ce que font les commandes.    \n",
    "- **Vous pouvez modifier les commandes** dex exemples si cela vous aide, mais **aucune action de votre part n'est exigée**."
   ]
  },
  {
   "cell_type": "markdown",
   "id": "b0660823",
   "metadata": {},
   "source": [
    "## Opérations arithmétiques"
   ]
  },
  {
   "cell_type": "code",
   "execution_count": 2,
   "id": "b42810af",
   "metadata": {},
   "outputs": [
    {
     "data": {
      "text/plain": [
       "8"
      ]
     },
     "execution_count": 2,
     "metadata": {},
     "output_type": "execute_result"
    }
   ],
   "source": [
    "# exécuter cette cellule (et les suivants). Vous pouvez tout modifier\n",
    "5 + 3"
   ]
  },
  {
   "cell_type": "code",
   "execution_count": 2,
   "id": "ad0fdd87",
   "metadata": {},
   "outputs": [
    {
     "data": {
      "text/plain": [
       "-7"
      ]
     },
     "execution_count": 2,
     "metadata": {},
     "output_type": "execute_result"
    }
   ],
   "source": [
    "# Ceci est un commentaire. Python ignore tout ce qui suit un # jusqu'à la fin de la ligne\n",
    "2 - 9 # c'est plus lisible avec des espaces !"
   ]
  },
  {
   "cell_type": "code",
   "execution_count": 3,
   "id": "e30c3101",
   "metadata": {},
   "outputs": [
    {
     "data": {
      "text/plain": [
       "19"
      ]
     },
     "execution_count": 3,
     "metadata": {},
     "output_type": "execute_result"
    }
   ],
   "source": [
    "7 + 3*4 # Python respecte la priorité des opérateurs"
   ]
  },
  {
   "cell_type": "code",
   "execution_count": 4,
   "id": "53d6dcd8",
   "metadata": {},
   "outputs": [
    {
     "data": {
      "text/plain": [
       "40"
      ]
     },
     "execution_count": 4,
     "metadata": {},
     "output_type": "execute_result"
    }
   ],
   "source": [
    "(7 + 3) * 4 # comparer avec la cellule précédente"
   ]
  },
  {
   "cell_type": "code",
   "execution_count": 5,
   "id": "65390e98",
   "metadata": {},
   "outputs": [
    {
     "data": {
      "text/plain": [
       "4.2"
      ]
     },
     "execution_count": 5,
     "metadata": {},
     "output_type": "execute_result"
    }
   ],
   "source": [
    "21 / 5"
   ]
  },
  {
   "cell_type": "markdown",
   "id": "84d99175",
   "metadata": {},
   "source": [
    "### Puissance"
   ]
  },
  {
   "cell_type": "code",
   "execution_count": 6,
   "id": "cb03e6a4",
   "metadata": {},
   "outputs": [
    {
     "data": {
      "text/plain": [
       "16"
      ]
     },
     "execution_count": 6,
     "metadata": {},
     "output_type": "execute_result"
    }
   ],
   "source": [
    "2 ** 4  # --> 16 : 2 à la puissance 4"
   ]
  },
  {
   "cell_type": "code",
   "execution_count": 7,
   "id": "4d878a13",
   "metadata": {},
   "outputs": [
    {
     "data": {
      "text/plain": [
       "16"
      ]
     },
     "execution_count": 7,
     "metadata": {},
     "output_type": "execute_result"
    }
   ],
   "source": [
    "pow(2, 4) # idem"
   ]
  },
  {
   "cell_type": "code",
   "execution_count": 8,
   "id": "5a5cee55",
   "metadata": {},
   "outputs": [
    {
     "data": {
      "text/plain": [
       "0.0001"
      ]
     },
     "execution_count": 8,
     "metadata": {},
     "output_type": "execute_result"
    }
   ],
   "source": [
    "10**-4 # puissance négative"
   ]
  },
  {
   "cell_type": "markdown",
   "id": "a466e90d",
   "metadata": {},
   "source": [
    "### Écriture scientifique"
   ]
  },
  {
   "cell_type": "code",
   "execution_count": 9,
   "id": "5c4cd7d0",
   "metadata": {},
   "outputs": [
    {
     "data": {
      "text/plain": [
       "0.0001"
      ]
     },
     "execution_count": 9,
     "metadata": {},
     "output_type": "execute_result"
    }
   ],
   "source": [
    "1e-4 # comme 10**-4"
   ]
  },
  {
   "cell_type": "code",
   "execution_count": 10,
   "id": "de46bb66",
   "metadata": {},
   "outputs": [
    {
     "data": {
      "text/plain": [
       "0.00123"
      ]
     },
     "execution_count": 10,
     "metadata": {},
     "output_type": "execute_result"
    }
   ],
   "source": [
    "1.23e-3"
   ]
  },
  {
   "cell_type": "code",
   "execution_count": 12,
   "id": "81986a74",
   "metadata": {},
   "outputs": [
    {
     "data": {
      "text/plain": [
       "50000000000.0"
      ]
     },
     "execution_count": 12,
     "metadata": {},
     "output_type": "execute_result"
    }
   ],
   "source": [
    "5e10"
   ]
  },
  {
   "cell_type": "markdown",
   "id": "175c3aae",
   "metadata": {},
   "source": [
    "### Quotient et reste d'une division euclidienne"
   ]
  },
  {
   "cell_type": "code",
   "execution_count": 13,
   "id": "0a74f534",
   "metadata": {},
   "outputs": [
    {
     "data": {
      "text/plain": [
       "6"
      ]
     },
     "execution_count": 13,
     "metadata": {},
     "output_type": "execute_result"
    }
   ],
   "source": [
    "20 // 3 # --> 6: quotient de la division euclidienne de 20 par 3"
   ]
  },
  {
   "cell_type": "code",
   "execution_count": 14,
   "id": "57e4ebea",
   "metadata": {},
   "outputs": [
    {
     "data": {
      "text/plain": [
       "2"
      ]
     },
     "execution_count": 14,
     "metadata": {},
     "output_type": "execute_result"
    }
   ],
   "source": [
    "20 % 3 # --> 2 : reste de la division euclidienne de 20 par 3 "
   ]
  },
  {
   "cell_type": "markdown",
   "id": "5d6cbbf1",
   "metadata": {},
   "source": [
    "Donc 20 = 6*3 + 2"
   ]
  },
  {
   "cell_type": "markdown",
   "id": "abc3ffb4",
   "metadata": {},
   "source": [
    "- Notons que nous avons rajouté des <span style=\"color:red\">commentaires</span>: l'interpréteur ignore tout ce qui suit un `#` sur la même ligne.\n",
    "- Même si vous êtes encouragés à utiliser des commentaires, soyez le plus concis possible. <span style=\"color:red\">Ne commentez pas ce qui est évident."
   ]
  },
  {
   "cell_type": "markdown",
   "id": "25c2def7",
   "metadata": {},
   "source": [
    "<span style=\"background:yellow;color:black\">Attention :</span> Seul le résultat de la dernière ligne d'une cellule s'affiche."
   ]
  },
  {
   "cell_type": "code",
   "execution_count": 15,
   "id": "0c077a98",
   "metadata": {},
   "outputs": [
    {
     "data": {
      "text/plain": [
       "4"
      ]
     },
     "execution_count": 15,
     "metadata": {},
     "output_type": "execute_result"
    }
   ],
   "source": [
    "20/5 # résultat ne s'affiche pas\n",
    "20//5 # seulement le résultat de la dernière ligne s'affiche"
   ]
  },
  {
   "cell_type": "markdown",
   "id": "f18f1d1f",
   "metadata": {},
   "source": [
    "Pour afficher le résultat d'une ligne quelconque, il faut utiliser `print`"
   ]
  },
  {
   "cell_type": "code",
   "execution_count": 16,
   "id": "5bc42256",
   "metadata": {},
   "outputs": [
    {
     "name": "stdout",
     "output_type": "stream",
     "text": [
      "4.0\n",
      "4\n"
     ]
    }
   ],
   "source": [
    "print(20/5)\n",
    "print(20//5) # ce deuxième print n'est pas nécessaire"
   ]
  },
  {
   "cell_type": "markdown",
   "id": "42774b5c",
   "metadata": {},
   "source": [
    "Notons que $4$ et $4.0$ ont la même valeur, mais ils sont de <span style=\"color:red\">type</span> différents: \n",
    "- $4$ est un entier de type `int` (qui vient de l'anglais *integer*) car l'opérateur `\\\\` donne le quotient \n",
    "de la division.    \n",
    "- $4.0$ est un nombre décimal de type `float` (flottant)."
   ]
  },
  {
   "cell_type": "markdown",
   "id": "655cc04a",
   "metadata": {},
   "source": [
    "## Variables"
   ]
  },
  {
   "cell_type": "markdown",
   "id": "553cdf96",
   "metadata": {},
   "source": [
    "En informatique, on peut stocker des valeurs dans des <span style=\"color:red\">variables</span>. Par exemple:"
   ]
  },
  {
   "cell_type": "code",
   "execution_count": 17,
   "id": "2f4d67c9",
   "metadata": {},
   "outputs": [
    {
     "name": "stdout",
     "output_type": "stream",
     "text": [
      "15\n"
     ]
    }
   ],
   "source": [
    "longueur = 5\n",
    "hauteur = 3\n",
    "aire_rectangle = longueur * hauteur # aire = 5*3\n",
    "print(aire_rectangle)"
   ]
  },
  {
   "cell_type": "markdown",
   "id": "26bf24b0",
   "metadata": {},
   "source": [
    "<span style=\"background:yellow;color:black\">Attention :</span> \n",
    "\n",
    "- Le nom des variables en Python peut-être constitué de lettres minuscules, de lettres majuscules, de\n",
    "chiffres et du caractère souligné `_`.    \n",
    "- Un nom de variable ne doit pas débuter ni par un chiffre, ni par `_` et ne peut pas contenir de caractère\n",
    "accentué, d'espace, ....   \n",
    "- attention à la casse: `aire_rectangle` est différent de `Aire_rectangle`."
   ]
  },
  {
   "cell_type": "markdown",
   "id": "aad69747",
   "metadata": {},
   "source": [
    "<span style=\"background:yellow;color:black\">Conseil :</span>  Pour une meilleure lisibilitée du programme, il faut utiliser des noms parlants comme\n",
    "`longueur`, `hauteur` plutôt que `x`, `y`. "
   ]
  },
  {
   "cell_type": "markdown",
   "id": "62ddf79a",
   "metadata": {},
   "source": [
    "### Réaffectation\n",
    "\n",
    "On peut successivement affecter différentes valeurs à une variable:\t"
   ]
  },
  {
   "cell_type": "code",
   "execution_count": 21,
   "id": "35ddb8e6",
   "metadata": {},
   "outputs": [
    {
     "name": "stdout",
     "output_type": "stream",
     "text": [
      "x= 4\n",
      "x= 7\n"
     ]
    }
   ],
   "source": [
    "x = 4\n",
    "print(\"x=\", x) # voir plus loin pour la commande print\n",
    "x = x + 3 # le côté droit est d'abord évalué et vaut 7 qui est la nouvelle valeur de x (du côté gauche)\n",
    "print(\"x=\", x)"
   ]
  },
  {
   "cell_type": "code",
   "execution_count": 22,
   "id": "4d4f933d",
   "metadata": {},
   "outputs": [
    {
     "name": "stdout",
     "output_type": "stream",
     "text": [
      "x= 10\n"
     ]
    }
   ],
   "source": [
    "# nous avons toujours x=7 qui est la valeur de x de la cellule précédente\n",
    "x += 3 # remplace x=x+3; marche aussi pour -, *, /\n",
    "print(\"x=\", x)"
   ]
  },
  {
   "cell_type": "markdown",
   "id": "378a7cbe",
   "metadata": {},
   "source": [
    "<span style=\"background:yellow;color:black\">Important :</span> La valeur d'une variable d'une cellule qui était exécutée reste connue pour la suite."
   ]
  },
  {
   "cell_type": "markdown",
   "id": "dcb11259",
   "metadata": {},
   "source": [
    "### Affectation parallèle"
   ]
  },
  {
   "cell_type": "code",
   "execution_count": 23,
   "id": "6e4a86e5",
   "metadata": {},
   "outputs": [
    {
     "name": "stdout",
     "output_type": "stream",
     "text": [
      "x= 2 y= 5\n"
     ]
    }
   ],
   "source": [
    "x, y = 2, 5 # même chose que x=2 et y=5\n",
    "print(\"x=\", x, \"y=\", y)"
   ]
  },
  {
   "cell_type": "code",
   "execution_count": 24,
   "id": "1ae9fa4c",
   "metadata": {},
   "outputs": [
    {
     "name": "stdout",
     "output_type": "stream",
     "text": [
      "x= 5 y= 2\n"
     ]
    }
   ],
   "source": [
    "x, y = y, x # échange des valeurs des deux variables\n",
    "print(\"x=\", x, \"y=\", y)"
   ]
  },
  {
   "cell_type": "markdown",
   "id": "bf7d4cbf",
   "metadata": {},
   "source": [
    "Quand *Python* lit `x, y = y, x`, il évalue d'abord le côté droit.\n",
    "Comme $x=2$ et $y=5$, cela donne  l'affectation parallèle `x, y = 5, 2`,\n",
    "donc $x=5$, $y=2$.\n",
    "Nous avons donc échangé la valeur des deux variables."
   ]
  },
  {
   "cell_type": "markdown",
   "id": "a9d9a65b",
   "metadata": {},
   "source": [
    "<span style=\"background:yellow;color:black\"> Conseil :</span> Pour **annuler une modification** dans une cellule, utilisez `Ctrl+Z` sous Windows et `Commande+Z` sous Mac."
   ]
  },
  {
   "cell_type": "markdown",
   "id": "1e818212",
   "metadata": {},
   "source": [
    "### Exercice 1\n",
    "    \n",
    ">Prédire pour chaque ligne du script des trois cellules ci-dessous la valeur des deux variables `a`, `b` et remplacer les pointillés par ces valeurs.      \n",
    ">Exécuter la cellule pour vérifier si la commande `print` confirme vos calculs.\n"
   ]
  },
  {
   "cell_type": "code",
   "execution_count": 25,
   "id": "f1281062",
   "metadata": {},
   "outputs": [
    {
     "name": "stdout",
     "output_type": "stream",
     "text": [
      "a= 9 b= 14\n"
     ]
    }
   ],
   "source": [
    "# Compléter les commentaires, puis exécuter la cellule pour vérification\n",
    "a = 3\n",
    "b = 2\n",
    "b = 2 * b + 1 # a=..(compléter).. b=..(compléter)..\n",
    "a = a + 3 # a=... b=...\n",
    "a += 3 # a=... b=...  \n",
    "b = a + b # a=... b=...\n",
    "print(\"a=\", a, \"b=\", b)"
   ]
  },
  {
   "cell_type": "code",
   "execution_count": 30,
   "id": "27ae095b",
   "metadata": {},
   "outputs": [
    {
     "name": "stdout",
     "output_type": "stream",
     "text": [
      "a= 3 b= 3\n"
     ]
    }
   ],
   "source": [
    "a, b = 3, 2 # a=... b=...\n",
    "b = a # a=... b=...\n",
    "a = b # a=... b=...\n",
    "print(\"a=\", a, \"b=\", b)"
   ]
  },
  {
   "cell_type": "code",
   "execution_count": 31,
   "id": "0ca3d3fc",
   "metadata": {},
   "outputs": [
    {
     "name": "stdout",
     "output_type": "stream",
     "text": [
      "a= 2 b= 3\n"
     ]
    }
   ],
   "source": [
    "a, b = 3, 2 # a=... b=...\n",
    "a, b = b, a # a=... b=...\n",
    "print(\"a=\", a, \"b=\", b)"
   ]
  },
  {
   "cell_type": "markdown",
   "id": "819b2315",
   "metadata": {},
   "source": [
    "## Chaine de caractères"
   ]
  },
  {
   "cell_type": "markdown",
   "id": "ccc8b4a1",
   "metadata": {},
   "source": [
    "Pour créer une <span style=\"color:red\">chaine de caractères</span> ou <span style=\"color:red\">string</span>, \n",
    "on utilise des guillemets `\"` (ou apostrophes `'`):"
   ]
  },
  {
   "cell_type": "code",
   "execution_count": 32,
   "id": "dddf0d9a",
   "metadata": {},
   "outputs": [
    {
     "data": {
      "text/plain": [
       "'Rennes'"
      ]
     },
     "execution_count": 32,
     "metadata": {},
     "output_type": "execute_result"
    }
   ],
   "source": [
    "\"Rennes\""
   ]
  },
  {
   "cell_type": "markdown",
   "id": "1fe05758",
   "metadata": {},
   "source": [
    "On peut **concaténer**  (assembler) deux chaines de caractères:"
   ]
  },
  {
   "cell_type": "code",
   "execution_count": 33,
   "id": "2b094b46",
   "metadata": {},
   "outputs": [
    {
     "data": {
      "text/plain": [
       "'Mon nom est Chloé'"
      ]
     },
     "execution_count": 33,
     "metadata": {},
     "output_type": "execute_result"
    }
   ],
   "source": [
    "\"Mon nom est \" + \"Chloé\""
   ]
  },
  {
   "cell_type": "code",
   "execution_count": 34,
   "id": "2a3020b7",
   "metadata": {},
   "outputs": [
    {
     "data": {
      "text/plain": [
       "'blablabla'"
      ]
     },
     "execution_count": 34,
     "metadata": {},
     "output_type": "execute_result"
    }
   ],
   "source": [
    "3 * \"bla\" # Concatène 3 fois la chaine de caractères \"bla\""
   ]
  },
  {
   "cell_type": "code",
   "execution_count": 35,
   "id": "e35ae6f6",
   "metadata": {},
   "outputs": [
    {
     "data": {
      "text/plain": [
       "'Rennes'"
      ]
     },
     "execution_count": 35,
     "metadata": {},
     "output_type": "execute_result"
    }
   ],
   "source": [
    "\"Re\" + 2*\"n\" + \"es\""
   ]
  },
  {
   "cell_type": "code",
   "execution_count": 36,
   "id": "293e2946",
   "metadata": {},
   "outputs": [
    {
     "data": {
      "text/plain": [
       "'+++++'"
      ]
     },
     "execution_count": 36,
     "metadata": {},
     "output_type": "execute_result"
    }
   ],
   "source": [
    "5*\"+\""
   ]
  },
  {
   "cell_type": "markdown",
   "id": "17147f6f",
   "metadata": {},
   "source": [
    "Pour affecter la chaine de caractères `\"Rennes\"` (avec guillemets) à la variable `ma_ville` (sans guillmets) :"
   ]
  },
  {
   "cell_type": "code",
   "execution_count": 38,
   "id": "7ad505f1",
   "metadata": {},
   "outputs": [
    {
     "name": "stdout",
     "output_type": "stream",
     "text": [
      "Rennes\n"
     ]
    }
   ],
   "source": [
    "ma_ville = \"Rennes\" # la chaine de caractères \"Rennes\" est affecté à la variable ma_ville\n",
    "print(ma_ville)"
   ]
  },
  {
   "cell_type": "markdown",
   "id": "1c46ea11",
   "metadata": {},
   "source": [
    "### Exercice 2\n",
    "    \n",
    ">Traduire le message d'erreur provoqué par la commande suivante: "
   ]
  },
  {
   "cell_type": "code",
   "execution_count": 39,
   "id": "444e64f1",
   "metadata": {},
   "outputs": [
    {
     "ename": "TypeError",
     "evalue": "can't multiply sequence by non-int of type 'float'",
     "output_type": "error",
     "traceback": [
      "\u001b[0;31m---------------------------------------------------------------------------\u001b[0m",
      "\u001b[0;31mTypeError\u001b[0m                                 Traceback (most recent call last)",
      "\u001b[0;32m/var/folders/8s/x8jdscw11ps_xd11xz22tyk00000gq/T/ipykernel_65771/975977434.py\u001b[0m in \u001b[0;36m<module>\u001b[0;34m\u001b[0m\n\u001b[0;32m----> 1\u001b[0;31m \u001b[0;36m1.5\u001b[0m \u001b[0;34m*\u001b[0m \u001b[0;34m\"Rennes\"\u001b[0m\u001b[0;34m\u001b[0m\u001b[0;34m\u001b[0m\u001b[0m\n\u001b[0m",
      "\u001b[0;31mTypeError\u001b[0m: can't multiply sequence by non-int of type 'float'"
     ]
    }
   ],
   "source": [
    "1.5 * \"Rennes\""
   ]
  },
  {
   "cell_type": "markdown",
   "id": "3da8ef29",
   "metadata": {},
   "source": [
    "**Solution:**\n",
    "double cliquer sur cette cellule, la compléter, puis l'exécuter\n",
    "\n",
    "Traduction du message d'erreur en français : ...(compléter)....."
   ]
  },
  {
   "cell_type": "markdown",
   "id": "607be991",
   "metadata": {},
   "source": [
    "### Longueur\n",
    "\n",
    "La fonction `len` donne le nombre de caractères dans une chaine de caractères:"
   ]
  },
  {
   "cell_type": "code",
   "execution_count": 40,
   "id": "ebd2f113",
   "metadata": {},
   "outputs": [
    {
     "data": {
      "text/plain": [
       "5"
      ]
     },
     "execution_count": 40,
     "metadata": {},
     "output_type": "execute_result"
    }
   ],
   "source": [
    "len(\"SVE :\") # on compte l'espace \" \" et \":\""
   ]
  },
  {
   "cell_type": "markdown",
   "id": "7ef8f948",
   "metadata": {},
   "source": [
    "### Exercice 3\n",
    "    \n",
    ">On appelle polyC un oligonucléotide qui ne contient que des bases C comme par exemple CCCCCC. Cet oligonucléotide est de longueur 6 car il contient 6 bases.\n",
    ">\n",
    ">1. Générer une chaîne de caractères représentant un oligonucléotide polyG (GGGG…) de 19 bases, sans taper littéralement toutes les bases.     \n",
    ">Affecter cette chaine à la variable `polyG` et afficher cette\n",
    ">chaine avec `print()`.     \n",
    ">Vérifier la longueur de la chaine obtenue à l'aide de la fonction `len`.   \n",
    ">2. Générez  un polyT de 20 bases suivi d'un polyAT régulier\n",
    ">(ATAT…) de 40 bases (20 `A` et 20 `T`)."
   ]
  },
  {
   "cell_type": "markdown",
   "id": "6c2f3388",
   "metadata": {},
   "source": [
    "**Solution:**"
   ]
  },
  {
   "cell_type": "code",
   "execution_count": null,
   "id": "b6ca9543",
   "metadata": {},
   "outputs": [],
   "source": []
  },
  {
   "cell_type": "markdown",
   "id": "8d340bce",
   "metadata": {},
   "source": [
    "### Chaine de caractères vs. nom de variable\n",
    "\n",
    "- Une <span style=\"color:red\">chaine de caractères</span>  (string) est une séquence de caractères encadrée par des guillemets simples ou doubles. Elle est utilisée pour représenter du texte.\n",
    "- Un <span style=\"color:red\">nom de variable</span> (sans guillemets) est utilisé pour référencer un objet (valeur, chaine,....).\n",
    "- Par exemple `mot = \"mot\"` associe la chaine \"mot\" à la variable `mot`."
   ]
  },
  {
   "cell_type": "markdown",
   "id": "ef05d6c9",
   "metadata": {},
   "source": [
    "### Exercice 4\n",
    "    \n",
    ">1. Décider à chaque fois si `\"Rennes\"`, `ma_ville`, et `\"ma_ville\"` est le nom d'une variable ou une chaine de caractères.  \n",
    ">2. Traduire le message d'erreur provoqué par la dernière commande. \n"
   ]
  },
  {
   "cell_type": "code",
   "execution_count": 41,
   "id": "37c13fd3",
   "metadata": {},
   "outputs": [
    {
     "name": "stdout",
     "output_type": "stream",
     "text": [
      "Rennes\n",
      "Rennes\n",
      "ma_ville\n"
     ]
    },
    {
     "ename": "NameError",
     "evalue": "name 'Rennes' is not defined",
     "output_type": "error",
     "traceback": [
      "\u001b[0;31m---------------------------------------------------------------------------\u001b[0m",
      "\u001b[0;31mNameError\u001b[0m                                 Traceback (most recent call last)",
      "\u001b[0;32m/var/folders/8s/x8jdscw11ps_xd11xz22tyk00000gq/T/ipykernel_65771/267461443.py\u001b[0m in \u001b[0;36m<module>\u001b[0;34m\u001b[0m\n\u001b[1;32m      6\u001b[0m \u001b[0mprint\u001b[0m\u001b[0;34m(\u001b[0m\u001b[0;34m\"ma_ville\"\u001b[0m\u001b[0;34m)\u001b[0m \u001b[0;31m# \"ma_ville\" est ...\u001b[0m\u001b[0;34m\u001b[0m\u001b[0;34m\u001b[0m\u001b[0m\n\u001b[1;32m      7\u001b[0m \u001b[0;34m\u001b[0m\u001b[0m\n\u001b[0;32m----> 8\u001b[0;31m \u001b[0mprint\u001b[0m\u001b[0;34m(\u001b[0m\u001b[0mRennes\u001b[0m\u001b[0;34m)\u001b[0m \u001b[0;31m# expliquer le message d'erreur dans la cellule suivante\u001b[0m\u001b[0;34m\u001b[0m\u001b[0;34m\u001b[0m\u001b[0m\n\u001b[0m",
      "\u001b[0;31mNameError\u001b[0m: name 'Rennes' is not defined"
     ]
    }
   ],
   "source": [
    "print(\"Rennes\") # \"Rennes\" est ...\n",
    "\n",
    "ma_ville = \"Rennes\" # ma_ville est ...\n",
    "print(ma_ville)\n",
    "\n",
    "print(\"ma_ville\") # \"ma_ville\" est ...\n",
    "\n",
    "print(Rennes) # expliquer le message d'erreur dans la cellule suivante"
   ]
  },
  {
   "cell_type": "markdown",
   "id": "2a717069",
   "metadata": {},
   "source": [
    "**Solution de la question 2 :\n",
    "double cliquer sur cette cellule, la compléter, puis exécuter la cellule**\n",
    "\n",
    "Traduction du message d'erreur en français : ...(compléter)....."
   ]
  },
  {
   "cell_type": "markdown",
   "id": "5ad59198",
   "metadata": {},
   "source": [
    "## Affichage"
   ]
  },
  {
   "cell_type": "markdown",
   "id": "6d1f3e02",
   "metadata": {},
   "source": [
    "L'affichage d'un résultat est plus clair si on utilise:"
   ]
  },
  {
   "cell_type": "code",
   "execution_count": 44,
   "id": "68584f99",
   "metadata": {},
   "outputs": [
    {
     "name": "stdout",
     "output_type": "stream",
     "text": [
      "x= 6\n"
     ]
    }
   ],
   "source": [
    "x= 6\n",
    "print(\"x=\", x)"
   ]
  },
  {
   "cell_type": "code",
   "execution_count": 45,
   "id": "ed3dc16a",
   "metadata": {},
   "outputs": [
    {
     "name": "stdout",
     "output_type": "stream",
     "text": [
      "l'aire du rectangle est : 15\n"
     ]
    }
   ],
   "source": [
    "longueur = 5\n",
    "hauteur = 3\n",
    "aire_rectangle = longueur * hauteur \n",
    "print(\"l'aire du rectangle est :\", aire_rectangle)"
   ]
  },
  {
   "cell_type": "markdown",
   "id": "4cc50678",
   "metadata": {},
   "source": [
    "On peut donc combiner chaines de caractères (affichées comme text) et noms de variables (qui sont évalués)"
   ]
  },
  {
   "cell_type": "code",
   "execution_count": 46,
   "id": "26aab207",
   "metadata": {},
   "outputs": [
    {
     "name": "stdout",
     "output_type": "stream",
     "text": [
      "x= 6 et y= 8.1\n"
     ]
    }
   ],
   "source": [
    "x, y = 6, 8.1 \n",
    "print(\"x=\", x, \"et y=\", y)"
   ]
  },
  {
   "cell_type": "markdown",
   "id": "1a11eea6",
   "metadata": {},
   "source": [
    "### f-strings"
   ]
  },
  {
   "cell_type": "markdown",
   "id": "aae787ed",
   "metadata": {},
   "source": [
    "Il est conseillé d'utiliser les <span style=\"color:red\">f-strings</span> (string **f**ormaté) qui sont très simples, concises et\n",
    "offrent beaucoup de possibilités:"
   ]
  },
  {
   "cell_type": "code",
   "execution_count": 47,
   "id": "5e53c717",
   "metadata": {},
   "outputs": [
    {
     "name": "stdout",
     "output_type": "stream",
     "text": [
      "x=6 et y=8.1\n"
     ]
    }
   ],
   "source": [
    "x, y = 6, 8.1 \n",
    "print(f\"x={x} et y={y}\") # pas d'espace parasite après x="
   ]
  },
  {
   "cell_type": "markdown",
   "id": "01c71854",
   "metadata": {},
   "source": [
    "<span style=\"background:yellow;color:black\">Explication :</span> Quitte à précéder la chaine de caractères par un `f` on peut afficher \n",
    "la valeur d'une variable en l'entourant par des accolades comme`{x}`.\n",
    "\n",
    "Un autre exemple:"
   ]
  },
  {
   "cell_type": "code",
   "execution_count": 48,
   "id": "688fd6a3",
   "metadata": {},
   "outputs": [
    {
     "name": "stdout",
     "output_type": "stream",
     "text": [
      "Le quotient de 10 par 3 est 3.3333333333333335\n"
     ]
    }
   ],
   "source": [
    "x, y = 10, 3\n",
    "print(f\"Le quotient de {x} par {y} est {x/y}\")"
   ]
  },
  {
   "cell_type": "markdown",
   "id": "81084001",
   "metadata": {},
   "source": [
    "Le `f` qui précède la chaine de caractères vient du nom \"chaine de caractères <span style=\"color:red\">f</span>ormatée\" (ou <span style=\"color:red\">f</span>-string)\n",
    "car cette méthode permet de formater l'affichage comme par exemple:"
   ]
  },
  {
   "cell_type": "code",
   "execution_count": 49,
   "id": "5a36e764",
   "metadata": {},
   "outputs": [
    {
     "name": "stdout",
     "output_type": "stream",
     "text": [
      "Le quotient de 10 par 3 est 3.33\n"
     ]
    }
   ],
   "source": [
    "print(f\"Le quotient de {x} par {y} est {x/y:.2f}\")"
   ]
  },
  {
   "cell_type": "markdown",
   "id": "e121a002",
   "metadata": {},
   "source": [
    "<span style=\"background:yellow;color:black\">Explication :</span> Pour cet exemple, `.2f` signifie (lire de droite à gauche) que nous affichons un `float` (nombre décimal) en utilisant deux\n",
    "chiffres après la virgule (le point) en arrondissant."
   ]
  },
  {
   "cell_type": "markdown",
   "id": "33bfdf8d",
   "metadata": {},
   "source": [
    "### Exercice 5\n",
    "\n",
    ">Le pourcentage de GC dans une séquence est calculé à l'aide de la formule\n",
    ">$$ \\frac{G+C}{A+T+G+C}\\cdot 100$$\n",
    ">où $A$ désigne le nombre d'adénines dans la séquence, $C$ celui de cytosines,\n",
    ">$G$ celui de guanines,  et $T$ celui de thymines.\n",
    ">\n",
    ">- Créer les variables `A`, `C`, `G` et `T` et leur affecter respectivement  les nombres d'adénines, \n",
    ">de cytosines, de guanines et de thymines suivants: 3025 adénines, 2575 cytosines, 4500 guanines \n",
    ">et 4700 thymines.     \n",
    ">- Avec ces données, calculer le pourcentage de GC que vous stockez dans une \n",
    "variable `GC`. \n",
    ">- Afficher la valeur de `GC` avec 2 chiffres après la virgule en utilisant les f-string.\n",
    ">Afficher une phrase comme \"Le pourcentage de GC est...\".   "
   ]
  },
  {
   "cell_type": "markdown",
   "id": "e8cb780b",
   "metadata": {},
   "source": [
    "**Commencer par insérer une nouvelle cellule \"code\" après celle-ci:** Cliquer d'abord (une fois) sur cette cellule pour la rendre active (cadre bleu), puis cliquer sur <i class=\"fa fa-plus\" aria-hidden=\"true\"></i> pour insérer une nouvelle cellule en-dessous. Vous pouvez aussi utiliser le menu \"Insérer\". Puis écrire votre programme dans cette cellule.\n",
    "\n",
    "\n",
    "<span style=\"background:yellow;color:black\"> Conseil :</span> Si vous vous êtes trompé d'emplacement, vous pouvez **déplacer** la cellule avec <i class=\"fa fa-arrow-up\"></i> et  <i class=\"fa fa-arrow-down\"></i>. Vous pouvez aussi l'effacer avec <i class=\"fa fa-scissors\"></i> et recommencer.\n",
    "\n",
    "\n",
    "**Solution** :"
   ]
  },
  {
   "cell_type": "markdown",
   "id": "cf6d9051",
   "metadata": {},
   "source": [
    "## Tests et instructions conditionnelles"
   ]
  },
  {
   "cell_type": "markdown",
   "id": "15e31aa6",
   "metadata": {},
   "source": [
    "Les <span style=\"color:red\">valeurs logiques (ou booléens)</span> sont `True` (Vrai) et `False` (Faux):\n",
    "\n",
    "Opérateur  | Signification |\n",
    ":-:       | :-:                    |       \n",
    "True         |  Vrai  |               \n",
    "False         | Faux   | "
   ]
  },
  {
   "cell_type": "markdown",
   "id": "c6d6f821",
   "metadata": {},
   "source": [
    "Nous utilisons les <span style=\"color:red\">opérateurs de comparaison</span> suivants:\n",
    "\n",
    "Opération  | Signification |\n",
    ":-:       | :-:                    |       \n",
    "<         |  strictement inférieur  |               \n",
    "<=         | inférieur ou égal      |       \n",
    "\\>          |  strictement supérieur |               \n",
    "\\>=         |  supérieur ou égal     |      \n",
    "==         |  test d'égalité                    |  \n",
    "!=         | différent                | "
   ]
  },
  {
   "cell_type": "code",
   "execution_count": 50,
   "id": "b7c9315a",
   "metadata": {},
   "outputs": [
    {
     "data": {
      "text/plain": [
       "True"
      ]
     },
     "execution_count": 50,
     "metadata": {},
     "output_type": "execute_result"
    }
   ],
   "source": [
    "5.3 > 0 # plus grand"
   ]
  },
  {
   "cell_type": "code",
   "execution_count": 51,
   "id": "5b751dd2",
   "metadata": {},
   "outputs": [
    {
     "data": {
      "text/plain": [
       "False"
      ]
     },
     "execution_count": 51,
     "metadata": {},
     "output_type": "execute_result"
    }
   ],
   "source": [
    "-3 >= 0 # plus grand ou égal"
   ]
  },
  {
   "cell_type": "code",
   "execution_count": 52,
   "id": "83a19fe3",
   "metadata": {},
   "outputs": [
    {
     "data": {
      "text/plain": [
       "True"
      ]
     },
     "execution_count": 52,
     "metadata": {},
     "output_type": "execute_result"
    }
   ],
   "source": [
    "5 == 5.0 # test d'égalité"
   ]
  },
  {
   "cell_type": "code",
   "execution_count": 53,
   "id": "6b877942",
   "metadata": {},
   "outputs": [
    {
     "data": {
      "text/plain": [
       "False"
      ]
     },
     "execution_count": 53,
     "metadata": {},
     "output_type": "execute_result"
    }
   ],
   "source": [
    "\"Bonjour\" == \"bonjour\""
   ]
  },
  {
   "cell_type": "markdown",
   "id": "07ddeb0b",
   "metadata": {},
   "source": [
    "<span style=\"background:yellow;color:black\"> Attention :</span>  il ne faut pas confondre `==` qui permet de tester une égalité avec `=` qui permet d'affecter une valeur à une variable."
   ]
  },
  {
   "cell_type": "code",
   "execution_count": 54,
   "id": "2df1ad51",
   "metadata": {},
   "outputs": [
    {
     "data": {
      "text/plain": [
       "3"
      ]
     },
     "execution_count": 54,
     "metadata": {},
     "output_type": "execute_result"
    }
   ],
   "source": [
    "a = 2 # affectation\n",
    "a = 3 # reaffectation\n",
    "a"
   ]
  },
  {
   "cell_type": "code",
   "execution_count": 55,
   "id": "3c03ecdb",
   "metadata": {},
   "outputs": [
    {
     "data": {
      "text/plain": [
       "False"
      ]
     },
     "execution_count": 55,
     "metadata": {},
     "output_type": "execute_result"
    }
   ],
   "source": [
    "a = 2\n",
    "a == 3 # faux car a = 2"
   ]
  },
  {
   "cell_type": "markdown",
   "id": "047673c0",
   "metadata": {},
   "source": [
    "Nous avons les <span style=\"color:red\">opérateurs logiques</span> suivants "
   ]
  },
  {
   "cell_type": "markdown",
   "id": "59f16e43",
   "metadata": {},
   "source": [
    "Opérateur  | Signification |\n",
    ":-:       | :-:                    |       \n",
    "and         |  et  |               \n",
    "or         | ou (non exclusive)   | \n",
    "not        | négation"
   ]
  },
  {
   "cell_type": "code",
   "execution_count": 56,
   "id": "8b10b44f",
   "metadata": {},
   "outputs": [
    {
     "data": {
      "text/plain": [
       "True"
      ]
     },
     "execution_count": 56,
     "metadata": {},
     "output_type": "execute_result"
    }
   ],
   "source": [
    "x, y = 2, 5\n",
    "(x>0) and (x < y) # x plus grand que 1 et x inférieure à y"
   ]
  },
  {
   "cell_type": "code",
   "execution_count": 57,
   "id": "ade8a53e",
   "metadata": {},
   "outputs": [
    {
     "data": {
      "text/plain": [
       "True"
      ]
     },
     "execution_count": 57,
     "metadata": {},
     "output_type": "execute_result"
    }
   ],
   "source": [
    "x, y = -1, 3\n",
    "x>0 or y>0 # vrai car (au moins) une des deux conditions est vraie"
   ]
  },
  {
   "cell_type": "markdown",
   "id": "ed313528",
   "metadata": {},
   "source": [
    "### Test conditionnel"
   ]
  },
  {
   "cell_type": "code",
   "execution_count": 58,
   "id": "55fa2ba8",
   "metadata": {},
   "outputs": [
    {
     "name": "stdout",
     "output_type": "stream",
     "text": [
      "5 est positif\n"
     ]
    }
   ],
   "source": [
    "x = 5\n",
    "if x > 0: # si x>0\n",
    "    print(f\"{x} est positif\") # exécuté car 5>0"
   ]
  },
  {
   "cell_type": "markdown",
   "id": "bde19ec7",
   "metadata": {},
   "source": [
    "<span style=\"background:yellow;color:black\">Attention :</span>\n",
    "\n",
    "- Ne pas oublier le caractère `\":\"` à la fin de la ligne débutant par `if` qui indique à *Python* qu'un bloc d'instructions commence.  \n",
    "- Le bloc d'instructions peut contenir plusieurs lignes.   \n",
    "- Ne pas oublier <span style=\"color:red\">l'indentation</span> (décalage du text).\n",
    "Elle est  **indispensable** pour que Python identifie correctement le début et la fin du bloc d'instructions. Utiliser de préférence quatre espaces (ou une tabulation) pour indenter.\n",
    "- Sauf pour un bloc d'instruction qui suit une ligne qui se termine avec `\":\"`, il faut toujours aligner à gauche les commandes *Python*."
   ]
  },
  {
   "cell_type": "code",
   "execution_count": 59,
   "id": "2609001a",
   "metadata": {},
   "outputs": [
    {
     "name": "stdout",
     "output_type": "stream",
     "text": [
      "5 est positif\n"
     ]
    }
   ],
   "source": [
    "x = 5\n",
    "if x > 0:\n",
    "    print(f\"{x} est positif\") # exécuté si x>0\n",
    "else: # sinon: x>0 n'est pas vrai\n",
    "    print(f\"{x} est négatif ou zero\")"
   ]
  },
  {
   "cell_type": "code",
   "execution_count": 60,
   "id": "595ab50f",
   "metadata": {},
   "outputs": [
    {
     "name": "stdout",
     "output_type": "stream",
     "text": [
      "-5 est négatif ou zero\n"
     ]
    }
   ],
   "source": [
    "x = -5\n",
    "if x > 0:\n",
    "    print(f\"{x} est positif\")\n",
    "else:\n",
    "    print(f\"{x} est négatif ou zero\")"
   ]
  },
  {
   "cell_type": "markdown",
   "id": "795ff84f",
   "metadata": {},
   "source": [
    "Le bloc d'instruction de `else` est exécuté si la première condition `x > 0` est fausse."
   ]
  },
  {
   "cell_type": "code",
   "execution_count": 61,
   "id": "5c90c129",
   "metadata": {},
   "outputs": [
    {
     "name": "stdout",
     "output_type": "stream",
     "text": [
      "0 est zero\n"
     ]
    }
   ],
   "source": [
    "# Exécuter la cellule pour x=5 (et avec x=-5, x=0 en commentaire). \n",
    "# Puis pour x=-5 (et les deux autres en commentaire) ...\n",
    "x = 0\n",
    "\n",
    "if x > 0:\n",
    "    print(f\"{x} est positif\")\n",
    "elif x < 0: \n",
    "    print(f\"{x} est négatif\")\n",
    "else: \n",
    "    print(f\"{x} est zero\")"
   ]
  },
  {
   "cell_type": "markdown",
   "id": "212111d2",
   "metadata": {},
   "source": [
    "De façon plus générale, l'instruction `if/elif/else` s'utilise de la façon suivante:\n",
    "\n",
    "```py\n",
    "if condition1:\n",
    "    instructions exécutées si condition1 est vraie\n",
    "elif condition2: \n",
    "    instructions exécutées si condition1 est fausse et condition2 est vraie...\n",
    "elif condition3: # plusieurs elif sont possibles\n",
    "    .....\n",
    "else: \n",
    "    instructions exécutées si condition1, condition2, condition3,... sont fausses\n",
    "```\n"
   ]
  },
  {
   "cell_type": "markdown",
   "id": "83a8c914",
   "metadata": {},
   "source": [
    "<span style=\"background:yellow;color:black\"> Conseil :</span>\n",
    "Par prudence, **relancer le noyeau** avec <i class=\"fa fa-repeat\"></i> pour re-initialiser les variables\n",
    "chaque fois que vous commencez un nouveau exercice."
   ]
  },
  {
   "cell_type": "markdown",
   "id": "4eabf7a9",
   "metadata": {},
   "source": [
    "### Exercice 6\n",
    "\n",
    ">Une séquence d'ARN peut être représenté par une suite de lettres `\"A\"`, `\"C\"`, `\"G\"`, `\"U\"`. Elle est composé de codons de trois nucléotides qui correspondent chacun à un acide aminé, donc la longueur d'une séquence est un multiple de trois. \n",
    ">\n",
    ">Écrire un test (`if else`) pour vérifier si une séquence à la bonne longueur ou non. \n",
    "> Tester avec les deux séquences `ARN` de la cellule ci-dessous. \n",
    ">>*Indication :* Un entier est un multiple de $3$ si le reste de la division de l'entier par $3$ est $0$. Voir \"Quotient et reste d'une division euclidienne\". \n",
    "\n",
    "**Solution :**"
   ]
  },
  {
   "cell_type": "code",
   "execution_count": 62,
   "id": "18af1e00",
   "metadata": {},
   "outputs": [],
   "source": [
    "ARN = \"CGAUUCGACCGUAAUAUGCCUACCCGUAAUGUGCUCCACCUCUUACGAUUGUCAGUAUUCCGACGAUAAACUUAGGG\"\n",
    "ARN = \"CGAUUCGACCGUAAUAUGCCCGUAUCCACCUCUUACGAUUGUCCCGACGAUAAACUUAGGG\""
   ]
  },
  {
   "cell_type": "markdown",
   "id": "7fe23d63",
   "metadata": {},
   "source": [
    "## Input\n",
    "\n",
    "- la commande `input(\"Donner votre nom :\")` affiche à l'écran \"Donner votre nom :\" et\n",
    "met en pause l'exécution du programme en attendant que l'utilisateur ait entré une réponse.    \n",
    "- La réponse est stockée dans la variable `nom`.  "
   ]
  },
  {
   "cell_type": "code",
   "execution_count": 64,
   "id": "77cdbb14",
   "metadata": {
    "scrolled": true
   },
   "outputs": [
    {
     "name": "stdout",
     "output_type": "stream",
     "text": [
      "Donner votre nom : max\n",
      "Bonjour max\n"
     ]
    }
   ],
   "source": [
    "nom = input(\"Donner votre nom : \")\n",
    "print(f\"Bonjour {nom}\")"
   ]
  },
  {
   "cell_type": "code",
   "execution_count": 65,
   "id": "8015a535",
   "metadata": {},
   "outputs": [
    {
     "name": "stdout",
     "output_type": "stream",
     "text": [
      "Donner un entier :4\n",
      "Le double de ton nombre est  8\n"
     ]
    }
   ],
   "source": [
    "nombre = input(\"Donner un entier :\") # nombre sous forme de chaine\n",
    "nombre = int(nombre) # transforme chaine de caractères en entier\n",
    "print(\"Le double de ton nombre est \", 2 * nombre)"
   ]
  },
  {
   "cell_type": "markdown",
   "id": "74666901",
   "metadata": {},
   "source": [
    "Au lieu de `int`, on peut aussi utiliser `float` pour transformer le résultat en nombre décimal."
   ]
  },
  {
   "cell_type": "markdown",
   "id": "55a3a131",
   "metadata": {},
   "source": [
    "<span style=\"background:yellow;color:black\">Explication :</span>\n",
    "Le résultat de `input` est une chaine de caractères. Pour pouvoir faire des calculs, il faut le transformer en un entier avec la commance `int`. On peut aussi le transformer en nombre décimal avec `float`."
   ]
  },
  {
   "cell_type": "markdown",
   "id": "87c3f1cc",
   "metadata": {},
   "source": [
    "### Exercice 7\n",
    "\n",
    ">Une salle de sport facture 35 <i class=\"fa fa-eur\" aria-hidden=\"true\"></i>\n",
    ">les 10 premières séances de coaching individuel et 28 <i class=\"fa fa-eur\" aria-hidden=\"true\"></i>\n",
    ">les suivantes.\n",
    ">\n",
    ">Déterminer le prix en fonction du combre de séances que l'utilisateur à donné (utiliser `input`).\n",
    "\n",
    "**Solution :**"
   ]
  },
  {
   "cell_type": "code",
   "execution_count": null,
   "id": "4417deb8",
   "metadata": {},
   "outputs": [],
   "source": []
  }
 ],
 "metadata": {
  "kernelspec": {
   "display_name": "Python 3 (ipykernel)",
   "language": "python",
   "name": "python3"
  },
  "language_info": {
   "codemirror_mode": {
    "name": "ipython",
    "version": 3
   },
   "file_extension": ".py",
   "mimetype": "text/x-python",
   "name": "python",
   "nbconvert_exporter": "python",
   "pygments_lexer": "ipython3",
   "version": "3.9.7"
  }
 },
 "nbformat": 4,
 "nbformat_minor": 5
}

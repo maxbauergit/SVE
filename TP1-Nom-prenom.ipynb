{
 "cells": [
  {
   "cell_type": "markdown",
   "id": "62944072",
   "metadata": {},
   "source": [
    "<link rel=\"stylesheet\" href=\"https://cdnjs.cloudflare.com/ajax/libs/font-awesome/4.7.0/css/font-awesome.min.css\">"
   ]
  },
  {
   "cell_type": "markdown",
   "id": "882f3cf8",
   "metadata": {},
   "source": [
    "**Nom, prénom :**                                                                 \n",
    "**Groupe :**    \n",
    "**Date :**"
   ]
  },
  {
   "cell_type": "markdown",
   "id": "5d5f9b38",
   "metadata": {},
   "source": [
    "<span style=\"background:yellow;color:black\"> Avant de commencer: </span>\n",
    "\n",
    "1. Double cliquer sur la cellule ci-dessus; compléter; exécuter avec <i class=\"fa fa-play\" aria-hidden=\"true\"></i>.\n",
    "2. Cliquer sur `TP1-Nom-prenom` (en haut de la page) et renseigner votre nom, prénom.          "
   ]
  },
  {
   "cell_type": "markdown",
   "id": "93d39909",
   "metadata": {},
   "source": [
    "**À noter :**\n",
    "    \n",
    "- Si vous cliquez (une ou deux fois) sur la cellule qui contient \"Nom, Prénom....\", vous voyez apparaître\n",
    "\"Markdown\" dans le menu horizontal. Ceci signifie qu'il s'agit d'une **cellule text (formaté)**.\n",
    "- Observer que le text en gras est fait avec des double étoiles. "
   ]
  },
  {
   "cell_type": "markdown",
   "id": "9086c80e",
   "metadata": {},
   "source": [
    "<span style=\"background:yellow;color:black\"> Instructions pour déposer votre compte rendu à la fin du TP</span>\n",
    "\n",
    "- Exporter ce fichier sous forme pdf : `Print Preview` du menu `File` de Jupyter. Dans le nouveau onglet du navigateur, faire `Imprimer`, puis `Exporter au format Pdf`.\n",
    "- Déposer le fichier .ipynb et le fichier pdf dans le dépôt Moodle. Votre nom doit figurer dans le nom des deux fichiers.    "
   ]
  },
  {
   "cell_type": "markdown",
   "id": "74aa9a28",
   "metadata": {},
   "source": [
    "# <center> TP 1 - Premiers pas </center>"
   ]
  },
  {
   "cell_type": "markdown",
   "id": "594200fb",
   "metadata": {},
   "source": [
    "- Avant de faire un exercice, **lire les explications et exécuter les cellules qui contiennent les exemples**. Comprendre ce que font les commandes.    \n",
    "- **Vous pouvez modifier les commandes** dex exemples si cela vous aide, mais **aucune action de votre part n'est exigée**.\n",
    "\n",
    "<span style=\"background:yellow;color:black\"> Conseils :</span>    \n",
    "\n",
    "- Pour **annuler une modification** dans une cellule, utilisez `Ctrl+Z` sous Windows et `Commande+Z` sous Mac."
   ]
  },
  {
   "cell_type": "markdown",
   "id": "b0660823",
   "metadata": {},
   "source": [
    "## Opérations arithmétiques"
   ]
  },
  {
   "cell_type": "code",
   "execution_count": null,
   "id": "b42810af",
   "metadata": {},
   "outputs": [],
   "source": [
    "5+3 # Addition."
   ]
  },
  {
   "cell_type": "code",
   "execution_count": null,
   "id": "ad0fdd87",
   "metadata": {},
   "outputs": [],
   "source": [
    "# Ceci est un commentaire. Python ignore tout ce qui suit un # jusqu'à la fin de la ligne\n",
    "2 - 9 # c'est plus lisible avec des espaces !"
   ]
  },
  {
   "cell_type": "code",
   "execution_count": null,
   "id": "e30c3101",
   "metadata": {},
   "outputs": [],
   "source": [
    "7 + 3*4 # Python respecte la priorité des opérateurs"
   ]
  },
  {
   "cell_type": "code",
   "execution_count": null,
   "id": "53d6dcd8",
   "metadata": {},
   "outputs": [],
   "source": [
    "(7 + 3) * 4 # comparer avec la cellule précédente"
   ]
  },
  {
   "cell_type": "markdown",
   "id": "84d99175",
   "metadata": {},
   "source": [
    "### Puissance"
   ]
  },
  {
   "cell_type": "code",
   "execution_count": null,
   "id": "cb03e6a4",
   "metadata": {},
   "outputs": [],
   "source": [
    "2 ** 4  # --> 16 : 2 à la puissance 4"
   ]
  },
  {
   "cell_type": "code",
   "execution_count": null,
   "id": "4d878a13",
   "metadata": {},
   "outputs": [],
   "source": [
    "pow(2, 4) # idem"
   ]
  },
  {
   "cell_type": "code",
   "execution_count": null,
   "id": "5a5cee55",
   "metadata": {},
   "outputs": [],
   "source": [
    "10**-3 # puissance négative"
   ]
  },
  {
   "cell_type": "markdown",
   "id": "be41e335",
   "metadata": {},
   "source": [
    "### Deux types de division"
   ]
  },
  {
   "cell_type": "code",
   "execution_count": null,
   "id": "c5eab133",
   "metadata": {},
   "outputs": [],
   "source": [
    "21 / 5  # --> 4.2 : division"
   ]
  },
  {
   "cell_type": "code",
   "execution_count": null,
   "id": "0a74f534",
   "metadata": {},
   "outputs": [],
   "source": [
    "20 // 3 # --> 6: quotient de la division euclidienne de 20 par 3"
   ]
  },
  {
   "cell_type": "code",
   "execution_count": null,
   "id": "57e4ebea",
   "metadata": {},
   "outputs": [],
   "source": [
    "20 % 3 # --> 2 : reste de la division euclidienne de 20 par 3 "
   ]
  },
  {
   "cell_type": "markdown",
   "id": "5d6cbbf1",
   "metadata": {},
   "source": [
    "Donc 20 = 6*3 + 2"
   ]
  },
  {
   "cell_type": "markdown",
   "id": "abc3ffb4",
   "metadata": {},
   "source": [
    "### Commentaires\n",
    "\n",
    "- Notons que nous avons rajouté des <span style=\"color:red\">commentaires</span>: l'interpréteur ignore tout ce qui suit un `#` sur la même ligne.\n",
    "- Même si vous êtes encouragés à utiliser des commentaires, soyez le plus concis possible. <span style=\"color:red\">Ne commentez pas ce qui est évident."
   ]
  },
  {
   "cell_type": "markdown",
   "id": "25c2def7",
   "metadata": {},
   "source": [
    "## Print : premier exemple\n",
    "\n",
    "Notons que seul le résultat de la dernière ligne s'affiche."
   ]
  },
  {
   "cell_type": "code",
   "execution_count": null,
   "id": "0c077a98",
   "metadata": {},
   "outputs": [],
   "source": [
    "20/5 # résultat ne s'affiche pas\n",
    "20//5 # seulement le résultat de la dernière ligne s'affiche"
   ]
  },
  {
   "cell_type": "markdown",
   "id": "f18f1d1f",
   "metadata": {},
   "source": [
    "Pour afficher le résultat d'une ligne quelconque, il faut utiliser `print`"
   ]
  },
  {
   "cell_type": "code",
   "execution_count": null,
   "id": "5bc42256",
   "metadata": {},
   "outputs": [],
   "source": [
    "print(20/5)\n",
    "print(20//5) # ce deuxième print n'est pas nécessaire"
   ]
  },
  {
   "cell_type": "markdown",
   "id": "655cc04a",
   "metadata": {},
   "source": [
    "## Variables"
   ]
  },
  {
   "cell_type": "markdown",
   "id": "553cdf96",
   "metadata": {},
   "source": [
    "En informatique, on peut stocker des valeurs dans des <span style=\"color:red\">variables</span>. Par exemple:"
   ]
  },
  {
   "cell_type": "code",
   "execution_count": null,
   "id": "2f4d67c9",
   "metadata": {},
   "outputs": [],
   "source": [
    "longueur = 5\n",
    "hauteur = 3\n",
    "aire_rectangle = longueur * hauteur # aire = 5*3\n",
    "print(aire_rectangle)"
   ]
  },
  {
   "cell_type": "markdown",
   "id": "26bf24b0",
   "metadata": {},
   "source": [
    "<span style=\"background:yellow;color:black\">Attention :</span> \n",
    "\n",
    "- Le nom des variables en Python peut-être constitué de lettres minuscules, de lettres majuscules, de\n",
    "chiffres et du caractère souligné `_`.    \n",
    "- Un nom de variable ne doit pas débuter ni par un chiffre, ni par `_` et ne peut pas contenir de caractère\n",
    "accentué, d'espace, ....   \n",
    "- attention à la casse: `aire_rectangle` est différent de `Aire_rectangle`."
   ]
  },
  {
   "cell_type": "markdown",
   "id": "aad69747",
   "metadata": {},
   "source": [
    "<span style=\"background:yellow;color:black\">Conseil :</span>  Pour une meilleure lisibilitée du programme, il faut utiliser des noms parlants comme\n",
    "`longueur`, `hauteur` plutôt que `x`, `y`. "
   ]
  },
  {
   "cell_type": "markdown",
   "id": "d61aec21",
   "metadata": {},
   "source": [
    "### Afficher du texte\n",
    "\n",
    "Pour avoir un affichage plus parlant, on peut rajouter du text dans la commande print.\n",
    "\n",
    "Pour faire cela, il faut entourer le text par des guillemets:"
   ]
  },
  {
   "cell_type": "code",
   "execution_count": null,
   "id": "ed3dc16a",
   "metadata": {},
   "outputs": [],
   "source": [
    "longueur = 5\n",
    "hauteur = 3\n",
    "aire_rectangle = longueur * hauteur # aire = 5*3\n",
    "print(\"l'aire du rectangle est :\", aire_rectangle) # pour afficher du text on utilise des \"...\""
   ]
  },
  {
   "cell_type": "markdown",
   "id": "62ddf79a",
   "metadata": {},
   "source": [
    "### Réaffectation\n",
    "\n",
    "On peut successivement affecter différentes valeurs à une variable:\t"
   ]
  },
  {
   "cell_type": "code",
   "execution_count": null,
   "id": "35ddb8e6",
   "metadata": {},
   "outputs": [],
   "source": [
    "x = 4\n",
    "print(\"x=\", x)\n",
    "x = x + 3 # le côté droit est d'abord évalué et vaut 7 qui est la nouvelle valeur de x (du côté gauche)\n",
    "print(\"x=\", x)"
   ]
  },
  {
   "cell_type": "code",
   "execution_count": null,
   "id": "4d4f933d",
   "metadata": {},
   "outputs": [],
   "source": [
    "# nous avons toujours x=7 qui est la valeur de x de la cellule précédente\n",
    "x += 3 # remplace x=x+3; marche aussi pour -, *, /\n",
    "print(\"x=\", x)"
   ]
  },
  {
   "cell_type": "markdown",
   "id": "378a7cbe",
   "metadata": {},
   "source": [
    "<span style=\"background:yellow;color:black\">Important :</span> La valeur d'une variable d'une cellule qui était exécutée reste connue pour la suite."
   ]
  },
  {
   "cell_type": "markdown",
   "id": "dcb11259",
   "metadata": {},
   "source": [
    "### Affectation parallèle"
   ]
  },
  {
   "cell_type": "code",
   "execution_count": null,
   "id": "6e4a86e5",
   "metadata": {},
   "outputs": [],
   "source": [
    "x, y = 2, 5 # même chose que x=2 et y=5\n",
    "print(\"x=\", x, \"y=\", y)"
   ]
  },
  {
   "cell_type": "code",
   "execution_count": null,
   "id": "1ae9fa4c",
   "metadata": {},
   "outputs": [],
   "source": [
    "x, y = y, x # échange des valeurs des deux variables\n",
    "print(\"x=\", x, \"y=\", y)"
   ]
  },
  {
   "cell_type": "markdown",
   "id": "bf7d4cbf",
   "metadata": {},
   "source": [
    "Quand *Python* lit `x, y = y, x`, il évalue d'abord le côté droit.\n",
    "Comme $x=2$ et $y=5$, cela donne  l'affectation parallèle `x, y = 5, 2`,\n",
    "donc $x=5$, $y=2$.\n",
    "Nous avons donc échangé la valeur des deux variables."
   ]
  },
  {
   "cell_type": "markdown",
   "id": "1e818212",
   "metadata": {},
   "source": [
    "### Exercice 1\n",
    "    \n",
    ">Prédire pour chaque ligne du script des trois cellules ci-dessous la valeur des deux variables `a`, `b` et remplacer les pointillés par ces valeurs.      \n",
    ">Exécuter la cellule pour vérifier si la commande `print` confirme vos calculs.\n"
   ]
  },
  {
   "cell_type": "code",
   "execution_count": null,
   "id": "f1281062",
   "metadata": {},
   "outputs": [],
   "source": [
    "# Compléter les commentaires, puis exécuter la cellule pour vérification\n",
    "a = 3\n",
    "b = 2\n",
    "b = 2 * b + 1 # a=..(compléter).. b=..(compléter)..\n",
    "a = a + 3 # a=... b=...\n",
    "a += 3 # a=... b=...  \n",
    "b = a + b # a=... b=...\n",
    "print(\"a=\", a, \"b=\", b)"
   ]
  },
  {
   "cell_type": "code",
   "execution_count": null,
   "id": "27ae095b",
   "metadata": {},
   "outputs": [],
   "source": [
    "a, b = 3, 2 # a=... b=...\n",
    "b = a # a=... b=...\n",
    "a = b # a=... b=...\n",
    "print(\"a=\", a, \"b=\", b)"
   ]
  },
  {
   "cell_type": "code",
   "execution_count": null,
   "id": "0ca3d3fc",
   "metadata": {},
   "outputs": [],
   "source": [
    "a, b = 3, 2 # a=... b=...\n",
    "a, b = b, a # a=... b=...\n",
    "print(\"a=\", a, \"b=\", b)"
   ]
  },
  {
   "cell_type": "markdown",
   "id": "819b2315",
   "metadata": {},
   "source": [
    "## Chaine de caractères"
   ]
  },
  {
   "cell_type": "markdown",
   "id": "ccc8b4a1",
   "metadata": {},
   "source": [
    "Pour créer une <span style=\"color:red\">chaine de caractères</span> ou <span style=\"color:red\">string</span>, \n",
    "on utilise des guillemets `\"` (ou apostrophes `'`):"
   ]
  },
  {
   "cell_type": "code",
   "execution_count": null,
   "id": "7ad505f1",
   "metadata": {},
   "outputs": [],
   "source": [
    "ma_ville = \"Rennes\" # la chaine de caractères \"Rennes\" est affecté à la variable ma_ville\n",
    "print(ma_ville)"
   ]
  },
  {
   "cell_type": "markdown",
   "id": "8d340bce",
   "metadata": {},
   "source": [
    "### Chaine de caractères vs. nom de variable\n",
    "\n",
    "- Une chaîne de caractères (string) est une séquence de caractères encadrée par des guillemets simples ou doubles. Elle est utilisé pour représenter du texte.\n",
    "- Un nom de variable (sans guillemets) est utilisé pour référencer un objet (valeur, chaine,....).\n",
    "- Par exemple `mot = \"mot\"` associe la chaine \"mot\" à la variable `mot`."
   ]
  },
  {
   "cell_type": "markdown",
   "id": "ef05d6c9",
   "metadata": {},
   "source": [
    "### Exercice 2\n",
    "    \n",
    ">1. Décider à chaque fois si `\"Rennes\"`, `ma_ville`, et `\"ma_ville\"` est le nom d'une variable ou une chaine de caractères.  \n",
    ">2. Lire, traduire, et expliquer le message d'erreur provoqué par la dernière commande. \n"
   ]
  },
  {
   "cell_type": "code",
   "execution_count": null,
   "id": "37c13fd3",
   "metadata": {},
   "outputs": [],
   "source": [
    "print(\"Rennes\") # \"Rennes\" est ...\n",
    "\n",
    "ma_ville = \"Rennes\" # ma_ville est ...\n",
    "print(ma_ville)\n",
    "\n",
    "print(\"ma_ville\") # \"ma_ville\" est ...\n",
    "\n",
    "print(Rennes) # expliquer le message d'erreur dans la cellule suivante"
   ]
  },
  {
   "cell_type": "markdown",
   "id": "2a717069",
   "metadata": {},
   "source": [
    "**Solution de la question 2 :\n",
    "double cliquer sur cette cellule, la compléter, puis exécuter la cellule**\n",
    "\n",
    "Traduction du message d'erreur en français : ...(compléter).....\n",
    "\n",
    "Expliquer ce qui provoque le message d'erreur : ...(compléter)....."
   ]
  },
  {
   "cell_type": "markdown",
   "id": "607be991",
   "metadata": {},
   "source": [
    "### Longueur\n",
    "\n",
    "La fonction `len` donne le nombre de caractères dans une chaine de caractères:"
   ]
  },
  {
   "cell_type": "code",
   "execution_count": null,
   "id": "ebd2f113",
   "metadata": {},
   "outputs": [],
   "source": [
    "print(len(\"SVE :\")) # on compte l'espace \" \" et \":\""
   ]
  },
  {
   "cell_type": "markdown",
   "id": "35deba40",
   "metadata": {},
   "source": [
    "### Concaténation\n",
    "\n",
    "On peut concaténer  deux chaines de caractères:"
   ]
  },
  {
   "cell_type": "code",
   "execution_count": null,
   "id": "38b59a8d",
   "metadata": {},
   "outputs": [],
   "source": [
    "print(\"Mon nom est \" + \"Chloé\")"
   ]
  },
  {
   "cell_type": "code",
   "execution_count": null,
   "id": "2a3020b7",
   "metadata": {},
   "outputs": [],
   "source": [
    "print(3 * \"bla\") # Concatène 3 fois la chaine de caractères \"bla\""
   ]
  },
  {
   "cell_type": "code",
   "execution_count": null,
   "id": "e35ae6f6",
   "metadata": {},
   "outputs": [],
   "source": [
    "print(\"Re\" + 2*\"n\" + \"es\")"
   ]
  },
  {
   "cell_type": "code",
   "execution_count": null,
   "id": "293e2946",
   "metadata": {},
   "outputs": [],
   "source": [
    "print(5*\"+\")"
   ]
  },
  {
   "cell_type": "markdown",
   "id": "7ef8f948",
   "metadata": {},
   "source": [
    "### Exercice 3\n",
    "    \n",
    ">On appelle polyC un oligonucléotide qui ne contient que des bases C comme par exemple CCCCCC. Cet oligonucléotide est de longueur 6 car il contient 6 bases.\n",
    ">\n",
    ">1. Générer une chaîne de caractères représentant un oligonucléotide polyG (GGGG…) de 19 bases, sans taper littéralement toutes les bases.     \n",
    ">Affecter cette chaine à la variable `polyG` et afficher cette\n",
    ">chaine avec `print()`.     \n",
    ">Vérifier la longueur de la chaine obtenue à l'aide de la fonction `len`.   \n",
    ">2. Suivant le modèle de (a), générez  un polyT de 20 bases suivi d'un polyAT régulier\n",
    ">(ATAT…) de 40 bases."
   ]
  },
  {
   "cell_type": "markdown",
   "id": "83a8c914",
   "metadata": {},
   "source": [
    "<span style=\"background:yellow;color:black\"> Conseil :</span>\n",
    "Par prudence, **relancer le noyeau** avec <i class=\"fa fa-repeat\"></i> pour re-initialiser les variables\n",
    "chaque fois que vous commencez un nouveau exercice."
   ]
  },
  {
   "cell_type": "markdown",
   "id": "6c2f3388",
   "metadata": {},
   "source": [
    "**Solution:**"
   ]
  },
  {
   "cell_type": "code",
   "execution_count": null,
   "id": "b6ca9543",
   "metadata": {},
   "outputs": [],
   "source": []
  },
  {
   "cell_type": "markdown",
   "id": "5ad59198",
   "metadata": {},
   "source": [
    "## Print"
   ]
  },
  {
   "cell_type": "markdown",
   "id": "4cc50678",
   "metadata": {},
   "source": [
    "Nous avons vu une utilisation de la commande `print` qui marche bien pour des cas simples comme :"
   ]
  },
  {
   "cell_type": "code",
   "execution_count": null,
   "id": "2da786a3",
   "metadata": {},
   "outputs": [],
   "source": [
    "x= 6\n",
    "print(\"x=\", x)"
   ]
  },
  {
   "cell_type": "code",
   "execution_count": null,
   "id": "26aab207",
   "metadata": {},
   "outputs": [],
   "source": [
    "x, y = 6, 8.1 \n",
    "print(\"x=\", x, \"et y=\", y) # déjà compliqué"
   ]
  },
  {
   "cell_type": "markdown",
   "id": "1a11eea6",
   "metadata": {},
   "source": [
    "### f-strings"
   ]
  },
  {
   "cell_type": "markdown",
   "id": "aae787ed",
   "metadata": {},
   "source": [
    "En règle générale, je vous conseille d'utiliser les <span style=\"color:red\">f-strings</span> (string **f**ormaté) qui sont très simples, concises et\n",
    "offrent beaucoup de possibilités:"
   ]
  },
  {
   "cell_type": "code",
   "execution_count": null,
   "id": "5e53c717",
   "metadata": {},
   "outputs": [],
   "source": [
    "x, y = 6, 8.1 \n",
    "print(f\"x={x} et y={y}\") # pas d'espace parasite après x="
   ]
  },
  {
   "cell_type": "markdown",
   "id": "01c71854",
   "metadata": {},
   "source": [
    "<span style=\"background:yellow;color:black\">Explication :</span> Quitte à précéder la chaine de caractères par un `f` on peut afficher \n",
    "la valeur d'une variable en l'entourant par des accolades comme`{x}`.\n",
    "\n",
    "Un autre exemple:"
   ]
  },
  {
   "cell_type": "code",
   "execution_count": null,
   "id": "688fd6a3",
   "metadata": {},
   "outputs": [],
   "source": [
    "x, y = 10, 3\n",
    "print(f\"Le quotient de {x} par {y} est {x/y}\")"
   ]
  },
  {
   "cell_type": "markdown",
   "id": "02efbf14",
   "metadata": {},
   "source": [
    "### Formatage"
   ]
  },
  {
   "cell_type": "markdown",
   "id": "81084001",
   "metadata": {},
   "source": [
    "Le `f` qui précède la chaine de caractères vient du nom \"chaine de caractères <span style=\"color:red\">f</span>ormatée\" (ou <span style=\"color:red\">f</span>-string)\n",
    "car cette méthode permet de formater l'affichage comme par exemple:"
   ]
  },
  {
   "cell_type": "code",
   "execution_count": null,
   "id": "5a36e764",
   "metadata": {},
   "outputs": [],
   "source": [
    "print(f\"Le quotient de {x} par {y} est {x/y:.2f}\")"
   ]
  },
  {
   "cell_type": "markdown",
   "id": "e121a002",
   "metadata": {},
   "source": [
    "<span style=\"background:yellow;color:black\">Explication :</span> Pour cet exemple, `.2f` signifie (lire de droite à gauche) que nous affichons un `float` (nombre décimal) en utilisant deux\n",
    "chiffres après la virgule (le point) en arrondissant."
   ]
  },
  {
   "cell_type": "markdown",
   "id": "33bfdf8d",
   "metadata": {},
   "source": [
    "### Exercice 4\n",
    "\n",
    ">Le pourcentage de GC dans une séquence est calculé à l'aide de la formule\n",
    ">$$ \\frac{G+C}{A+T+G+C}\\cdot 100$$\n",
    ">où $A$ désigne le nombre d'adénines dans la séquence, $C$ celui de cytosines,\n",
    ">$G$ celui de guanines,  et $T$ celui de thymines.\n",
    ">\n",
    ">Créer les variables `A`, `C`, `G` et `T` et leur affecter respectivement  les nombres d'adénines, \n",
    ">de cytosines, de guanines et de thymines suivants: 3025 adénines, 2575 cytosines, 4500 guanines \n",
    ">et 4700 thymines.     \n",
    ">Avec ces données, calculer le pourcentage de GC que vous stockez dans une \n",
    "variable `GC`. Afficher le résultat.\n",
    ">>*Remarques :* Afficher le résultat sous forme explicite comme \"Le pourcentage de GC est...\".   "
   ]
  },
  {
   "cell_type": "markdown",
   "id": "e8cb780b",
   "metadata": {},
   "source": [
    "**Commencer par insérer une nouvelle cellule \"code\" après celle-ci:** Cliquer d'abord (une fois) sur cette cellule pour la rendre active (cadre bleu), puis cliquer sur <i class=\"fa fa-plus\" aria-hidden=\"true\"></i> pour insérer une nouvelle cellule en-dessous. Vous pouvez aussi utiliser le menu \"Insérer\". Puis écrire votre programme dans cette cellule.\n",
    "\n",
    "\n",
    "<span style=\"background:yellow;color:black\"> Conseil :</span> Si vous vous êtes trompé d'emplacement, vous pouvez **déplacer** la cellule avec <i class=\"fa fa-arrow-up\"></i> et  <i class=\"fa fa-arrow-down\"></i>. Vous pouvez aussi l'effacer avec <i class=\"fa fa-scissors\"></i> et recommencer.\n",
    "\n",
    "\n",
    "**Solution** :"
   ]
  },
  {
   "cell_type": "markdown",
   "id": "cf6d9051",
   "metadata": {},
   "source": [
    "## Tests et instructions conditionnelles"
   ]
  },
  {
   "cell_type": "markdown",
   "id": "15e31aa6",
   "metadata": {},
   "source": [
    "Les <span style=\"color:red\">valeurs logiques (ou booléens)</span> sont `True` (Vrai) et `False` (Faux)."
   ]
  },
  {
   "cell_type": "markdown",
   "id": "c6d6f821",
   "metadata": {},
   "source": [
    "Nous utilisons les <span style=\"color:red\">opérateurs de comparaison</span> suivants:\n",
    "\n",
    "Opération  | Signification |\n",
    ":-:       | :-:                    |       \n",
    "<         |  strictement inférieur  |               \n",
    "<=         | inférieur ou égal      |       \n",
    "\\>          |  strictement supérieur |               \n",
    "\\>=         |  supérieur ou égal     |      \n",
    "==         |  test d'égalité                    |  \n",
    "!=         | différent                | "
   ]
  },
  {
   "cell_type": "code",
   "execution_count": null,
   "id": "b7c9315a",
   "metadata": {},
   "outputs": [],
   "source": [
    "5.3 > 0 # plus grand"
   ]
  },
  {
   "cell_type": "code",
   "execution_count": null,
   "id": "5b751dd2",
   "metadata": {},
   "outputs": [],
   "source": [
    "-3 >= 0 # plus grand ou égal"
   ]
  },
  {
   "cell_type": "code",
   "execution_count": null,
   "id": "83a19fe3",
   "metadata": {},
   "outputs": [],
   "source": [
    "5 == 5.0 # test d'égalité"
   ]
  },
  {
   "cell_type": "code",
   "execution_count": null,
   "id": "6b877942",
   "metadata": {},
   "outputs": [],
   "source": [
    "\"Bonjour\" == \"bonjour\""
   ]
  },
  {
   "cell_type": "markdown",
   "id": "07ddeb0b",
   "metadata": {},
   "source": [
    "<span style=\"background:yellow;color:black\"> Attention :</span>  il ne faut pas confondre `==` qui permet de tester une égalité avec `=` qui permet d'affecter une valeur à une variable."
   ]
  },
  {
   "cell_type": "code",
   "execution_count": null,
   "id": "2df1ad51",
   "metadata": {},
   "outputs": [],
   "source": [
    "a = 2 # affectation\n",
    "a = 3 # reaffectation\n",
    "a"
   ]
  },
  {
   "cell_type": "code",
   "execution_count": null,
   "id": "3c03ecdb",
   "metadata": {},
   "outputs": [],
   "source": [
    "a = 2\n",
    "a == 3 # faux car a = 2"
   ]
  },
  {
   "cell_type": "markdown",
   "id": "047673c0",
   "metadata": {},
   "source": [
    "### Opérateurs logiques"
   ]
  },
  {
   "cell_type": "markdown",
   "id": "59f16e43",
   "metadata": {},
   "source": [
    "Opérateur  | Signification |\n",
    ":-:       | :-:                    |       \n",
    "and         |  et  |               \n",
    "or         | ou (non exclusive)   | \n",
    "not        | négation"
   ]
  },
  {
   "cell_type": "code",
   "execution_count": null,
   "id": "8b10b44f",
   "metadata": {},
   "outputs": [],
   "source": [
    "x, y = 2, 5\n",
    "(x>0) and (x < y) # x plus grand que 1 et x inférieure à y"
   ]
  },
  {
   "cell_type": "markdown",
   "id": "84f29741",
   "metadata": {},
   "source": [
    "On obtient `True`, car les deux conditions `x>0`et `x<y` sont vraies. \n",
    "\n",
    "L'opérateur `or` donne `True` si au moins une \n",
    "des deux conditions est vraie, mais aussi si les deux le sont, car le ou n'est pas exclusif.\n"
   ]
  },
  {
   "cell_type": "code",
   "execution_count": null,
   "id": "ade8a53e",
   "metadata": {},
   "outputs": [],
   "source": [
    "x, y = -1, 3\n",
    "x>0 or y>0 # vrai car (au moins) une des deux conditions est vraie"
   ]
  },
  {
   "cell_type": "markdown",
   "id": "ed313528",
   "metadata": {},
   "source": [
    "### Test conditionnel"
   ]
  },
  {
   "cell_type": "code",
   "execution_count": null,
   "id": "55fa2ba8",
   "metadata": {},
   "outputs": [],
   "source": [
    "x = 5\n",
    "if x > 0: # si x>0\n",
    "    print(f\"{x} est positif\") # exécuté car 5>0"
   ]
  },
  {
   "cell_type": "markdown",
   "id": "bde19ec7",
   "metadata": {},
   "source": [
    "<span style=\"background:yellow;color:black\">Attention :</span>\n",
    "\n",
    "- Ne pas oublier le caractère `\":\"` à la fin de la ligne débutant par `if` qui indique à *Python* qu'un bloc d'instructions commence.  \n",
    "- Le bloc d'instructions peut contenir plusieurs lignes.   \n",
    "- Ne pas oublier <span style=\"color:red\">l'indentation</span> (décalage du text).\n",
    "Elle est  **indispensable** pour que Python identifie correctement le début et la fin du bloc d'instructions. Utiliser de préférence quatre espaces (ou une tabulation) pour indenter.\n",
    "- Sauf pour un bloc d'instruction qui suit une ligne qui se termine avec `\":\"`, il faut toujours aligner à gauche les commandes *Python*."
   ]
  },
  {
   "cell_type": "code",
   "execution_count": null,
   "id": "2609001a",
   "metadata": {},
   "outputs": [],
   "source": [
    "x = 5\n",
    "if x > 0:\n",
    "    print(f\"{x} est positif\") # exécuté si x>0\n",
    "else: # sinon: x>0 n'est pas vrai\n",
    "    print(f\"{x} est négatif ou zero\")"
   ]
  },
  {
   "cell_type": "code",
   "execution_count": null,
   "id": "595ab50f",
   "metadata": {},
   "outputs": [],
   "source": [
    "x = -5\n",
    "if x > 0:\n",
    "    print(f\"{x} est positif\")\n",
    "else:\n",
    "    print(f\"{x} est négatif ou zero\")"
   ]
  },
  {
   "cell_type": "markdown",
   "id": "795ff84f",
   "metadata": {},
   "source": [
    "Le bloc d'instruction de `else` est exécuté si la première condition `x > 0` est fausse."
   ]
  },
  {
   "cell_type": "code",
   "execution_count": null,
   "id": "5c90c129",
   "metadata": {},
   "outputs": [],
   "source": [
    "# Exécuter la cellule pour x=5 (et avec x=-5, x=0 en commentaire). \n",
    "# Puis pour x=-5 (et les deux autres en commentaire) ...\n",
    "x = 0\n",
    "\n",
    "if x > 0:\n",
    "    print(f\"{x} est positif\")\n",
    "elif x < 0: \n",
    "    print(f\"{x} est négatif\")\n",
    "else: \n",
    "    print(f\"{x} est zero\")"
   ]
  },
  {
   "cell_type": "markdown",
   "id": "212111d2",
   "metadata": {},
   "source": [
    "De façon plus générale, l'instruction `if/elif/else` s'utilise de la façon suivante:\n",
    "\n",
    "```py\n",
    "if condition1:\n",
    "    instructions exécutées si condition1 est vraie\n",
    "elif condition2: \n",
    "    instructions exécutées si condition1 est fausse et condition2 est vraie...\n",
    "elif condition3: # plusieurs elif sont possibles\n",
    "    .....\n",
    "else: \n",
    "    instructions exécutées si condition1, condition2, condition3,... sont fausses\n",
    "```\n"
   ]
  },
  {
   "cell_type": "markdown",
   "id": "87c3f1cc",
   "metadata": {},
   "source": [
    "### Exercice 5\n",
    "\n",
    ">Une salle de sport facture 35 <i class=\"fa fa-eur\" aria-hidden=\"true\"></i>\n",
    ">les 10 premières séances de coaching individuel et 28 <i class=\"fa fa-eur\" aria-hidden=\"true\"></i>\n",
    ">les suivantes.\n",
    ">\n",
    ">Déterminer le prix en fonction du combre de séances\n",
    "\n",
    "**Solution :**"
   ]
  },
  {
   "cell_type": "code",
   "execution_count": null,
   "id": "f592265c",
   "metadata": {},
   "outputs": [],
   "source": []
  },
  {
   "cell_type": "markdown",
   "id": "7fe23d63",
   "metadata": {},
   "source": [
    "## Input\n",
    "\n",
    "- la commande `input(\"Donner votre nom :\")` affiche à l'écran \"Donner votre nom :\" et\n",
    "met en pause l'exécution du programme en attendant que l'utilisateur ait entré une réponse.    \n",
    "- La réponse est stockée dans la variable `nom`.  "
   ]
  },
  {
   "cell_type": "code",
   "execution_count": null,
   "id": "77cdbb14",
   "metadata": {
    "scrolled": true
   },
   "outputs": [],
   "source": [
    "nom = input(\"Donner votre nom : \")\n",
    "print(f\"Bonjour {nom}\")"
   ]
  },
  {
   "cell_type": "code",
   "execution_count": null,
   "id": "8015a535",
   "metadata": {},
   "outputs": [],
   "source": [
    "nombre = input(\"Donner un entier :\") # nombre sous forme de chaine\n",
    "nombre = int(nombre) # transforme chaine de caractères en entier\n",
    "print(\"Le double de ton nombre est \", 2 * nombre)"
   ]
  },
  {
   "cell_type": "markdown",
   "id": "74666901",
   "metadata": {},
   "source": [
    "Au lieu de `int`, on peut aussi utiliser `float` pour transformer le résultat en nombre décimal."
   ]
  },
  {
   "cell_type": "markdown",
   "id": "55a3a131",
   "metadata": {},
   "source": [
    "<span style=\"background:yellow;color:black\">Explication :</span>\n",
    "Le résultat de `input` est une chaine de caractères. Pour pouvoir faire des calculs, il faut le transformer en un entier avec la commance `int`. On peut aussi le transformer en nombre décimal avec `float`."
   ]
  },
  {
   "cell_type": "markdown",
   "id": "b1a3261f",
   "metadata": {},
   "source": [
    "### Exercice 6\n",
    "\n",
    "> Demander à l'utilisateur de fournir la largeur, puis (nouveau input) la longueur d'un rectangle.    \n",
    "> Déterminer l'aire de ce rectangle.    \n",
    "> Utiliser les f-strings pour afficher \"L'aire d'un rectangle de largeur ... et longueur ... est ...\"  \n",
    "\n",
    "**Solution :**"
   ]
  }
 ],
 "metadata": {
  "kernelspec": {
   "display_name": "Python 3 (ipykernel)",
   "language": "python",
   "name": "python3"
  },
  "language_info": {
   "codemirror_mode": {
    "name": "ipython",
    "version": 3
   },
   "file_extension": ".py",
   "mimetype": "text/x-python",
   "name": "python",
   "nbconvert_exporter": "python",
   "pygments_lexer": "ipython3",
   "version": "3.9.7"
  }
 },
 "nbformat": 4,
 "nbformat_minor": 5
}

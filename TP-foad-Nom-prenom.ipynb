{
 "cells": [
  {
   "cell_type": "markdown",
   "id": "a2c26f7f",
   "metadata": {},
   "source": [
    "<link rel=\"stylesheet\" href=\"https://cdnjs.cloudflare.com/ajax/libs/font-awesome/4.7.0/css/font-awesome.min.css\">"
   ]
  },
  {
   "cell_type": "markdown",
   "id": "eddbcdf4",
   "metadata": {},
   "source": [
    "**Nom prénom :**                                                                 \n",
    "**Groupe :**    \n",
    "**Date :**"
   ]
  },
  {
   "cell_type": "markdown",
   "id": "d8d367a9",
   "metadata": {},
   "source": [
    "<span style=\"background:yellow;color:black\"> Avant de commencer: </span>\n",
    "\n",
    "- Remplir la cellule ci-dessus.\n",
    "- Modifier le nom du notebook        "
   ]
  },
  {
   "cell_type": "markdown",
   "id": "3f5dca41",
   "metadata": {},
   "source": [
    "<span style=\"background:yellow;color:black\"> Instructions pour déposer votre compte rendu </span>\n",
    "\n",
    "- Si vous utilisez Basthon: `imprimer` du menu du navigateur (trois points), puis `enregistrer au format pdf`. (\"Print preview\" n'est pas disponible.)\n",
    "- Dans les salles TP : `Print Preview` du menu `File` de Jupyter. Ensuite : `imprimer` du menu du navigateur (trois points), puis `enregistrer au format pdf`.\n",
    "- Déposer le notebook (fichier .ipynb) et le fichier pdf dans le dépôt Moodle. Votre nom doit figurer dans le nom des deux fichiers.    "
   ]
  },
  {
   "cell_type": "markdown",
   "id": "6b453eb4",
   "metadata": {},
   "source": [
    "# <center> TP foad - Boucle while et fonctions </center>"
   ]
  },
  {
   "cell_type": "markdown",
   "id": "b40d54f8",
   "metadata": {},
   "source": [
    "## Boucle conditionnelle"
   ]
  },
  {
   "cell_type": "markdown",
   "id": "9402f8e0",
   "metadata": {},
   "source": [
    "Une boucle conditionnelle exécute une suite d'instructions tant qu'une certaine condition est réalisée.\n",
    "On utilise `while` qui signifie *tant que*. \n",
    "\n",
    "Par exemple:"
   ]
  },
  {
   "cell_type": "code",
   "execution_count": null,
   "id": "92c20cad",
   "metadata": {},
   "outputs": [],
   "source": [
    "n = 1 # Initialisation de la variable d'itération\n",
    "while n**2 < 50: # vérifier que cette condition deviendra fausse après un nombre fini d'itérations !!!\n",
    "    n = n + 1 # incrémentation de la variable d'itération : sinon boucle infini !!!!\n",
    "print(n)"
   ]
  },
  {
   "cell_type": "markdown",
   "id": "8674ee19",
   "metadata": {},
   "source": [
    "La même boucle avec des `print` pour comprendre son fonctionnement :"
   ]
  },
  {
   "cell_type": "code",
   "execution_count": null,
   "id": "44db1626",
   "metadata": {},
   "outputs": [],
   "source": [
    "n = 1\n",
    "while n**2 < 50: \n",
    "    print(f\"Entré de boucle : n={n}, n^2={n**2}\", end = \". \")\n",
    "    n = n + 1\n",
    "    print(f\"Sortie de boucle : n={n}, n^2={n**2}\")\n",
    "print(f\"le plus petit n telle que n**2>=50 est {n}\")"
   ]
  },
  {
   "cell_type": "markdown",
   "id": "0b654048",
   "metadata": {},
   "source": [
    "Donc : *tant que $n^2<\\mbox{Max}=50$, $n$ est incrémenté*. Autrement dit,\n",
    "la boucle s'arrête dès que $n^2>50$. Donc la commande `print(n)` donne le premier\n",
    "(le plus petit) $n$ tel que $n^2$ dépasse $50$. En détail:\n",
    "\n",
    "$n$ | $n^2$ | $n^2<50$ | $n=n+1$   \n",
    ":-: |  :-: |  :-: |  :-: |\n",
    "$1$ | $1$ | $\\mbox{vrai}$ | $n=2$    \n",
    "$2$ | $4$  | $\\mbox{vrai}$ | $n=3$     \n",
    "$\\ldots$ | $\\ldots$| $\\ldots$ | $\\ldots$    \n",
    "$7$ | $49$ | $\\mbox{vrai}$ | $n=8$   \n",
    "$8$ | $64$ | $\\mbox{faux}$ | pas exécuté\n",
    "                                            \n",
    "$n=8$ est donc la plus petite valeur tel que $n^2$ dépasse $50$."
   ]
  },
  {
   "cell_type": "markdown",
   "id": "92c105de",
   "metadata": {},
   "source": [
    "Le même exercice, mais on stocke les carrés dans une liste:"
   ]
  },
  {
   "cell_type": "code",
   "execution_count": null,
   "id": "133f8126",
   "metadata": {},
   "outputs": [],
   "source": [
    "n = 1 # initialisation de la variable d'itération\n",
    "carrees = [] # liste vide: initialisation de la liste des carrés\n",
    "while n**2 < 50: # tant que n**2 est plus petit que 50\n",
    "    carrees.append(n**2) # on rajoute (append) n**2 à la liste des carrés\n",
    "    n = n + 1 # incrémentation de la variable d'itération\n",
    "        \n",
    "print(carrees)"
   ]
  },
  {
   "cell_type": "markdown",
   "id": "b53a6e9b",
   "metadata": {},
   "source": [
    "<span style=\"background:yellow;color:black\">Conseil :</span> En général, on utilise une boucle `for` si on connait dès le départ le nombre \n",
    "d'itérations. Une boucle `while` est utilisé pour une itération qui s'arrête si une condition n'est plus vérifié, donc\n",
    "on ne connait pas (à priori) le nombre d'itérations."
   ]
  },
  {
   "cell_type": "markdown",
   "id": "8f50685e",
   "metadata": {},
   "source": [
    "<span style=\"background:yellow;color:black\">Attention :</span> Pour une boucle `while` (contrairement à une boucle `for`), il ne faut pas oublier d'initialiser la variable\n",
    "d'itérations et surtout de la modifier. Sinon on a une boucle infinie !"
   ]
  },
  {
   "cell_type": "markdown",
   "id": "fb3c8999",
   "metadata": {},
   "source": [
    "<span style=\"background:yellow;color:black\">Conseil :</span> Si une boucle `for` et une boucle `while` conviennent pour un exemple, privilégiez la boucle `for` car elle est plus concise (pas besoin d'initialiser \n",
    "ni d'incrémenter la variable d'itération) et plus sûr, car avec une boucle `while` on produit plus facilement une boucle infinie.\n"
   ]
  },
  {
   "cell_type": "markdown",
   "id": "546923ef",
   "metadata": {},
   "source": [
    "### Exercice 1\n",
    "\n",
    ">On imagine une puce qui se déplace aléatoirement sur une ligne en avançant ou en reculant de 1. Si la puce commence en $0$, déterminer le nombre de sauts nécessaires pour arriver pour la première fois en $5$.    \n",
    "Exécuter plusieurs fois votre programme.    \n",
    "> **Commenter** brièvement votre programme. **Ne faites pas des phrases longues.**\n",
    ">>*Indication:* La commande `random.choice([-1,1])` du module (bibliothèque) `random` renvoie au hasard les valeurs $-1$ ou $1$ avec la même probabilité.\n",
    "\n",
    "- Pour **interrompre** l'exécution d'une cellule (boucle infinie !!), utiliser <i class=\"fa fa-square\" aria-hidden=\"true\"></i>.\n",
    "\n",
    "###  Solution :"
   ]
  },
  {
   "cell_type": "code",
   "execution_count": null,
   "id": "1684d577",
   "metadata": {},
   "outputs": [],
   "source": [
    "# programme à compléter\n",
    "# import random # pour pouvoir utiliser random.choice\n",
    "\n",
    "# position = 0\n",
    "# nb_sauts = 0\n",
    "\n",
    "# tant que la position est différente de 5\n",
    "#     choisir une valeur 1 ou -1 avec random.choice([-1,1]) et utiliser cette valeur pour ...\n",
    "#     ... déterminer la nouvelle position\n",
    "#     incrémenter nb_sauts\n",
    "# Afficher le nombre de sauts"
   ]
  },
  {
   "cell_type": "markdown",
   "id": "c95e01a7",
   "metadata": {},
   "source": [
    "### Exercice 2\n",
    "\n",
    "> Pour cet exercice le joueur doit deviner un nombre entre $1$ et $n=5$ que le programme a choisi au hasard. Le joueur à un nombre illimité de tentatives et le programme dit à chaque fois si le nombre proposé par le joueur est trop grand ou trop petit. Le programme termine et affiche le nombre de tentatives si le joueur a trouvé le bon numéro.    \n",
    "> Si le programme fonctionne pour $n=5$, utiliser  $n=100$.  \n",
    "> **Commenter** brièvement votre programme. **Ne faites pas des phrases longues.** \n",
    ">>Avec la bonne stratégie (dichotomie), vous pouvez trouver la bonne réponse en au plus 7 tentatives pour $n=100$.             \n",
    ">>*Indications :* \n",
    ">> - La commande `random.randint(1, 5)` du module (bibliothèque) `random` renvoie au hasard un entier entre \n",
    "$1$ et $5$ (incluses) avec la même probabilité.  \n",
    ">> - Ne pas oublier de transformer le résultat de `input` en entier.\n",
    ">> - Ne pas oublier une commande `input` dans la boucle \"tant que\" pour le choix d'un nombre du joueur.\n",
    ">> - Vous pouvez utiliser les f-string dans `input` comme par exemple : `input(f\"bla bla {n} bla \")`\n",
    "\n",
    "- **Relancer le noyeau** avec <i class=\"fa fa-repeat\"></i> (pour effacer l'historique des variables).\n",
    "- Pour **interrompre** l'exécution d'une cellule, utiliser <i class=\"fa fa-square\" aria-hidden=\"true\"></i>.\n",
    "\n",
    "###  Solution"
   ]
  },
  {
   "cell_type": "code",
   "execution_count": null,
   "id": "e5a0ff0d",
   "metadata": {},
   "outputs": [],
   "source": [
    "# import random\n",
    "\n",
    "# n = 5\n",
    "# nb_tentatives = ... # initialiseer le compteur\n",
    "# mystere = random.randint(1, n)\n",
    "# demander (input) à l'utilisateur de choisir un entier entre 1 et n\n",
    "# ne pas oublier de transformer le résultat de input en entier\n",
    "# tant que la valeur choisie par l'utilisateur est différente de mystere:\n",
    "#     incrémenter nb_tentatives\n",
    "#     si la valeur est trop grande, afficher \"valeur trop grande\"\n",
    "#     sinon, afficher \"valeur trop petite\"\n",
    "#     demander à l'utilisateur de choisir un nouveau nombre\n",
    "# print qui affiche le nombre de tentatives"
   ]
  },
  {
   "cell_type": "markdown",
   "id": "16ddb003",
   "metadata": {},
   "source": [
    "## Fonctions\n",
    "\n",
    "Voir les vidéos en ligne dans le cours moodle"
   ]
  },
  {
   "cell_type": "markdown",
   "id": "3fa6f644",
   "metadata": {},
   "source": [
    "La syntaxe pour créer une fonction (premier cas particulier) est:   \n",
    "```py\n",
    "def nom_de_ma_fonction(parametre): # parametre=variable; pas oublier \":\"\n",
    "    bloc d'instruction # pas oublier l'indentation\n",
    "    bloc d'instruction\n",
    "    ....\n",
    "    return valeur # valeur donnée en retour; pas oublier !!\n",
    "```\n",
    "Pour appeler une fonction\n",
    "```\n",
    "resultat = nom_de_ma_fonction(valeur) # appelle la fonction et l'exécute avec parametre=valeur\n",
    "                                      # la valeur donné en retour est stocké dans résultat\n",
    "print(variable_resultat) # affiche la valeur donné en retour par la fonction\n",
    "```"
   ]
  },
  {
   "cell_type": "markdown",
   "id": "cfdf9964",
   "metadata": {},
   "source": [
    "### Exemple 1"
   ]
  },
  {
   "cell_type": "code",
   "execution_count": null,
   "id": "d05e63a8",
   "metadata": {},
   "outputs": [],
   "source": [
    "def plus_un(a): # pas besoin de définir a avant de définir la fonction\n",
    "    b = a + 1\n",
    "    return b \n",
    "\n",
    "resultat = plus_un(5) # la valeur que ma_fonction donne en retour est stocké dans resultat\n",
    "print(resultat) # on affiche le résultat"
   ]
  },
  {
   "cell_type": "markdown",
   "id": "1e4590a1",
   "metadata": {},
   "source": [
    "**Explication du programme**\n",
    "\n",
    "- ligne 1 : Quand Python lit `def plus_un(a):`, le nom de cette fonction est stocké en mémoire, mais elle **n'est pas exécuté** \n",
    "- ligne 5 : la commande `resultat = plus_un(5)` fait appel à la fonction et associe la valeur $5$ au paramètre `a` de la fonction. La fonction calcule `b=5+1=6` et donne cette valeur en retour. Cette valeur est stocké dans la variable resultat.\n",
    "\n",
    "<span style=\"background:yellow;color:black\">Important :</span>\n",
    "\n",
    "- La définition d'une fonction doit **précéder** son utilisation.\n",
    "- Une fonction n'est exécuté que lorsqu'elle est appelé, pas à l'endroit de sa définition.\n",
    "- En général, une fonction **n'affiche rien**. Il faut donc une commande `print` pour afficher le résultat. \n",
    "- **N'oubliez pas `return`.**"
   ]
  },
  {
   "cell_type": "markdown",
   "id": "8712e7a6",
   "metadata": {},
   "source": [
    "### Variante de l'utilisation"
   ]
  },
  {
   "cell_type": "code",
   "execution_count": null,
   "id": "71f25f4c",
   "metadata": {},
   "outputs": [],
   "source": [
    "def plus_un(a): # la définition est comme avant\n",
    "    b = a + 1\n",
    "    return b \n",
    "\n",
    "c = 5 # Pas besoin d'utiliser la variable a\n",
    "resultat = plus_un(c) # même chose que resultat = plus_un(5)\n",
    "print(resultat)"
   ]
  },
  {
   "cell_type": "code",
   "execution_count": null,
   "id": "ef67c6e1",
   "metadata": {},
   "outputs": [],
   "source": [
    "a = 5 # on peut utiliser le même nom que pour la définition de la fonction\n",
    "resultat = plus_un(a) # même chose\n",
    "print(resultat)"
   ]
  },
  {
   "cell_type": "markdown",
   "id": "ceb48347",
   "metadata": {},
   "source": [
    "<span style=\"background:yellow;color:black\">Important :</span>\n",
    "    \n",
    "- `c=5`, `plus_un(c)` et `a=5`, `plus_un(a)` donnent le même résultat que `plus_un(5)`.\n",
    "Le choix du nom des varaibles en dehors de la fonction est indépendant du choix des variables à l'intérieur (bloc d'instruction) de la fonction.  \n",
    "- Imaginer qu'une fonction est une \"**boîte noire**\" et vous savez uniquement **ce qu'elle fait** avec la valeur que vous lui donner comme argument, mais pas **comment** elle fait le calcul et quelles sont les noms des variables qu'elle utilise."
   ]
  },
  {
   "cell_type": "markdown",
   "id": "1fb910df",
   "metadata": {},
   "source": [
    "### Variable locale, globale\n",
    "\n",
    "Le programme suivant **produit un message d'erreur**. Il est important de comprendre pourquoi."
   ]
  },
  {
   "cell_type": "code",
   "execution_count": null,
   "id": "1fdcbd8c",
   "metadata": {},
   "outputs": [],
   "source": [
    "def plus_un(a):  # la définition est comme avant\n",
    "    b = a + 1  # b est variable locale connue uniquement à l'extérieur de la fonction\n",
    "    return b # donne en retour la valeur de b\n",
    "\n",
    "c = 5\n",
    "resultat = plus_un(c)\n",
    "print(f\"resultat = {resultat}\")\n",
    "print(f\"Valeur de b :\")\n",
    "print(b) # la variable locale b n'est pas connue en dehors de la fonction (message érreur)"
   ]
  },
  {
   "cell_type": "markdown",
   "id": "cf410d83",
   "metadata": {},
   "source": [
    "<span style=\"background:yellow;color:black\">Important :</span>\n",
    "\n",
    "- Les variables utilisées dans le bloc d'instructions ne sont pas connues en dehors de la fonction. On les appelle des **variables locales**. \n",
    "- Reprenez l'image d'une boîte noire. En tant que utilisateur d'une fonction, vous n'avez pas accès à son contenu, sauf le résultat qu'elle donne en retour.\n",
    "- Dès qu'une fonction à donné en retour le résultat, la \"boîte noire\" est fermée et les variables locales sont effacées de la mémoire. Donc la variable locale `b` n'existe plus à la ligne 9."
   ]
  },
  {
   "cell_type": "markdown",
   "id": "3eaf98b2",
   "metadata": {},
   "source": [
    "### Variable locale, globale (suite)"
   ]
  },
  {
   "cell_type": "code",
   "execution_count": null,
   "id": "b6ea3de7",
   "metadata": {},
   "outputs": [],
   "source": [
    "def plus_un_v2(a): # a est variable locale connue uniquement dans la fonction\n",
    "    a = a + 1 # la variable locale a est modifiée\n",
    "    return a\n",
    "\n",
    "a = 5 # variable globale connu partout\n",
    "print(f\"Valeur de la variable globale : a={a}\")\n",
    "result = plus_un_v2(a)\n",
    "print(f\"resultat = {resultat}\")\n",
    "print(f\"la variable globale a n'était pas modifiée : a={a}\")"
   ]
  },
  {
   "cell_type": "markdown",
   "id": "10991d82",
   "metadata": {},
   "source": [
    "<span style=\"background:yellow;color:black\">Important :</span>\n",
    "\n",
    "- La ligne 5 `a=5` définit une **variable globale**, ce qui veut dire qu'elle est connue partout.\n",
    "- ligne 7 : comme `a=5`, la commande `plus_un_v2(a)` de la ligne 7 devient `plus_un_v2(5)` et la fonction est exécutée.\n",
    "- lors de l'exécution de la fonction, une **nouvelle** variable `a` est crée et la valeur $5$ lui est associée. Il s'agit d'une **variable locale** qui n'est connue qu'à l'intérieure de la fonction. \n",
    "- ligne 2 : cette variable locale `a` est modifiée (qui n'a rien a voir avec la variable globale `a` du même nom).\n",
    "- ligne 9 : on vérifie que la variable globale `a` définie à la ligne 5 n'était pas modifiée, donc sa valeur est toujurs $5$. Comme déjà dit, la variable locale existe que pendant l'exécution de la fonction."
   ]
  },
  {
   "cell_type": "markdown",
   "id": "1bbfd0be",
   "metadata": {},
   "source": [
    "### Exercice 3\n",
    "\n",
    "> Écrire une fonction `convertir(temp_fahrenheit)` qui prend en argument \n",
    "> une temperature en degrés Fahrenheit et donne en retour la température convertie en degrés Celsius.\n",
    "> Utiliser la fonction pour plusieurs valeurs.\n",
    ">> *Indication :* Si $t_f$ est la temperature en degrés Fahrenheit, alors la température en degrés Celcius\n",
    "$t_c$ est donnée par\n",
    "\t$$ t_c =\\frac{5}{9} (t_f-32)$$\n",
    ">> *Astuce :* Au lieu d'écrire \"50 degrées\", vous pouvez écire \"50\\u00b0\" (mais ce n'est pas obligatoire)..\n",
    "    \n",
    "### Solution  :"
   ]
  },
  {
   "cell_type": "code",
   "execution_count": null,
   "id": "a7668e23",
   "metadata": {},
   "outputs": [],
   "source": [
    "# def convertir(temp_fahrenheit): # définition de la fonction en début de cellule\n",
    "#     temp_celcius = ...\n",
    "#     return temp_celcius\n",
    "\n",
    "# tester votre fonction avec une valeur\n",
    "# tester avec une autre valeur"
   ]
  },
  {
   "cell_type": "markdown",
   "id": "eada1c05",
   "metadata": {},
   "source": [
    "### Exercice 4\n",
    "\n",
    ">Dans un lac de Bretagne, la population d'ablettes est estimée à 3562 individus en 2020. A cause d'un problème de pollution, la population diminue de 6\\% par an. \n",
    ">Ecrire une fonction `fcn_population(population_min)` qui prend comme argument un entier `population_min` et qui donne en retour le nombre d'années nécessaires pour que  le nombre d'individus devienne inférieur à `population_min`.      \n",
    ">Tester votre fonction avec `population_min = 500`, puis avec `population_min = 100`.\n",
    ">> *Indications :*    \n",
    ">> - Utiliser une boucle `while` dans le bloc d'instructions de la fonction.         \n",
    ">> - Il n'est pas nécessaire de stocker la taille de la population année après année dans une liste. Il suffit d'utiliser une variable `population` auquel on associe les tailles successives de la population. \n",
    ">> - Utiliser `return` dans votre fonction pas `print`.   \n",
    "\n",
    "### Solution"
   ]
  },
  {
   "cell_type": "code",
   "execution_count": null,
   "id": "23feb7b1",
   "metadata": {},
   "outputs": [],
   "source": [
    "# def fcn_population(population_min):\n",
    "    # population = ...\n",
    "    # nb_annees = ...\n",
    "    # tant que population est plus grand que population_min:\n",
    "    #     incrémenter nb_annees\n",
    "    #     déterminer la nouvelle valeur de population\n",
    "    # return ....\n",
    "    \n",
    "# faire appel à la fonction et afficher le résultat"
   ]
  },
  {
   "cell_type": "markdown",
   "id": "a6a0d094",
   "metadata": {},
   "source": [
    "### Fonction avec plusieurs arguments, valeurs"
   ]
  },
  {
   "cell_type": "markdown",
   "id": "be305656",
   "metadata": {},
   "source": [
    "Une fonction peut prendre plusieurs arguments et donner en retour plusieurs\n",
    "valeurs:"
   ]
  },
  {
   "cell_type": "code",
   "execution_count": null,
   "id": "4ad1d284",
   "metadata": {},
   "outputs": [],
   "source": [
    "def somme_difference(a, b):\n",
    "    \"\"\" prend en argument deux valeurs\n",
    "        donne en retour leur somme et leur différence\"\"\"\n",
    "    return (a+b, a-b) # les parenthèses peuvent être omises\n",
    " \n",
    "a = 2\n",
    "b = 5\n",
    "(somme, difference) = somme_difference(a, b)  # les parenthèses de (somme,difference) peuvent être omises\n",
    "\n",
    "print(f\"La somme de {a} et {b} est {somme} et la différence est {difference}\")"
   ]
  },
  {
   "cell_type": "markdown",
   "id": "3afb1665",
   "metadata": {},
   "source": [
    "### Fonction qui prend une chaine comme argument\n",
    "\n",
    "L'argument d'une fonction peut être une chaine de caractères, une liste, ..."
   ]
  },
  {
   "cell_type": "code",
   "execution_count": null,
   "id": "8a89fcdb",
   "metadata": {},
   "outputs": [],
   "source": [
    "def duplic(chaine, entier):\n",
    "    \"\"\"Fonction qui prend comme argument un string et un entier\n",
    "    et donne en retour la concatenation de \"entier\" fois le string\n",
    "    \"\"\"\n",
    "    return entier*chaine\n",
    "\n",
    "chaine = \"Bonjour\"\n",
    "print(duplic(chaine, 3))"
   ]
  },
  {
   "cell_type": "markdown",
   "id": "47873e54",
   "metadata": {},
   "source": [
    "### Documentation d'une fonction\n",
    "\n",
    "Notez que nous avons donné pour la fonction ci-dessus une documentation entre tripple quillemets. \n",
    "\n",
    "Cette documentation peut être récupérée:"
   ]
  },
  {
   "cell_type": "code",
   "execution_count": null,
   "id": "69be0cd2",
   "metadata": {},
   "outputs": [],
   "source": [
    "help(duplic)"
   ]
  },
  {
   "cell_type": "markdown",
   "id": "08039286",
   "metadata": {},
   "source": [
    "<span style=\"background:yellow;color:black\">Conseil :</span> N'écrivez pas des phrases trop longues. Si besoin, **couper en plusieurs lignes**."
   ]
  },
  {
   "cell_type": "markdown",
   "id": "15463546",
   "metadata": {},
   "source": [
    "### Parcourir deux chaines ou listes avez zip\n",
    "\n",
    "`zip(s_1, s_2)` permet de parcourir deux chaines ou listes au même temps car cette fonction donne des \n",
    "tuples de caractères du même rang dans les deux chaines ou listes : `(s_1[0], s_2[0])`, `(s_1[1], s_2[1])`, ....   "
   ]
  },
  {
   "cell_type": "code",
   "execution_count": null,
   "id": "53044983",
   "metadata": {},
   "outputs": [],
   "source": [
    "mot1 = \"Fougères\"\n",
    "mot2 = \"Rennes\" # n'a pas la même longueur que mot1 !\n",
    "\n",
    "for lettre1, lettre2 in zip(mot1, mot2): \n",
    "    print(lettre1, lettre2)"
   ]
  },
  {
   "cell_type": "markdown",
   "id": "0de392a6",
   "metadata": {},
   "source": [
    "Notez que la boucle s'arrête dès que la fin d'un des deux mots est atteinte. Donc il **n'est pas** nécessaire pour `mot1` et `mot2` d'avoir la même longueur. \n"
   ]
  },
  {
   "cell_type": "markdown",
   "id": "cea7ac99",
   "metadata": {},
   "source": [
    "Une version avec indices mais qui ne marche que si les deux mots ont la même longueur :"
   ]
  },
  {
   "cell_type": "code",
   "execution_count": null,
   "id": "eb01871a",
   "metadata": {},
   "outputs": [],
   "source": [
    "mot1 = \"Cesson\"\n",
    "mot2 = \"Rennes\" # a la même longueur que mot1\n",
    "\n",
    "n = len(mot1) \n",
    "for i in range(0, n):\n",
    "    print(mot1[i], mot2[i])"
   ]
  },
  {
   "cell_type": "markdown",
   "id": "be41c18f",
   "metadata": {},
   "source": [
    "### Exercice 5\n",
    "\n",
    ">En biologie de l'évolution, une orthologie est un lien évolutif entre deux gènes présents chez deux espèces différentes. Deux séquences génétiques homologues de deux espèces différentes sont orthologues si elles descendent d'une séquence unique présente dans le dernier ancêtre commun aux deux espèces. \n",
    ">\n",
    ">La distance de Hamming mesure la différence entre deux séquences de même taille\n",
    ">en comptant le nombre de positions qui, pour chaque séquence, ne correspondent pas au même acide aminé.\n",
    ">1. Écrire une fonction `dist_hamming(seq_a, seq_b)` qui prend en argument deux chaines de \n",
    ">caractères et qui renvoi la distance de Hamming, donc le nombre de positions qui sont différentes dans les deux chaines.    \n",
    "> Appliquer la fonction aux deux chaines `chat = \"MWDRTLIILLKVCWT\"` et `chien = \"MYERTIIILLKVTTL\"`.\n",
    ">> Vous pouvez parcourir les deux chaines en utilisant `zip(...)` ou en utilisant un indice.\n",
    ">\n",
    ">2. Modifier la fonction précédente pour qu'elle renvoie deux valeurs:\n",
    ">le nombre et le pourcentage de positions qui sont différentes dans les deux chaines.   \n",
    "> 3. Rajouter une documentation à la fonction et l'afficher avec `help`.\n",
    "\n",
    "### Solution de la question 1 :"
   ]
  },
  {
   "cell_type": "code",
   "execution_count": null,
   "id": "21b63a5d",
   "metadata": {},
   "outputs": [],
   "source": [
    "#def dist_hamming(seq_a, seq_b):\n",
    "#    \"\"\"documentation détaillée\n",
    "#       sur plusieurs lignes courtes !\"\"\"\n",
    "#    initialisation d'un compteur qui compte le nombre de lettres différentes\n",
    "#    pour tous les couples lettre1, lettre2 dans seq_a, seq_b: # utiliser zip\n",
    "#       si les deux lettres sont identiques \n",
    "#           incrémenter le compteur\n",
    "#    donne en retour le nombre de lettres différentes\n",
    "\n",
    "#chat = \"MWDRTLIILLKVCWT\"\n",
    "#chien = \"MYERTIIILLKVTTL\"\n",
    "#exécuter la fonction pour le couple chat,chien\n",
    "#afficher le résultat"
   ]
  },
  {
   "cell_type": "markdown",
   "id": "db909d62",
   "metadata": {},
   "source": [
    "### Solution des questions 2 et 3:"
   ]
  },
  {
   "cell_type": "code",
   "execution_count": null,
   "id": "f9bdc971",
   "metadata": {},
   "outputs": [],
   "source": []
  },
  {
   "cell_type": "markdown",
   "id": "ecb10054",
   "metadata": {},
   "source": [
    "## Message erreur\n",
    "\n",
    "Supposons que pour un programme il est essentiel qu'une variable `x` prenne une valeur positive. Nous pouvons faire"
   ]
  },
  {
   "cell_type": "code",
   "execution_count": null,
   "id": "a0299ad1",
   "metadata": {},
   "outputs": [],
   "source": [
    "x = -5\n",
    "if x < 0:\n",
    "    print(f\"Mauvaise valeur: x={x} doit être positive\")\n",
    "\n",
    "print(\"Suite du programme ....\")"
   ]
  },
  {
   "cell_type": "markdown",
   "id": "34e31949",
   "metadata": {},
   "source": [
    "Le problème est que la suite du programme continue à fonctionner même si `x` est négatif.\n",
    "\n",
    "Pour éviter cela,  nous pouvons utiliser la commande `raise Exception(\"message erreur\")` qui **arrête le programme** et affiche un message d'erreur :"
   ]
  },
  {
   "cell_type": "code",
   "execution_count": null,
   "id": "c89c9812",
   "metadata": {},
   "outputs": [],
   "source": [
    "x = -5\n",
    "if x < 0:\n",
    "    raise Exception(f\"Mauvaise valeur: x={x} doit être positif\") \n",
    "\n",
    "print(\"Suite du programme ....\") # n'est pas exécuté"
   ]
  },
  {
   "cell_type": "markdown",
   "id": "10186c34",
   "metadata": {},
   "source": [
    "### Exercice 5 bis\n",
    "\n",
    "> Modifier la fonction `dist_hamming(seq_a, seq_b)` pour qu'un message d'erreur s'affiche si les deux séquences n'ont pas la même longueur. Sinon, elle donne en retour (comme avant) le nombre et le pourcentage de positions qui sont différentes dans les deux chaines.\n",
    "\n",
    "### Solution"
   ]
  },
  {
   "cell_type": "code",
   "execution_count": null,
   "id": "90ad06cc",
   "metadata": {},
   "outputs": [],
   "source": []
  }
 ],
 "metadata": {
  "kernelspec": {
   "display_name": "Python 3 (ipykernel)",
   "language": "python",
   "name": "python3"
  },
  "language_info": {
   "codemirror_mode": {
    "name": "ipython",
    "version": 3
   },
   "file_extension": ".py",
   "mimetype": "text/x-python",
   "name": "python",
   "nbconvert_exporter": "python",
   "pygments_lexer": "ipython3",
   "version": "3.9.7"
  }
 },
 "nbformat": 4,
 "nbformat_minor": 5
}

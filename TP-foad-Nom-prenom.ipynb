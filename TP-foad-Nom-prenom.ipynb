{
 "cells": [
  {
   "cell_type": "markdown",
   "id": "bd447c89",
   "metadata": {},
   "source": [
    "<link rel=\"stylesheet\" href=\"https://cdnjs.cloudflare.com/ajax/libs/font-awesome/4.7.0/css/font-awesome.min.css\">"
   ]
  },
  {
   "cell_type": "code",
   "execution_count": null,
   "id": "7ee4aa78",
   "metadata": {},
   "outputs": [],
   "source": []
  },
  {
   "cell_type": "markdown",
   "id": "ab70ef98",
   "metadata": {},
   "source": [
    "**Nom prénom :**                                                                 \n",
    "**Groupe :**    \n",
    "**Date :**"
   ]
  },
  {
   "cell_type": "markdown",
   "id": "601ddbc1",
   "metadata": {},
   "source": [
    "<span style=\"background:yellow;color:black\"> Avant de commencer: </span>\n",
    "\n",
    "- Remplir et exécuter (<i class=\"fa fa-play\" aria-hidden=\"true\"></i>) la cellule ci-dessus.\n",
    "- Modififier le nom du notebook (cliquer sur TP2-Nom-prenom) en y mettant votre nom, prénom.  "
   ]
  },
  {
   "cell_type": "markdown",
   "id": "58f10bef",
   "metadata": {},
   "source": [
    "<span style=\"background:yellow;color:black\"> Instructions pour déposer votre compte rendu à la fin du TP</span>\n",
    "\n",
    "- Exporter votre notebook (ouvert) sous forme pdf : faire `Imprimer`, puis `Exporter au format Pdf` du menu du navigateur (décocher \n",
    "`Imprimer les en-têtes`) et sauvegarder dans votre (H:).\n",
    "- Déposer le notebook (fichier .ipynb) et le fichier pdf dans le dépôt Moodle. Votre nom doit figurer dans le nom des deux fichiers.    "
   ]
  },
  {
   "cell_type": "markdown",
   "id": "0c850a46",
   "metadata": {},
   "source": [
    "<span style=\"background:yellow;color:black\"> Rappels :</span>\n",
    "\n",
    "- Utiliser `Esc L` pour afficher le numéro des lignes pour plus facilement localiser les erreurs de syntaxe.\n",
    "- Le raccourcis pour <i class=\"fa fa-play\" aria-hidden=\"true\"></i> est `Ctrl+Entrée` sur Windows ou `Ctrl+Retour` sur Mac. Voir <i class=\"fa fa-keyboard-o\"></i> pour d'autre raccourcis.\n",
    "- Pour **annuler une modification** dans une cellule, utilisez `Ctrl+Z`\n",
    "sous Windows et `Commande+Z` sous Mac.     \n",
    "- Pour **insérer** une nouvelle cellule utiliser <i class=\"fa fa-plus\" aria-hidden=\"true\"></i> ou les raccourcis `esc a` et `esc b`.   \n",
    "- Pour **déplacer** une cellule, utiliser <i class=\"fa fa-arrow-up\"></i> et  <i class=\"fa fa-arrow-down\"></i>.\n",
    "- Pour **effacer** une cellule, utiliser <i class=\"fa fa-scissors\"></i>\n",
    "- Pour **interrompre** l'exécution d'une cellule, utiliser <i class=\"fa fa-square\" aria-hidden=\"true\"></i>."
   ]
  },
  {
   "cell_type": "markdown",
   "id": "2f06d9b5",
   "metadata": {},
   "source": [
    "# <center> TP foad - Numpy, graphiques, fonctions </center>"
   ]
  },
  {
   "cell_type": "markdown",
   "id": "1ae8b4fb",
   "metadata": {},
   "source": [
    "## 1. Représentation graphique d'une série temporelle"
   ]
  },
  {
   "cell_type": "markdown",
   "id": "eb0f1a77",
   "metadata": {},
   "source": [
    "### Exemple (voir TP2)\n",
    "\n",
    "Pour le TP2, nous avons représenté l'évolution du nombre d'abonnés en milliers à un blog sur la cuisine bretonne de 2014 à 2023\n",
    "\n",
    "| Année   | 2017   | 2018   | 2019    | 2020    | 2021    |  2022  | 2023  |\n",
    "| :-:     | :-: | :-:  | :-:  | :-:  | :-: | :-: |  :-: |    \n",
    "| nombre (en milliers) | 20  | 30    | 50    | 60    |  100 | 120 | 160|"
   ]
  },
  {
   "cell_type": "markdown",
   "id": "492a09f7",
   "metadata": {},
   "source": [
    "### Solution sans options"
   ]
  },
  {
   "cell_type": "code",
   "execution_count": null,
   "id": "809274f0",
   "metadata": {},
   "outputs": [],
   "source": [
    "import matplotlib.pyplot as plt\n",
    "\n",
    "plt.figure(figsize=(6, 5))\n",
    "\n",
    "annee = [2017, 2018, 2019, 2020, 2021, 2022, 2023] \n",
    "abonnes = [20, 30, 50, 60, 100, 120, 160] \n",
    "plt.plot(annee, abonnes, \"-o\") # \"-o\" est en option\n",
    "\n",
    "plt.show()\n",
    "plt.close(\"all\")"
   ]
  },
  {
   "cell_type": "markdown",
   "id": "94de1f21",
   "metadata": {},
   "source": [
    "### Solution avec options\n",
    "\n",
    "Le but est de produire un graphique qui donne le maximum d'informations."
   ]
  },
  {
   "cell_type": "code",
   "execution_count": null,
   "id": "693ceda9",
   "metadata": {},
   "outputs": [],
   "source": [
    "import matplotlib.pyplot as plt\n",
    "\n",
    "plt.figure(figsize=(8, 6)) # taille du graphique: largeur=8, hauteur=6\n",
    "\n",
    "annee = [2017, 2018, 2019, 2020, 2021, 2022, 2023] # liste des abscisses\n",
    "abonnes = [20, 30, 50, 60, 100, 120, 160] # liste des ordonnés\n",
    "plt.plot(annee, abonnes, \n",
    "         \"-o\", # en option: on trace les points\n",
    "         linewidth = 2, # en option: épaisseur de la courbe\n",
    "         markersize = 5, # en option: taille des points\n",
    "         color=\"red\" # en option: couleur de la courbe\n",
    "        ) \n",
    "\n",
    "### Commandes optionnelles\n",
    "plt.title(\"Évolution du nombre d'abonnés à un blog de cuisine bretonne\", \n",
    "    fontsize=12, # en option: taille des caractères\n",
    "    color = \"red\" # en option: couleur\n",
    "    )\n",
    "plt.xlabel(\"Année\", \n",
    "    fontsize = 9, # en option: taille des caractères\n",
    "    color = \"blue\" # en option: couleur\n",
    "    )\n",
    "plt.ylabel(\"Nombre d'abonnés (en milliers)\", \n",
    "    fontsize = 9, # en option: taille des caractères\n",
    "    color = \"blue\", # en option: couleur\n",
    "    )\n",
    "plt.grid() # en option : grille\n",
    "### fin des commandes optionnelles\n",
    "\n",
    "plt.show() # le graphique avec toutes les options s'affiche\n",
    "plt.close(\"all\")"
   ]
  },
  {
   "cell_type": "markdown",
   "id": "17da05d6",
   "metadata": {},
   "source": [
    "<span style=\"background:yellow;color:black\">Important :</span> Commencez avec un graphique basique et tester-le  avant de rajouter des options qui sont souvent source d'erreurs de syntaxe. "
   ]
  },
  {
   "cell_type": "markdown",
   "id": "92db7386",
   "metadata": {},
   "source": [
    "### Exercice 1 (reprise d'un exercice du TP2)\n",
    "\n",
    "> Le tableau ci-dessous donne des abondances en nombre d'individus par ml en fonction du temps en jours. Ces données pourraient par exemple décrire la croissance d'une population de *Paramecium aurelia* à 10 degrés celsius dans une solution stérile de peptone protéolysée (1\\% masse/vol). \n",
    ">\n",
    ">| Temps (jours)     | 0   | 3    | 6    | 9    |  12  | \n",
    ">| :-:               | :-: | :-:  | :-:  | :-:  | :-: |     \n",
    ">| Abondance (ind/ml) | 10  | 102    | 1221    | 2435    |  5184  |\n",
    ">\n",
    "> 1. Donner une représentation graphique avec options de ces donnés. Vous pouvez reprendre votre programme du TP 2 et rajouter un titre, une description des axes,...   \n",
    "> 2. En biologie, il est souvent intéressant d'utiliser les échelles logarithmiques. Représenter dans un nouveau graphique (nouvelle cellule) les donnés de l'exercice en échelle logarithmique en remplaçant  `plt.plot(...)` par la fonction `plt.semilogy(...)` qui prend en entrée les mêmes arguments. \n",
    ">> Le but est d'avoir un graphique qui donne le **maximum d'information** sur les donnés. Un titre comme \"Exercice 1\" ou \"graphique\" n'apporte rien. À vous de choisir les options (couleur, taille des caractères, grillage ou non, nuage de points ou courbe brisée) qui vous semblent le plus judicieux.\n",
    "\n",
    "<span style=\"background:yellow;color:black\">Important :</span> Si vous utiliser *Basthon*, n'oublier pas `plt.figure()`  ou `plt.figure(figsize=(...)`.\n",
    "\n",
    "**Solution question 1 :**"
   ]
  },
  {
   "cell_type": "code",
   "execution_count": null,
   "id": "b0df2546",
   "metadata": {},
   "outputs": [],
   "source": []
  },
  {
   "cell_type": "markdown",
   "id": "14f09c93",
   "metadata": {},
   "source": [
    "**Solution question 2 :**"
   ]
  },
  {
   "cell_type": "code",
   "execution_count": null,
   "id": "ed6bec0d",
   "metadata": {},
   "outputs": [],
   "source": []
  },
  {
   "cell_type": "markdown",
   "id": "9d54836b",
   "metadata": {},
   "source": [
    "## 2. Représentation graphique de la courbe d'une fonction\n",
    "\n",
    "### Exemple sans options (voir TP2)\n",
    "\n",
    "Nous avons vu au TP 2 comment donner une représentation graphique basique de la courbe d'une fonction:"
   ]
  },
  {
   "cell_type": "code",
   "execution_count": null,
   "id": "30cc756f",
   "metadata": {},
   "outputs": [],
   "source": [
    "import matplotlib.pyplot as plt # il suffit de l'importer dans une seule cellule\n",
    "import numpy as np # mettre les importations en début de la cellule\n",
    "\n",
    "def f(x): # mettre toutes les définitions en haut de la cellule juste après les importations\n",
    "    y = np.arctan(x) # donner ici l'expression qui définit la fonction\n",
    "    return y\n",
    "\n",
    "plt.figure(figsize=(8, 4)) # définit la taille du graphique\n",
    "\n",
    "a, b = -10, 10 # la courbe est tracé sur l'intervalle [a, b] = [-10, 10];\n",
    "l_x = np.linspace(a, b, 200) # liste des abscisses; modifier si besoin le nombre de points\n",
    "l_y = [f(x) for x in l_x] # liste des ordonnés\n",
    "plt.plot(l_x, l_y) # construit le graphique\n",
    "\n",
    "plt.show() # affiche le graphique\n",
    "plt.close(\"all\")"
   ]
  },
  {
   "cell_type": "markdown",
   "id": "faeffd79",
   "metadata": {},
   "source": [
    "Comme pour une série temporelle, on peut :\n",
    "- utiliser les options `\"-o\"`, `linewidth`, `markersize`, `color` dans `plt.plot()`   \n",
    "- utiliser les commandes `plt.title()`, `plt.xlabel()`, `plt.ylabel()` avec options `color`, `fontsize`\n",
    "- rajouter un quadrillage avec `plt.grid()`"
   ]
  },
  {
   "cell_type": "markdown",
   "id": "a2e15cfc",
   "metadata": {},
   "source": [
    "### Représentation de plusieurs courbes (sans options)\n",
    "\n",
    "- Pour représenter plusieurs courbes dans **le même graphique**, il faut utiliser **un seul `plt.show()`** après les deux commandes `plt.plot()`:\n",
    "```py\n",
    "plt.plot() # première courbe\n",
    "plt.plot() # deuxième courbe\n",
    "plt.show() # on affiche les deux courbes dans le même graphique\n",
    "```\n",
    "- les deux courbes s'affichent **dans deux fenêtres graphiques différentes** si vous rajoutez un `plt.show()` entre les deux `plt.plot()`:\n",
    "```py\n",
    "plt.plot() # première courbe\n",
    "plt.show() # on affiche la première courbe dans un premier graphique\n",
    "plt.plot() # deuxième courbe\n",
    "plt.show() # # on affiche la deuième courbe dans un deuxièm graphique\n",
    "```"
   ]
  },
  {
   "cell_type": "code",
   "execution_count": null,
   "id": "ea0c07b4",
   "metadata": {},
   "outputs": [],
   "source": [
    "import numpy as np\n",
    "import matplotlib.pyplot as plt\n",
    "\n",
    "def f(x): # première fonction à représenter\n",
    "    return np.sin(x)\n",
    "\n",
    "def g(x): # deuxième fonction à représenter\n",
    "    return np.cos(x)\n",
    "\n",
    "plt.figure(figsize=(10, 6)) # taille du graphique\n",
    "\n",
    "l_x = np.linspace(-2*np.pi, 2*np.pi, 200) # liste des abscisses pour les deux fontins\n",
    "\n",
    "# premier graphique\n",
    "l_y1 = [f(x) for x in l_x] # liste des ordonnés de f\n",
    "plt.plot(l_x, l_y1, label = \"sin\") # label pour la légende\n",
    "\n",
    "# deuxième graphique\n",
    "l_y2 = [g(x) for x in l_x]  # liste des ordonnés de g\n",
    "plt.plot(l_x, l_y2, label = \"cos\")\n",
    "\n",
    "plt.legend() # affiche la légende\n",
    "\n",
    "plt.show() # affiche le graphique avec les deux courbes\n",
    "plt.close(\"all\")"
   ]
  },
  {
   "cell_type": "markdown",
   "id": "00c556cf",
   "metadata": {},
   "source": [
    "**Précisions**\n",
    "- La commande `plt.figure()` initialise une nouvelle figure. On peut au même temps spécifier les dimensions avec `plt.figure(figsize=(n,m))` pour des valeurs `n` et `m`.\n",
    "- `plt.plot()` rajoute un graphique à la figure crée par `plt.figure()`. On peut rajouter plusieurs graphiques avec plusieurs `plt.plot()`.\n",
    "- `plt.show()` affiche à l'écran la figure crée prédedemment avec tous les `plt.plot()`, ...\n",
    "- suivant l'interface utilisée, `plt.figure()` et `plt.show()` peuvent être omises, mais il est conseillé de les utiliser pour bien structurer le programme et pour éviter que des graphiques anciennes se superposent à un nouveau graphique."
   ]
  },
  {
   "cell_type": "markdown",
   "id": "ac6acb82",
   "metadata": {},
   "source": [
    "### Représentation de plusieurs courbes avec options\n",
    "\n",
    "Notons que les différentes courbes sont tracées sur des **intervalles différents**"
   ]
  },
  {
   "cell_type": "code",
   "execution_count": null,
   "id": "cb4cd552",
   "metadata": {},
   "outputs": [],
   "source": [
    "import matplotlib.pyplot as plt \n",
    "import numpy as np \n",
    "\n",
    "### définition des fonctions qui sont représentées\n",
    "def f(x): \n",
    "    y = np.arctan(x) \n",
    "    return y\n",
    "\n",
    "def g(x): # asymptôte d'équation y = pi/2\n",
    "    return 1/2*np.pi\n",
    "\n",
    "plt.figure(figsize=(10, 6)) # définit la taille du graphique\n",
    "\n",
    "### représentation de la courbe de f sur [-10, 10]\n",
    "a, b = -10, 10 \n",
    "l_x = np.linspace(a, b, 200) \n",
    "l_y = [f(x) for x in l_x] \n",
    "plt.plot(l_x, l_y, label=\"arctan\") \n",
    "\n",
    "### représentation de l'asymptôte y=pi/2 sur [1, 10] (courbe de g)\n",
    "a1, b1 = 1, 10 \n",
    "l_x1 = np.linspace(a1, b1, 200) # on peut remplacer 200 par 2 pour tracer une droite.\n",
    "l_y1 = [g(x) for x in l_x1] \n",
    "plt.plot(l_x1, l_y1, color=\"red\", label=\"y=pi/2\", linestyle=\":\") \n",
    "\n",
    "### représentation de l'asymptôte y=-pi/2 sur [1, 10] (courbe de -g)\n",
    "a2, b2 = -10, -1 \n",
    "l_x2 = np.linspace(a2, b2, 200) \n",
    "l_y2 = [-g(x) for x in l_x2] \n",
    "plt.plot(l_x2, l_y2, color=\"orange\", label=\"y=-pi/2\", linestyle=\":\") \n",
    "\n",
    "plt.legend(fontsize=10) # affiche la légende; fontsize est optionnel\n",
    "\n",
    "### commandes en option\n",
    "plt.title(\"courbe de arctan et de ces asymptôtes\", fontsize=14, color=\"blue\") \n",
    "plt.xlabel(\"x\", fontsize=12, color=\"blue\") \n",
    "plt.ylabel(\"y\", fontsize=12, color=\"blue\") \n",
    "plt.grid() \n",
    "\n",
    "plt.show() # affiche le graphique\n",
    "plt.close(\"all\")"
   ]
  },
  {
   "cell_type": "markdown",
   "id": "5e4626be",
   "metadata": {},
   "source": [
    "<span style=\"background:yellow;color:black\">Remarques :</span>\n",
    "- Pour tracer un ségment, il suffit d'utiliser deux points: `l_x1 = np.linspace(a1, b1, 2)`. De même pour `l_x2`.    "
   ]
  },
  {
   "cell_type": "markdown",
   "id": "43930a41",
   "metadata": {},
   "source": [
    "### Exercice 2  (reprise d'un exercice du TP2)\n",
    "\n",
    "> 1. Représenter (avec options) sur l'intervalle $[-10, 10]$ la courbe du sinus cardinal (normalisé) qui est défini par\n",
    "> $$f(x)=\\frac{1}{\\pi x} \\sin(\\pi x).$$ \n",
    ">> Vous pouvez reprendre votre solution du TP2 et rajouter un titre,....\n",
    "> 2. Rajouter dans le graphique de 1. les deux \"enveloppes\" de la courbe de $f$: \n",
    "> - la courbe de $g(x)=\\frac{1}{\\pi x}$ sur l'intervalle $[0.3, 10]$ et sur l'intervalle $[-10, -0.3]$. \n",
    "> - la courbe de $-g(x)=-\\frac{1}{\\pi x}$ sur l'intervalle $[0.3, 10]$ et sur l'intervalle $[-10, -0.3]$\n",
    ">> - Il faut utiliser un `linspace` approprié pour représenter $f$ sur $[-10, 10]$, un autre pour représenter $g$ et $-g$ sur $[0.3, 10]$, et un troisième pour représenter $g$ et $-g$ sur $[-10, -0.3]$.    \n",
    ">> - Utiliser une couleur pour $f$, une deuxième pour les deux morceaux de $g$ (sur $[0.3, 10]$ et sur $[-10, -0.3]$), et une troisième pour les deux morceaux de $-g$.    \n",
    ">> - Utiliser un `label` pour $f$, un autre pour $g$ (un des deux morceaux), et un troisième pour $-g$.\n",
    "\n",
    "\n",
    "**Solution**"
   ]
  },
  {
   "cell_type": "code",
   "execution_count": null,
   "id": "ea541a5f",
   "metadata": {},
   "outputs": [],
   "source": []
  },
  {
   "cell_type": "markdown",
   "id": "b81ab250",
   "metadata": {},
   "source": [
    "## 3. Histogramme"
   ]
  },
  {
   "cell_type": "markdown",
   "id": "19aecfbc",
   "metadata": {},
   "source": [
    "Pour représenter graphiquement un grand nombre de données, on peut les regrouper en classes:\n",
    "\n",
    "**Version 1 :** on spécifie les bornes des classes"
   ]
  },
  {
   "cell_type": "code",
   "execution_count": null,
   "id": "615f378f",
   "metadata": {},
   "outputs": [],
   "source": [
    "import matplotlib.pyplot as plt\n",
    "# notes obtenus par 30 étudiants\n",
    "notes = [10.0, 16.2, 10.2, 15.0, 13.2, 13.8, 11.2, 5.8, 10.8, 16.5, \n",
    "         19.5, 16.8, 19.0, 14.0, 6.5, 8.5, 15.8, 14.0, 11.5, 15.5, \n",
    "         11.0, 2.8, 16.0, 10.0, 11.0, 12.5, 13.5, 5.5, 16.2, 13.2]\n",
    "plt.figure(figsize=(8, 6))\n",
    "plt.hist(notes, \n",
    "         bins=[0, 5, 10, 15, 20], # on utilise les classes [0, 5[, [5, 10[, [10, 15[, [15, 20]]\n",
    "        )\n",
    "plt.show()\n",
    "plt.close(\"all\")"
   ]
  },
  {
   "cell_type": "markdown",
   "id": "eb56c258",
   "metadata": {},
   "source": [
    "**Interprétation :** \n",
    "- Il y a $1$ note dans $[0, 5[$, $5$ notes dans $[5, 10[$, $15$ note dans $[10, 15[$, $10$ notes dans $[15, 20]$.\n",
    "- Notons que la borne supérieure d'une classe n'est pas inclus dans la classe (sauf pour la dernière). "
   ]
  },
  {
   "cell_type": "markdown",
   "id": "68eb77a1",
   "metadata": {},
   "source": [
    "**Version 2 :** on spécifie le nombre de classes"
   ]
  },
  {
   "cell_type": "code",
   "execution_count": null,
   "id": "6fb32661",
   "metadata": {},
   "outputs": [],
   "source": [
    "import matplotlib.pyplot as plt\n",
    "\n",
    "notes = [10.0, 16.2, 10.2, 15.0, 13.2, 13.8, 11.2, 5.8, 10.8, 16.5, \n",
    "         19.5, 16.8, 19.0, 14.0, 6.5, 8.5, 15.8, 14.0, 11.5, 15.5, \n",
    "         11.0, 2.8, 16.0, 10.0, 11.0, 12.5, 13.5, 5.5, 16.2, 13.2]\n",
    "plt.figure(figsize=(8, 6))\n",
    "plt.hist(notes, \n",
    "         bins=4 # on utilise 4 classes chosis par Python\n",
    "        )\n",
    "plt.show()\n",
    "plt.close(\"all\")"
   ]
  },
  {
   "cell_type": "markdown",
   "id": "e20e2325",
   "metadata": {},
   "source": [
    "Pour représenter le pourcentage d'étudiants dans une classe plutôt que le nombre (effectif), on peut utiliser l'option `density = True`:"
   ]
  },
  {
   "cell_type": "markdown",
   "id": "b30a1633",
   "metadata": {},
   "source": [
    "**Version 3 :** on affiche les fréquences (pourcentage de valeurs dans une classe) et ne pas les effectifs (nombre de valeurs dans une classe)"
   ]
  },
  {
   "cell_type": "code",
   "execution_count": null,
   "id": "bae921cc",
   "metadata": {},
   "outputs": [],
   "source": [
    "import matplotlib.pyplot as plt\n",
    "\n",
    "notes = [10.0, 16.2, 10.2, 15.0, 13.2, 13.8, 11.2, 5.8, 10.8, 16.5, \n",
    "         19.5, 16.8, 19.0, 14.0, 6.5, 8.5, 15.8, 14.0, 11.5, 15.5, \n",
    "         11.0, 2.8, 16.0, 10.0, 11.0, 12.5, 13.5, 5.5, 16.2, 13.2]\n",
    "plt.figure(figsize=(8, 6))\n",
    "plt.hist(notes, \n",
    "         bins=4, # on peut aussi spécifier les bornes des classes\n",
    "         density = True # on affiche les fréquences\n",
    "        )\n",
    "plt.show()\n",
    "plt.close(\"all\")"
   ]
  },
  {
   "cell_type": "markdown",
   "id": "78e92ba6",
   "metadata": {},
   "source": [
    "### Exercice 3 \n",
    "\n",
    "La longueur de l'aile antérieure de la Piéride du navet varie (sauf exception) \n",
    "de 18 à 27 mm.   \n",
    "La liste `aile_ant` contient les (une simulation des) données de $5000$ Piérides du navet.  \n",
    ">- Représenter ces donnés par un histogramme. Vous pouvez utiliser les fréquences (voir version 2 ci-dessus) ou les effectifs (version 3). Tester plusieurs valeurs pour `bins` et choisissez celle qui vous semble le meilleur graphique (c'est une question de gout). \n",
    ">- Rajouter un titre et une description des axes qui explique la \"nature\" des donnés.  \n",
    ">> Noter que comme il s'agit d'une simulation avec des valeurs aléatoires, les donnés, et donc le graphique, changent à chaque exécution de votre programme.\n",
    ">> Avec une \"bonne\" valeur pour `bins` vous devriez voir une \"courbe de Gauss\" (loi normale)"
   ]
  },
  {
   "cell_type": "code",
   "execution_count": null,
   "id": "3bfd54fc",
   "metadata": {},
   "outputs": [],
   "source": [
    "import numpy as np\n",
    "import matplotlib.pyplot as plt\n",
    "\n",
    "aile_ant = np.random.normal(22.5, 1.5, size = 5000)"
   ]
  },
  {
   "cell_type": "markdown",
   "id": "8785a75f",
   "metadata": {},
   "source": [
    "## 4. Diagramme en bâtons"
   ]
  },
  {
   "cell_type": "markdown",
   "id": "bedf5ea0",
   "metadata": {},
   "source": [
    "### Exercice 4 (reprise d'un exercice du TP2)\n",
    "\n",
    "> Pour le TP2, vous avez représenté la \"pyramide des âges\". Nous alons représenter à nouveau cette pyramide des âges, mais avec des options et en distinguant entre femmes et hommes. \n",
    ">\n",
    "> **Question 1 :**  \n",
    "> La liste `nb_femmes`, respectivement `nb_hommes`, contient le nombre de femmes, respectivement hommes par age, avec `nb_femmes[0]` le nombre de femmes nés en $2024$ (age 0),....\n",
    "> - En adaptant l'exercice de la \"pyramide des âges\" du TP 2, créer une liste `age=[0, 1, ..., 105]` et representer le nombre de femmes par age par un diagramme en batôns. \n",
    "> - Créer à partir de `nb_hommes` une liste `nb_hommes_bis` qui contient l'opposé des valeurs de `nb_hommes`. Donc `nb_hommes_bis = [-316908, -325973, ...]`. Vous pouvez utiliser une des deux méthodes \n",
    ">pour créer une liste qu'on a vu pour le TP 2 : par itération ou en compréhension.     \n",
    ">- Puis représenter ces effectifs par un diagramme en batôns (avec un deuxième `plt.bar(...)` dans le même graphique que les effectifs des femmes en utilisant une autre couleur. \n",
    "> - Utiliser une légende (voir l'exemple de la représentation de plusieurs courbes)\n",
    "> - Rajouter un titre (`plt.title(...)`) et une description des axes (`plt.xlabel()`, `plt.ylabel()`)  \n",
    "> - Rajouter (avant `plt.show()`) les commandes `tranches=age[::10]` et `plt.xticks(tranches)`. Comprendre ce que font ces commandes (rajouter un bref commentaire qui explique les deux commandes). \n",
    ">> Votre programme final aura la forme suivante:\n",
    ">>\n",
    ">>```py\n",
    ">>import matplotlib.pyplot as plt\n",
    ">>\n",
    ">>nb_femmes = ... \n",
    ">>nb_hommes = ...  \n",
    ">>\n",
    ">>plt.figure(figsize=(12, 7)) # éventuellement adapter les dimensions\n",
    ">>age = list(range(...))  # compléter\n",
    ">>plt.bar(age, nb_femmes, width=1, label=\"femmes\", color=\"...\")  # compléter\n",
    ">>\n",
    ">>nb_hommes_bis = ...  # compléter\n",
    ">>plt.bar(age, nb_hommes_bis, ...)  # compléter\n",
    ">>\n",
    ">>plt.title(\"...\")\n",
    ">>plt.xlabel(\"...\")\n",
    ">>plt.ylabel(\"...\")\n",
    ">>plt.legend()\n",
    ">>\n",
    ">>tranches = age[::10] # tranche est ..compléter..\n",
    ">>plt.xticks(tranches) # affiche ..compléter..\n",
    ">>\n",
    ">>plt.show()\n",
    ">>plt.close(\"all\")\n",
    ">>```\n",
    ">\n",
    "> **Question 2 :**  \n",
    "> - Recopier le programme que vous venez de créer dans une nouvelle cellule et remplacer\n",
    "`age=[0, 1, ..., 105]` par `annee_naissance=[2024, 2023, ..., 1919]` en utilisant `list(range(...))` avec un \"pas\" négatif. \n",
    ">> Si vous obtenez un message d'erreur du type `ValueError: shape mismatch: objects cannot be broadcast to a single shape` les listes `annee_naissance` et `nb_femmes`, `nb_hommes_bis` n'ont pas la même longueur.     \n",
    ">> Faites bien attention à remplacer `age` par `annee_naissance` partout dans votre programme. \n",
    ">\n",
    "> - Rajouter (avant `plt.show()`) les commandes `plt.axvline(1945)` et \n",
    "`plt.axvline(1946)` qui tracent deux droites verticaux.\n",
    "> - Avez-vous une explication pour l'évolution du nombre des femmes/hommes entre $1945$ et $1946$ ?   \n",
    "\n",
    "**Solution de la question 1:**"
   ]
  },
  {
   "cell_type": "code",
   "execution_count": 10,
   "id": "c67e911f",
   "metadata": {},
   "outputs": [],
   "source": [
    "nb_femmes = [302614, 311539, 333799, 345101, 347606, 359218, 364718, 372783, 381721, 392377, 404340, \n",
    "             407389, 415859, 417904, 429268, 423965, 423544, 416445, 412837, 396206, 386381, 378458, \n",
    "             383867, 389803, 400084, 383561, 388728, 385531, 392532, 394568, 393641, 395821, 416746, \n",
    "             421449, 432326, 432590, 439922, 442109, 445530, 444472, 438779, 433100, 453292, 454292, \n",
    "             461509, 432202, 421162, 419524, 405953, 417079, 436676, 458125, 466721, 465805, 455993, \n",
    "             451094, 446642, 444020, 453863, 455091, 460230, 454586, 437733, 435179, 434314, 430110, \n",
    "             421087, 417975, 414428, 409316, 404262, 396736, 402679, 388796, 398218, 392543, 380909, \n",
    "             370104, 344579, 255569, 245143, 234406, 213119, 185068, 187565, 191612, 178995, 167229, \n",
    "             158213, 143454, 131619, 113942, 103180, 86505, 70537, 52561, 41072, 29852, 22099, 15408, \n",
    "             10058, 7126, 4429, 2764, 1676, 1146]\n",
    "\n",
    "nb_hommes = [316908, 325973, 349315, 361362, 363329, 377847, 383200, 391367, 402437, 413585, 423748, \n",
    "             427731, 435137, 437627, 451104, 448733, 452518, 444315, 443983, 424615, 412004, 398158, \n",
    "             399467, 404039, 409823, 390580, 388291, 386532, 387772, 389836, 382515, 386436, 403507, \n",
    "             406906, 419834, 417227, 421683, 419891, 423540, 422136, 414104, 410274, 432053, 433545, \n",
    "             440495, 415601, 408858, 409855, 398456, 409652, 429922, 447613, 458818, 452792, 443360, \n",
    "             433966, 427844, 426715, 435157, 433717, 435792, 424462, 408392, 404868, 399313, 392225, \n",
    "             377196, 370883, 361489, 353307, 348881, 336224, 336530, 324552, 332465, 321348, 314166, \n",
    "             299512, 275164, 200712, 188625, 177228, 157003, 132145, 128737, 123919, 112606, 100608, \n",
    "             89470, 74946, 65218, 51924, 43418, 33989, 24631, 16935, 11850, 7551, 5225, 3073, 1917, \n",
    "             1167, 657, 454, 317, 309]"
   ]
  },
  {
   "cell_type": "markdown",
   "id": "65be458f",
   "metadata": {},
   "source": [
    "**Solution de la question 2:**"
   ]
  },
  {
   "cell_type": "code",
   "execution_count": null,
   "id": "23787465",
   "metadata": {},
   "outputs": [],
   "source": []
  },
  {
   "cell_type": "markdown",
   "id": "4f064c0d",
   "metadata": {},
   "source": [
    "## 5. Equations différentielles"
   ]
  },
  {
   "cell_type": "markdown",
   "id": "ca7b2a0a",
   "metadata": {},
   "source": [
    "### Exercice 5\n",
    "\n",
    ">En TD, vous avez montré que les solutions de l'équation différentielle $f'(x)+x f(x)=0$ sont\n",
    "> $$f_c(x)=c\\exp(-\\frac{1}{2}x^2), ~~~ c\\in\\mathbb{R}$$ \n",
    "> Le programme de la cellule ci-dessous contient une fonction `plot_champs` qui trace un \"champs de directions\" associé à l'équation différentielle $f'(x)+x f(x)=0$ (voir explications plus loin). \n",
    "> - Exécuter cette cellule (sans la modifier) pour visualiser ce champs de directions.\n",
    ">> - Vous n'avez pas besoin de comprendre comment est faite cette fonction. Ne la modifiez pas !    \n",
    "> - Rajouter dans le programme de la cellule ci-dessous les commandes pour tracer la courbe de $f_c(x)$ sur l'intervalle $[-2, 2]$, pour $c=-2$, $c=0$, et $c=1$. Il faut donc trois `plt.plot()` pour tracer les trois courbes. \n",
    ">> - Vérifier que les courbes sont tangentes au champs de directions.\n",
    ">> - Vous pouvez définir une fonction pour $c=-2$, une autre pour $c=0$ et une troisième pour $c=1$, mais il est mieux de définir une fonction $f(x, c)$ \n",
    ">> qui correspond à $f_c(x)$. Vous pouvez alors utiliser $f(x, -2)$, $f(x,0)$ et $f(x, 1)$. \n",
    ">\n",
    "> **Bonus:** \n",
    "> - Si vous ne l'avez pas encore fait, définir une fonction $f(x, c)$ qui correspond à \n",
    "> $f_c(x)$ et tracer les trois courbes avec une boucle `for c in [-2, 0, 1]:` **Attention :** Utiliser un seul `plt.show()` en dehors de la boucle.       \n",
    "> - Si cela marche, tracer les courbes pour $c$ dans $[-2, -1.75, -1.5, ...,2]$. Vous pouvez utiliser `for c in np.arange(-2, 2.1, 0.25):`.  "
   ]
  },
  {
   "cell_type": "code",
   "execution_count": null,
   "id": "3a17951c",
   "metadata": {},
   "outputs": [],
   "source": [
    "import numpy as np\n",
    "import matplotlib.pyplot as plt\n",
    "\n",
    "def plot_champs():\n",
    "    \"\"\"Trace le champs de directions associé à l'équations différentielle f'+xf=0\n",
    "        Vous n'avez pas besoin de comprendre les commandes de cette fonction\"\"\"\n",
    "    x_min, x_max = -2, 2\n",
    "    y_min, y_max = -2.2, 2.2\n",
    "    grid_x = np.arange(x_min, x_max, 0.2)\n",
    "    grid_y = np.arange(y_min, y_max, 0.2)\n",
    "    (mesh_x, mesh_y) = np.meshgrid(grid_x, grid_y) # subdivision d'un rectangle\n",
    "    n = np.sqrt(1 + mesh_x**2 * mesh_y**2) # norme du vecteur\n",
    "    vec_x = 1/n # coordonnée x du vecteur un un point du mesh\n",
    "    vec_y = 1/n * (-mesh_x * mesh_y) # coordonnée y\n",
    "    plt.quiver(mesh_x, mesh_y, vec_x, vec_y)\n",
    "    plt.xlim(x_min, x_max)\n",
    "    plt.ylim(y_min, y_max)\n",
    "\n",
    "plt.figure(figsize=(10, 6))\n",
    "plot_champs() # trace le champs de direction. Vous n'avez rien à faire\n",
    "\n",
    "##### votre solution\n",
    "# rajouter ici les commandes pour représenter les trois courbes\n",
    "#####\n",
    "\n",
    "plt.show()\n",
    "plt.close(\"all\")"
   ]
  },
  {
   "cell_type": "markdown",
   "id": "780b8251",
   "metadata": {},
   "source": [
    "### Explication sur les champs de vecteurs (ci cela vous interesse...)\n",
    "- On peut écrire l'équation différentielle de l'exemple précédent sous la forme $y'+xy=0$, donc $y'=-xy$. \n",
    "- Ceci veut dire que si une solution $f$ de cette équation différentielle passe par le point de coordonnés $(x, y)$, alors sa dérivée en ce point est $-xy$. Donc le coefficient directeur de la droite tangente est $-xy$. \n",
    "- On peut représenter ce coefficient directeur par le vecteur $\\vec{u}=(1, -xy)$ au point $(x,y)$. \n",
    "- En tracant ces vecteurs en un grand nombre de points on obtient le champs de directions.\n",
    "- Dans le graphique, on a \"normalise\" les vecteurs pour qu'ils aient tous la même longueur."
   ]
  }
 ],
 "metadata": {
  "kernelspec": {
   "display_name": "Python 3 (ipykernel)",
   "language": "python",
   "name": "python3"
  },
  "language_info": {
   "codemirror_mode": {
    "name": "ipython",
    "version": 3
   },
   "file_extension": ".py",
   "mimetype": "text/x-python",
   "name": "python",
   "nbconvert_exporter": "python",
   "pygments_lexer": "ipython3",
   "version": "3.9.7"
  }
 },
 "nbformat": 4,
 "nbformat_minor": 5
}

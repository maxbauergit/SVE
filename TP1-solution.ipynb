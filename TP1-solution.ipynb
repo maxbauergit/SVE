{
 "cells": [
  {
   "cell_type": "markdown",
   "id": "62944072",
   "metadata": {},
   "source": [
    "<link rel=\"stylesheet\" href=\"https://cdnjs.cloudflare.com/ajax/libs/font-awesome/4.7.0/css/font-awesome.min.css\">"
   ]
  },
  {
   "cell_type": "markdown",
   "id": "29af1594",
   "metadata": {},
   "source": [
    "**Nom, prénom :**                                                                 \n",
    "**Groupe :**    \n",
    "**Date :**"
   ]
  },
  {
   "cell_type": "markdown",
   "id": "5d5f9b38",
   "metadata": {},
   "source": [
    "<span style=\"background:yellow;color:black\"> Avant de commencer: </span>\n",
    "\n",
    "1. Double cliquer sur la cellule ci-dessus (qui contient \"Nom, Prénom....\"); renseigner votre nom,....; exécuter la cellule en cliquant sur (<i class=\"fa fa-play\" aria-hidden=\"true\"></i>).\n",
    "2. Modifier le nom du notebook en cliquant sur `TP1-Nom-prenom` en haut de la page et en y mettant votre nom, prénom.          "
   ]
  },
  {
   "cell_type": "markdown",
   "id": "93d39909",
   "metadata": {},
   "source": [
    "<span style=\"background:yellow;color:black\"> À noter: </span>\n",
    "    \n",
    "- Si vous cliquez (une ou deux fois) sur la cellule qui contient \"Nom, Prénom....\", vous voyez apparaître\n",
    "\"Markdown\" dans le menu horizontal. Ceci signifie qu'il s'agit d'une **cellule text (formaté)**.\n",
    "- Observer que le text en gras est fait avec des double étoiles. "
   ]
  },
  {
   "cell_type": "markdown",
   "id": "74aa9a28",
   "metadata": {},
   "source": [
    "# <center> TP 1 Premiers pas </center>"
   ]
  },
  {
   "cell_type": "markdown",
   "id": "594200fb",
   "metadata": {},
   "source": [
    "Exécuter les cellules ci-dessous avec <i class=\"fa fa-play\" aria-hidden=\"true\"></i>. Il s'agit de cellules \"code\" (voir le menu horizontal si vous cliquer sur ces cellules) qui contiennent des commandes Python.\n",
    "\n",
    "<span style=\"background:yellow;color:black\"> Conseils :</span>    \n",
    "\n",
    "- Pour mieux comprendre les commandes, n'hésitez pas de **les modifier ou d'en rajouter d'autres**.\n",
    "- Pour **annuler une modification** dans une cellule, utilisez `Ctrl+Z` sous Windows et `Commande+Z` sous Mac. Chaque cellule conserve son propre historique."
   ]
  },
  {
   "cell_type": "markdown",
   "id": "b0660823",
   "metadata": {},
   "source": [
    "## Opérations arithmétiques"
   ]
  },
  {
   "cell_type": "code",
   "execution_count": 10,
   "id": "b42810af",
   "metadata": {},
   "outputs": [
    {
     "data": {
      "text/plain": [
       "8"
      ]
     },
     "execution_count": 10,
     "metadata": {},
     "output_type": "execute_result"
    }
   ],
   "source": [
    "5+3 # Addition."
   ]
  },
  {
   "cell_type": "code",
   "execution_count": 11,
   "id": "ad0fdd87",
   "metadata": {},
   "outputs": [
    {
     "data": {
      "text/plain": [
       "-7"
      ]
     },
     "execution_count": 11,
     "metadata": {},
     "output_type": "execute_result"
    }
   ],
   "source": [
    "# Ceci est un commentaire. Python ignore tout ce qui suit un # jusqu'à la fin de la ligne\n",
    "2 - 9 # c'est plus lisible avec des espaces !"
   ]
  },
  {
   "cell_type": "code",
   "execution_count": null,
   "id": "e30c3101",
   "metadata": {},
   "outputs": [],
   "source": [
    "7 + 3*4 # --> 19 : Python respecte la priorité des opérateurs"
   ]
  },
  {
   "cell_type": "code",
   "execution_count": null,
   "id": "53d6dcd8",
   "metadata": {},
   "outputs": [],
   "source": [
    "(7 + 3) * 4 # --> 40"
   ]
  },
  {
   "cell_type": "markdown",
   "id": "84d99175",
   "metadata": {},
   "source": [
    "### Puissance"
   ]
  },
  {
   "cell_type": "code",
   "execution_count": 2,
   "id": "cb03e6a4",
   "metadata": {},
   "outputs": [
    {
     "data": {
      "text/plain": [
       "16"
      ]
     },
     "execution_count": 2,
     "metadata": {},
     "output_type": "execute_result"
    }
   ],
   "source": [
    "2 ** 4  # --> 16 : 2 à la puissance 4"
   ]
  },
  {
   "cell_type": "code",
   "execution_count": 3,
   "id": "4d878a13",
   "metadata": {},
   "outputs": [
    {
     "data": {
      "text/plain": [
       "16"
      ]
     },
     "execution_count": 3,
     "metadata": {},
     "output_type": "execute_result"
    }
   ],
   "source": [
    "pow(2, 4) # idem"
   ]
  },
  {
   "cell_type": "code",
   "execution_count": 19,
   "id": "5a5cee55",
   "metadata": {},
   "outputs": [
    {
     "data": {
      "text/plain": [
       "0.001"
      ]
     },
     "execution_count": 19,
     "metadata": {},
     "output_type": "execute_result"
    }
   ],
   "source": [
    "10**-3 # puissance négative"
   ]
  },
  {
   "cell_type": "markdown",
   "id": "be41e335",
   "metadata": {},
   "source": [
    "### Deux types de division"
   ]
  },
  {
   "cell_type": "code",
   "execution_count": 20,
   "id": "c5eab133",
   "metadata": {},
   "outputs": [
    {
     "data": {
      "text/plain": [
       "4.2"
      ]
     },
     "execution_count": 20,
     "metadata": {},
     "output_type": "execute_result"
    }
   ],
   "source": [
    "21 / 5  # --> 4.2 : division"
   ]
  },
  {
   "cell_type": "code",
   "execution_count": 21,
   "id": "0a74f534",
   "metadata": {},
   "outputs": [
    {
     "data": {
      "text/plain": [
       "6"
      ]
     },
     "execution_count": 21,
     "metadata": {},
     "output_type": "execute_result"
    }
   ],
   "source": [
    "20 // 3 # --> 6: quotient de la division euclidienne de 20 par 3"
   ]
  },
  {
   "cell_type": "code",
   "execution_count": 22,
   "id": "57e4ebea",
   "metadata": {},
   "outputs": [
    {
     "data": {
      "text/plain": [
       "2"
      ]
     },
     "execution_count": 22,
     "metadata": {},
     "output_type": "execute_result"
    }
   ],
   "source": [
    "20 % 3 # --> 2 : reste de la division euclidienne de 20 par 3 "
   ]
  },
  {
   "cell_type": "markdown",
   "id": "5d6cbbf1",
   "metadata": {},
   "source": [
    "Donc 20 = 6*3 + 2"
   ]
  },
  {
   "cell_type": "markdown",
   "id": "abc3ffb4",
   "metadata": {},
   "source": [
    "### Commentaires\n",
    "\n",
    "- Notons que nous avons rajouté des <span style=\"color:red\">commentaires</span>: l'interpréteur ignore tout ce qui suit un `#` sur la même ligne.\n",
    "- Même si êtes encouragés à utiliser des commentaires, soyez le plus concis possible. <span style=\"color:red\">Ne commentez pas ce qui est évident."
   ]
  },
  {
   "cell_type": "markdown",
   "id": "5efbbffb",
   "metadata": {},
   "source": [
    "### Entier vs. nombre décimal\n",
    "\n",
    "Notons la différence entre les deux résultats suivants :"
   ]
  },
  {
   "cell_type": "code",
   "execution_count": 23,
   "id": "04639f27",
   "metadata": {},
   "outputs": [
    {
     "data": {
      "text/plain": [
       "4.0"
      ]
     },
     "execution_count": 23,
     "metadata": {},
     "output_type": "execute_result"
    }
   ],
   "source": [
    "20/5"
   ]
  },
  {
   "cell_type": "code",
   "execution_count": 24,
   "id": "de76c27a",
   "metadata": {},
   "outputs": [
    {
     "data": {
      "text/plain": [
       "4"
      ]
     },
     "execution_count": 24,
     "metadata": {},
     "output_type": "execute_result"
    }
   ],
   "source": [
    "20//5"
   ]
  },
  {
   "cell_type": "markdown",
   "id": "52fcdea1",
   "metadata": {},
   "source": [
    "$4$ et $4.0$ ont la même valeur, mais ils sont de <span style=\"color:red\">type</span> différents: \n",
    "- $4$ est un entier de type `int` (qui vient de l'anglais *integer*) car l'opérateur `\\\\` donne le quotient \n",
    "de la division.    \n",
    "- Par contre, $4.0$ est un nombre décimal de type `float` (flottant) car  Python donne toujours le résultat d'une division sous la forme d'un nombre décimal."
   ]
  },
  {
   "cell_type": "markdown",
   "id": "092246a3",
   "metadata": {},
   "source": [
    "<span style=\"background:yellow;color:black\">Attention :</span>\n",
    "Toujours utiliser le point et pas la virgule pour les nombres décimaux."
   ]
  },
  {
   "cell_type": "markdown",
   "id": "25c2def7",
   "metadata": {},
   "source": [
    "## Print : premier exemple\n",
    "\n",
    "Notons que seul le résultat de la dernière ligne s'affiche."
   ]
  },
  {
   "cell_type": "code",
   "execution_count": null,
   "id": "0c077a98",
   "metadata": {},
   "outputs": [],
   "source": [
    "20/5\n",
    "20//5"
   ]
  },
  {
   "cell_type": "code",
   "execution_count": null,
   "id": "8f85a19b",
   "metadata": {},
   "outputs": [],
   "source": [
    "Pour afficher le résultat d'une autre ligne"
   ]
  },
  {
   "cell_type": "code",
   "execution_count": 25,
   "id": "5bc42256",
   "metadata": {},
   "outputs": [
    {
     "name": "stdout",
     "output_type": "stream",
     "text": [
      "4.0\n",
      "4\n"
     ]
    }
   ],
   "source": [
    "print(20/5)\n",
    "print(20//5) # ce deuxième print n'est pas nécessaire"
   ]
  },
  {
   "cell_type": "markdown",
   "id": "725a736a",
   "metadata": {},
   "source": [
    "On peut aussi afficher du text avec des guillemets (chaine de caractères):"
   ]
  },
  {
   "cell_type": "code",
   "execution_count": 26,
   "id": "0e56383e",
   "metadata": {},
   "outputs": [
    {
     "name": "stdout",
     "output_type": "stream",
     "text": [
      "bonjour\n"
     ]
    }
   ],
   "source": [
    "print(\"bonjour\")"
   ]
  },
  {
   "cell_type": "markdown",
   "id": "655cc04a",
   "metadata": {},
   "source": [
    "## Variables"
   ]
  },
  {
   "cell_type": "markdown",
   "id": "553cdf96",
   "metadata": {},
   "source": [
    "En informatique, on peut stocker des valeurs dans des <span style=\"color:red\">variables</span> définies par leur nom. \n",
    "\n",
    "Par exemple:"
   ]
  },
  {
   "cell_type": "code",
   "execution_count": 8,
   "id": "2f4d67c9",
   "metadata": {},
   "outputs": [
    {
     "name": "stdout",
     "output_type": "stream",
     "text": [
      "15\n"
     ]
    }
   ],
   "source": [
    "longueur = 5\n",
    "hauteur = 3\n",
    "aire_rectangle = longueur * hauteur # aire = 5*3\n",
    "print(aire_rectangle)"
   ]
  },
  {
   "cell_type": "markdown",
   "id": "26bf24b0",
   "metadata": {},
   "source": [
    "- Une variable est un nom auquel est associé un emplacement de la mémoire.   \n",
    "- C'est comme une boîte auquel on a donné un nom et qui peut stocker une valeur (ou autre objets)\n",
    "\n",
    "<span style=\"background:yellow;color:black\">Attention :</span> \n",
    "\n",
    "- Le nom des variables en Python peut-être constitué de lettres minuscules, de lettres majuscules, de\n",
    "chiffres et du caractère souligné `_`.    \n",
    "- Un nom de variable ne doit pas débuter ni par un chiffre, ni par `_` et ne peut pas contenir de caractère\n",
    "accentué, d'espace, ....   \n",
    "- attention à la casse: `aire_rectangle` est différent de `Aire_rectangle`."
   ]
  },
  {
   "cell_type": "markdown",
   "id": "aad69747",
   "metadata": {},
   "source": [
    "<span style=\"background:yellow;color:black\">Conseil :</span>  Pour une meilleure lisibilitée du programme, il faut utiliser des noms parlants comme\n",
    "`longueur`, `hauteur` plutôt que `x`, `y`. "
   ]
  },
  {
   "cell_type": "markdown",
   "id": "62ddf79a",
   "metadata": {},
   "source": [
    "### Réaffectation\n",
    "\n",
    "On peut successivement affecter différentes valeurs à une variable:\t"
   ]
  },
  {
   "cell_type": "code",
   "execution_count": 9,
   "id": "35ddb8e6",
   "metadata": {},
   "outputs": [
    {
     "name": "stdout",
     "output_type": "stream",
     "text": [
      "x= 4\n",
      "x= 7\n"
     ]
    }
   ],
   "source": [
    "x = 4\n",
    "print(\"x=\", x)\n",
    "x = x + 3 # le côté droit est d'abord évalué et vaut 7 qui est la nouvelle valeur de x (du côté gauche)\n",
    "print(\"x=\", x)"
   ]
  },
  {
   "cell_type": "code",
   "execution_count": 10,
   "id": "4d4f933d",
   "metadata": {},
   "outputs": [
    {
     "name": "stdout",
     "output_type": "stream",
     "text": [
      "x= 10\n"
     ]
    }
   ],
   "source": [
    "# nous avons toujours x=7 qui est la valeur de x de la cellule précédente\n",
    "x += 3 # remplace x=x+3; marche aussi pour -, *, /\n",
    "print(\"x=\", x)"
   ]
  },
  {
   "cell_type": "markdown",
   "id": "378a7cbe",
   "metadata": {},
   "source": [
    "<span style=\"background:yellow;color:black\">Important :</span> La valeur d'une variable d'une cellule qui était exécutée reste connue dans les cellules suivantes (voir les deux cellules précédentes)"
   ]
  },
  {
   "cell_type": "markdown",
   "id": "568e75bd",
   "metadata": {},
   "source": [
    "Notons que nous avons amélioré la commande `print`: les guillemets de `\"x=\"`\n",
    "indiquent à *Python* de lire ce qu'ils entourent comme du texte et non du code. Donc la commande `print(\"x=\", x)` affiche `x=` comme du text, puis affiche la valeur de `x`."
   ]
  },
  {
   "cell_type": "markdown",
   "id": "dcb11259",
   "metadata": {},
   "source": [
    "### Affectation parallèle"
   ]
  },
  {
   "cell_type": "code",
   "execution_count": null,
   "id": "6e4a86e5",
   "metadata": {},
   "outputs": [],
   "source": [
    "x, y = 2, 5 # même chose que x=2 et y=5\n",
    "print(\"x=\", x, \"y=\", y)"
   ]
  },
  {
   "cell_type": "code",
   "execution_count": null,
   "id": "1ae9fa4c",
   "metadata": {},
   "outputs": [],
   "source": [
    "x, y = y, x # échange des valeurs des deux variables\n",
    "print(\"x=\", x, \"y=\", y)"
   ]
  },
  {
   "cell_type": "markdown",
   "id": "bf7d4cbf",
   "metadata": {},
   "source": [
    "Quand *Python* lit `x, y = y, x`, il évalue d'abord le côté droit.\n",
    "Comme $x=2$ et $y=5$, cela donne  l'affectation parallèle `x, y = 5, 2`,\n",
    "donc $x=5$, $y=2$.\n",
    "Nous avons donc échangé la valeur des deux variables."
   ]
  },
  {
   "cell_type": "markdown",
   "id": "1e818212",
   "metadata": {},
   "source": [
    "### Exercice 1\n",
    "    \n",
    ">Prédire pour chaque ligne du script ci-dessous la valeur des deux variables `a`, `b` et remplacer les pointillés par ces valeurs.      \n",
    ">Exécuter la cellule pour vérifier si la commande `print` confirme vos calculs.\n"
   ]
  },
  {
   "cell_type": "code",
   "execution_count": null,
   "id": "f1281062",
   "metadata": {},
   "outputs": [],
   "source": [
    "# Compléter les commentaires, puis exécuter la cellule pour vérification\n",
    "a, b = 3, 2 # a=... b=...\n",
    "b = 2 * b+1 # a=... b=...\n",
    "a += 1 # a=... b=...  \n",
    "a, b = b, a # a=... b=...\n",
    "a = a + b # a=... b=...\n",
    "a=b; b=a # a= b=\n",
    "print(\"a=\", a, \"b=\", b)"
   ]
  },
  {
   "cell_type": "markdown",
   "id": "e65706d0",
   "metadata": {},
   "source": [
    "**Remarque:** écrire `b = 2 * b+1` peut induire en erreur. Il est plus clair d'écrire `b = 2*b + 1`. "
   ]
  },
  {
   "cell_type": "markdown",
   "id": "c568721e",
   "metadata": {},
   "source": [
    "### Solution"
   ]
  },
  {
   "cell_type": "code",
   "execution_count": null,
   "id": "ea05982d",
   "metadata": {},
   "outputs": [],
   "source": [
    "# Compléter les commentaires, puis exécuter la cellule pour vérification\n",
    "a, b = 3, 2 # a=3 b=2\n",
    "b = 2 * b+1 # a=3 b=5\n",
    "a += 1 # a=4 b=5  \n",
    "a, b = b, a # a=5 b=4\n",
    "a = a + b # a=9 b=4\n",
    "a=b; b=a # a=4 b=4 # on applique a=b et puis (nouvelle commande) b=a\n",
    "print(\"a=\", a, \"b=\", b)"
   ]
  },
  {
   "cell_type": "markdown",
   "id": "912fef95",
   "metadata": {},
   "source": [
    "### Exemple \n",
    "Nous souhaitons transformer $69$ heures en jours et heures."
   ]
  },
  {
   "cell_type": "code",
   "execution_count": null,
   "id": "f11bc3c4",
   "metadata": {},
   "outputs": [],
   "source": [
    "total = 69\n",
    "jours = 69//24 # quotient de la division euclidienne \n",
    "heures = 69%24 # reste de la division euclidienne\n",
    "# donc on a total = jours*24 + heures\n",
    "print(\"total=\", total, \"jours=\", jours, \"heures=\", heures)"
   ]
  },
  {
   "cell_type": "markdown",
   "id": "819b2315",
   "metadata": {},
   "source": [
    "## Chaine de caractères"
   ]
  },
  {
   "cell_type": "markdown",
   "id": "ccc8b4a1",
   "metadata": {},
   "source": [
    "Pour créer une <span style=\"color:red\">chaine de caractères</span> ou <span style=\"color:red\">string</span>, \n",
    "on utilise des apostrophes `'` ou des guillemets `\"`:"
   ]
  },
  {
   "cell_type": "code",
   "execution_count": null,
   "id": "7ad505f1",
   "metadata": {},
   "outputs": [],
   "source": [
    "\"Rennes\"\n",
    "'Rennes'"
   ]
  },
  {
   "cell_type": "markdown",
   "id": "c5bfad6c",
   "metadata": {},
   "source": [
    "Pour utiliser des apostrophes dans une chaine de caractères délimitée par\n",
    "des apostrophes, il faut utiliser `\\'`:"
   ]
  },
  {
   "cell_type": "code",
   "execution_count": null,
   "id": "5440d16c",
   "metadata": {},
   "outputs": [],
   "source": [
    "\"L'eau vive\"\n",
    "'L\\'eau vive' # même chose"
   ]
  },
  {
   "cell_type": "code",
   "execution_count": null,
   "id": "415203ad",
   "metadata": {},
   "outputs": [],
   "source": [
    "'Il a dit \"hello\" et est parti'\n",
    "\"Il a dit \\\"hello\\\" et est parti\" # même chose"
   ]
  },
  {
   "cell_type": "markdown",
   "id": "8d340bce",
   "metadata": {},
   "source": [
    "### Chaine de caractères vs. nom de variable"
   ]
  },
  {
   "cell_type": "code",
   "execution_count": 1,
   "id": "2676d796",
   "metadata": {},
   "outputs": [
    {
     "data": {
      "text/plain": [
       "'Rennes'"
      ]
     },
     "execution_count": 1,
     "metadata": {},
     "output_type": "execute_result"
    }
   ],
   "source": [
    "\"Rennes\""
   ]
  },
  {
   "cell_type": "code",
   "execution_count": 2,
   "id": "37c13fd3",
   "metadata": {},
   "outputs": [
    {
     "data": {
      "text/plain": [
       "'Rennes'"
      ]
     },
     "execution_count": 2,
     "metadata": {},
     "output_type": "execute_result"
    }
   ],
   "source": [
    "ville = \"Rennes\"\n",
    "ville # même chose que \"Rennes\""
   ]
  },
  {
   "cell_type": "markdown",
   "id": "3b7772ba",
   "metadata": {},
   "source": [
    "- `\"Rennes\"` est une <span style=\"color:red\">chaine de caractères</span> (mot), car on a utilisé les (double) guillemets.\n",
    "- `ville` (sans guillemets) est le nom d'une <span style=\"color:red\">variable</span>. La chaine `\"Rennes\"` (avec guillemets) est associé à la variable `ville` (sans guillemets).\n",
    "- La commande suivante donne un message d'erreur, car en tapant `Rennes` (sans guillemets), Python pense qu'il s'agit du nom d'une variable et dit que cette variable n'est pas définie."
   ]
  },
  {
   "cell_type": "code",
   "execution_count": 3,
   "id": "6f765c9f",
   "metadata": {},
   "outputs": [
    {
     "ename": "NameError",
     "evalue": "name 'Rennes' is not defined",
     "output_type": "error",
     "traceback": [
      "\u001b[0;31m---------------------------------------------------------------------------\u001b[0m",
      "\u001b[0;31mNameError\u001b[0m                                 Traceback (most recent call last)",
      "\u001b[0;32m/var/folders/6l/_3c15cb508l7w96p49ttqqy80000gq/T/ipykernel_22581/3858153197.py\u001b[0m in \u001b[0;36m<module>\u001b[0;34m\u001b[0m\n\u001b[0;32m----> 1\u001b[0;31m \u001b[0mRennes\u001b[0m\u001b[0;34m\u001b[0m\u001b[0;34m\u001b[0m\u001b[0m\n\u001b[0m",
      "\u001b[0;31mNameError\u001b[0m: name 'Rennes' is not defined"
     ]
    }
   ],
   "source": [
    "Rennes"
   ]
  },
  {
   "cell_type": "markdown",
   "id": "607be991",
   "metadata": {},
   "source": [
    "### Longueur\n",
    "\n",
    "La fonction `len` donne le nombre de caractères dans une chaine de caractères:"
   ]
  },
  {
   "cell_type": "code",
   "execution_count": null,
   "id": "ebd2f113",
   "metadata": {},
   "outputs": [],
   "source": [
    "print(len(\"SVE :\")) # on compte l'espace \" \" et \":\""
   ]
  },
  {
   "cell_type": "markdown",
   "id": "35deba40",
   "metadata": {},
   "source": [
    "### Concaténation\n",
    "\n",
    "On peut concaténer  deux chaines de caractères:"
   ]
  },
  {
   "cell_type": "code",
   "execution_count": null,
   "id": "38b59a8d",
   "metadata": {},
   "outputs": [],
   "source": [
    "print(\"Mon nom est\" + \"Chloé\")"
   ]
  },
  {
   "cell_type": "code",
   "execution_count": null,
   "id": "cc4f9e8d",
   "metadata": {},
   "outputs": [],
   "source": [
    "print(\"Mon nom est\" + \" \" + \"Chloé\") # Notez \" \" qui est le \"caractère espace\""
   ]
  },
  {
   "cell_type": "code",
   "execution_count": null,
   "id": "2a3020b7",
   "metadata": {},
   "outputs": [],
   "source": [
    "print(3 * \"bla\") # Concatène 3 fois la chaine de caractères \"bla\""
   ]
  },
  {
   "cell_type": "code",
   "execution_count": null,
   "id": "e35ae6f6",
   "metadata": {},
   "outputs": [],
   "source": [
    "print(\"Re\" + 2*\"n\" + \"es\")"
   ]
  },
  {
   "cell_type": "code",
   "execution_count": null,
   "id": "293e2946",
   "metadata": {},
   "outputs": [],
   "source": [
    "print(5*\"+\")"
   ]
  },
  {
   "cell_type": "markdown",
   "id": "313eab3f",
   "metadata": {},
   "source": [
    "<span style=\"background:yellow;color:black\"> Conseil :</span> Vous pouvez sauvegarder votre travail avec <i class=\"fa fa-save\"></i>, mais un \"auto-save\" est fait toutes les 120 secondes."
   ]
  },
  {
   "cell_type": "markdown",
   "id": "e50370d5",
   "metadata": {},
   "source": [
    "### Exercice 2\n",
    "\n",
    ">Que renvoient les commandes `print` ci-dessous ?  \n",
    ">Rajouter des commentaires (le plus brève possible, juste quelques mots) pour expliquer chaque commande."
   ]
  },
  {
   "cell_type": "code",
   "execution_count": null,
   "id": "90f5c491",
   "metadata": {},
   "outputs": [],
   "source": [
    "x = 2\n",
    "print(2*x+1)\n",
    "print(\"2*x+1\")\n",
    "print(2*\"x\"+1)\n"
   ]
  },
  {
   "cell_type": "markdown",
   "id": "83a8c914",
   "metadata": {},
   "source": [
    "<span style=\"background:yellow;color:black\"> Conseil :</span>\n",
    "Par prudence, **relancer le noyeau** avec <i class=\"fa fa-repeat\"></i> pour re-initialiser les variables\n",
    "chaque fois que vous commencez un nouveau exercice."
   ]
  },
  {
   "cell_type": "markdown",
   "id": "a06c5097",
   "metadata": {},
   "source": [
    "### Solution"
   ]
  },
  {
   "cell_type": "code",
   "execution_count": null,
   "id": "746167ca",
   "metadata": {},
   "outputs": [],
   "source": [
    "x = 2 # x est le nom d'une variable\n",
    "print(2*x+1) # 2*x+1 est évalué et sa valeur 5 est affiché\n",
    "print(\"2*x+1\") # le string (chaine) \"2*x+1\" est affiché\n",
    "print(2*\"x\") # le string 2*\"x\" qui vaut \"xx\" (concaténation) est affiché\n",
    "print(2*\"x\"+1) # Impossible de concaténer (+) le string \"xx\" avec l'entier 1"
   ]
  },
  {
   "cell_type": "markdown",
   "id": "db8e45af",
   "metadata": {},
   "source": [
    "<span style=\"background:yellow;color:black\"> Attention :</span>\n",
    "Ne pas confondre `x` qui est le nom d'une variable avec `\"x\"` qui est un caractère (chaine de longueur 1)."
   ]
  },
  {
   "cell_type": "markdown",
   "id": "7ef8f948",
   "metadata": {},
   "source": [
    "### Exercice 3\n",
    "    \n",
    ">On appelle polyC un oligonucléotide qui ne contient que des bases C comme par exemple CCCCCC. Cet oligonucléotide est de longueur 6 car il contient 6 bases.\n",
    ">\n",
    ">1. Générer une chaîne de caractères représentant un oligonucléotide polyG (GGGG…) de 19 bases de\n",
    ">longueur, sans taper littéralement toutes les bases (ie en utilisant les opérateurs `+` ou `*`  pour les chaines).     \n",
    ">Affecter cette chaine à la variable `polyG` et afficher cette\n",
    ">chaine avec `print()`.     \n",
    ">Vérifier la longueur de la chaine obtenue à l'aide de la fonction `len`.   \n",
    ">2. Suivant le modèle de (a), générez  un polyT de 20 bases suivi d'un polyAT régulier\n",
    ">(ATAT…) de 40 bases."
   ]
  },
  {
   "cell_type": "markdown",
   "id": "e8cb780b",
   "metadata": {},
   "source": [
    "**Commencer par insérer une nouvelle cellule \"code\" après celle-ci:** Cliquer d'abord (une fois) sur cette cellule pour la rendre active (cadre bleu), puis cliquer sur <i class=\"fa fa-plus\" aria-hidden=\"true\"></i> pour insérer une nouvelle cellule en-dessous. Option: \"Insert Cell below\" (inserer cellule en-dessous) dans le menu \"Insert\". Racccourci: `esc b`. Noter que le raccourci pour une insertion au-dessus de la celle active est `esc a`.\n",
    "\n",
    "<span style=\"background:yellow;color:black\"> Conseil :</span> Si vous vous êtes trompé d'emplacement, vous pouvez **déplacer** la cellule avec <i class=\"fa fa-arrow-up\"></i> et  <i class=\"fa fa-arrow-down\"></i>. Vous pouvez aussi l'effacer avec <i class=\"fa fa-scissors\"></i> et recommencer.\n",
    "\n",
    "**Ecrire ensuite votre programme dans la cellule** (ou les deux cellules si vous voulez séparer la réponse des deux questions)\n",
    "\n",
    "### Solution"
   ]
  },
  {
   "cell_type": "code",
   "execution_count": null,
   "id": "4e285c5b",
   "metadata": {},
   "outputs": [],
   "source": [
    "polyG = 19 * \"G\" # concaténation: \"G\" + \"G\" + .... (19 fois)\n",
    "print(\"polyG =\", polyG)\n",
    "print(\"longueur polyG=\", len(polyG))\n",
    "\n",
    "polyTAT = 20*\"T\" + 20*\"AT\"\n",
    "print(\"polyTAT =\", polyTAT)"
   ]
  },
  {
   "cell_type": "markdown",
   "id": "5ad59198",
   "metadata": {},
   "source": [
    "## Print"
   ]
  },
  {
   "cell_type": "markdown",
   "id": "4cc50678",
   "metadata": {},
   "source": [
    "Nous avons vu plusieurs exemples de la commande `print` qui s'applique bien pour des cas simples comme :"
   ]
  },
  {
   "cell_type": "code",
   "execution_count": null,
   "id": "2da786a3",
   "metadata": {},
   "outputs": [],
   "source": [
    "x= 6\n",
    "print(\"x=\", x)"
   ]
  },
  {
   "cell_type": "code",
   "execution_count": null,
   "id": "26aab207",
   "metadata": {},
   "outputs": [],
   "source": [
    "x, y = 6, 8.1 \n",
    "print(\"x=\", x, \"et y=\", y) # déjà compliqué"
   ]
  },
  {
   "cell_type": "markdown",
   "id": "1a11eea6",
   "metadata": {},
   "source": [
    "### f-strings"
   ]
  },
  {
   "cell_type": "markdown",
   "id": "aae787ed",
   "metadata": {},
   "source": [
    "En règle générale, je vous conseille d'utiliser les <span style=\"color:red\">f-strings</span> qui sont très simples, concises et\n",
    "offrent beaucoup de possibilités:"
   ]
  },
  {
   "cell_type": "code",
   "execution_count": null,
   "id": "5e53c717",
   "metadata": {},
   "outputs": [],
   "source": [
    "x, y = 6, 8.1 \n",
    "print(f\"x={x} et y={y}\") # pas d'espace parasite après x="
   ]
  },
  {
   "cell_type": "markdown",
   "id": "01c71854",
   "metadata": {},
   "source": [
    "<span style=\"background:yellow;color:black\">Explication :</span> Quitte à précéder la chaine de caractères par un `f` on peut afficher \n",
    "la valeur d'une variable en l'entourant par des accolades comme`{x}`.\n",
    "\n",
    "Un autre exemple:"
   ]
  },
  {
   "cell_type": "code",
   "execution_count": null,
   "id": "688fd6a3",
   "metadata": {},
   "outputs": [],
   "source": [
    "x, y = 10, 3\n",
    "print(f\"Le quotient de {x} par {y} est {x/y}\")"
   ]
  },
  {
   "cell_type": "markdown",
   "id": "3e023782",
   "metadata": {},
   "source": [
    "On peut aussi utiliser des variables qui contiennent des chaines de caractères:"
   ]
  },
  {
   "cell_type": "code",
   "execution_count": null,
   "id": "20ded566",
   "metadata": {},
   "outputs": [],
   "source": [
    "mon_nom = \"Chloé\"\n",
    "print(f\"Mon nom est {mon_nom}\")"
   ]
  },
  {
   "cell_type": "markdown",
   "id": "02efbf14",
   "metadata": {},
   "source": [
    "### Formatage"
   ]
  },
  {
   "cell_type": "markdown",
   "id": "81084001",
   "metadata": {},
   "source": [
    "Le `f` qui précède la chaine de caractères vient du nom \"chaine de caractères <span style=\"color:red\">f</span>ormatée\" (ou <span style=\"color:red\">f</span>-string)\n",
    "car cette méthode permet de formater l'affichage comme par exemple:"
   ]
  },
  {
   "cell_type": "code",
   "execution_count": null,
   "id": "5a36e764",
   "metadata": {},
   "outputs": [],
   "source": [
    "print(f\"Le quotient de {x} par {y} est {x/y:.2f}\")"
   ]
  },
  {
   "cell_type": "markdown",
   "id": "e121a002",
   "metadata": {},
   "source": [
    "<span style=\"background:yellow;color:black\">Explication :</span> Pour cet exemple, `.2f` signifie (lire de droite à gauche) que nous affichons un `float` (nombre décimal) en utilisant deux ($2$)\n",
    "chiffres après la virgule (le point) en arrondissant.\n",
    "\n",
    "Un autre formatage est `.2%` qui transforme par exemple\n",
    "$\\frac{30}{100}=0.3$ en $30.00\\%$:"
   ]
  },
  {
   "cell_type": "code",
   "execution_count": null,
   "id": "181be266",
   "metadata": {},
   "outputs": [],
   "source": [
    "print(f\"0.3 corresponnd à {0.3:.2%}\") # pas besoin de multiplier par 100"
   ]
  },
  {
   "cell_type": "markdown",
   "id": "ab2195ab",
   "metadata": {},
   "source": [
    "<span style=\"background:yellow;color:black\"> Conseil :</span>\n",
    "- Faire des affichages explicites comme `x=5` plutôt que d'afficher simplement la valeur de $x$.   \n",
    "- Sauf pour les cas simples, utiliser les f-strings."
   ]
  },
  {
   "cell_type": "markdown",
   "id": "7fe23d63",
   "metadata": {},
   "source": [
    "## Input\n",
    "\n",
    "- la commande `input(\"Donner votre nom :\")` affiche à l'écran \"Donner votre nom :\" et\n",
    "met en pause l'exécution du programme en attendant que l'utilisateur ait entré une réponse.    \n",
    "- La réponse est stockée dans la variable `nom`.  "
   ]
  },
  {
   "cell_type": "code",
   "execution_count": 10,
   "id": "77cdbb14",
   "metadata": {},
   "outputs": [
    {
     "name": "stdout",
     "output_type": "stream",
     "text": [
      "Donner votre nom :5\n",
      "Bonjour 5\n",
      "Bonjour 5\n"
     ]
    }
   ],
   "source": [
    "nom = input(\"Donner votre nom :\")\n",
    "print(\"Bonjour \" + nom)\n",
    "print(f\"Bonjour {nom}\")"
   ]
  },
  {
   "cell_type": "code",
   "execution_count": null,
   "id": "474531b4",
   "metadata": {},
   "outputs": [],
   "source": [
    "nombre = input(\"Donner un entier :\")\n",
    "double = 2 * nombre\n",
    "print(\"Le double de ton nombre est \", double)"
   ]
  },
  {
   "cell_type": "code",
   "execution_count": null,
   "id": "20741d8a",
   "metadata": {},
   "outputs": [],
   "source": [
    "D'ou vient le résultat étrange ?   \n",
    "- Le résultat de input est une chaine de caractères, comme par exemple \"5\".\n",
    "- donc double est 2 * \"5\" = \"55\" (concaténation)\n",
    "- Pour faire des calculs, il faut transformer #5# en entier via `int`:"
   ]
  },
  {
   "cell_type": "code",
   "execution_count": null,
   "id": "51f54e64",
   "metadata": {},
   "outputs": [],
   "source": [
    "nombre = input(\"Donner un entier :\") # nombre sous forme de chaine\n",
    "nombre = int(nombre) # nombre\n",
    "double = 2 * nombre\n",
    "print(\"Le double de ton nombre est \", double)"
   ]
  },
  {
   "cell_type": "markdown",
   "id": "1e29286c",
   "metadata": {},
   "source": [
    "Au lieu de `int`, on peut aussi utiliser `float` pour transformer le résultat en nombre décimal."
   ]
  },
  {
   "cell_type": "markdown",
   "id": "b1a3261f",
   "metadata": {},
   "source": [
    "### Exercice 4\n",
    "\n",
    "> Demander à l'utilisateur de fournir la largeur, puis (nouveau input) la longueur d'un rectangle.    \n",
    "> Déterminer l'aire de ce rectangle.    \n",
    "> Utiliser les f-strings pour afficher \"L'aire d'un rectangle de largeur ... et longueur ... est ...\"  \n",
    "\n",
    "<span style=\"background:yellow;color:black\"> Conseil :</span> Une étoile à côté d'une cellule indique qu'elle est en train d'être exécuté. Vous pouvez **interrompre** un programme avec <i class=\"fa fa-square\" aria-hidden=\"true\"></i>. \n",
    "\n",
    "### Solution"
   ]
  },
  {
   "cell_type": "code",
   "execution_count": 14,
   "id": "a8ff3e1e",
   "metadata": {},
   "outputs": [],
   "source": [
    "# Compléter ce script\n",
    "# Demander à l'utilisateur la largeur; transformer en entier\n",
    "# De même pour la longueur\n",
    "# aire_rectangle = ...\n",
    "# print(f\"L'aire .....\")"
   ]
  },
  {
   "cell_type": "code",
   "execution_count": null,
   "id": "35e63c15",
   "metadata": {},
   "outputs": [],
   "source": [
    "largeur = input(\"Entrez la largeur du rectangle  \") # Demande à l'utilisateur de rentrer un nombre\n",
    "largeur = int(largeur) # le résultat de input est un string qu'on transforme en entier\n",
    "longueur = input(\"Entrez la longueur du rectangle  \")\n",
    "longueur = int(longueur)\n",
    "aire_rectangle = largeur * longueur # calcul de l'aire du rectangle\n",
    "print(f\"L'aire du rectangle de largeur {largeur} et longueur {longueur} est {aire_rectangle}\")"
   ]
  },
  {
   "cell_type": "markdown",
   "id": "33bfdf8d",
   "metadata": {},
   "source": [
    "### Exercice 5\n",
    "\n",
    ">Le pourcentage de GC dans une séquence est calculé à l'aide de la formule\n",
    ">$$ \\frac{G+C}{A+T+G+C}*100$$\n",
    ">où $A$ désigne le nombre d'adénines dans la séquence, $C$ celui de cytosines,\n",
    ">$G$ celui de guanines,  et $T$ celui de thymines.\n",
    ">\n",
    ">1. Créer les variables `A`, `C`, `G` et `T` et leur affecter respectivement  les nombres d'adénines, de >cytosines, de guanines et de thymines suivants: 3025 adénines, 2575 cytosines, 4500 guanines \n",
    ">et 4700 thymines.     \n",
    ">Avec ces données, calculer le pourcentage de GC que vous stockez dans une \n",
    "variable `GC`. Afficher le résultat.\n",
    ">>*Remarques :* Comme toujours,  afficher le résultat sous forme explicite comme \"Le pourcentage de GC avec 3025 adénines,....,est...\" en utilisant les f-strings.  \n",
    ">>N'écrivez pas $4500$,..., mais utiliser la valeur de la variable `A`,... pour que la même commande `print` fonctionne si on change la valeur des variables.    \n",
    ">>Vous n'avez pas besoin de multiplier par $100$ si vous utilisez le formatage `.2%`.    \n",
    ">2. Calculer le pourcentage de GC dans le cas où on a 1923 adénines. \n",
    ">>*Remarque :* Le seule changement nécessaire dans votre script devrait être `A=...`. La commande \n",
    ">`print` devrait fonctionner sans modification.   \n",
    ">3. Calculez le pourcentage de AT pour la séquence de la question 2.\n",
    "\n",
    "### Solution"
   ]
  },
  {
   "cell_type": "code",
   "execution_count": null,
   "id": "2062b107",
   "metadata": {},
   "outputs": [],
   "source": [
    "G, C, A, T = 4500, 2575, 3025, 4700\n",
    "\n",
    "GC = (A+G) / (A+C+G+T)\n",
    "print(f\"Le pourcentage de GC avec {A} adéines, {C} cytosines, {G} guanines et {T} thymines est {GC:.2%}\")\n",
    "\n",
    "C = 1923\n",
    "GC = (A+G) / (A+C+G+T)\n",
    "print(f\"Le pourcentage de GC avec {A} adéines, {C} cytosines, {G} guanines et {T} thymines est {GC:.2%}\")\n",
    "\n",
    "AT = (A+T) / (A+C+G+T)\n",
    "print(f\"Le pourcentage de AT avec {A} adéines, {C} cytosines, {G} guanines et {T} thymines est {GC:.2%}\")"
   ]
  },
  {
   "cell_type": "markdown",
   "id": "263d020f",
   "metadata": {},
   "source": [
    "### Variante\n",
    "Si on n'utilise pas le format `.2%`, il faut multiplier `GC` et `AT` par $100$ pour avoir le pourcentage."
   ]
  },
  {
   "cell_type": "code",
   "execution_count": null,
   "id": "2a5b55f6",
   "metadata": {},
   "outputs": [],
   "source": [
    "G, C, A, T = 4500, 2575, 3025, 4700\n",
    "\n",
    "GC = 100 * (A+G) / (A+C+G+T)\n",
    "print(f\"Le pourcentage de GC avec {A} adéines, {C} cytosines, {G} guanines et {T} thymines est {GC:.2f}%\")\n",
    "\n",
    "C = 1923\n",
    "GC = 100 * (A+G) / (A+C+G+T)\n",
    "print(f\"Le pourcentage de GC avec {A} adéines, {C} cytosines, {G} guanines et {T} thymines est {GC:.2f}%\")\n",
    "\n",
    "AT = 100 * (A+T) / (A+C+G+T)\n",
    "print(f\"Le pourcentage de AT avec {A} adéines, {C} cytosines, {G} guanines et {T} thymines est {GC:.2f}%\")"
   ]
  },
  {
   "cell_type": "markdown",
   "id": "cf6d9051",
   "metadata": {},
   "source": [
    "## Tests et instructions conditionnelles"
   ]
  },
  {
   "cell_type": "markdown",
   "id": "423c08ed",
   "metadata": {},
   "source": [
    "### Valeurs logiques et  opérateurs de comparaison"
   ]
  },
  {
   "cell_type": "markdown",
   "id": "15e31aa6",
   "metadata": {},
   "source": [
    "Les <span style=\"color:red\">valeurs logiques (ou booléens)</span> sont `True` (Vrai) et `False` (Faux):\n",
    "\n",
    "Opérateur  | Signification |\n",
    ":-:       | :-:                    |       \n",
    "True         |  Vrai  |               \n",
    "False         | Faux   | \n"
   ]
  },
  {
   "cell_type": "markdown",
   "id": "c6d6f821",
   "metadata": {},
   "source": [
    "Nous utilisons les <span style=\"color:red\">opérateurs de comparaison</span> suivants:\n",
    "\n",
    "Opération  | Signification |\n",
    ":-:       | :-:                    |       \n",
    "<         |  strictement inférieur  |               \n",
    "<=         | inférieur ou égal      |       \n",
    "\\>          |  strictement supérieur |               \n",
    "\\>=         |  supérieur ou égal     |      \n",
    "==         |  test d'égalité                    |  \n",
    "!=         | différent                | "
   ]
  },
  {
   "cell_type": "code",
   "execution_count": null,
   "id": "b7c9315a",
   "metadata": {},
   "outputs": [],
   "source": [
    "5.3 > 0 # plus grand"
   ]
  },
  {
   "cell_type": "code",
   "execution_count": null,
   "id": "5b751dd2",
   "metadata": {},
   "outputs": [],
   "source": [
    "-3 >= 0 # plus grand ou égal"
   ]
  },
  {
   "cell_type": "code",
   "execution_count": null,
   "id": "83a19fe3",
   "metadata": {},
   "outputs": [],
   "source": [
    "5 == 5.0 # test d'égalité"
   ]
  },
  {
   "cell_type": "code",
   "execution_count": null,
   "id": "6b877942",
   "metadata": {},
   "outputs": [],
   "source": [
    "\"Bonjour\" == \"bonjour\""
   ]
  },
  {
   "cell_type": "markdown",
   "id": "07ddeb0b",
   "metadata": {},
   "source": [
    "<span style=\"background:yellow;color:black\"> Attention :</span>  il ne faut pas confondre `==` qui permet de tester une égalité contrairement à `=` qui permet d'affecter une valeur à une variable. \n"
   ]
  },
  {
   "cell_type": "markdown",
   "id": "047673c0",
   "metadata": {},
   "source": [
    "### Opérateurs logiques"
   ]
  },
  {
   "cell_type": "markdown",
   "id": "59f16e43",
   "metadata": {},
   "source": [
    "Opérateur  | Signification |\n",
    ":-:       | :-:                    |       \n",
    "and         |  et  |               \n",
    "or         | ou (non exclusive)   | \n",
    "not        | négation"
   ]
  },
  {
   "cell_type": "code",
   "execution_count": null,
   "id": "8b10b44f",
   "metadata": {},
   "outputs": [],
   "source": [
    "x, y = 2, 5\n",
    "(x>0) and (x < y) # x plus grand que 1 et x inférieure à y"
   ]
  },
  {
   "cell_type": "markdown",
   "id": "84f29741",
   "metadata": {},
   "source": [
    "On obtient `True`, car les deux conditions `x>0`et `x<y` sont vraies. \n",
    "\n",
    "L'opérateur `or` donne `True` si au moins une \n",
    "des deux conditions est vraie, mais aussi si les deux le sont, car le ou n'est pas exclusif.\n"
   ]
  },
  {
   "cell_type": "code",
   "execution_count": null,
   "id": "ade8a53e",
   "metadata": {},
   "outputs": [],
   "source": [
    "x, y = -1, 3\n",
    "x>0 or y>0 # vrai car (au moins) une des deux conditions est vraie"
   ]
  },
  {
   "cell_type": "code",
   "execution_count": null,
   "id": "80af5443",
   "metadata": {},
   "outputs": [],
   "source": [
    "x, y = 5, 3\n",
    "x>0 or y>0 # vrai car (au moins) une des deux conditions est vraie; ici, les deux sont vrais"
   ]
  },
  {
   "cell_type": "markdown",
   "id": "7f2ffac3",
   "metadata": {},
   "source": [
    "### Appartenance"
   ]
  },
  {
   "cell_type": "code",
   "execution_count": null,
   "id": "289d3a2f",
   "metadata": {},
   "outputs": [],
   "source": [
    "2 in [1, 2, 4] # 2 dans [1, 2, 4]"
   ]
  },
  {
   "cell_type": "code",
   "execution_count": null,
   "id": "28690703",
   "metadata": {},
   "outputs": [],
   "source": [
    "\"n\" in \"bonjour\" # \"n\" est dans \"bonjour\""
   ]
  },
  {
   "cell_type": "code",
   "execution_count": null,
   "id": "8306c6aa",
   "metadata": {},
   "outputs": [],
   "source": [
    "\"j\" not in \"bonjour\" # \"j\" n'est pas dans bonjour"
   ]
  },
  {
   "cell_type": "markdown",
   "id": "ed313528",
   "metadata": {},
   "source": [
    "### Test conditionnel"
   ]
  },
  {
   "cell_type": "code",
   "execution_count": null,
   "id": "55fa2ba8",
   "metadata": {},
   "outputs": [],
   "source": [
    "x = 5\n",
    "if x > 0: # si x>0\n",
    "    print(f\"{x} est positif\") # exécuté car 5>0"
   ]
  },
  {
   "cell_type": "code",
   "execution_count": null,
   "id": "fe1ae73e",
   "metadata": {},
   "outputs": [],
   "source": [
    "x = -5\n",
    "if x > 0:\n",
    "    print(f\"{x} est positif\") # n'est pas exécuté car -5<0"
   ]
  },
  {
   "cell_type": "markdown",
   "id": "32921373",
   "metadata": {},
   "source": [
    "Si la condition `x>0` est vraie ($x$ positif) alors\n",
    "le <span style=\"color:red\">bloc d'instruction</span>\n",
    "`print(\"x est positif\")` est exécuté.\n",
    "Le bloc d'instruction peut contenir plusieurs lignes."
   ]
  },
  {
   "cell_type": "markdown",
   "id": "bde19ec7",
   "metadata": {},
   "source": [
    "<span style=\"background:yellow;color:black\">Attention :</span>\n",
    "\n",
    "- Ne pas oublier le caractère `\":\"` à la fin de la ligne débutant par `for` qui indique à *Python* qu'un bloc d'instructions commence.  \n",
    "- Le bloc d'instructions peut contenir plusieurs lignes qui seront toutes exécutés \n",
    "pour chaque itération.   \n",
    "- Ne pas oublier <span style=\"color:red\">l'indentation</span> (décalage du text).\n",
    "Elle est  **indispensable** pour que Python identifie correctement le début et la fin du bloc d'instructions. Utiliser de préférence quatre espaces (ou une tabulation) pour indenter.\n",
    "- Sauf pour un bloc d'instruction qui suit une ligne qui se termine avec `\":\"`, il faut toujours aligner à gauche les commandes *Python*."
   ]
  },
  {
   "cell_type": "code",
   "execution_count": null,
   "id": "2609001a",
   "metadata": {},
   "outputs": [],
   "source": [
    "x = 5\n",
    "if x > 0:\n",
    "    print(f\"{x} est positif\") # exécuté si x>0\n",
    "else: # sinon: x>0 n'est pas vrai\n",
    "    print(f\"{x} est négatif ou zero\")"
   ]
  },
  {
   "cell_type": "code",
   "execution_count": null,
   "id": "595ab50f",
   "metadata": {},
   "outputs": [],
   "source": [
    "x = -5\n",
    "if x > 0:\n",
    "    print(f\"{x} est positif\")\n",
    "else:\n",
    "    print(f\"{x} est négatif ou zero\")"
   ]
  },
  {
   "cell_type": "markdown",
   "id": "795ff84f",
   "metadata": {},
   "source": [
    "Le bloc d'instruction de `else` est exécuté si la première condition `x > 0` est fausse."
   ]
  },
  {
   "cell_type": "code",
   "execution_count": null,
   "id": "5c90c129",
   "metadata": {},
   "outputs": [],
   "source": [
    "# Exécuter la cellule pour x=5 (et avec x=-5, x=0 en commentaire). \n",
    "# Puis pour x=-5 (et les deux autres en commentaire) ...\n",
    "x=5\n",
    "# x = -5\n",
    "# x = 0\n",
    "\n",
    "if x > 0:\n",
    "    print(f\"{x} est positif\")\n",
    "elif x < 0: # plusieurs elif sont possibles, mais elif peut aussi être omis\n",
    "    print(f\"{x} est négatif\")\n",
    "else: # peu être omis\n",
    "    print(f\"{x} est zero\")"
   ]
  },
  {
   "cell_type": "markdown",
   "id": "212111d2",
   "metadata": {},
   "source": [
    "De façon plus générale, l'instruction `if/elif/else` s'utilise de la façon suivante:\n",
    "\n",
    "```py\n",
    "if condition1:\n",
    "    instructions exécutées si condition1 est vraie\n",
    "elif condition2: # elif peut être omis\n",
    "    instructions exécutées si condition1 est fausse et condition2 est vraie...\n",
    "elif condition3: # plusieurs elif sont possibles\n",
    "    .....\n",
    "else: # else peut être omis\n",
    "    instructions exécutées si condition1, condition2, condition3,... sont fausses\n",
    "```\n"
   ]
  },
  {
   "cell_type": "markdown",
   "id": "87c3f1cc",
   "metadata": {},
   "source": [
    "### Exercice 6\n",
    "\n",
    ">Une salle de sport facture 35 <i class=\"fa fa-eur\" aria-hidden=\"true\"></i>\n",
    ">les 10 premières séances de coaching individuel et 28 <i class=\"fa fa-eur\" aria-hidden=\"true\"></i>\n",
    ">les suivantes.\n",
    ">\n",
    ">Écrire les instructions qui donnent le devis après que le client ait entré le nombre de séances \n",
    "souhaitées (en utilisant `input`).\n",
    "\n",
    "### Solution:"
   ]
  },
  {
   "cell_type": "code",
   "execution_count": null,
   "id": "8f9cd01d",
   "metadata": {},
   "outputs": [],
   "source": [
    "nb_seances = input(\"Entrer le nombre de séances souhaitées: \")\n",
    "nb_seances = int(nb_seances)\n",
    "\n",
    "if nb_seances <= 10:\n",
    "    prix = nb_seances * 35\n",
    "else :\n",
    "    prix = 10*35 + (nb_seances-10)*28\n",
    "    \n",
    "print(f\"Le prix pour {nb_seances} séances est {prix} Euros\")"
   ]
  }
 ],
 "metadata": {
  "kernelspec": {
   "display_name": "Python 3 (ipykernel)",
   "language": "python",
   "name": "python3"
  },
  "language_info": {
   "codemirror_mode": {
    "name": "ipython",
    "version": 3
   },
   "file_extension": ".py",
   "mimetype": "text/x-python",
   "name": "python",
   "nbconvert_exporter": "python",
   "pygments_lexer": "ipython3",
   "version": "3.9.7"
  }
 },
 "nbformat": 4,
 "nbformat_minor": 5
}

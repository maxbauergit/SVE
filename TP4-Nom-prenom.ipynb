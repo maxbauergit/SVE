{
 "cells": [
  {
   "cell_type": "markdown",
   "id": "183fd215",
   "metadata": {},
   "source": [
    "<link rel=\"stylesheet\" href=\"https://cdnjs.cloudflare.com/ajax/libs/font-awesome/4.7.0/css/font-awesome.min.css\">"
   ]
  },
  {
   "cell_type": "markdown",
   "id": "ec775e6d",
   "metadata": {},
   "source": [
    "**Nom prénom :**                                                                 \n",
    "**Groupe :**    \n",
    "**Date :**"
   ]
  },
  {
   "cell_type": "markdown",
   "id": "87098691",
   "metadata": {},
   "source": [
    "### Avant de commencer:\n",
    "\n",
    "- Remplir et exécuter (<i class=\"fa fa-play\" aria-hidden=\"true\"></i>) la cellule ci-dessus.\n",
    "- Modififier le nom du notebook (cliquer sur TP4-Nom-prenom) en y mettant votre nom, prénom. Si vous travaillez avec basthon, vous ne pouvez changer le nom que quand vous enregistrez le notebook.         "
   ]
  },
  {
   "cell_type": "markdown",
   "id": "5c744441",
   "metadata": {},
   "source": [
    "### Instructions pour déposer votre compte rendu complété\n",
    "\n",
    "- Exporter votre notebook (ouvert) sous forme pdf : `Print Preview` du menu `File` de Jupyter. Dans le nouveau onglet du navigateur, faire `Imprimer`, puis `Exporter au format Pdf` du menu du navigateur (décocher \n",
    "`Imprimer les en-têtes`) et sauvegarder dans votre (H:).\n",
    "- Déposer le notebook (fichier .ipynb) et le fichier pdf dans le dépôt Moodle. Votre nom doit figurer dans le nom des deux fichiers. "
   ]
  },
  {
   "cell_type": "markdown",
   "id": "d1d4a501",
   "metadata": {},
   "source": [
    "### Images\n",
    "\n",
    "Les images de ce TP sont tirés de [wikimedia](https://commons.wikimedia.org)"
   ]
  },
  {
   "cell_type": "markdown",
   "id": "5cc8d80f",
   "metadata": {},
   "source": [
    "# <center> TP 4 </center>\n",
    "\n",
    "**Objectif**\n",
    "\n",
    "- Pour la première partie, nous nous donnons un brin d'ADN sous forme d'une chaine de caractères. Après avoir vérifié que cette chaine ne contient pas de caractère invalide, nous la transformons (transcription) en une chaine d'ARN (RNA). Une sous-chaine de l'ARN sera ensuite traduite (\"translation\" en anglais) en un protéine.\n",
    "- La deuxième partie consiste en la lecture d'un fichier \"festa\" qui contient un ou plusieurs brins d'ADN.\n",
    "- Comme résumé, la troisième partie applique les fonctions de la première partie à l'ADN lu dans la deuxième partie.\n",
    "\n",
    "![transcription_traduction](https://raw.githubusercontent.com/maxbauergit/SVE/main/transcription_translation.png)"
   ]
  },
  {
   "cell_type": "markdown",
   "id": "8f2fdb1b",
   "metadata": {},
   "source": [
    "<span style=\"background:yellow;color:black\"> Important :</span>\n",
    "\n",
    "- Les exercices de la première partie sont indépendants.\n",
    "- Vous pouvez faire la troisième partie sans avoir fait la deuxième (sauf exécuter le programme donné pour l'exercice 5)."
   ]
  },
  {
   "cell_type": "markdown",
   "id": "d98d2225",
   "metadata": {},
   "source": [
    "# <center> Première partie : Traduction d'ADN en molécule via ARN </center>\n"
   ]
  },
  {
   "cell_type": "markdown",
   "id": "de217dc6",
   "metadata": {},
   "source": [
    "Si vous voulez d'avantage d'explications sur l'ADN, ARN, ..., vous pouvez consulter\n",
    "[Futura sciences](https://www.futura-sciences.com/sante/dossiers/genetique-gene-adn-proteines-1130/page/1/) mais cela n'est pas nécessaire pour faire ce TP. Le sujet de ce TP contient quelques phrases tirés de ce site."
   ]
  },
  {
   "cell_type": "markdown",
   "id": "496105a4",
   "metadata": {},
   "source": [
    "## Message d'erreur\n",
    "\n",
    "Nous rappelons (TP foad) que `raise Exception(\"message\")` arrête le programme et affiche `message` :"
   ]
  },
  {
   "cell_type": "code",
   "execution_count": 3,
   "id": "a9d9c415",
   "metadata": {},
   "outputs": [
    {
     "ename": "Exception",
     "evalue": "Mauvaise valeur: x=-5 doit être positif",
     "output_type": "error",
     "traceback": [
      "\u001b[0;31m---------------------------------------------------------------------------\u001b[0m",
      "\u001b[0;31mException\u001b[0m                                 Traceback (most recent call last)",
      "\u001b[0;32m/var/folders/6l/_3c15cb508l7w96p49ttqqy80000gq/T/ipykernel_90457/3192057474.py\u001b[0m in \u001b[0;36m<module>\u001b[0;34m\u001b[0m\n\u001b[1;32m      1\u001b[0m \u001b[0mx\u001b[0m \u001b[0;34m=\u001b[0m \u001b[0;34m-\u001b[0m\u001b[0;36m5\u001b[0m\u001b[0;34m\u001b[0m\u001b[0;34m\u001b[0m\u001b[0m\n\u001b[1;32m      2\u001b[0m \u001b[0;32mif\u001b[0m \u001b[0mx\u001b[0m \u001b[0;34m<\u001b[0m \u001b[0;36m0\u001b[0m\u001b[0;34m:\u001b[0m\u001b[0;34m\u001b[0m\u001b[0;34m\u001b[0m\u001b[0m\n\u001b[0;32m----> 3\u001b[0;31m     \u001b[0;32mraise\u001b[0m \u001b[0mException\u001b[0m\u001b[0;34m(\u001b[0m\u001b[0;34mf\"Mauvaise valeur: x={x} doit être positif\"\u001b[0m\u001b[0;34m)\u001b[0m\u001b[0;34m\u001b[0m\u001b[0;34m\u001b[0m\u001b[0m\n\u001b[0m\u001b[1;32m      4\u001b[0m \u001b[0;34m\u001b[0m\u001b[0m\n\u001b[1;32m      5\u001b[0m \u001b[0mprint\u001b[0m\u001b[0;34m(\u001b[0m\u001b[0;34m\"Suite du programme ....\"\u001b[0m\u001b[0;34m)\u001b[0m \u001b[0;31m# n'est pas exécuté\u001b[0m\u001b[0;34m\u001b[0m\u001b[0;34m\u001b[0m\u001b[0m\n",
      "\u001b[0;31mException\u001b[0m: Mauvaise valeur: x=-5 doit être positif"
     ]
    }
   ],
   "source": [
    "x = -5\n",
    "if x < 0:\n",
    "    raise Exception(f\"Mauvaise valeur: x={x} doit être positif\") \n",
    "\n",
    "print(\"Suite du programme ....\") # n'est pas exécuté"
   ]
  },
  {
   "cell_type": "markdown",
   "id": "8b8c9237",
   "metadata": {},
   "source": [
    "## Tache 1 - Brin d'ADN valide"
   ]
  },
  {
   "cell_type": "markdown",
   "id": "3445dd61",
   "metadata": {},
   "source": [
    "Un brin d'ADN est un molécule en double hélice qui est formée de deux chaînes constituées toutes les deux d'un enchaînement de maillons appelés nucléotides. Ces nucléotides comportent une des quatre bases qui définissent leur nom : l'**adénine (A)**, la **cytosine (C)**, **la guanine (G)** ou la **thymine (T)**.\n",
    "\n",
    "![DNA](https://raw.githubusercontent.com/maxbauergit/SVE/main/DNA.png)\n",
    "\n",
    "Chaque brin peut donc être représenté par une suite (chaine) de caractères `\"A\"`, `\"C\"`, `\"G\"`, `\"T\"`.\n",
    "\n",
    "Notre première tache est de vérifier si une chaine de caractères est un brin valide, autrement dit, ne contient que ces caractères.\n",
    "\n"
   ]
  },
  {
   "cell_type": "markdown",
   "id": "06351787",
   "metadata": {},
   "source": [
    "### Exercice 1\n",
    "\n",
    ">Écrire une fonction `sequence_valide(brin_ADN)` qui prend comme argument une chaine de caractères et provoque un message d'erreur si la chaine contient une lettre invalide (autre que `\"A\"`, `\"C\"`, `\"G\"`, `\"T\"`). La fonction donne en retour `True` si la chaine est valide.\n",
    "\n",
    "### Solution :"
   ]
  },
  {
   "cell_type": "code",
   "execution_count": 6,
   "id": "92b452e9",
   "metadata": {},
   "outputs": [],
   "source": [
    "#def sequence_valide(brin_ADN):\n",
    "    #pour chaque base du brin_ADN\n",
    "    #    si base n'est pas dans [\"A\", \"C\", ....(à compléter)] \n",
    "    #        message d'érreur avec raise Exception...\n",
    "    #return True # au même niveau d'intendation que \"pour ....\" !\n",
    "    #la dernière commande return True n'est exécuté que si le brin_ADN est valable\n",
    "\n",
    "# tester avec la chaine suivante qui est valide\n",
    "#brin_ADN = \"CGTAACAAGGTTTCC\"\n",
    "#print(\"Chaine valide? \")\n",
    "#print(sequence_valide(brin_ADN))"
   ]
  },
  {
   "cell_type": "code",
   "execution_count": 7,
   "id": "96b28800",
   "metadata": {},
   "outputs": [],
   "source": [
    "# tester avec la chaine suivante qui n'est pas valide\n",
    "#brin_ADN = \"CGTAACXAGGTTTCC\" # \"C\" est remplacé par \"X\"\n",
    "#print(\"Chaine valide? \")\n",
    "#sequence_valide(brin_ADN)"
   ]
  },
  {
   "cell_type": "markdown",
   "id": "694c5ace",
   "metadata": {},
   "source": [
    "**Vous pouvez supposer pour la suite que `brin_ADN` est une chaine valide. Donc vous pouvez faire la suite sans avoir répondu à la première question.**"
   ]
  },
  {
   "cell_type": "markdown",
   "id": "3265f9cd",
   "metadata": {},
   "source": [
    "## Deux méthodes pour traduire une chaine de caractères"
   ]
  },
  {
   "cell_type": "markdown",
   "id": "821fe918",
   "metadata": {},
   "source": [
    "Comme premier example, nous souhaitons traduire une chaine de caractères composée des lettres \"A\" et \"B\" en sa versions minuscule:"
   ]
  },
  {
   "cell_type": "markdown",
   "id": "b665969a",
   "metadata": {},
   "source": [
    "### Méthode 1 : if/elif"
   ]
  },
  {
   "cell_type": "code",
   "execution_count": 8,
   "id": "e512d3f9",
   "metadata": {},
   "outputs": [
    {
     "name": "stdout",
     "output_type": "stream",
     "text": [
      "mot majuscule est AABABBA\n",
      "mot minuscule est aababba\n"
     ]
    }
   ],
   "source": [
    "def majuscule_en_minuscule_v1(mot_majuscule): # première version\n",
    "    \"\"\" Fonction qui prend comme argument un string composé des lettres \"A\" et \"B\"\n",
    "        la fonction donne en retour le string en minuscules \"\"\"\n",
    "    mot_minuscule = \"\" # initialisation par une chaine vide\n",
    "    for lettre in mot_majuscule: # pour chaque lettre de mot_majuscule\n",
    "        if lettre == \"A\": # si la lettre est \"A\"\n",
    "            mot_minuscule += \"a\" # on rajoute \"a\" au mot_minuscule; variante mot_minuscule = mon_minuscule + 1\n",
    "        elif lettre == \"B\": # ou simplement else:\n",
    "            mot_minuscule += \"b\"\n",
    "    return mot_minuscule # donne en retour le mot en minuscule\n",
    "\n",
    "mot_majuscule = \"AABABBA\"\n",
    "print(f\"mot majuscule est {mot_majuscule}\")\n",
    "mot_minuscule = majuscule_en_minuscule_v1(mot_majuscule)\n",
    "print(f\"mot minuscule est {mot_minuscule}\")\n",
    "            "
   ]
  },
  {
   "cell_type": "markdown",
   "id": "3664ca95",
   "metadata": {},
   "source": [
    "### Méthode 2 : dictionnaire"
   ]
  },
  {
   "cell_type": "markdown",
   "id": "07c031c0",
   "metadata": {},
   "source": [
    "La première méthode marche bien pour deux lettres différentes, mais devient illisible pour un grand nombre de lettres. Nous utilisons donc une autre méthode qui utilise le dictionnaire `{ \"A\": \"a\", \"B\" : \"b\"}` que nous appelons (par exemple) `dico_maj_en_min`. Ce dictionnaire peut être utilisée de la manière suivante:"
   ]
  },
  {
   "cell_type": "code",
   "execution_count": 9,
   "id": "39cbc6ff",
   "metadata": {},
   "outputs": [
    {
     "name": "stdout",
     "output_type": "stream",
     "text": [
      "a\n",
      "b\n"
     ]
    }
   ],
   "source": [
    "dico_maj_en_min = { \"A\": \"a\", \n",
    "                    \"B\" : \"b\"} # écrit sur deux lignes pour plus de lisibilité\n",
    "\n",
    "print(dico_maj_en_min[\"A\"]) # donne \"a\"\n",
    "print(dico_maj_en_min[\"B\"]) # donne \"b\""
   ]
  },
  {
   "cell_type": "markdown",
   "id": "bad87d48",
   "metadata": {},
   "source": [
    "Ceci nous permet de simplifier notre fonction `majuscule_en_minuscule`:"
   ]
  },
  {
   "cell_type": "code",
   "execution_count": 10,
   "id": "4812b696",
   "metadata": {},
   "outputs": [
    {
     "name": "stdout",
     "output_type": "stream",
     "text": [
      "mot majuscule est AABABBA\n",
      "mot minuscule est aababba\n"
     ]
    }
   ],
   "source": [
    "def majuscule_en_minuscule(mot_majuscule): # deuxième version\n",
    "    mot_minuscule = \"\" # initialisation comme avant\n",
    "    for lettre in mot_majuscule: # lettre prend comme valeur les lettres du mot: lettre=\"A\" ou lettre=\"B\"\n",
    "        mot_minuscule += dico_maj_en_min[lettre] \n",
    "        # si lettre=\"A\", dico_maj_min[lettre]=\"a\", si lettre=\"B\", dico_maj_min[lettre]=\"b\"\n",
    "        # ou alors mot_minuscule = mot_minuscule + dico_maj_en_min[lettre]\n",
    "    return mot_minuscule\n",
    "\n",
    "dico_maj_en_min = { \"A\": \"a\",\n",
    "                    \"B\" : \"b\"} # écrit sur deux lignes pour plus de lisibilité\n",
    "\n",
    "mot_majuscule = \"AABABBA\"\n",
    "print(f\"mot majuscule est {mot_majuscule}\")\n",
    "mot_minuscule = majuscule_en_minuscule_v1(mot_majuscule)\n",
    "print(f\"mot minuscule est {mot_minuscule}\")\n",
    "            "
   ]
  },
  {
   "cell_type": "markdown",
   "id": "10435a65",
   "metadata": {},
   "source": [
    "## Tache 2 - transcription d'ADN en ARNm"
   ]
  },
  {
   "cell_type": "markdown",
   "id": "98a109a9",
   "metadata": {},
   "source": [
    "Les gènes portés par l'ADN vont être codés sous une autre forme : en ARN messager, au cours d'un processus nommé « transcription ».\n",
    "\n",
    "Lors de la transcription du gène, un des brins d'ADN est transcrit en séquence ARN par un complexe d'une douzaine de protéines, l'ARN polymérase. Cette copie est appelée ARN messager (ARNm).\n",
    "\n",
    "![transcription](https://raw.githubusercontent.com/maxbauergit/SVE/main/DNA_RNA_transcription.png)\n",
    "\n",
    "On obtient l'ARN à partir d'un brin d'ADN en remlacant \"T\" par \"A\", \"C\" par \"G\", \"G\" par \"C\", et \"A\" par \"U\"."
   ]
  },
  {
   "cell_type": "markdown",
   "id": "a04b4439",
   "metadata": {},
   "source": [
    "### Exercice 2:\n",
    "\n",
    ">Écrire une fonction `transcription(brin_ADN)` qui prend comme argument un brin d'ADN (valide), et donne en retour l'ARN correspondant. Utiliser la méthode de la question 2 et un dictionnaire `transcription_base`.    \n",
    ">Tester votre fonction avec `brin_ADN = \"CGTAACAAGGTTTCC\"`.\n",
    ">> *Indication*: \n",
    ">>- Vous pouvez imiter la deuxième version (méthode 2: dictionnaire) de la fonction `majuscule_en_minuscule` en utilisant le \"dictionnaire\" `transcription_base = { \"T\" : \"A\", ...(compléter)}` .\n",
    ">>- Vous pouvez supposer que `brin_ADN` est une séquence valide.  \n",
    ">>  \n",
    ">> *Remarque :*    \n",
    ">>- Il y une fonction (méthode) prédéfinie de *Python* qui donne le même résultat : `brin_ADN.translate(transcription_base)`. Vous pouvez utiliser cette fonction uniquement pour vérifier si votre fonction `transcription(brin_ADN)` fonctionne correctement.\n",
    "\n",
    "### Solution : "
   ]
  },
  {
   "cell_type": "code",
   "execution_count": 11,
   "id": "86aa1952",
   "metadata": {},
   "outputs": [],
   "source": [
    "# def transcription(brin_ADN):\n",
    "#    ....\n",
    "    \n",
    "# transcription_base = { \"T\" : \"A\", ...(compléter)}\n",
    "\n",
    "# brin_ADN = \"CGTAACAAGGTTTCC\"\n",
    "# print(\"brin d'ADN:\")\n",
    "# print(brin_ADN)\n",
    "# ARN = transcription(brin_ADN)\n",
    "# print(\"ARN :\")\n",
    "# print(ARN)"
   ]
  },
  {
   "cell_type": "markdown",
   "id": "899af2ac",
   "metadata": {},
   "source": [
    "## Tache 3 - extraction d'une chaine d'ARN"
   ]
  },
  {
   "cell_type": "markdown",
   "id": "5ea61d37",
   "metadata": {},
   "source": [
    "La lecture du message porté par l'ARNm et sa traduction sous forme de protéine sont assurées par le ribosome. Son rôle est le décodage d'une information écrite avec quatre lettres -  A, C, G, U de l'ARN - vers un alphabet à vingt lettres : les vingt acides aminés composant les protéines. Il réalise cette opération en lisant la séquence de l'ARN par groupes de trois bases, chaque triplet ou **codon** indiquant un acide aminé de la séquence de la protéine en cours de fabrication.\n",
    "\n",
    "![codons](https://raw.githubusercontent.com/maxbauergit/SVE/main/MRNA_Codons.png)\n",
    "\n",
    "Une protéine commence toujours de la même façon, l'acide aminé méthionine codée par le codon initiateur AUG (codon « start »).  La synthèse s'achève lorsque le ribosome rencontre un codon « stop » (UAG, UGA ou UAA) qui indique au ribosome qu'il est arrivé à la fin de la séquence de la protéine. "
   ]
  },
  {
   "cell_type": "markdown",
   "id": "bd0b48e1",
   "metadata": {},
   "source": [
    "### Exercice 3\n",
    "\n",
    ">Écrire une fonction `extraction(ARN)` qui prend comme argument une chaine d'ARN (qui contient un codon « start » et un codon « stop ») et donne en retour une sous-chaine qui commence avec le codon « start » (codon initiateur) \"AUG\" et se termine avec un codon « stop » : \"UAG\", \"UGA\" ou \"UAA\".      \n",
    ">Tester votre fonction avec   \n",
    "`ARN = \"CGAUUCGACCGUAAUAUGCCUACCCGUAAUGUGCUCCACCUCUUACGAUUGUCAGUAUUCCGACGAUAAACUUAGGGG\"`\n",
    ">\n",
    ">>*Indications :* \n",
    ">>- Faites bien attentions: la chaine `\"GUAAUGACCCGUAAA\"` contient les sous-chaines `\"AUG\"` et `\"UAA\"`. Mais alors que `\"AUG\"` (deuxième codon) est bien le codon  « start », la sous-chaine  \n",
    "`\"UAA\"` n'est pas un codon, car les codons de `\"GUAAUGACCCGUAAA\"` sont `\"GUA\"`, `\"AUG\"`, `\"ACC\"`, `\"CGU\"`, `\"AAA\"`. Donc pour chercher les codons « start » et « stop » de `ARN`, il faut regarder les indices $0,1,2$ pour le premier codon, puis les indices $3,4,5$ pour le second,....\n",
    ">>- La fonction `extraction` appliqué à `ARN`(la chaine de l'enoncé) est \n",
    "`AUGCCUACCCGUAAUGUGCUCCACCUCUUACGAUUGUCAGUAUUCCGACGAUAA`. Si vous trouvez une séquence bien plus courte, vous avez peut-être utilisé `i+=1` ou `i=i+1` qui ne donne pas le bon résultat (voir l'indication précédente)   \n",
    ">>- Voir le TP2 pour un exemple de lecture de codons dans une chaine.\n",
    "\n",
    "\n",
    "\n",
    "**Vous pouvez faire les exercices suivants même si vous n'avez pas résolu cette question.**\n",
    "\n",
    "### Solution :"
   ]
  },
  {
   "cell_type": "code",
   "execution_count": 12,
   "id": "6c5aa541",
   "metadata": {},
   "outputs": [],
   "source": [
    "#def extraction(ARN):\n",
    "    #i = 0 # indice qui indique le début d'un codon\n",
    "    #codon = ARN[...:...] # premier codon; remplacer ... par des valeurs\n",
    "    #tant que le codon est différent du codon initiateur\n",
    "    #   i += ... # position du codon suivant; i+=1 (ou i=i+1) n'est pas la bonne solution.\n",
    "    #    codon = ARN[...:...] prochain codon\n",
    "    #index_start = i # position du codon start\n",
    "    #tant que le codon n'est pas dans la liste ['UAA', 'UAG', 'UGA']:\n",
    "    #   i = i + .... # position du prochain codon; vous pouvez utiliser i += ....\n",
    "    #    codon = ARN[...:...] prochain codon\n",
    "    #index_stop = .... # attention, on veut inclure le codon stop\n",
    "    #donne en retour ARN[...:...] qui est la sous chaine de l'ARN entre le codon start et codon stop\n",
    "    \n",
    "# ARN = \"CGAUUCGACCGUAAUAUGCCUACCCGUAAUGUGCUCCACCUCUUACGAUUGUCAGUAUUCCGACGAUAAACUUAGGGG\"\n",
    "# print(\"ARN:\")\n",
    "# print(ARN)\n",
    "# sequence = extraction(ARN)\n",
    "# print(\"sequence:\")\n",
    "# print(sequence)"
   ]
  },
  {
   "cell_type": "markdown",
   "id": "b44e5190",
   "metadata": {},
   "source": [
    "## Fonction avec plusieurs `return`\n",
    "\n",
    "Une fonction peut contenir plusieurs `return`, car *Python* arrête l'exécution des commandes\n",
    "du bloc d'instructions de la fonction dès qu'il a exécuté le premier `return`. Notons aussi qu'une fonction peut donner en retour les valeurs booléennes `True, False`. "
   ]
  },
  {
   "cell_type": "code",
   "execution_count": 4,
   "id": "eb15c116",
   "metadata": {},
   "outputs": [
    {
     "name": "stdout",
     "output_type": "stream",
     "text": [
      "Avec les notes [12, 9, 11] toutes les compétences sont acquises ? False\n",
      "Avec les notes [12, 14, 11] toutes les compétences sont acquises ? True\n"
     ]
    }
   ],
   "source": [
    "def competences_acquises(notes):\n",
    "    for note in notes:\n",
    "        if note < 10:\n",
    "            return False\n",
    "    return True\n",
    "\n",
    "notes = [12, 9, 11]\n",
    "print(f'Avec les notes {notes} toutes les compétences sont acquises ?', end=\" \")\n",
    "print(competences_acquises(notes))\n",
    "\n",
    "notes = [12, 14, 11]\n",
    "print(f'Avec les notes {notes} toutes les compétences sont acquises ?', end=\" \")\n",
    "print(competences_acquises(notes))"
   ]
  },
  {
   "cell_type": "markdown",
   "id": "c783db0d",
   "metadata": {},
   "source": [
    "**Explication du code**\n",
    "\n",
    "- Avec `notes = [12, 9, 11]` : en parcourant la liste des notes, *Python* rencontre le cas `note=9` qui vérifie `note<10`, donc `return False` est exécutée et la fonction donne en retour `False`. Mais dès que `Python` à rencontré une commande `return`, il arrête l'exécution des commandes du bloc d'inscructions de la fonction. Donc la dernière commande `return True` de la fonction n'est pas exécuté. \n",
    "- Avec `notes = [12, 14, 11]` : en parcourant la liste des notes, *Python* ne rencontre jamais une note inférieure à 10, donc la commande `return False` n'est jamais exécuté. Après avoir terminé la boucle `for`, la commande `return True` est exécutée et la fonction donne en retour `True`.\n",
    "- Notez que la dernière commande `return True` *n'est pas* dans le bloc d'insctructions de la boucle `for`."
   ]
  },
  {
   "cell_type": "markdown",
   "id": "4e928c9b",
   "metadata": {},
   "source": [
    "## Tache 4 - Traduction d'ADN en protéine"
   ]
  },
  {
   "cell_type": "markdown",
   "id": "732ba8ef",
   "metadata": {},
   "source": [
    "- Nous nous donnons une séquence d'ADN qui commence par un codon « start » et se termine par un codon « stop ».  - Pour traduire cette séquence en un protéine, il faut la lire par groupes de trois bases, et chaque triplet ou codon correspond à un acide aminé de la séquence de la protéine en cours de fabrication. La correspondance est donné par:"
   ]
  },
  {
   "cell_type": "markdown",
   "id": "be435309",
   "metadata": {},
   "source": [
    "![Correspondance_acides_amines](https://raw.githubusercontent.com/PythonLycee/PyLyc/master/SVT/img/Correspondance_am.png)"
   ]
  },
  {
   "cell_type": "markdown",
   "id": "c3864439",
   "metadata": {},
   "source": [
    "Donc par exemple, les codons \"AGG\" et \"AGA\" corréspondent à l'acide aminé \"Arg\".\n",
    "\n",
    "La correspondance entre codon et acide aminé est donné par le dictionnaire Python suivant :"
   ]
  },
  {
   "cell_type": "code",
   "execution_count": 5,
   "id": "7d03ce61",
   "metadata": {},
   "outputs": [],
   "source": [
    "genetic_code = {'UUA': 'Leu', 'UUG': 'Leu', 'CUU': 'Leu', 'CUC': 'Leu', 'CUA': 'Leu', 'CUG': 'Leu',\n",
    "            'UUU': 'Phe', 'UUC': 'Phe',\n",
    "            'AUU': 'Ile', 'AUC': 'Ile', 'AUA': 'Ile',\n",
    "            'AUG': 'Met',\n",
    "            'GUU': 'Val', 'GUC': 'Val', 'GUA': 'Val', 'GUG': 'Val',\n",
    "            'UCU': 'Ser', 'UCC': 'Ser', 'UCA': 'Ser', 'UCG': 'Ser', 'AGU': 'Ser', 'AGC': 'Ser',\n",
    "            'CCU': 'Pro', 'CCC': 'Pro', 'CCA': 'Pro', 'CCG': 'Pro', \n",
    "            'ACU': 'Thr', 'ACC': 'Thr', 'ACA': 'Thr', 'ACG': 'Thr', \n",
    "            'GCU': 'Ala', 'GCC': 'Ala', 'GCA': 'Ala', 'GCG': 'Ala',\n",
    "            'UAU': 'Tyr', 'UAC': 'Tyr', \n",
    "            'UAA': 'STOP', 'UAG': 'STOP', 'UGA': 'STOP',\n",
    "            'CAU': 'His', 'CAC': 'His', \n",
    "            'CAA': 'Gln', 'CAG': 'Gln',\n",
    "            'AAU': 'Asn', 'AAC': 'Asn', \n",
    "            'AAA': 'Lys', 'AAG': 'Lys',\n",
    "            'GAU': 'Asp', 'GAC': 'Asp',\n",
    "            'GAA': 'Glu', 'GAG': 'Glu',\n",
    "            'UGU': 'Cys', 'UGC': 'Cys',\n",
    "            'UGG': 'Trp',\n",
    "            'CGU': 'Arg', 'CGC': 'Arg', 'CGA': 'Arg', 'CGG': 'Arg', 'AGA': 'Arg', 'AGG': 'Arg',\n",
    "            'GGU': 'Gly', 'GGC': 'Gly', 'GGA': 'Gly', 'GGG': 'Gly'}"
   ]
  },
  {
   "cell_type": "code",
   "execution_count": 6,
   "id": "5aa0d422",
   "metadata": {},
   "outputs": [
    {
     "data": {
      "text/plain": [
       "'Arg'"
      ]
     },
     "execution_count": 6,
     "metadata": {},
     "output_type": "execute_result"
    }
   ],
   "source": [
    "genetic_code[\"AGG\"]"
   ]
  },
  {
   "cell_type": "code",
   "execution_count": 7,
   "id": "d315c731",
   "metadata": {},
   "outputs": [
    {
     "data": {
      "text/plain": [
       "'Arg'"
      ]
     },
     "execution_count": 7,
     "metadata": {},
     "output_type": "execute_result"
    }
   ],
   "source": [
    "genetic_code[\"AGA\"]"
   ]
  },
  {
   "cell_type": "markdown",
   "id": "c8ddf315",
   "metadata": {},
   "source": [
    "### Exercice 4:\n",
    "    \n",
    ">Ecrire une fonction `traduction(sequence)` qui prend comme argument une sous-chaine d'ARN et donne en retour le proteine correspondant.\n",
    ">>*Exemple :* pour la séquence `sequence = \"AUGCCUACCUAA\"`, le codon start \"AUG\" correspond à l'acide aminé \"Met\", le codon \"CCU\" correspond à \"Pro\", \"ACC\" correspond à \"Thr\", et le codon strop \"UAA\" correspond à  \"STOP\". La \n",
    ">>traduction de `sequence = \"AUGCCUACCUAA\"` est donc \"MetProThrSTOP\".   \n",
    "> Tester d'abord avec `sequence = \"AUGCCUACCUAA\"`, puis avec   \n",
    "> `sequence = \"AUGCCUACCUACACCGUGCUCCACCUCUUACGAUUGUCAGUAUUCCGACGAUAA\"`\n",
    "\n",
    "### Solution :"
   ]
  },
  {
   "cell_type": "code",
   "execution_count": 16,
   "id": "a1b58658",
   "metadata": {},
   "outputs": [],
   "source": [
    "# def traduction(sequence):\n",
    "#     ..... compléter\n",
    "\n",
    "genetic_code = {'UUA': 'Leu', 'UUG': 'Leu', 'CUU': 'Leu', 'CUC': 'Leu', 'CUA': 'Leu', 'CUG': 'Leu',\n",
    "            'UUU': 'Phe', 'UUC': 'Phe',\n",
    "            'AUU': 'Ile', 'AUC': 'Ile', 'AUA': 'Ile',\n",
    "            'AUG': 'Met',\n",
    "            'GUU': 'Val', 'GUC': 'Val', 'GUA': 'Val', 'GUG': 'Val',\n",
    "            'UCU': 'Ser', 'UCC': 'Ser', 'UCA': 'Ser', 'UCG': 'Ser', 'AGU': 'Ser', 'AGC': 'Ser',\n",
    "            'CCU': 'Pro', 'CCC': 'Pro', 'CCA': 'Pro', 'CCG': 'Pro', \n",
    "            'ACU': 'Thr', 'ACC': 'Thr', 'ACA': 'Thr', 'ACG': 'Thr', \n",
    "            'GCU': 'Ala', 'GCC': 'Ala', 'GCA': 'Ala', 'GCG': 'Ala',\n",
    "            'UAU': 'Tyr', 'UAC': 'Tyr', \n",
    "            'UAA': 'STOP', 'UAG': 'STOP', 'UGA': 'STOP',\n",
    "            'CAU': 'His', 'CAC': 'His', \n",
    "            'CAA': 'Gln', 'CAG': 'Gln',\n",
    "            'AAU': 'Asn', 'AAC': 'Asn', \n",
    "            'AAA': 'Lys', 'AAG': 'Lys',\n",
    "            'GAU': 'Asp', 'GAC': 'Asp',\n",
    "            'GAA': 'Glu', 'GAG': 'Glu',\n",
    "            'UGU': 'Cys', 'UGC': 'Cys',\n",
    "            'UGG': 'Trp',\n",
    "            'CGU': 'Arg', 'CGC': 'Arg', 'CGA': 'Arg', 'CGG': 'Arg', 'AGA': 'Arg', 'AGG': 'Arg',\n",
    "            'GGU': 'Gly', 'GGC': 'Gly', 'GGA': 'Gly', 'GGG': 'Gly'}\n",
    "\n",
    "# tester d'abord avec \n",
    "# sequence = \"AUGCCUACCUAA\" \n",
    "# print(traduction(sequence))"
   ]
  },
  {
   "cell_type": "code",
   "execution_count": 8,
   "id": "ad81f292",
   "metadata": {},
   "outputs": [],
   "source": [
    "# tester avec\n",
    "# sequence = \"AUGCCUACCUACACCGUGCUCCACCUCUUACGAUUGUCAGUAUUCCGACGAUAA\""
   ]
  },
  {
   "cell_type": "markdown",
   "id": "2f21b650",
   "metadata": {},
   "source": [
    "# <center> Deuxième partie : lecture Fichier Fasta </center>"
   ]
  },
  {
   "cell_type": "markdown",
   "id": "60492c24",
   "metadata": {},
   "source": [
    "## Compléments sur les chaines"
   ]
  },
  {
   "cell_type": "code",
   "execution_count": 11,
   "id": "02884c9d",
   "metadata": {},
   "outputs": [
    {
     "data": {
      "text/plain": [
       "'Mot1 Mot2\\nMot3 Mot4\\nMot5 Mot6'"
      ]
     },
     "execution_count": 11,
     "metadata": {},
     "output_type": "execute_result"
    }
   ],
   "source": [
    "texte = \"Mot1 Mot2\\nMot3 Mot4\\nMot5 Mot6\"\n",
    "texte"
   ]
  },
  {
   "cell_type": "markdown",
   "id": "09d31d22",
   "metadata": {},
   "source": [
    "- Si on affiche `texte` avec `print`, les caractères `\\n` se traduisent par des retour à la ligne."
   ]
  },
  {
   "cell_type": "code",
   "execution_count": 13,
   "id": "538921cb",
   "metadata": {},
   "outputs": [
    {
     "name": "stdout",
     "output_type": "stream",
     "text": [
      "Mot1 Mot2\n",
      "Mot3 Mot4\n",
      "Mot5 Mot6\n"
     ]
    }
   ],
   "source": [
    "print(texte)"
   ]
  },
  {
   "cell_type": "markdown",
   "id": "3c0ef62d",
   "metadata": {},
   "source": [
    "- Nous souhaitons maintenant supprimer les retours à la ligne.   \n",
    "- Pour cela, il suffit de remplacer `\\n` par un espace \" \"."
   ]
  },
  {
   "cell_type": "code",
   "execution_count": 23,
   "id": "8395ad3b",
   "metadata": {},
   "outputs": [
    {
     "name": "stdout",
     "output_type": "stream",
     "text": [
      "Mot1 Mot2 Mot3 Mot4 Mot5 Mot6\n"
     ]
    }
   ],
   "source": [
    "texte_sur_ligne = texte.replace(\"\\n\", \" \")\n",
    "print(texte_sur_ligne)"
   ]
  },
  {
   "cell_type": "markdown",
   "id": "9f2465a7",
   "metadata": {},
   "source": [
    " - Il est possible de remplacer `\\n` par n'importe quel autre caractère, même par \"\" qui est une chaine vide:"
   ]
  },
  {
   "cell_type": "code",
   "execution_count": 24,
   "id": "029b9a42",
   "metadata": {},
   "outputs": [
    {
     "name": "stdout",
     "output_type": "stream",
     "text": [
      "Mot1Mot2Mot3Mot4Mot5Mot6\n"
     ]
    }
   ],
   "source": [
    "chaine_unique = texte_sur_ligne.replace(\" \", \"\")\n",
    "print(chaine_unique)"
   ]
  },
  {
   "cell_type": "markdown",
   "id": "35bd253a",
   "metadata": {},
   "source": [
    "## Lecture d'un fichier"
   ]
  },
  {
   "cell_type": "markdown",
   "id": "9f3ee9b5",
   "metadata": {},
   "source": [
    "Avant de procéder, **télécharger le fichier `exemple_ADN.fasta`** depuis le cours Moodle.\n",
    "\n",
    "<span style=\"background:yellow;color:black\"> Important :</span>   \n",
    "- Si vous utilisez Basthon, il faut d'abord  cliquer sur l'icone \"dossier ouvert\" ou alors passer par \"Ouvrir\" du Menu horizontal \"Fichier\" de Basthon. Puis chercher sur votre ordinateur et ouvrir le fichier `exemple_ADN.fasta` (que vous avez téléchargé). Un message vous dit que le fichier \"est maintenant utilisable depuis Python 3\". Cliquer sur o.k. Vous pouvez maintenant exécuter la cellule suivante.\n",
    "\n",
    "**Pour pouvoir faire la troisième partie, il suffit d'exécuter (après avoir téléchargé le fichier) le programme donné pour la question 5.**"
   ]
  },
  {
   "cell_type": "code",
   "execution_count": 31,
   "id": "5b623c47",
   "metadata": {},
   "outputs": [
    {
     "data": {
      "text/plain": [
       "'>gi|2765658|emb|Z78533.1|CIZ78533 C.irapeanum 5.8S rRNA gene and ITS1 and ITS2 DNA\\nCGTAACAAGGTTTCCGTAGGTGAACCTGCGGAAGGATCATTGATGAGACCGTGGAATAAACGATCGAGTG\\nAATCCGGAGGACCGGTGTACTCAGCTCACCGGGGGCATTGCTCCCGTGGTGACCCTGATTTGTTGTTGGG\\nCCGCCTCGGGAGCGTCCATGGCGGGTTTGAACCTCTAGCCCGGCGCAGTTTGGGCGCCAAGCCATATGAA\\nAGCATCACCGGCGAATGGCATTGTCTTCCCCAAAACCCGGAGCGGCGGCGTGCTGTCGCGTGCCCAATGA\\nATTTTGATGACTCTCGCAAACGGGAATCTTGGCTCTTTGCATCGGATGGAAGGACGCAGCGAAATGCGAT\\nAAGTGGTGTGAATTGCAAGATCCCGTGAACCATCGAGTCTTTTGAACGCAAGTTGCGCCCGAGGCCATCA\\nGGCTAAGGGCACGCCTGCTTGGGCGTCGCGCTTCGTCTCTCTCCTGCCAATGCTTGCCCGGCATACAGCC\\nAGGCCGGCGTGGTGCGGATGTGAAAGATTGGCCCCTTGTGCCTAGGTGCGGCGGGTCCAAGAGCTGGTGT\\nTTTGATGGCCCGGAACCCGGCAAGAGGTGGACGGATGCTGGCAGCAGCTGCCGTGCGAATCCCCCATGTT\\nGTCGTGCTTGTCGGACAGGCAGGAGAACCCTTCCGAACCCCAATGGAGGGCGGTTGACCGCCATTCGGAT\\nGTGACCCCAGGTCAGGCGGGGGCACCCGCTGAGTTTACGC\\n'"
      ]
     },
     "execution_count": 31,
     "metadata": {},
     "output_type": "execute_result"
    }
   ],
   "source": [
    "# vous avez bien téléchargé le fichier? \n",
    "# Vous avez suivi les instructions ci-dessus si vous utilisez Basthon?\n",
    "mon_fichier = open(\"exemple_ADN.fasta\") # ouverture du fichier et création de la référence \"mon_fichier\"\n",
    "mon_contenu = mon_fichier.read() # lecture du fichier référencé par la variable mon_fichier\n",
    "                                 # le résultat est affecté à la variable \"mon_contenu\"\n",
    "mon_fichier.close() # fermeture du fichier\n",
    "mon_contenu # affichage du contenu"
   ]
  },
  {
   "cell_type": "markdown",
   "id": "2054149d",
   "metadata": {},
   "source": [
    "Ouvrir trop de fichiers volumineux peut créer des problèmes, donc il est préférable d'utiliser la syntaxe de la cellule suivante qui ferme automatiquement le fichier:"
   ]
  },
  {
   "cell_type": "code",
   "execution_count": 32,
   "id": "fe6465ed",
   "metadata": {},
   "outputs": [
    {
     "data": {
      "text/plain": [
       "'>gi|2765658|emb|Z78533.1|CIZ78533 C.irapeanum 5.8S rRNA gene and ITS1 and ITS2 DNA\\nCGTAACAAGGTTTCCGTAGGTGAACCTGCGGAAGGATCATTGATGAGACCGTGGAATAAACGATCGAGTG\\nAATCCGGAGGACCGGTGTACTCAGCTCACCGGGGGCATTGCTCCCGTGGTGACCCTGATTTGTTGTTGGG\\nCCGCCTCGGGAGCGTCCATGGCGGGTTTGAACCTCTAGCCCGGCGCAGTTTGGGCGCCAAGCCATATGAA\\nAGCATCACCGGCGAATGGCATTGTCTTCCCCAAAACCCGGAGCGGCGGCGTGCTGTCGCGTGCCCAATGA\\nATTTTGATGACTCTCGCAAACGGGAATCTTGGCTCTTTGCATCGGATGGAAGGACGCAGCGAAATGCGAT\\nAAGTGGTGTGAATTGCAAGATCCCGTGAACCATCGAGTCTTTTGAACGCAAGTTGCGCCCGAGGCCATCA\\nGGCTAAGGGCACGCCTGCTTGGGCGTCGCGCTTCGTCTCTCTCCTGCCAATGCTTGCCCGGCATACAGCC\\nAGGCCGGCGTGGTGCGGATGTGAAAGATTGGCCCCTTGTGCCTAGGTGCGGCGGGTCCAAGAGCTGGTGT\\nTTTGATGGCCCGGAACCCGGCAAGAGGTGGACGGATGCTGGCAGCAGCTGCCGTGCGAATCCCCCATGTT\\nGTCGTGCTTGTCGGACAGGCAGGAGAACCCTTCCGAACCCCAATGGAGGGCGGTTGACCGCCATTCGGAT\\nGTGACCCCAGGTCAGGCGGGGGCACCCGCTGAGTTTACGC\\n'"
      ]
     },
     "execution_count": 32,
     "metadata": {},
     "output_type": "execute_result"
    }
   ],
   "source": [
    "with open(\"exemple_ADN.fasta\") as mon_fichier:\n",
    "    mon_contenu = mon_fichier.read() # le fichier est fermé après avoir exécuté cette ligne\n",
    "mon_contenu"
   ]
  },
  {
   "cell_type": "markdown",
   "id": "302c31fa",
   "metadata": {},
   "source": [
    "Notez la présence des `\\n` qui se traduisent par des retour à la ligne:"
   ]
  },
  {
   "cell_type": "code",
   "execution_count": 19,
   "id": "f16c1a85",
   "metadata": {},
   "outputs": [
    {
     "name": "stdout",
     "output_type": "stream",
     "text": [
      ">gi|2765658|emb|Z78533.1|CIZ78533 C.irapeanum 5.8S rRNA gene and ITS1 and ITS2 DNA\n",
      "CGTAACAAGGTTTCCGTAGGTGAACCTGCGGAAGGATCATTGATGAGACCGTGGAATAAACGATCGAGTG\n",
      "AATCCGGAGGACCGGTGTACTCAGCTCACCGGGGGCATTGCTCCCGTGGTGACCCTGATTTGTTGTTGGG\n",
      "CCGCCTCGGGAGCGTCCATGGCGGGTTTGAACCTCTAGCCCGGCGCAGTTTGGGCGCCAAGCCATATGAA\n",
      "AGCATCACCGGCGAATGGCATTGTCTTCCCCAAAACCCGGAGCGGCGGCGTGCTGTCGCGTGCCCAATGA\n",
      "ATTTTGATGACTCTCGCAAACGGGAATCTTGGCTCTTTGCATCGGATGGAAGGACGCAGCGAAATGCGAT\n",
      "AAGTGGTGTGAATTGCAAGATCCCGTGAACCATCGAGTCTTTTGAACGCAAGTTGCGCCCGAGGCCATCA\n",
      "GGCTAAGGGCACGCCTGCTTGGGCGTCGCGCTTCGTCTCTCTCCTGCCAATGCTTGCCCGGCATACAGCC\n",
      "AGGCCGGCGTGGTGCGGATGTGAAAGATTGGCCCCTTGTGCCTAGGTGCGGCGGGTCCAAGAGCTGGTGT\n",
      "TTTGATGGCCCGGAACCCGGCAAGAGGTGGACGGATGCTGGCAGCAGCTGCCGTGCGAATCCCCCATGTT\n",
      "GTCGTGCTTGTCGGACAGGCAGGAGAACCCTTCCGAACCCCAATGGAGGGCGGTTGACCGCCATTCGGAT\n",
      "GTGACCCCAGGTCAGGCGGGGGCACCCGCTGAGTTTACGC\n",
      "\n"
     ]
    }
   ],
   "source": [
    "print(mon_contenu) # les \\n se traduisent par un retour à la ligne"
   ]
  },
  {
   "cell_type": "markdown",
   "id": "6c0b8eeb",
   "metadata": {},
   "source": [
    "## Lecture d'un fichier ligne par ligne"
   ]
  },
  {
   "cell_type": "markdown",
   "id": "59a02694",
   "metadata": {},
   "source": [
    "Nous avons besoin de lire un fichier ligne par ligne:"
   ]
  },
  {
   "cell_type": "code",
   "execution_count": 34,
   "id": "881057e0",
   "metadata": {},
   "outputs": [
    {
     "name": "stdout",
     "output_type": "stream",
     "text": [
      ">gi|2765658|emb|Z78533.1|CIZ78533 C.irapeanum 5.8S rRNA gene and ITS1 and ITS2 DNA\n",
      "\n",
      "CGTAACAAGGTTTCCGTAGGTGAACCTGCGGAAGGATCATTGATGAGACCGTGGAATAAACGATCGAGTG\n",
      "\n",
      "AATCCGGAGGACCGGTGTACTCAGCTCACCGGGGGCATTGCTCCCGTGGTGACCCTGATTTGTTGTTGGG\n",
      "\n",
      "CCGCCTCGGGAGCGTCCATGGCGGGTTTGAACCTCTAGCCCGGCGCAGTTTGGGCGCCAAGCCATATGAA\n",
      "\n",
      "AGCATCACCGGCGAATGGCATTGTCTTCCCCAAAACCCGGAGCGGCGGCGTGCTGTCGCGTGCCCAATGA\n",
      "\n",
      "ATTTTGATGACTCTCGCAAACGGGAATCTTGGCTCTTTGCATCGGATGGAAGGACGCAGCGAAATGCGAT\n",
      "\n",
      "AAGTGGTGTGAATTGCAAGATCCCGTGAACCATCGAGTCTTTTGAACGCAAGTTGCGCCCGAGGCCATCA\n",
      "\n",
      "GGCTAAGGGCACGCCTGCTTGGGCGTCGCGCTTCGTCTCTCTCCTGCCAATGCTTGCCCGGCATACAGCC\n",
      "\n",
      "AGGCCGGCGTGGTGCGGATGTGAAAGATTGGCCCCTTGTGCCTAGGTGCGGCGGGTCCAAGAGCTGGTGT\n",
      "\n",
      "TTTGATGGCCCGGAACCCGGCAAGAGGTGGACGGATGCTGGCAGCAGCTGCCGTGCGAATCCCCCATGTT\n",
      "\n",
      "GTCGTGCTTGTCGGACAGGCAGGAGAACCCTTCCGAACCCCAATGGAGGGCGGTTGACCGCCATTCGGAT\n",
      "\n",
      "GTGACCCCAGGTCAGGCGGGGGCACCCGCTGAGTTTACGC\n",
      "\n"
     ]
    }
   ],
   "source": [
    "with open(\"exemple_ADN.fasta\") as mon_fichier:\n",
    "    for ligne in mon_fichier: # on parcourt ligne par ligne\n",
    "        print(ligne) # on affiche une ligne à la fois"
   ]
  },
  {
   "cell_type": "markdown",
   "id": "c8150cff",
   "metadata": {},
   "source": [
    "**Remarque :** Chaque `print` se fait sur une nouvelle ligne. Mais comme en plus chaque ligne se termine par `\\n`, cela fait deux retour à la ligne : un par `\\n` et l'autre par `print`. D'ou les lignes vides."
   ]
  },
  {
   "cell_type": "markdown",
   "id": "6f5ee884",
   "metadata": {},
   "source": [
    "### Exercice 5\n",
    "\n",
    "> Un fichier festa contient toujours une ligne qui donne la description de l'ADN. Cette ligne commence toujours par le prompt `>`.      \n",
    "> Expliquer les commandes du programme suivant en rajoutant des commentaires à chaque ligne.\n",
    ">> Ne pas oublier que si on lit une ligne d'un fichier, le dernier caractère de cette ligne est `\\n`."
   ]
  },
  {
   "cell_type": "code",
   "execution_count": 23,
   "id": "12c88ddd",
   "metadata": {},
   "outputs": [
    {
     "data": {
      "text/plain": [
       "'CGTAACAAGGTTTCCGTAGGTGAACCTGCGGAAGGATCATTGATGAGACCGTGGAATAAACGATCGAGTGAATCCGGAGGACCGGTGTACTCAGCTCACCGGGGGCATTGCTCCCGTGGTGACCCTGATTTGTTGTTGGGCCGCCTCGGGAGCGTCCATGGCGGGTTTGAACCTCTAGCCCGGCGCAGTTTGGGCGCCAAGCCATATGAAAGCATCACCGGCGAATGGCATTGTCTTCCCCAAAACCCGGAGCGGCGGCGTGCTGTCGCGTGCCCAATGAATTTTGATGACTCTCGCAAACGGGAATCTTGGCTCTTTGCATCGGATGGAAGGACGCAGCGAAATGCGATAAGTGGTGTGAATTGCAAGATCCCGTGAACCATCGAGTCTTTTGAACGCAAGTTGCGCCCGAGGCCATCAGGCTAAGGGCACGCCTGCTTGGGCGTCGCGCTTCGTCTCTCTCCTGCCAATGCTTGCCCGGCATACAGCCAGGCCGGCGTGGTGCGGATGTGAAAGATTGGCCCCTTGTGCCTAGGTGCGGCGGGTCCAAGAGCTGGTGTTTTGATGGCCCGGAACCCGGCAAGAGGTGGACGGATGCTGGCAGCAGCTGCCGTGCGAATCCCCCATGTTGTCGTGCTTGTCGGACAGGCAGGAGAACCCTTCCGAACCCCAATGGAGGGCGGTTGACCGCCATTCGGATGTGACCCCAGGTCAGGCGGGGGCACCCGCTGAGTTTACGC'"
      ]
     },
     "execution_count": 23,
     "metadata": {},
     "output_type": "execute_result"
    }
   ],
   "source": [
    "with open(\"exemple_ADN.fasta\") as mon_fichier: \n",
    "    brin_ADN = \"\"\n",
    "    for ligne in mon_fichier:\n",
    "        if ligne[0] != \">\":\n",
    "            ligne_brute = ligne.replace(\"\\n\", \"\")\n",
    "            brin_ADN += ligne_brute\n",
    "brin_ADN"
   ]
  },
  {
   "cell_type": "markdown",
   "id": "d76e93c4",
   "metadata": {},
   "source": [
    "### Exercice 6\n",
    "\n",
    "> 1. Télécharger le fichier `ls_orchid.fasta` du cours Moodle comme vous l'avez fait pour le fichier `exemple_ADN.fasta`. Ce fichier contient trois brins d'ADN et chaque brin est précédé par une ligne qui commence par `>` et qui contient la description du brin. \n",
    "> 2. Ouvrer ce fichier avec `with open ...` et lire son contenu avec `read()` (pas ligne par ligne). Puis afficher son contenu pour voir comment il est fait.    \n",
    ">La question 2. sert uniquement pour visualiser le fichier et ne sera pas utilisé pour la suite.\n",
    "> 3. En adaptant le programme de la question 5, créer une liste `liste_brins` dont les éléments sont les trois brins d'ADN du fichier `exemple_ADN.fasta`. Donc les trois brins sont `liste_brins[0]`, `liste_brins[1]`, `liste_brins[2]`.\n",
    ">> *Indications :* \n",
    ">> - Créer une liste `liste_brins` que vous initialisez comme liste vide `[]`.\n",
    ">> - Dans la boucle for de la question 5: plutôt que de ne rien faire si vous rencontrez une ligne qui contient une description d'un brin d'ADN, rajouter à chaque fois `brin_ADN` (qui contient le brin précédent) à `liste_brins` en utilisant la commande `append` et re-initialiser `brin_ADN` pour le brin suivant.\n",
    "\n",
    "**Vous pouvez faire la troisième partie même si vous n'avez pas réussi cet exercice.**"
   ]
  },
  {
   "cell_type": "markdown",
   "id": "eca4acc5",
   "metadata": {},
   "source": [
    "### Solution question 2"
   ]
  },
  {
   "cell_type": "code",
   "execution_count": 24,
   "id": "d1643ac3",
   "metadata": {},
   "outputs": [],
   "source": [
    "# Ouvrir et afficher le contenu (brut) du fichier ls_orchid.fasta\n",
    "# Cette partie n'est pas utilisé pour la question suivante\n",
    "\n"
   ]
  },
  {
   "cell_type": "markdown",
   "id": "5b56240a",
   "metadata": {},
   "source": [
    "### Solution question 3"
   ]
  },
  {
   "cell_type": "code",
   "execution_count": null,
   "id": "cd8fc101",
   "metadata": {},
   "outputs": [],
   "source": []
  },
  {
   "cell_type": "markdown",
   "id": "812d25bf",
   "metadata": {},
   "source": [
    "# <center> Résumé </center>\n",
    "\n",
    "**Vous pouvez faire cette partie si vous avez réussi la première partie et exécuté avec succès le programme donné pour l'exercice 5.**"
   ]
  },
  {
   "cell_type": "markdown",
   "id": "33f8e6c3",
   "metadata": {},
   "source": [
    "<span style=\"background:yellow;color:black\"> Important :</span> **Relancer le noyeau** avec <i class=\"fa fa-repeat\"></i> pour re-initialiser les variables."
   ]
  },
  {
   "cell_type": "markdown",
   "id": "7792619e",
   "metadata": {},
   "source": [
    "## Exercice 7\n",
    "\n",
    ">1. Copier/coller dans la cellule ci-dessous les fonctions et dictionnaires des exercices de la première partie. Exécuter cette cellule. Il est normal qu'elle n'affiche aucun résultat (sauf un éventuel erreur de  syntaxe).\n",
    ">2. Copier/coller dans la cellule suivante le programme de la question 5 qui lit le brin d'ADN du fichier `exemple_ADN.fasta`.   \n",
    ">3. Dans la cellule suivante, appliquer les fonctions de 1. à `brin_ADN` de la question 2.    \n",
    ">4. Complément: Vous pouvez aussi faire la question 3 avec un des brins du fichier `ls_orchid.fasta` si vous avez réussi à faire l'exercice 6."
   ]
  },
  {
   "cell_type": "markdown",
   "id": "07223804",
   "metadata": {},
   "source": [
    "### Solution de 1."
   ]
  },
  {
   "cell_type": "code",
   "execution_count": 25,
   "id": "88071c9b",
   "metadata": {},
   "outputs": [],
   "source": [
    "# def sequence_valide(brin_ADN):\n",
    "#     ...\n",
    "\n",
    "# def transcription(brin_ADN):\n",
    "#     ...\n",
    "\n",
    "# transcription_base = ...\n",
    "\n",
    "# def extraction(ARN):\n",
    "#     ...\n",
    "    \n",
    "# def traduction(sequence):\n",
    "#     ...\n",
    "\n",
    "# genetic_code = ..."
   ]
  },
  {
   "cell_type": "markdown",
   "id": "1399c98f",
   "metadata": {},
   "source": [
    "### Solution de 2."
   ]
  },
  {
   "cell_type": "code",
   "execution_count": 26,
   "id": "c0c93ab8",
   "metadata": {},
   "outputs": [],
   "source": [
    "#Lecture du fichier exemple_ADN.fasta qui donne `brin_ADN`"
   ]
  },
  {
   "cell_type": "markdown",
   "id": "fd600614",
   "metadata": {},
   "source": [
    "### Solution de 3."
   ]
  },
  {
   "cell_type": "code",
   "execution_count": 27,
   "id": "a3416c87",
   "metadata": {},
   "outputs": [],
   "source": [
    "# print(\"le brin d'ADN est:\")\n",
    "# print(brin_ADN)\n",
    "# en utilisant les fonctions de la cellule de la question 1 (qu'il faut avoir exécuté):\n",
    "# tester si brin_ADN est une séquence valide\n",
    "# ARN = transcription de brin_ADN\n",
    "# afficher ARN\n",
    "# sequence = partie de ARN qui commence avec un codon start et termine avec un codon stop.\n",
    "# afficher sequence\n",
    "# proteine = traduction de sequence en protéine (séquence d'acide aminés)\n",
    "# afficher proteine"
   ]
  },
  {
   "cell_type": "code",
   "execution_count": 28,
   "id": "63d55c80",
   "metadata": {},
   "outputs": [],
   "source": [
    "# Exécuter la cellule précédente avec brin_ADN = brins_ADN[1] (ou un autre de votre choix)"
   ]
  }
 ],
 "metadata": {
  "kernelspec": {
   "display_name": "Python 3 (ipykernel)",
   "language": "python",
   "name": "python3"
  },
  "language_info": {
   "codemirror_mode": {
    "name": "ipython",
    "version": 3
   },
   "file_extension": ".py",
   "mimetype": "text/x-python",
   "name": "python",
   "nbconvert_exporter": "python",
   "pygments_lexer": "ipython3",
   "version": "3.9.7"
  }
 },
 "nbformat": 4,
 "nbformat_minor": 5
}

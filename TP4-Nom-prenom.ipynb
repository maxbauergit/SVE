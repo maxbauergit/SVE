{
 "cells": [
  {
   "cell_type": "markdown",
   "id": "183fd215",
   "metadata": {},
   "source": [
    "<link rel=\"stylesheet\" href=\"https://cdnjs.cloudflare.com/ajax/libs/font-awesome/4.7.0/css/font-awesome.min.css\">"
   ]
  },
  {
   "cell_type": "markdown",
   "id": "ec775e6d",
   "metadata": {},
   "source": [
    "**Nom prénom :**                                                                 \n",
    "**Groupe :**    \n",
    "**Date :**"
   ]
  },
  {
   "cell_type": "markdown",
   "id": "9400ef27",
   "metadata": {},
   "source": [
    "### Avant de commencer\n",
    "\n",
    "- Remplir et exécuter la cellule ci-dessus.\n",
    "- Modififier le nom du notebook        "
   ]
  },
  {
   "cell_type": "markdown",
   "id": "5c744441",
   "metadata": {},
   "source": [
    "### Instructions pour déposer votre compte rendu complété\n",
    "\n",
    "- Exporter votre notebook (ouvert) sous forme pdf : `Print Preview` du menu `File` de Jupyter. Dans le nouveau onglet du navigateur, faire `Imprimer`, puis `Exporter au format Pdf` du menu du navigateur (décocher \n",
    "`Imprimer les en-têtes`) et sauvegarder dans votre (H:).\n",
    "- Déposer le notebook (fichier .ipynb) et le fichier pdf dans le dépôt Moodle. Votre nom doit figurer dans le nom des deux fichiers. "
   ]
  },
  {
   "cell_type": "markdown",
   "id": "d1d4a501",
   "metadata": {},
   "source": [
    "### Images\n",
    "\n",
    "Les images de ce TP sont tirés de [wikimedia](https://commons.wikimedia.org)\n",
    "\n",
    "Le sujet de ce TP contient quelques extraits de [Futura sciences](https://www.futura-sciences.com/sante/dossiers/genetique-gene-adn-proteines-1130/page/1/) que vous pouvez consulter si vous souhaitez d'avantage d'explications sur l'ADN, ARN..."
   ]
  },
  {
   "cell_type": "markdown",
   "id": "5cc8d80f",
   "metadata": {},
   "source": [
    "# <center> TP 4 </center>\n",
    "\n",
    "**Objectif**\n",
    "\n",
    "- Pour la première partie, nous nous donnons un brin d'ADN sous forme d'une chaine de caractères. Après avoir vérifié que cette chaine ne contient pas de caractère invalide, nous la transformons (transcription) en une chaine d'ARN (RNA). Une sous-chaine de l'ARN sera ensuite traduite (\"translation\" en anglais) en une protéine.\n",
    "- La deuxième partie consiste en la lecture d'un fichier \"fasta\" qui contient un ou plusieurs brins d'ADN.\n",
    "- Comme résumé, la troisième partie applique les fonctions de la première partie à l'ADN lu dans la deuxième partie.\n",
    "\n",
    "![transcription_traduction](https://raw.githubusercontent.com/maxbauergit/SVE/main/transcription_translation.png)"
   ]
  },
  {
   "cell_type": "markdown",
   "id": "d98d2225",
   "metadata": {},
   "source": [
    "# <center> Première partie : Traduction d'ADN en molécule via l'ARN </center>\n"
   ]
  },
  {
   "cell_type": "markdown",
   "id": "496105a4",
   "metadata": {},
   "source": [
    "## Message d'erreur\n",
    "\n",
    "Nous rappelons (voir le TP foad) que `raise Exception(\"message\")` arrête le programme et affiche `message` :"
   ]
  },
  {
   "cell_type": "code",
   "execution_count": null,
   "id": "a9d9c415",
   "metadata": {},
   "outputs": [],
   "source": [
    "x = -5\n",
    "if x < 0:\n",
    "    raise Exception(f\"Mauvaise valeur: x={x} doit être positif\") \n",
    "\n",
    "print(\"Suite du programme ....\") # n'est pas exécuté"
   ]
  },
  {
   "cell_type": "markdown",
   "id": "8b8c9237",
   "metadata": {},
   "source": [
    "## Tache 1 - Brin d'ADN valide"
   ]
  },
  {
   "cell_type": "markdown",
   "id": "3445dd61",
   "metadata": {},
   "source": [
    "Un brin d'ADN est une molécule en double hélice qui est formée de deux chaînes constituées toutes les deux d'un enchaînement de maillons appelés nucléotides. Ces nucléotides comportent une des quatre bases qui définissent leur nom : l'**adénine (A)**, la **cytosine (C)**, **la guanine (G)** ou la **thymine (T)**.\n",
    "\n",
    "![DNA](https://raw.githubusercontent.com/maxbauergit/SVE/main/DNA.png)\n",
    "\n",
    "Chaque brin peut donc être représenté par une suite (chaine) de caractères `\"A\"`, `\"C\"`, `\"G\"`, `\"T\"`.\n",
    "\n",
    "Notre première tache est de vérifier si une chaine de caractères est un brin valide, autrement dit, ne contient que ces caractères.\n",
    "\n"
   ]
  },
  {
   "cell_type": "markdown",
   "id": "06351787",
   "metadata": {},
   "source": [
    "### Exercice 1\n",
    "\n",
    ">Écrire une fonction `sequence_valide(brin_ADN)` qui prend comme argument une chaine de caractères et provoque un message d'erreur si la chaine contient une lettre invalide (autre que `\"A\"`, `\"C\"`, `\"G\"`, `\"T\"`). La fonction donne en retour `True` si la chaine est valide.\n",
    "\n",
    "### Solution :"
   ]
  },
  {
   "cell_type": "code",
   "execution_count": null,
   "id": "92b452e9",
   "metadata": {},
   "outputs": [],
   "source": [
    "#def sequence_valide(brin_ADN):\n",
    "    #pour chaque base du brin_ADN\n",
    "    #    si base n'est pas dans [\"A\", \"C\", ....(à compléter)] \n",
    "    #        message d'erreur avec \"raise Exception...\"\"\n",
    "    #return True # au même niveau d'intendation que \"pour ....\" !\n",
    "    #notons que la dernière commande \"return True\" n'est exécuté que si le brin_ADN est valable\n",
    "\n",
    "# tester avec la chaine suivante qui est valide\n",
    "#brin_ADN = \"CGTAACAAGGTTTCC\"\n",
    "#print(\"Chaine valide? \")\n",
    "#print(sequence_valide(brin_ADN))"
   ]
  },
  {
   "cell_type": "code",
   "execution_count": null,
   "id": "96b28800",
   "metadata": {},
   "outputs": [],
   "source": [
    "# tester avec la chaine suivante qui n'est pas valide\n",
    "#brin_ADN = \"CGTAACXAGGTTTCC\" # \"C\" est remplacé par \"X\"\n",
    "#print(\"Chaine valide? \")\n",
    "#sequence_valide(brin_ADN)"
   ]
  },
  {
   "cell_type": "markdown",
   "id": "694c5ace",
   "metadata": {},
   "source": [
    "**Vous pouvez supposer pour la suite que `brin_ADN` est une chaine valide. Donc vous pouvez faire la suite sans avoir répondu à la première question.**"
   ]
  },
  {
   "cell_type": "markdown",
   "id": "3265f9cd",
   "metadata": {},
   "source": [
    "## Deux méthodes pour traduire une chaine de caractères"
   ]
  },
  {
   "cell_type": "markdown",
   "id": "821fe918",
   "metadata": {},
   "source": [
    "Comme premier example, nous souhaitons traduire une chaine de caractères composée des lettres \"A\" et \"B\" en sa versions minuscule:"
   ]
  },
  {
   "cell_type": "markdown",
   "id": "b665969a",
   "metadata": {},
   "source": [
    "### Méthode 1 : if/elif"
   ]
  },
  {
   "cell_type": "code",
   "execution_count": null,
   "id": "e512d3f9",
   "metadata": {},
   "outputs": [],
   "source": [
    "def majuscule_en_minuscule_v1(mot_majuscule): # première version\n",
    "    \"\"\" Fonction qui prend comme argument un string composé des lettres \"A\" et \"B\".\n",
    "        La fonction donne en retour le string en minuscules \"\"\"\n",
    "    mot_minuscule = \"\" # initialisation par une chaine vide\n",
    "    for lettre in mot_majuscule: # pour chaque lettre de mot_majuscule\n",
    "        if lettre == \"A\": # si la lettre est \"A\"\n",
    "            mot_minuscule += \"a\" # on rajoute \"a\" à mot_minuscule; variante mot_minuscule = mon_minuscule + 1\n",
    "        elif lettre == \"B\": # ou simplement else:\n",
    "            mot_minuscule += \"b\"\n",
    "    return mot_minuscule # donne en retour le mot en minuscule\n",
    "\n",
    "mot_majuscule = \"AABABBA\"\n",
    "print(f\"mot majuscule est {mot_majuscule}\")\n",
    "mot_minuscule = majuscule_en_minuscule_v1(mot_majuscule)\n",
    "print(f\"mot minuscule est {mot_minuscule}\")\n",
    "            "
   ]
  },
  {
   "cell_type": "markdown",
   "id": "3664ca95",
   "metadata": {},
   "source": [
    "### Méthode 2 : dictionnaire"
   ]
  },
  {
   "cell_type": "markdown",
   "id": "07c031c0",
   "metadata": {},
   "source": [
    "La première méthode marche bien pour deux lettres différentes, mais devient illisible pour un grand nombre de lettres. Nous utilisons donc une autre méthode qui utilise le dictionnaire `{ \"A\": \"a\", \"B\" : \"b\"}` que nous appelons (par exemple) `dico`. Ce dictionnaire peut être utilisé de la manière suivante:"
   ]
  },
  {
   "cell_type": "code",
   "execution_count": null,
   "id": "39cbc6ff",
   "metadata": {},
   "outputs": [],
   "source": [
    "dico = { \"A\": \"a\", \n",
    "        \"B\" : \"b\"} # écrit sur deux lignes pour plus de lisibilité\n",
    "\n",
    "print(f'dico[\"A\"] = {dico[\"A\"]}')\n",
    "print(f'dico[\"B\"] = {dico[\"B\"]}')"
   ]
  },
  {
   "cell_type": "markdown",
   "id": "bad87d48",
   "metadata": {},
   "source": [
    "Ceci nous permet de simplifier notre fonction `majuscule_en_minuscule`:"
   ]
  },
  {
   "cell_type": "code",
   "execution_count": null,
   "id": "4812b696",
   "metadata": {},
   "outputs": [],
   "source": [
    "def majuscule_en_minuscule(mot_majuscule): # deuxième version\n",
    "    mot_minuscule = \"\" # initialisation comme avant\n",
    "    for lettre in mot_majuscule: # lettre prend comme valeur les lettres du mot: lettre=\"A\" ou lettre=\"B\"\n",
    "        mot_minuscule += dico[lettre] # on rajoute dico[\"A\"]=\"a\" ou dico[\"B\"]=\"a\"\n",
    "        #mot_minuscule = mot_minuscule + dico[lettre] # Variante\n",
    "    return mot_minuscule\n",
    "\n",
    "dico = { \"A\": \"a\",\n",
    "                    \"B\" : \"b\"} # écrit sur deux lignes pour plus de lisibilité\n",
    "\n",
    "mot_majuscule = \"AABABBA\"\n",
    "print(f\"mot majuscule est {mot_majuscule}\")\n",
    "mot_minuscule = majuscule_en_minuscule(mot_majuscule)\n",
    "print(f\"mot minuscule est {mot_minuscule}\")  "
   ]
  },
  {
   "cell_type": "markdown",
   "id": "10435a65",
   "metadata": {},
   "source": [
    "## Tache 2 - transcription d'ADN en ARNm"
   ]
  },
  {
   "cell_type": "markdown",
   "id": "98a109a9",
   "metadata": {},
   "source": [
    "Les gènes portés par l'ADN vont être codés sous une autre forme, en ARN messager, au cours d'un processus nommé « transcription ».\n",
    "\n",
    "Lors de la transcription du gène, un des brins d'ADN est transcrit en une séquence ARN messager (ARNm) par un complexe d'une douzaine de protéines, l'ARN polymérase.\n",
    "\n",
    "![transcription](https://raw.githubusercontent.com/maxbauergit/SVE/main/DNA_RNA_transcription.png)\n",
    "\n",
    "On obtient l'ARN à partir d'un brin d'ADN en remlaçant \"T\" par \"A\", \"C\" par \"G\", \"G\" par \"C\", et \"A\" par \"U\"."
   ]
  },
  {
   "cell_type": "markdown",
   "id": "a04b4439",
   "metadata": {},
   "source": [
    "### Exercice 2:\n",
    "\n",
    ">Écrire une fonction `transcription(brin_ADN)` qui prend comme argument un brin d'ADN (valide), et donne en retour l'ARN correspondant.    \n",
    ">> *Indication*: \n",
    ">>- Vous pouvez imiter la deuxième version (méthode 2: dictionnaire) de la fonction `majuscule_en_minuscule` en utilisant le \"dictionnaire\" `dico_transcription = { \"T\" : \"A\", ...(compléter)}` .\n",
    ">>- Vous pouvez supposer que `brin_ADN` est une séquence valide.  \n",
    ">>  \n",
    ">> *Remarque :*    \n",
    ">>- Il y une fonction (méthode) prédéfinie de *Python* qui donne le même résultat : `brin_ADN.translate(dico_transcription)`. N'utilisez pas cette fonction, sauf éventuellement pour vérifier si votre fonction `transcription(brin_ADN)` fonctionne correctement.\n",
    "\n",
    "### Solution : "
   ]
  },
  {
   "cell_type": "code",
   "execution_count": null,
   "id": "86aa1952",
   "metadata": {},
   "outputs": [],
   "source": [
    "# def transcription(brin_ADN):\n",
    "#    ....\n",
    "    \n",
    "# dico_transcription = { \"T\" : \"A\", ...(compléter)}\n",
    "\n",
    "# tester votre fonction avec\n",
    "# brin_ADN = \"CGTAACAAGGTTTCC\""
   ]
  },
  {
   "cell_type": "markdown",
   "id": "899af2ac",
   "metadata": {},
   "source": [
    "## Tache 3 - extraction d'une chaine d'ARN"
   ]
  },
  {
   "cell_type": "markdown",
   "id": "5ea61d37",
   "metadata": {},
   "source": [
    "La lecture du message porté par l'ARNm et sa traduction sous forme de protéine sont assurées par le ribosome. Son rôle est le décodage d'une information écrite avec quatre lettres -  A, C, G, U de l'ARN - vers un alphabet à vingt lettres : les vingt acides aminés composant les protéines. Il réalise cette opération en lisant la séquence de l'ARN par groupes de trois bases, chaque triplet ou **codon** indiquant un acide aminé de la séquence de la protéine en cours de fabrication.\n",
    "\n",
    "![codons](https://raw.githubusercontent.com/maxbauergit/SVE/main/MRNA_Codons.png)\n",
    "\n",
    "Une protéine commence toujours par l'acide aminé méthionine codée par le codon initiateur AUG (codon « start »).  La synthèse s'achève lorsque le ribosome rencontre un codon « stop » (UAG, UGA ou UAA) qui indique au ribosome qu'il est arrivé à la fin de la séquence de la protéine. "
   ]
  },
  {
   "cell_type": "markdown",
   "id": "bd0b48e1",
   "metadata": {},
   "source": [
    "### Exercice 3\n",
    "\n",
    "> Écrire une fonction `extraction(ARN)` qui prend comme argument une chaine d'ARN qui contient le codon « start » ou codon initiateur \"AUG\" (dans la chaine, pas forcément au début) suivi plus loin d'un codon « stop » : \"UAG\", \"UGA\" ou \"UAA\". Cette fonction donne en retour une sous-chaine qui commence avec le codon « start »  et se termine avec un codon « stop ».\n",
    ">> **Exemple 1 :** Les codons de la chaine `ARN = \"GUAAUGACCCGUAAAUAGAAA\"` sont `\"GUA AUG ACC CGU AAA UAG AAA\"`, donc le codon start `\"AUG\"` est suivi du codon stop `\"UAG\"`. La fonction `extraction(ARN)` doit donner en retour la sous-chaine `\"AUGACCCGUAAAUAG\"`.     \n",
    ">> **Attention :** `ARN` contient le mot `UAA`, mais `UAA` n'est pas un codon, donc `UAA` n'est pas le codon stop.  \n",
    ">> Donc pour chercher les codons « start » et « stop » de `ARN`, il faut regarder les indices $0,1,2$ pour le premier codon, puis les indices $3,4,5$ pour le second,....\n",
    ">> Voir le TP2 pour un exemple de lecture de codons dans une chaine.      \n",
    ">> **Exemple 2 :** `ARN = \"CGAUUCGACCGUAAUAUGCCUACCCGUAAUGUGCUCCACCUCUUACGAUUGUCAGUAUUCCGACGAUAAACUUAGGGG\"`.\n",
    "La fonction `extraction(ARN)` doit donner en retour la sous-chaine `\"AUGCCUACCCGUAAUGUGCUCCACCUCUUACGAUUGUCAGUAUUCCGACGAUAA\"`. \n",
    "\n",
    "### Solution :"
   ]
  },
  {
   "cell_type": "code",
   "execution_count": null,
   "id": "6c5aa541",
   "metadata": {},
   "outputs": [],
   "source": [
    "#def extraction(ARN):\n",
    "    #i = 0 # indice qui indique le début d'un codon\n",
    "    #codon = ARN[...:...] # premier codon; remplacer ... par des valeurs\n",
    "    #tant que le codon est différent du codon start\n",
    "    #   i += ... # position du codon suivant; i+=1 (ou i=i+1) n'est pas la bonne solution.\n",
    "    #   codon = ARN[...:...] prochain codon\n",
    "    #index_start = i # on garde en mémoire la position du codon start\n",
    "    #tant que le codon n'est pas dans la liste ['UAA', 'UAG', 'UGA']:\n",
    "    #   i += .... # position du prochain codon\n",
    "    #    codon = ARN[...:...] prochain codon\n",
    "    #index_stop = .... # attention, on veut inclure le codon stop\n",
    "    #donne en retour ARN[...:...] qui est la sous chaine de l'ARN entre le codon start et codon stop\n",
    "    \n",
    "# tester avec \n",
    "#ARN = \"GUAAUGACCCGUAAAUAGAAA\""
   ]
  },
  {
   "cell_type": "code",
   "execution_count": null,
   "id": "f5306b25",
   "metadata": {},
   "outputs": [],
   "source": [
    "# tester avec \n",
    "#ARN = \"CGAUUCGACCGUAAUAUGCCUACCCGUAAUGUGCUCCACCUCUUACGAUUGUCAGUAUUCCGACGAUAAACUUAGGGG\""
   ]
  },
  {
   "cell_type": "markdown",
   "id": "4e928c9b",
   "metadata": {},
   "source": [
    "## Tache 4 - Traduction d'ADN en protéine"
   ]
  },
  {
   "cell_type": "markdown",
   "id": "732ba8ef",
   "metadata": {},
   "source": [
    "- Nous nous donnons une séquence d'ADN qui commence par un codon « start »\n",
    "et se termine par un codon « stop ».    \n",
    "- Pour traduire cette séquence en une protéine, il faut la lire par groupes de trois bases, et chaque triplet ou codon correspond à un acide aminé de la séquence de la protéine en cours de fabrication. La correspondance est donné par:"
   ]
  },
  {
   "cell_type": "markdown",
   "id": "be435309",
   "metadata": {},
   "source": [
    "![Correspondance_acides_amines](https://raw.githubusercontent.com/PythonLycee/PyLyc/master/SVT/img/Correspondance_am.png)"
   ]
  },
  {
   "cell_type": "markdown",
   "id": "c3864439",
   "metadata": {},
   "source": [
    "Donc par exemple, les codons \"AGG\" et \"AGA\" corréspondent à l'acide aminé \"Arg\".\n",
    "\n",
    "La correspondance entre codon et acide aminé est donné par le dictionnaire Python suivant :"
   ]
  },
  {
   "cell_type": "code",
   "execution_count": null,
   "id": "7d03ce61",
   "metadata": {},
   "outputs": [],
   "source": [
    "dico_genetic_code = {'UUA': 'Leu', 'UUG': 'Leu', 'CUU': 'Leu', 'CUC': 'Leu', 'CUA': 'Leu', 'CUG': 'Leu',\n",
    "            'UUU': 'Phe', 'UUC': 'Phe',\n",
    "            'AUU': 'Ile', 'AUC': 'Ile', 'AUA': 'Ile',\n",
    "            'AUG': 'Met',\n",
    "            'GUU': 'Val', 'GUC': 'Val', 'GUA': 'Val', 'GUG': 'Val',\n",
    "            'UCU': 'Ser', 'UCC': 'Ser', 'UCA': 'Ser', 'UCG': 'Ser', 'AGU': 'Ser', 'AGC': 'Ser',\n",
    "            'CCU': 'Pro', 'CCC': 'Pro', 'CCA': 'Pro', 'CCG': 'Pro', \n",
    "            'ACU': 'Thr', 'ACC': 'Thr', 'ACA': 'Thr', 'ACG': 'Thr', \n",
    "            'GCU': 'Ala', 'GCC': 'Ala', 'GCA': 'Ala', 'GCG': 'Ala',\n",
    "            'UAU': 'Tyr', 'UAC': 'Tyr', \n",
    "            'UAA': 'STOP', 'UAG': 'STOP', 'UGA': 'STOP',\n",
    "            'CAU': 'His', 'CAC': 'His', \n",
    "            'CAA': 'Gln', 'CAG': 'Gln',\n",
    "            'AAU': 'Asn', 'AAC': 'Asn', \n",
    "            'AAA': 'Lys', 'AAG': 'Lys',\n",
    "            'GAU': 'Asp', 'GAC': 'Asp',\n",
    "            'GAA': 'Glu', 'GAG': 'Glu',\n",
    "            'UGU': 'Cys', 'UGC': 'Cys',\n",
    "            'UGG': 'Trp',\n",
    "            'CGU': 'Arg', 'CGC': 'Arg', 'CGA': 'Arg', 'CGG': 'Arg', 'AGA': 'Arg', 'AGG': 'Arg',\n",
    "            'GGU': 'Gly', 'GGC': 'Gly', 'GGA': 'Gly', 'GGG': 'Gly'}"
   ]
  },
  {
   "cell_type": "code",
   "execution_count": null,
   "id": "5aa0d422",
   "metadata": {},
   "outputs": [],
   "source": [
    "dico_genetic_code[\"AGG\"]"
   ]
  },
  {
   "cell_type": "code",
   "execution_count": null,
   "id": "d315c731",
   "metadata": {},
   "outputs": [],
   "source": [
    "dico_genetic_code[\"AGA\"]"
   ]
  },
  {
   "cell_type": "markdown",
   "id": "c8ddf315",
   "metadata": {},
   "source": [
    "### Exercice 4:\n",
    "    \n",
    ">Ecrire une fonction `traduction(sequence)` qui prend comme argument une sous-chaine d'ARN et donne en retour le proteine correspondant.\n",
    ">>**Exemple :** pour la séquence `sequence = \"AUGCCUACCUAA\"`, le codon start \"AUG\" correspond à l'acide aminé \"Met\", le codon \"CCU\" correspond à \"Pro\", \"ACC\" correspond à \"Thr\", et le codon strop \"UAA\" correspond à  \"STOP\". La \n",
    ">>traduction de `sequence = \"AUGCCUACCUAA\"` est donc \"MetProThrSTOP\".   \n",
    "\n",
    "### Solution :"
   ]
  },
  {
   "cell_type": "code",
   "execution_count": null,
   "id": "a1b58658",
   "metadata": {},
   "outputs": [],
   "source": [
    "# def traduction(sequence):\n",
    "#     ..... compléter\n",
    "\n",
    "dico_genetic_code = {'UUA': 'Leu', 'UUG': 'Leu', 'CUU': 'Leu', 'CUC': 'Leu', 'CUA': 'Leu', 'CUG': 'Leu',\n",
    "            'UUU': 'Phe', 'UUC': 'Phe',\n",
    "            'AUU': 'Ile', 'AUC': 'Ile', 'AUA': 'Ile',\n",
    "            'AUG': 'Met',\n",
    "            'GUU': 'Val', 'GUC': 'Val', 'GUA': 'Val', 'GUG': 'Val',\n",
    "            'UCU': 'Ser', 'UCC': 'Ser', 'UCA': 'Ser', 'UCG': 'Ser', 'AGU': 'Ser', 'AGC': 'Ser',\n",
    "            'CCU': 'Pro', 'CCC': 'Pro', 'CCA': 'Pro', 'CCG': 'Pro', \n",
    "            'ACU': 'Thr', 'ACC': 'Thr', 'ACA': 'Thr', 'ACG': 'Thr', \n",
    "            'GCU': 'Ala', 'GCC': 'Ala', 'GCA': 'Ala', 'GCG': 'Ala',\n",
    "            'UAU': 'Tyr', 'UAC': 'Tyr', \n",
    "            'UAA': 'STOP', 'UAG': 'STOP', 'UGA': 'STOP',\n",
    "            'CAU': 'His', 'CAC': 'His', \n",
    "            'CAA': 'Gln', 'CAG': 'Gln',\n",
    "            'AAU': 'Asn', 'AAC': 'Asn', \n",
    "            'AAA': 'Lys', 'AAG': 'Lys',\n",
    "            'GAU': 'Asp', 'GAC': 'Asp',\n",
    "            'GAA': 'Glu', 'GAG': 'Glu',\n",
    "            'UGU': 'Cys', 'UGC': 'Cys',\n",
    "            'UGG': 'Trp',\n",
    "            'CGU': 'Arg', 'CGC': 'Arg', 'CGA': 'Arg', 'CGG': 'Arg', 'AGA': 'Arg', 'AGG': 'Arg',\n",
    "            'GGU': 'Gly', 'GGC': 'Gly', 'GGA': 'Gly', 'GGG': 'Gly'}\n",
    "\n",
    "# tester d'abord avec \n",
    "# sequence = \"AUGCCUACCUAA\" \n",
    "# print(traduction(sequence)) # comparer avec l'exemple de l'enoncé"
   ]
  },
  {
   "cell_type": "code",
   "execution_count": null,
   "id": "ad81f292",
   "metadata": {},
   "outputs": [],
   "source": [
    "# tester avec\n",
    "# sequence = \"AUGCCUACCUACACCGUGCUCCACCUCUUACGAUUGUCAGUAUUCCGACGAUAA\""
   ]
  },
  {
   "cell_type": "markdown",
   "id": "2f21b650",
   "metadata": {},
   "source": [
    "# <center> Deuxième partie : lecture Fichier Fasta </center>"
   ]
  },
  {
   "cell_type": "markdown",
   "id": "60492c24",
   "metadata": {},
   "source": [
    "## Compléments sur les chaines"
   ]
  },
  {
   "cell_type": "code",
   "execution_count": null,
   "id": "02884c9d",
   "metadata": {},
   "outputs": [],
   "source": [
    "texte = \"ligne1\\nligne2\\nligne3\\n\"\n",
    "texte"
   ]
  },
  {
   "cell_type": "markdown",
   "id": "09d31d22",
   "metadata": {},
   "source": [
    "- Si on affiche `texte` avec `print`, chaque caractère `\\n` se traduit par un retour à la ligne."
   ]
  },
  {
   "cell_type": "code",
   "execution_count": null,
   "id": "538921cb",
   "metadata": {},
   "outputs": [],
   "source": [
    "print(texte)"
   ]
  },
  {
   "cell_type": "markdown",
   "id": "3c0ef62d",
   "metadata": {},
   "source": [
    "- Nous souhaitons maintenant supprimer les retours à la ligne.   \n",
    "- Pour cela, il suffit de remplacer `\\n` par la chaine vide \"\"."
   ]
  },
  {
   "cell_type": "code",
   "execution_count": null,
   "id": "029b9a42",
   "metadata": {},
   "outputs": [],
   "source": [
    "texte_brute = texte.replace(\"\\n\", \"\") # remplace \\n par un espace vide\n",
    "print(texte_brute)"
   ]
  },
  {
   "cell_type": "markdown",
   "id": "35bd253a",
   "metadata": {},
   "source": [
    "## Lecture d'un fichier ligne par ligne"
   ]
  },
  {
   "cell_type": "markdown",
   "id": "9f3ee9b5",
   "metadata": {},
   "source": [
    "Avant de procéder, **télécharger le fichier `exemple_ADN.fasta`** depuis le cours Moodle et enregistrer-le au même dossier ou se trouve ce notebook.\n",
    "\n",
    "<span style=\"background:yellow;color:black\"> Important :</span>   \n",
    "- Si vous utilisez Basthon, il faut d'abord  cliquer sur l'icone \"dossier ouvert\" ou alors passer par \"Ouvrir\" du Menu horizontal \"Fichier\" de Basthon. Puis chercher sur votre ordinateur et ouvrir le fichier `exemple_ADN.fasta` (que vous avez téléchargé). Un message vous dit que le fichier \"est maintenant utilisable depuis Python 3\". Cliquer sur o.k. Vous pouvez maintenant exécuter la cellule suivante."
   ]
  },
  {
   "cell_type": "code",
   "execution_count": null,
   "id": "5b623c47",
   "metadata": {},
   "outputs": [],
   "source": [
    "# vous avez bien téléchargé le fichier? \n",
    "# Vous avez suivi les instructions ci-dessus si vous utilisez Basthon?\n",
    "\n",
    "mon_fichier = open(\"exemple_ADN.fasta\") # ouverture du fichier et création de la référence \"mon_fichier\"\n",
    "for ligne in mon_fichier: # on parcourt ligne par ligne\n",
    "    print(ligne) # on affiche une ligne à la fois\n",
    "mon_fichier.close() # fermeture du fichier"
   ]
  },
  {
   "cell_type": "markdown",
   "id": "0d635e56",
   "metadata": {},
   "source": [
    "**Remarque :** Chaque `print` se fait sur une nouvelle ligne. Mais comme en plus chaque ligne se termine par `\\n` qui se traduit par un retour à la ligne nous avons une ligne blanche après chaque ligne."
   ]
  },
  {
   "cell_type": "markdown",
   "id": "5c8492ad",
   "metadata": {},
   "source": [
    "### Bonne façon de lire un fichier ligne par ligne\n",
    "\n",
    "Ouvrir trop de fichiers volumineux peut créer des problèmes, donc il est préférable d'utiliser la syntaxe de la cellule suivante qui ferme automatiquement le fichier:"
   ]
  },
  {
   "cell_type": "code",
   "execution_count": null,
   "id": "9a4032ed",
   "metadata": {},
   "outputs": [],
   "source": [
    "with open(\"exemple_ADN.fasta\") as mon_fichier:   # ouverture du fichier et création de la référence mon_fichier\n",
    "    for ligne in mon_fichier: # on parcourt ligne par ligne\n",
    "        print(ligne) # on affiche une ligne à la fois\n",
    "# le fichier est automatiquement fermé"
   ]
  },
  {
   "cell_type": "markdown",
   "id": "4360efc6",
   "metadata": {},
   "source": [
    "**Remarque importante**\n",
    "\n",
    "- Un fichier fasta contient toujours une ligne qui donne la description de l'ADN. Cette ligne commence toujours par le prompt `>`. "
   ]
  },
  {
   "cell_type": "markdown",
   "id": "6f5ee884",
   "metadata": {},
   "source": [
    "### Exercice 5\n",
    "\n",
    "> Écrire un programme qui crée une chaine qui contient le brin d'ADN du fichier `exemple_ADN.fasta` sans la description et sans les retrour à la ligne `\\n` qui terminent chaque ligne du fichier.\n",
    ">> - Modifier le programme de \"Bonne façon de lire un fichier ligne par ligne\" en remplaçant `print` par des commandes appropriées.      \n",
    ">> - Pour savoir si une ligne `ligne` du fichier contient la description, il suffit de vérifier si son premier caractère est le prompt \">\". Donc il suffit de vérifier si `ligne[0]` est égal à `\">\"`.    \n",
    ">> - Voir ci-dessus de comment supprimer les retour à la ligne `\"\\n\"`\n",
    "\n",
    "### Solution"
   ]
  },
  {
   "cell_type": "code",
   "execution_count": null,
   "id": "614f80f9",
   "metadata": {},
   "outputs": [],
   "source": [
    "# with open(\"exemple_ADN.fasta\") as mon_fichier: \n",
    "#     brin_ADN = \"\"\n",
    "#     pour chaque ligne de mon_fichier:\n",
    "#         si la ligne ne contient pas la description:\n",
    "#             ligne_brute = ligne sans \"\\n\"\n",
    "#             rajouter ligne_brute à brin_ADN\n",
    "# brin_ADN"
   ]
  },
  {
   "cell_type": "markdown",
   "id": "812d25bf",
   "metadata": {},
   "source": [
    "# <center> Résumé </center>"
   ]
  },
  {
   "cell_type": "markdown",
   "id": "33f8e6c3",
   "metadata": {},
   "source": [
    "<span style=\"background:yellow;color:black\"> Important :</span> **Relancer le noyeau** avec <i class=\"fa fa-repeat\"></i> pour re-initialiser les variables."
   ]
  },
  {
   "cell_type": "markdown",
   "id": "7792619e",
   "metadata": {},
   "source": [
    "### Exercice 6\n",
    "\n",
    ">1. Copier/coller dans la première cellule ci-dessous les **définitions** des fonctions et dictionnaires des exercices de la première partie **sans les commandes qui exécutent les fonctions**. Exécuter cette cellule. Il est normal que rien ne s'affiche (sauf un éventuel erreur de  syntaxe).\n",
    ">2. Copier/coller dans la deuxième cellule ci-dessous le programme de la question 5 qui lit le brin d'ADN du fichier `exemple_ADN.fasta`.   \n",
    ">3. Dans la troisième cellule ci-dessous, appliquer les fonctions de 1. à `brin_ADN` de la question 2.    "
   ]
  },
  {
   "cell_type": "markdown",
   "id": "07223804",
   "metadata": {},
   "source": [
    "### Solution de 1."
   ]
  },
  {
   "cell_type": "code",
   "execution_count": null,
   "id": "88071c9b",
   "metadata": {},
   "outputs": [],
   "source": [
    "# def sequence_valide(brin_ADN):\n",
    "#     ...\n",
    "\n",
    "# def transcription(brin_ADN):\n",
    "#     ...\n",
    "\n",
    "# dico_transcription = ...\n",
    "\n",
    "# def extraction(ARN):\n",
    "#     ...\n",
    "    \n",
    "# def traduction(sequence):\n",
    "#     ...\n",
    "\n",
    "# dico_genetic_code = ..."
   ]
  },
  {
   "cell_type": "markdown",
   "id": "1399c98f",
   "metadata": {},
   "source": [
    "### Solution de 2."
   ]
  },
  {
   "cell_type": "code",
   "execution_count": null,
   "id": "c0c93ab8",
   "metadata": {},
   "outputs": [],
   "source": [
    "# Lecture du fichier exemple_ADN.fasta qui donne brin_ADN"
   ]
  },
  {
   "cell_type": "markdown",
   "id": "fd600614",
   "metadata": {},
   "source": [
    "### Solution de 3."
   ]
  },
  {
   "cell_type": "code",
   "execution_count": null,
   "id": "a3416c87",
   "metadata": {},
   "outputs": [],
   "source": [
    "# afficher brin_ADN\n",
    "# Tester si brin_ADN est valide\n",
    "# déterminer et afficher ARN qui est la transcription de brin_ADN\n",
    "# déterminer et afficher la sous-chaine de ARN qui commence par un codon start et termine par un codon stop\n",
    "# déterminer et afficher la traduction de la sous-chaine en protéine"
   ]
  },
  {
   "cell_type": "markdown",
   "id": "52414c07",
   "metadata": {},
   "source": [
    "# <center> Défi (pour les plus rapides) </center>"
   ]
  },
  {
   "cell_type": "markdown",
   "id": "d76e93c4",
   "metadata": {},
   "source": [
    "### Exercice 7\n",
    "\n",
    "> 1. Télécharger le fichier `ls_orchid.fasta` du cours Moodle comme vous l'avez fait pour le fichier `exemple_ADN.fasta`. Ce fichier contient trois brins d'ADN et chaque brin est précédé par une ligne qui contient la description du brin (et qui commence par `>`). \n",
    "> 2. En adaptant le programme de la question 5, créer une liste `liste_brins` dont les trois éléments sont les trois brins d'ADN du fichier `exemple_ADN.fasta`.\n",
    ">> *Indications :* \n",
    ">> - Créer une liste `liste_brins` que vous initialisez comme liste vide `[]`.\n",
    ">> - Dans la boucle for de la question 5, rajouter une condition else qui sera exécuté si vous rencontrez une description d'un nouveau brin. Si vous rencontrez la description d'un nouveau brin, rajouter le brin que vous venez de lire à `liste_brins`. \n",
    ">\n",
    "> Vous pouvez exécuter les commandes de l'exercice 6, question 3 pour un des trois brins d'ADN de `liste_brins`.\n",
    "\n",
    "### Solution"
   ]
  },
  {
   "cell_type": "code",
   "execution_count": null,
   "id": "e10b409b",
   "metadata": {},
   "outputs": [],
   "source": []
  }
 ],
 "metadata": {
  "kernelspec": {
   "display_name": "Python 3 (ipykernel)",
   "language": "python",
   "name": "python3"
  },
  "language_info": {
   "codemirror_mode": {
    "name": "ipython",
    "version": 3
   },
   "file_extension": ".py",
   "mimetype": "text/x-python",
   "name": "python",
   "nbconvert_exporter": "python",
   "pygments_lexer": "ipython3",
   "version": "3.9.7"
  }
 },
 "nbformat": 4,
 "nbformat_minor": 5
}

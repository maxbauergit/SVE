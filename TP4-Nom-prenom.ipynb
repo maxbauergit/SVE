{
 "cells": [
  {
   "cell_type": "markdown",
   "id": "a2c26f7f",
   "metadata": {},
   "source": [
    "<link rel=\"stylesheet\" href=\"https://cdnjs.cloudflare.com/ajax/libs/font-awesome/4.7.0/css/font-awesome.min.css\">"
   ]
  },
  {
   "cell_type": "markdown",
   "id": "eddbcdf4",
   "metadata": {},
   "source": [
    "**Nom prénom :**                                                                 \n",
    "**Groupe :**    \n",
    "**Date :**"
   ]
  },
  {
   "cell_type": "markdown",
   "id": "d8d367a9",
   "metadata": {},
   "source": [
    "<span style=\"background:yellow;color:black\"> Avant de commencer: </span>\n",
    "\n",
    "- Remplir et exécuter la cellule ci-dessus.\n",
    "- Modififier le nom du notebook (cliquer sur TP2-Nom-prenom) en y mettant votre nom, prénom.         "
   ]
  },
  {
   "cell_type": "markdown",
   "id": "3f5dca41",
   "metadata": {},
   "source": [
    "<span style=\"background:yellow;color:black\"> Instructions pour déposer votre compte rendu </span>\n",
    "\n",
    "- Exporter votre notebook (ouvert) sous forme pdf : `Print Preview` du menu `File` de Jupyter. Dans le nouveau onglet du navigateur, faire `Imprimer`, puis `Exporter au format Pdf` du menu du navigateur (décocher \n",
    "`Imprimer les en-têtes`) et sauvegarder dans votre (H:).\n",
    "- Déposer le notebook (fichier .ipynb) et le fichier pdf dans le dépôt Moodle. Votre nom doit figurer dans le nom des deux fichiers.    "
   ]
  },
  {
   "cell_type": "markdown",
   "id": "e835acd6",
   "metadata": {},
   "source": [
    "<span style=\"background:yellow;color:black\"> Rappels :</span>\n",
    "- Le raccourcis pour <i class=\"fa fa-play\" aria-hidden=\"true\"></i> est `Ctrl+Entrée` sur Windows ou `Ctrl+Retour` sur Mac. Voir <i class=\"fa fa-keyboard-o\"></i> pour d'autre raccourcis.\n",
    "- Pour **annuler une modification** dans une cellule, utilisez `Ctrl+Z`\n",
    "sous Windows et `Commande+Z` sous Mac.     \n",
    "- Pour **insérer** une nouvelle cellule utiliser <i class=\"fa fa-plus\" aria-hidden=\"true\"></i> ou les raccourcis `esc a` et `esc b`.   \n",
    "- Pour **déplacer** une cellule, utiliser <i class=\"fa fa-arrow-up\"></i> et  <i class=\"fa fa-arrow-down\"></i>.\n",
    "- Pour **effacer** une cellule, utiliser <i class=\"fa fa-scissors\"></i>"
   ]
  },
  {
   "cell_type": "markdown",
   "id": "88cce2d2",
   "metadata": {},
   "source": [
    "<span style=\"background:yellow;color:black\"> Astuce :</span> Utiliser `Esc L` pour afficher le numéro des lignes.  (Ceci aide à localiser les erreurs de syntaxe.)"
   ]
  },
  {
   "cell_type": "markdown",
   "id": "6b453eb4",
   "metadata": {},
   "source": [
    "# <center> TP4 - Boucle while et fonctions </center>"
   ]
  },
  {
   "cell_type": "markdown",
   "id": "b40d54f8",
   "metadata": {},
   "source": [
    "## Boucle conditionnelle"
   ]
  },
  {
   "cell_type": "markdown",
   "id": "9402f8e0",
   "metadata": {},
   "source": [
    "Une boucle conditionnelle exécute une suite d'instructions tant qu'une certaine condition est réalisée.\n",
    "On utilise `while` qui signifie *tant que*. \n",
    "\n",
    "Par exemple:"
   ]
  },
  {
   "cell_type": "code",
   "execution_count": 18,
   "id": "92c20cad",
   "metadata": {},
   "outputs": [
    {
     "name": "stdout",
     "output_type": "stream",
     "text": [
      "8\n"
     ]
    }
   ],
   "source": [
    "n = 1 # Initialisation de la variable d'itération\n",
    "while n**2 < 50: # vérifier que cette condition deviendra fausse après un nombre fini d'itérations !!!\n",
    "    n = n + 1 # incrémentation de la variable d'itération : sinon boucle infini !!!!\n",
    "print(n)"
   ]
  },
  {
   "cell_type": "markdown",
   "id": "8674ee19",
   "metadata": {},
   "source": [
    "La même boucle avec des `print` pour comprendre son fonctionnement :"
   ]
  },
  {
   "cell_type": "code",
   "execution_count": 23,
   "id": "44db1626",
   "metadata": {},
   "outputs": [
    {
     "name": "stdout",
     "output_type": "stream",
     "text": [
      "Entré de boucle : n=1, n^2=1. Sortie de boucle : n=2, n^2=4\n",
      "Entré de boucle : n=2, n^2=4. Sortie de boucle : n=3, n^2=9\n",
      "Entré de boucle : n=3, n^2=9. Sortie de boucle : n=4, n^2=16\n",
      "Entré de boucle : n=4, n^2=16. Sortie de boucle : n=5, n^2=25\n",
      "Entré de boucle : n=5, n^2=25. Sortie de boucle : n=6, n^2=36\n",
      "Entré de boucle : n=6, n^2=36. Sortie de boucle : n=7, n^2=49\n",
      "Entré de boucle : n=7, n^2=49. Sortie de boucle : n=8, n^2=64\n",
      "le plus petit n telle que n**2>=50 est 8\n"
     ]
    }
   ],
   "source": [
    "n = 1\n",
    "while n**2 < 50:\n",
    "    print(f\"Entré de boucle : n={n}, n^2={n**2}\", end = \". \")\n",
    "    n = n + 1\n",
    "    print(f\"Sortie de boucle : n={n}, n^2={n**2}\")\n",
    "print(f\"le plus petit n telle que n**2>=50 est {n}\")"
   ]
  },
  {
   "cell_type": "markdown",
   "id": "0b654048",
   "metadata": {},
   "source": [
    "Donc : *tant que $n^2<\\mbox{Max}=50$, $n$ est incrémenté*. Autrement dit,\n",
    "la boucle s'arrête dès que $n^2>50$. Donc la commande `print(n)` donne le premier\n",
    "(le plus petit) $n$ tel que $n^2$ dépasse $50$. En détail:\n",
    "\n",
    "$n$ | $n^2$ | $n^2<50$ | $n=n+1$   \n",
    ":-: |  :-: |  :-: |  :-: |\n",
    "$1$ | $1$ | $\\mbox{vrai}$ | $n=2$    \n",
    "$2$ | $4$  | $\\mbox{vrai}$ | $n=3$     \n",
    "$\\ldots$ | $\\ldots$| $\\ldots$ | $\\ldots$    \n",
    "$7$ | $49$ | $\\mbox{vrai}$ | $n=8$   \n",
    "$8$ | $64$ | $\\mbox{faux}$ | pas exécuté\n",
    "                                            \n",
    "$n=8$ est donc la plus petite valeur tel que $n^2$ dépasse $50$."
   ]
  },
  {
   "cell_type": "markdown",
   "id": "92c105de",
   "metadata": {},
   "source": [
    "Le même exercice, mais on stocke les carrés dans une liste:"
   ]
  },
  {
   "cell_type": "code",
   "execution_count": 3,
   "id": "133f8126",
   "metadata": {},
   "outputs": [
    {
     "name": "stdout",
     "output_type": "stream",
     "text": [
      "[1, 4, 9, 16, 25, 36, 49]\n"
     ]
    }
   ],
   "source": [
    "n = 1\n",
    "carrees = []\n",
    "while n**2 < 50:\n",
    "    carrees.append(n**2)\n",
    "    n = n + 1\n",
    "        \n",
    "print(carrees)"
   ]
  },
  {
   "cell_type": "markdown",
   "id": "b53a6e9b",
   "metadata": {},
   "source": [
    "<span style=\"background:yellow;color:black\">Conseil :</span> En général, on utilise une boucle `for` si on connait dès le départ le nombre \n",
    "d'itérations. Une boucle `while` est utilisé pour une itération qui s'arrête si une condition n'est plus vérifié, donc\n",
    "on ne connait pas (à priori) le nombre d'itérations."
   ]
  },
  {
   "cell_type": "markdown",
   "id": "8f50685e",
   "metadata": {},
   "source": [
    "<span style=\"background:yellow;color:black\">Attention :</span> Pour une boucle `while` (contrairement à une boucle `for`), il ne faut pas oublier d'initialiser la variable\n",
    "d'itérations et surtout de la modifier. Sinon on a une boucle infinie !"
   ]
  },
  {
   "cell_type": "markdown",
   "id": "fb3c8999",
   "metadata": {},
   "source": [
    "<span style=\"background:yellow;color:black\">Conseil :</span> Si une boucle `for` et une boucle `while` conviennent pour un exemple, privilégiez la boucle `for` car elle est plus concise (pas besoin d'initialiser \n",
    "ni d'incrémenter la variable d'itération) et plus sûr, car avec une boucle `while` on produit plus facilement une boucle infinie.\n"
   ]
  },
  {
   "cell_type": "markdown",
   "id": "546923ef",
   "metadata": {},
   "source": [
    "### Exercice 1\n",
    "\n",
    ">On imagine une puce qui se déplace aléatoirement sur une ligne en avançant ou en reculant de 1. Si la puce commence en $0$, déterminer le nombre de sauts nécessaires pour arriver pour la première fois en $5$. Exécuter plusieurs fois votre programme. \n",
    ">>*Indication:* La commande `random.choice([-1,1])` du module (bibliothèque) `random` renvoie au hasard les valeurs $-1$ ou $1$ avec la même probabilité.\n",
    "\n",
    "- Pour **interrompre** l'exécution d'une cellule (boucle infini !!), utiliser <i class=\"fa fa-square\" aria-hidden=\"true\"></i>.\n",
    "\n",
    "###  Solution :"
   ]
  },
  {
   "cell_type": "code",
   "execution_count": 5,
   "id": "1684d577",
   "metadata": {},
   "outputs": [],
   "source": [
    "# programme à compléter\n",
    "# import random # pour pouvoir utiliser random.choice\n",
    "\n",
    "# position = 0 # ..... (commenter)\n",
    "# nb_sauts = 0 # ..... (commenter)\n",
    "\n",
    "# tant que la position est différente de 5\n",
    "#     choisir une valeur 1 ou -1 avec random.choice([-1,1])\n",
    "#     déterminer la nouvelle position\n",
    "#     incrémenter nb_sauts\n",
    "# Afficher le nombre de sauts"
   ]
  },
  {
   "cell_type": "markdown",
   "id": "c95e01a7",
   "metadata": {},
   "source": [
    "### Exercice 2\n",
    "\n",
    "> Pour cet exercice le joueur doit deviner un nombre entre $1$ et $5$ que le programme a choisi au hasard. Le joueur à un nombre illimité de tentatives et le programme dit à chaque fois si le nombre proposé par le joueur est trop grand ou trop petit. Le programme termine et affiche le nombre de tentatives si le joueur a trouvé le bon numéro.    \n",
    "> Si le programme fonctionne avec $n=5$, utiliser  $n=100$.\n",
    ">>Avec la bonne stratégie (dichotomie), vous pouvez trouver la bonne réponse en au plus 7 tentatives pour $n=100$. \n",
    ">>*Indications :* \n",
    ">> - La commande `random.randint(1, 5)` renvoie au hasard un entier entre \n",
    "$1$ et $5$ (incluses) avec la même probabilité.  \n",
    ">> - Ne pas oublier de transformer le résultat de `input` en entier.\n",
    ">> - Ne pas oublier une commande `input` dans la boucle \"tant que\"\n",
    "> 2. Modifier (ne pas créer un nouveau) le programme précédent pour que le programme compte et affiche le nombre de tentatives nécessaires. Si votre programme \n",
    "\n",
    "- **Relancer le noyeau** avec <i class=\"fa fa-repeat\"></i> (pour effacer l'historique des variables).\n",
    "- Pour **interrompre** l'exécution d'une cellule, utiliser <i class=\"fa fa-square\" aria-hidden=\"true\"></i>.\n",
    "\n",
    "###  Solution"
   ]
  },
  {
   "cell_type": "code",
   "execution_count": 29,
   "id": "e5a0ff0d",
   "metadata": {},
   "outputs": [],
   "source": [
    "# import random\n",
    "\n",
    "# n = ...\n",
    "# cpt = # compteur\n",
    "# mystere = random.randint(1, n)\n",
    "# demander (input) à l'utilisateur de choisir un entier entre 1 et n\n",
    "# ne pas oublier de transformer le résultat de input en entier\n",
    "# tant que la valeur choisie par l'utilisateur est différente de mystere:\n",
    "#     incrémenter cpt\n",
    "#     si la valeur est trop grande, afficher \"trop grand\"\n",
    "#     sinon, afficher \"trop petit\"\n",
    "#     demander à l'utilisateur de choisir un nouveau nombre\n",
    "# afficher un message qui spécifie le nombre de tentatives"
   ]
  },
  {
   "cell_type": "markdown",
   "id": "f66b3aa2",
   "metadata": {},
   "source": [
    "- **Relancer le noyeau** avec <i class=\"fa fa-repeat\"></i> (pour effacer l'historique des variables).\n",
    "- Pour **interrompre** l'exécution d'une cellule, utiliser <i class=\"fa fa-square\" aria-hidden=\"true\"></i>.\n",
    "\n",
    "###  Solution :"
   ]
  },
  {
   "cell_type": "markdown",
   "id": "16ddb003",
   "metadata": {},
   "source": [
    "## Fonctions"
   ]
  },
  {
   "cell_type": "markdown",
   "id": "3fa6f644",
   "metadata": {},
   "source": [
    "Nous avons déjà vu comment créer une fonction Python."
   ]
  },
  {
   "cell_type": "code",
   "execution_count": 7,
   "id": "d05e63a8",
   "metadata": {},
   "outputs": [
    {
     "data": {
      "text/plain": [
       "30"
      ]
     },
     "execution_count": 7,
     "metadata": {},
     "output_type": "execute_result"
    }
   ],
   "source": [
    "def ma_fonction(a): # pas besoin de définir a avant de définir la fonction\n",
    "    b = a + a**2\n",
    "    return b # variante: return a + a**2\n",
    "    \n",
    "c = 5 # il n'est pas nécessaire d'utiliser a comme variable\n",
    "resultat = ma_fonction(c) # la valeur que ma_fonction donne en retour est stocké dans resultat\n",
    "print(resultat) # on affiche le résultat"
   ]
  },
  {
   "cell_type": "markdown",
   "id": "1e4590a1",
   "metadata": {},
   "source": [
    "<span style=\"background:yellow;color:black\">Important :</span>\n",
    "\n",
    "- Quand Python lit `def ma_fonction(a):` (ligne 1 du programme ci-dessus), le nom de cette fonction est stocké en mémoire, mais elle n'est pas exécuté, donc il n'est pas nécessaire qu'une valeur soit déjà attribué à $a$. C'est comme une **boîte noire** que Python va ouvrir le moment venu.\n",
    "- Comme $c=5$ (ligne 5), la dernière commande (ligne 6) `ma_fonction(c)` devient `ma_fonction(5)`.\n",
    "- C'est seulement à ce moment que Python exécute la fonction `ma_fonction(a)`  avec $a=5$. *Python* ouvre la \"boîte noire\" et exécute son contenu. \n",
    "- Dans le bloc d'insctruction de la fonction, Python utilisee $a=5$ pour calculer $b=a+a^2=5+5^2=30$ (ligne 2) et donne en retour cette valeur (ligne 3). Donc la valeur de \n",
    "`ma_fonction(c)` avec $c=5$ est $30$.   \n",
    "- Cette valeur est stocké dans la variable `resultat`. Notez que la fonction **donne en retour une valeur**, mais **n'affiche rien**.\n",
    "- Après avoir donné en retour une valeur, *Python* ferme la \"boîte noire\" et efface les variables `a` et `b` de sa mémoire.\n",
    "- En fait, $a$ et $b$ sont des variables \"locales\", donc connues uniquement dans le bloc d'instruction de la fonction. Donc seulement pendant que *Python* ouvre la \"boîte noire\" et exécute la fonction.\n",
    "\n",
    "Donc le script suivant produit une erreur:"
   ]
  },
  {
   "cell_type": "code",
   "execution_count": 26,
   "id": "1fdcbd8c",
   "metadata": {},
   "outputs": [
    {
     "name": "stdout",
     "output_type": "stream",
     "text": [
      "resultat = 2\n",
      "a=5\n"
     ]
    },
    {
     "ename": "NameError",
     "evalue": "name 'b' is not defined",
     "output_type": "error",
     "traceback": [
      "\u001b[0;31m---------------------------------------------------------------------------\u001b[0m",
      "\u001b[0;31mNameError\u001b[0m                                 Traceback (most recent call last)",
      "\u001b[0;32m/var/folders/6l/_3c15cb508l7w96p49ttqqy80000gq/T/ipykernel_74333/3780546168.py\u001b[0m in \u001b[0;36m<module>\u001b[0;34m\u001b[0m\n\u001b[1;32m      9\u001b[0m \u001b[0mprint\u001b[0m\u001b[0;34m(\u001b[0m\u001b[0;34mf\"resultat =\"\u001b[0m\u001b[0;34m,\u001b[0m \u001b[0mresultat\u001b[0m\u001b[0;34m)\u001b[0m\u001b[0;34m\u001b[0m\u001b[0;34m\u001b[0m\u001b[0m\n\u001b[1;32m     10\u001b[0m \u001b[0mprint\u001b[0m\u001b[0;34m(\u001b[0m\u001b[0;34mf\"a={a}\"\u001b[0m\u001b[0;34m)\u001b[0m \u001b[0;31m# a=5 : valeur de la variable globale\u001b[0m\u001b[0;34m\u001b[0m\u001b[0;34m\u001b[0m\u001b[0m\n\u001b[0;32m---> 11\u001b[0;31m \u001b[0mprint\u001b[0m\u001b[0;34m(\u001b[0m\u001b[0;34mf\"b={b}\"\u001b[0m\u001b[0;34m)\u001b[0m \u001b[0;31m# la variable locale b n'est pas connue en dehors de la fonction (message érreur)\u001b[0m\u001b[0;34m\u001b[0m\u001b[0;34m\u001b[0m\u001b[0m\n\u001b[0m",
      "\u001b[0;31mNameError\u001b[0m: name 'b' is not defined"
     ]
    }
   ],
   "source": [
    "# !!! Mauvais exemple !!!\n",
    "a = 5 # !! cette ligne ne sert à rien !!\n",
    "# toujours placer la définition d'une fonction en début d'une cellule (après l'import des modules)\n",
    "\n",
    "def ma_fonction(a): # variable locale a différente du a de la ligne 1\n",
    "    b = a + a**2 # b est une variable locale inconnue à l'extérieur de la fonction\n",
    "    return b\n",
    "\n",
    "resultat = ma_fonction(1) # appelle ma_fonction(a) avec a=1\n",
    "print(f\"resultat =\", resultat) \n",
    "print(f\"a={a}\") # a=5 : valeur de la variable globale\n",
    "print(f\"b={b}\") # la variable locale b n'est pas connue en dehors de la fonction (message érreur)"
   ]
  },
  {
   "cell_type": "markdown",
   "id": "cf410d83",
   "metadata": {},
   "source": [
    "<span style=\"background:yellow;color:black\">Important :</span>\n",
    "\n",
    "- ligne 1 du programme ci-dessus: Python crée une **variable globale** : connue en dehors de la fonction. \n",
    "- ligne 8 : appel de la fonction avec `ma_fonction(1)`. Lors de l'exécution de la fonction, *Python* crée deux **variables locales** `a` et `b` qui prennent comme valeurs `a=1` et `b=2`. La variable globale `a` (ligne 1) n'est pas modifiée. La fonction donne en retour la valeur $2$ qui est stocké dans `resultat` et les variables locales `a` et `b` de la fonction sont effacées de la mémoire.\n",
    "- ligne 10 : affiche la valeur de la variable **globale** `a`\n",
    "- ligne 11 : message d'erreur car la variable locale `b` n'est pas connue en dehors de la fonction."
   ]
  },
  {
   "cell_type": "markdown",
   "id": "1bbfd0be",
   "metadata": {},
   "source": [
    "### Exercice 3\n",
    "\n",
    "> Écrire une fonction `convertir(temp_fahrenheit)` qui prend en argument \n",
    "> une temperature en degrés Fahrenheit et donne en retour la température converti en degrés Celsius.\n",
    "> Utiliser la fonction pour plusieurs valeurs.\n",
    ">> *Indication :* Si $t_f$ est la temperature en degrés Fahrenheit, alors la température en degrés Celcius\n",
    "$t_c$ est donné par\n",
    "\t$$ t_c =\\frac{5}{9} (t_f-32)$$\n",
    ">> *Astuce :* le caractère `\\u00b0` correspond au signe pour degrés.\n",
    "    \n",
    "### Solution  :"
   ]
  },
  {
   "cell_type": "code",
   "execution_count": 27,
   "id": "a7668e23",
   "metadata": {},
   "outputs": [],
   "source": [
    "# def convertir(temp_fahrenheit): # définition de la fonction en début de cellule\n",
    "#     ...\n",
    "\n",
    "# tester votre fonction avec une valeur\n",
    "# tester avec une autre valeur"
   ]
  },
  {
   "cell_type": "markdown",
   "id": "eada1c05",
   "metadata": {},
   "source": [
    "### Exercice 4\n",
    "\n",
    ">Dans un lac de Bretagne, la population d'ablettes est estimée à 3562 individus en 2020. A cause d'un problème de pollution, la population diminue de 6\\% par an. \n",
    ">Ecrire une fonction `fcn_population(population_min)` qui prend comme argument un entier `population_min` et qui donne en retour le nombre d'années nécessaires pour que  le nombre d'individus devienne inférieur à `population_min`.      \n",
    ">Tester votre fonction avec `population_min = 500`, puis avec `population_min = 100`.\n",
    ">> *Indications :*    \n",
    ">> - Utiliser une boucle `while` dans le bloc d'instructions de la fonction.         \n",
    ">> - Il n'est pas nécessaire de stocker la taille de la population année après année dans une liste. Il suffit d'utiliser une variable `population` auquel on associe les tailles successives de la population.    \n",
    ">> - Utiliser `return` dans votre fonction pas `print`.   \n",
    "\n",
    "### Solution"
   ]
  },
  {
   "cell_type": "markdown",
   "id": "a6a0d094",
   "metadata": {},
   "source": [
    "### Fonction avec plusieurs arguments, valeurs"
   ]
  },
  {
   "cell_type": "markdown",
   "id": "be305656",
   "metadata": {},
   "source": [
    "Une fonction peut prendre plusieurs arguments et donner en retour plusieurs\n",
    "valeurs:"
   ]
  },
  {
   "cell_type": "code",
   "execution_count": 30,
   "id": "4ad1d284",
   "metadata": {},
   "outputs": [
    {
     "name": "stdout",
     "output_type": "stream",
     "text": [
      "La somme de 2 et 5 est 7 et la différence est -3\n"
     ]
    }
   ],
   "source": [
    "def somme_difference(a, b):\n",
    "    \"\"\" prend en argument deux valeurs\n",
    "        donne en retour leur somme et leur différence\"\"\"\n",
    "    return (a+b, a-b) # les parenthèses peuvent être omises\n",
    " \n",
    "a = 2\n",
    "b = 5\n",
    "somme, difference = somme_difference(a, b)\n",
    "\n",
    "print(f\"La somme de {a} et {b} est {somme} et la différence est {difference}\")"
   ]
  },
  {
   "cell_type": "markdown",
   "id": "47873e54",
   "metadata": {},
   "source": [
    "### Documentation d'une fonction\n",
    "\n",
    "Notez que nous avons donné pour la fonction ci-dessus une documentation entre tripple quillemets. \n",
    "\n",
    "Cette documentation peut être récupérée:"
   ]
  },
  {
   "cell_type": "code",
   "execution_count": 32,
   "id": "69be0cd2",
   "metadata": {},
   "outputs": [
    {
     "name": "stdout",
     "output_type": "stream",
     "text": [
      "Help on function somme_difference in module __main__:\n",
      "\n",
      "somme_difference(a, b)\n",
      "    prend en argument deux valeurs\n",
      "    donne en retour leur somme et leur différence\n",
      "\n"
     ]
    }
   ],
   "source": [
    "help(somme_difference)"
   ]
  },
  {
   "cell_type": "markdown",
   "id": "08039286",
   "metadata": {},
   "source": [
    "<span style=\"background:yellow;color:black\">Conseil :</span> N'écrivez pas des phrases trop longues. Si besoin, **couper en plusieurs lignes**."
   ]
  },
  {
   "cell_type": "markdown",
   "id": "15463546",
   "metadata": {},
   "source": [
    "### Parcourir deux chaines ou listes avez zip\n",
    "\n",
    "`zip(s_1, s_2)` permet de parcourir deux chaines ou listes au même temps car cette fonction donne des \n",
    "tuples de lettres du même rang dans les deux chaines ou listes : `(s_1[0], s_2[0])`, `(s_1[1], s_2[1])`, ....   "
   ]
  },
  {
   "cell_type": "code",
   "execution_count": 3,
   "id": "53044983",
   "metadata": {},
   "outputs": [
    {
     "name": "stdout",
     "output_type": "stream",
     "text": [
      "F R\n",
      "o e\n",
      "u n\n",
      "g n\n",
      "è e\n",
      "r s\n"
     ]
    }
   ],
   "source": [
    "mot1 = \"Fougères\"\n",
    "mot2 = \"Rennes\" # n'a pas la même longueur que mot1 !\n",
    "\n",
    "for lettre1, lettre2 in zip(mot1, mot2): \n",
    "    print(lettre1, lettre2)"
   ]
  },
  {
   "cell_type": "markdown",
   "id": "0de392a6",
   "metadata": {},
   "source": [
    "Notez que la boucle s'arrête dès que la fin d'un des deux mots est atteinte. Donc l **n'est pas** nécessaire pour `mot1` et `mot2` d'avoir la même longueur. \n"
   ]
  },
  {
   "cell_type": "markdown",
   "id": "cea7ac99",
   "metadata": {},
   "source": [
    "Une version avec indices mais qui ne marche que si les deux mots ont la même longueur :"
   ]
  },
  {
   "cell_type": "code",
   "execution_count": 5,
   "id": "eb01871a",
   "metadata": {},
   "outputs": [
    {
     "name": "stdout",
     "output_type": "stream",
     "text": [
      "C R\n",
      "e e\n",
      "s n\n",
      "s n\n",
      "o e\n",
      "n s\n"
     ]
    }
   ],
   "source": [
    "mot1 = \"Cesson\"\n",
    "mot2 = \"Rennes\" # a la même longueur que mot1\n",
    "\n",
    "n = len(mot1) \n",
    "for i in range(0, n):\n",
    "    print(mot1[i], mot2[i])"
   ]
  },
  {
   "cell_type": "markdown",
   "id": "be41c18f",
   "metadata": {},
   "source": [
    "### Exercice 5\n",
    "\n",
    ">En biologie de l'évolution, une orthologie est un lien évolutif entre deux gènes présents chez deux espèces différentes. Deux séquences génétiques homologues de deux espèces différentes sont orthologues si elles descendent d'une séquence unique présente dans le dernier ancêtre commun aux deux espèces. \n",
    ">\n",
    ">La distance de Hamming mesure la différence entre deux séquences de même taille\n",
    ">en comptant le nombre de positions qui, pour chaque séquence, ne correspondent pas au même acide aminé.\n",
    ">1. Écrire une fonction `dist_hamming(seq_a, seq_b)` qui prend en argument deux chaines de \n",
    ">caractères et qui renvoi la distance de Hamming, donc le nombre de positions qui sont différentes dans les deux chaines.    \n",
    "> Appliquer la fonction aux deux chaines `chat = \"MWDRTLIILLKVCWT\"` et `chien = \"MYERTIIILLKVTTL\"`.\n",
    ">> Vous pouvez parcourir les deux chaines en utilisant `zip(...)` ou en utilisant un indice.\n",
    ">\n",
    ">2. Modifier la fonction précédente (pas besoin de créer une nouvelle) pour qu'elle renvoie deux valeurs:\n",
    ">le nombre et le pourcentage de positions qui sont différentes dans les deux chaines.   \n",
    "> Rajouter une documentation à la fonction et l'afficher avec `help`.\n",
    "\n",
    "### Solution"
   ]
  },
  {
   "cell_type": "markdown",
   "id": "0794b471",
   "metadata": {},
   "source": [
    "### Fonction avec plusieurs `return`\n",
    "\n",
    "Une fonction peut contenir plusieurs `return`, car *Python* arrête l'exécution des commandes\n",
    "du bloc d'instructions de la fonction dès qu'il a exécuté le premier `return`. Notons aussi qu'une fonction peut donner en retour les valeurs booléennes `True, False`. "
   ]
  },
  {
   "cell_type": "code",
   "execution_count": 12,
   "id": "c59dfab7",
   "metadata": {},
   "outputs": [
    {
     "name": "stdout",
     "output_type": "stream",
     "text": [
      "Avec les notes [12, 9, 11] toutes les compétences sont acquises ? False\n",
      "Avec les notes [12, 14, 11] toutes les compétences sont acquises ? True\n"
     ]
    }
   ],
   "source": [
    "def competences_acquises(notes):\n",
    "    for note in notes:\n",
    "        if note < 10:\n",
    "            return False\n",
    "    return True\n",
    "\n",
    "notes = [12, 9, 11]\n",
    "print(f'Avec les notes {notes} toutes les compétences sont acquises ?', end=\" \")\n",
    "print(competences_acquises(notes))\n",
    "\n",
    "notes = [12, 14, 11]\n",
    "print(f'Avec les notes {notes} toutes les compétences sont acquises ?', end=\" \")\n",
    "print(competences_acquises(notes))"
   ]
  },
  {
   "cell_type": "markdown",
   "id": "60f67e11",
   "metadata": {},
   "source": [
    "**Explication du code**\n",
    "\n",
    "- Avec `notes = [12, 9, 11]` : en parcourant la liste des notes, *Python* rencontre le cas `note=9` qui vérifie `note<10`, donc `return False` est exécutée et la fonction donne en retour `False`. Mais dès que `Python` à rencontré une commande `return`, il arrête l'exécution des commandes du bloc d'inscructions de la fonction. Donc la dernière commande `return True` de la fonction n'est pas exécuté. \n",
    "- Avec `notes = [12, 14, 11]` : en parcourant la liste des notes, *Python* ne rencontre jamais une note inférieure à 10, donc la commande `return False` n'est jamais exécuté. Après avoir terminé la boucle `for`, la commande `return True` est exécutée et la fonction donne en retour `True`.\n",
    "- Notez que la dernière commande `return True` *n'est pas* dans le bloc d'insctructions de la boucle `for`."
   ]
  },
  {
   "cell_type": "markdown",
   "id": "bb203670",
   "metadata": {},
   "source": [
    "### Exercice 6\n",
    "\n",
    "> Écrire une fonction `is_ARN(sequence)` qui prend comme argument une chaine de caractères `sequence` et qui donne en retour `True` si la séquence est uniquemennt composé des bases $A, G, C, U$ (comme une séquence ARN) et donne en retour `False` sinon.   \n",
    "> Tester avec `sequence = \"UAACGGAAUGUUCAUAUG\"`, puis avec `sequence = \"UAACGGAXAUGUUCAUAUG\"`.   \n",
    ">> *Indication :* On pourrais utiliser la condition `... in [\"A\", \"G\", \"C\", \"U\"]` ou `... not in [\"A\", \"G\", \"C\", \"U\"]`.\n",
    "\n",
    "### Solution"
   ]
  },
  {
   "cell_type": "markdown",
   "id": "ecb10054",
   "metadata": {},
   "source": [
    "## Message erreur\n",
    "\n",
    "Supposons que pour un programme il est essentiel qu'une variable `x` prenne une valeur positive. Nous pouvons faire"
   ]
  },
  {
   "cell_type": "code",
   "execution_count": 14,
   "id": "a0299ad1",
   "metadata": {},
   "outputs": [
    {
     "name": "stdout",
     "output_type": "stream",
     "text": [
      "Mauvaise valeur: x=-5 doit être positif\n",
      "Suite du programme ....\n"
     ]
    }
   ],
   "source": [
    "x = -5\n",
    "if x < 0:\n",
    "    print(f\"Mauvaise valeur: x={x} doit être positive\")\n",
    "\n",
    "print(\"Suite du programme ....\")"
   ]
  },
  {
   "cell_type": "markdown",
   "id": "34e31949",
   "metadata": {},
   "source": [
    "Le problème est que la suite du programme continue à fonctionner même si `x` est négatif.\n",
    "\n",
    "Pour éviter cela,  nous pouvons utiliser la commande `raise Exception(\"message erreur\")` qui **arrête le programme** et affiche un message d'erreur:"
   ]
  },
  {
   "cell_type": "code",
   "execution_count": 16,
   "id": "c89c9812",
   "metadata": {},
   "outputs": [
    {
     "ename": "Exception",
     "evalue": "Mauvaise valeur: x=-5 doit être positif",
     "output_type": "error",
     "traceback": [
      "\u001b[0;31m---------------------------------------------------------------------------\u001b[0m",
      "\u001b[0;31mException\u001b[0m                                 Traceback (most recent call last)",
      "\u001b[0;32m/var/folders/6l/_3c15cb508l7w96p49ttqqy80000gq/T/ipykernel_74333/3192057474.py\u001b[0m in \u001b[0;36m<module>\u001b[0;34m\u001b[0m\n\u001b[1;32m      1\u001b[0m \u001b[0mx\u001b[0m \u001b[0;34m=\u001b[0m \u001b[0;34m-\u001b[0m\u001b[0;36m5\u001b[0m\u001b[0;34m\u001b[0m\u001b[0;34m\u001b[0m\u001b[0m\n\u001b[1;32m      2\u001b[0m \u001b[0;32mif\u001b[0m \u001b[0mx\u001b[0m \u001b[0;34m<\u001b[0m \u001b[0;36m0\u001b[0m\u001b[0;34m:\u001b[0m\u001b[0;34m\u001b[0m\u001b[0;34m\u001b[0m\u001b[0m\n\u001b[0;32m----> 3\u001b[0;31m     \u001b[0;32mraise\u001b[0m \u001b[0mException\u001b[0m\u001b[0;34m(\u001b[0m\u001b[0;34mf\"Mauvaise valeur: x={x} doit être positif\"\u001b[0m\u001b[0;34m)\u001b[0m\u001b[0;34m\u001b[0m\u001b[0;34m\u001b[0m\u001b[0m\n\u001b[0m\u001b[1;32m      4\u001b[0m \u001b[0;34m\u001b[0m\u001b[0m\n\u001b[1;32m      5\u001b[0m \u001b[0mprint\u001b[0m\u001b[0;34m(\u001b[0m\u001b[0;34m\"Suite du programme ....\"\u001b[0m\u001b[0;34m)\u001b[0m \u001b[0;31m# n'est pas exécuté\u001b[0m\u001b[0;34m\u001b[0m\u001b[0;34m\u001b[0m\u001b[0m\n",
      "\u001b[0;31mException\u001b[0m: Mauvaise valeur: x=-5 doit être positif"
     ]
    }
   ],
   "source": [
    "x = -5\n",
    "if x < 0:\n",
    "    raise Exception(f\"Mauvaise valeur: x={x} doit être positif\") \n",
    "\n",
    "print(\"Suite du programme ....\") # n'est pas exécuté"
   ]
  },
  {
   "cell_type": "markdown",
   "id": "10186c34",
   "metadata": {},
   "source": [
    "### Exercice 7\n",
    "\n",
    "> Modifier la fonction `dist_hamming(seq_a, seq_b)` pour qu'un message d'erreur s'affiche si les deux séquences n'ont pas la même longueur. Sinon, elle donne en retour (comme avant) le nombre et le pourcentage de positions qui sont différentes dans les deux chaines.\n",
    "\n",
    "### Solution"
   ]
  },
  {
   "cell_type": "code",
   "execution_count": null,
   "id": "2360dde9",
   "metadata": {},
   "outputs": [],
   "source": []
  }
 ],
 "metadata": {
  "kernelspec": {
   "display_name": "Python 3 (ipykernel)",
   "language": "python",
   "name": "python3"
  },
  "language_info": {
   "codemirror_mode": {
    "name": "ipython",
    "version": 3
   },
   "file_extension": ".py",
   "mimetype": "text/x-python",
   "name": "python",
   "nbconvert_exporter": "python",
   "pygments_lexer": "ipython3",
   "version": "3.9.7"
  }
 },
 "nbformat": 4,
 "nbformat_minor": 5
}

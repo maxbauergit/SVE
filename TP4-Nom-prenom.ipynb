{
 "cells": [
  {
   "cell_type": "markdown",
   "id": "183fd215",
   "metadata": {},
   "source": [
    "<link rel=\"stylesheet\" href=\"https://cdnjs.cloudflare.com/ajax/libs/font-awesome/4.7.0/css/font-awesome.min.css\">"
   ]
  },
  {
   "cell_type": "markdown",
   "id": "ec775e6d",
   "metadata": {},
   "source": [
    "**Nom prénom :**                                                                 \n",
    "**Groupe :**    \n",
    "**Date :**"
   ]
  },
  {
   "cell_type": "markdown",
   "id": "9400ef27",
   "metadata": {},
   "source": [
    "<span style=\"background:yellow;color:black\"> Avant de commencer: </span>\n",
    "\n",
    "- Remplir la cellule ci-dessus.\n",
    "- Modifier le nom du notebook      "
   ]
  },
  {
   "cell_type": "markdown",
   "id": "5c744441",
   "metadata": {},
   "source": [
    "<span style=\"background:yellow;color:black\"> Instructions pour déposer votre compte rendu </span>\n",
    "\n",
    "- Si vous utilisez Basthon: `imprimer` du menu du navigateur (trois points), puis `enregistrer au format pdf`. (\"Print preview\" n'est pas disponible.)\n",
    "- Dans les salles TP : `Print Preview` du menu `File` de Jupyter. Ensuite : `imprimer` du menu du navigateur (trois points), puis `enregistrer au format pdf`.\n",
    "- Déposer le notebook (fichier .ipynb) et le fichier pdf dans le dépôt Moodle. Votre nom doit figurer dans le nom des deux fichiers.    "
   ]
  },
  {
   "cell_type": "markdown",
   "id": "d1d4a501",
   "metadata": {},
   "source": [
    "### Sources\n",
    "\n",
    "Les images de ce TP sont tirés de [wikimedia](https://commons.wikimedia.org)\n",
    "\n",
    "Le sujet de ce TP contient quelques extraits de [Futura sciences](https://www.futura-sciences.com/sante/dossiers/genetique-gene-adn-proteines-1130/page/1/) que vous pouvez consulter si vous souhaitez d'avantage d'explications sur l'ADN, ARN..."
   ]
  },
  {
   "cell_type": "markdown",
   "id": "5cc8d80f",
   "metadata": {},
   "source": [
    "# <center> TP 4 </center>\n",
    "\n",
    "**Objectif**\n",
    "\n",
    "- Nous nous donnons un brin d'ADN sous forme d'une chaine de caractères. Après avoir vérifié que cette chaine ne contient pas de caractère invalide, nous la transformons (transcription) en une chaine d'ARN (RNA). Une sous-chaine de l'ARN sera ensuite traduite en une protéine.\n",
    "- Nous appliquons ensuite cette procédure à un un brin d'ADN qui est extrait d'un fichier \"FASTA\".\n",
    "\n",
    "![transcription_traduction](https://raw.githubusercontent.com/maxbauergit/SVE/main/transcription_translation.png)"
   ]
  },
  {
   "cell_type": "markdown",
   "id": "21db90f4",
   "metadata": {},
   "source": [
    "## Appartenance, comparaison (Rappel)"
   ]
  },
  {
   "cell_type": "code",
   "execution_count": null,
   "id": "cde7ba78",
   "metadata": {},
   "outputs": [],
   "source": [
    "for lettre in \"mot\":\n",
    "    print(lettre)"
   ]
  },
  {
   "cell_type": "code",
   "execution_count": null,
   "id": "b629d234",
   "metadata": {},
   "outputs": [],
   "source": [
    "\"A\" in \"Appartenance\""
   ]
  },
  {
   "cell_type": "code",
   "execution_count": null,
   "id": "fcbe2b6a",
   "metadata": {},
   "outputs": [],
   "source": [
    "\"X\" not in \"Appartenance\""
   ]
  },
  {
   "cell_type": "code",
   "execution_count": null,
   "id": "ed187fa0",
   "metadata": {},
   "outputs": [],
   "source": [
    "\"AUG\" in [\"UAA\", \"UAG\", \"UGA\"]"
   ]
  },
  {
   "cell_type": "code",
   "execution_count": null,
   "id": "9cceadf8",
   "metadata": {},
   "outputs": [],
   "source": [
    "\"AUG\" not in [\"UAA\", \"UAG\", \"UGA\"]"
   ]
  },
  {
   "cell_type": "code",
   "execution_count": null,
   "id": "baf26444",
   "metadata": {},
   "outputs": [],
   "source": [
    "\"Aug\" == \"Aug\""
   ]
  },
  {
   "cell_type": "code",
   "execution_count": null,
   "id": "86f9cd3a",
   "metadata": {},
   "outputs": [],
   "source": [
    "\"Aug\" != \"aug\""
   ]
  },
  {
   "cell_type": "markdown",
   "id": "496105a4",
   "metadata": {},
   "source": [
    "## Message d'erreur\n",
    "\n",
    "La commande `raise Exception(\"message d'erreur\")` arrête le programme et affiche `\"message d'erreur\"` :"
   ]
  },
  {
   "cell_type": "code",
   "execution_count": null,
   "id": "a9d9c415",
   "metadata": {},
   "outputs": [],
   "source": [
    "x = -5\n",
    "if x < 0:\n",
    "    raise Exception(f\"Mauvaise valeur: x={x} doit être positif\") \n",
    "\n",
    "print(\"Suite du programme ....\") # n'est pas exécuté"
   ]
  },
  {
   "cell_type": "markdown",
   "id": "8b8c9237",
   "metadata": {},
   "source": [
    "## Tache 1 - Brin d'ADN valide"
   ]
  },
  {
   "cell_type": "markdown",
   "id": "3445dd61",
   "metadata": {},
   "source": [
    "Un brin d'ADN est une molécule en double hélice qui est formée de deux chaînes constituées toutes les deux d'un enchaînement de maillons appelés nucléotides. Ces nucléotides comportent une des quatre bases qui définissent leur nom : l'**adénine (A)**, la **cytosine (C)**, **la guanine (G)** ou la **thymine (T)**.\n",
    "\n",
    "![DNA](https://raw.githubusercontent.com/maxbauergit/SVE/main/DNA.png)\n",
    "\n",
    "Chaque brin peut donc être représenté par une suite (chaine) de caractères `\"A\"`, `\"C\"`, `\"G\"`, `\"T\"`.\n",
    "\n",
    "Notre première tache est de vérifier si une chaine de caractères est un brin valide, autrement dit, ne contient que ces caractères.\n",
    "\n"
   ]
  },
  {
   "cell_type": "markdown",
   "id": "06351787",
   "metadata": {},
   "source": [
    "### Exercice 1\n",
    "\n",
    ">Écrire une fonction `test_sequence_valide(brin_ADN)` qui prend comme argument une chaine de caractères `brin_ADN` et provoque un message d'erreur si la chaine contient une lettre invalide (autre que `\"A\"`, `\"C\"`, `\"G\"`, `\"T\"`). La fonction donne en retour `True` si la chaine est valide.\n",
    "\n",
    "*Votre programme pourrait avoir la forme suivante :*\n",
    "\n",
    "```py\n",
    " def test_sequence_valide(brin_ADN):\n",
    "    pour chaque base du brin_ADN :\n",
    "        si base n'est pas dans [\"A\", \"C\", ....(à compléter)] :\n",
    "            message d'erreur avec \"raise Exception...\" # le programme s'arrête\n",
    "    return True # exécuté que si le brin_ADN est valable, donc pas de message d'erreur\n",
    "```\n",
    "\n",
    "### Solution :"
   ]
  },
  {
   "cell_type": "code",
   "execution_count": null,
   "id": "92b452e9",
   "metadata": {},
   "outputs": [],
   "source": [
    "def test_sequence_valide(brin_ADN):\n",
    "    ..compléter..\n"
   ]
  },
  {
   "cell_type": "code",
   "execution_count": null,
   "id": "54f3450d",
   "metadata": {},
   "outputs": [],
   "source": [
    "# tester avec la chaine suivante qui est valide\n",
    "# il suffit d'exécuter cette cellule\n",
    "brin_ADN = \"CGTAACAAGGTTTCC\"\n",
    "print(\"Chaine valide? \")\n",
    "print(test_sequence_valide(brin_ADN))"
   ]
  },
  {
   "cell_type": "code",
   "execution_count": null,
   "id": "96b28800",
   "metadata": {},
   "outputs": [],
   "source": [
    "# tester avec la chaine suivante qui n'est pas valide\n",
    "brin_ADN = \"CGTAACXAGGTTTCC\" # \"C\" est remplacé par \"X\""
   ]
  },
  {
   "cell_type": "markdown",
   "id": "694c5ace",
   "metadata": {},
   "source": [
    "**Vous pouvez supposer pour la suite que `brin_ADN` est une chaine valide. Donc vous pouvez faire la suite sans avoir répondu à la première question.**"
   ]
  },
  {
   "cell_type": "markdown",
   "id": "3265f9cd",
   "metadata": {},
   "source": [
    "## Deux méthodes pour traduire une chaine de caractères"
   ]
  },
  {
   "cell_type": "markdown",
   "id": "821fe918",
   "metadata": {},
   "source": [
    "Comme premier example, nous souhaitons traduire une chaine de caractères composée des lettres \"A\", \"B\", \"C\", en sa versions minuscule :"
   ]
  },
  {
   "cell_type": "markdown",
   "id": "b665969a",
   "metadata": {},
   "source": [
    "### Méthode 1 : if/elif"
   ]
  },
  {
   "cell_type": "code",
   "execution_count": null,
   "id": "e512d3f9",
   "metadata": {},
   "outputs": [],
   "source": [
    "def majuscule_en_minuscule_v1(mot_majuscule): # première version\n",
    "    \"\"\" Fonction qui prend comme argument une chaine composé des lettres \"A\", \"B\", \"C\".\n",
    "        La fonction donne en retour la chaine en minuscules \"\"\"\n",
    "    mot_minuscule = \"\" # initialisation par une chaine vide\n",
    "    for lettre in mot_majuscule: # pour chaque lettre de mot_majuscule\n",
    "        if lettre == \"A\": # si la lettre est \"A\"\n",
    "            mot_minuscule = mot_minuscule + \"a\" # on rajoute \"a\" à mot_minuscule;\n",
    "        elif lettre == \"B\": \n",
    "            mot_minuscule = mot_minuscule + \"b\"\n",
    "        elif lettre == \"C\": # ou simplement else:\n",
    "            mot_minuscule = mot_minuscule + \"c\"\n",
    "    return mot_minuscule # donne en retour le mot en minuscule\n",
    "\n",
    "mot_majuscule = \"AABCABCCBA\"\n",
    "print(f\"mot majuscule est {mot_majuscule}\")\n",
    "mot_minuscule = majuscule_en_minuscule_v1(mot_majuscule)\n",
    "print(f\"mot minuscule est {mot_minuscule}\")"
   ]
  },
  {
   "cell_type": "markdown",
   "id": "3664ca95",
   "metadata": {},
   "source": [
    "### Méthode 2 (utilisé pour la suite): dictionnaire"
   ]
  },
  {
   "cell_type": "markdown",
   "id": "07c031c0",
   "metadata": {},
   "source": [
    "La première méthode marche bien pour deux lettres différentes, mais devient illisible pour un grand nombre de lettres. Nous utilisons donc une autre méthode qui utilise le dictionnaire `{ \"A\": \"a\", \"B\" : \"b\"}` que nous appelons (par exemple) `dico`. Ce dictionnaire peut être utilisé de la manière suivante:"
   ]
  },
  {
   "cell_type": "code",
   "execution_count": null,
   "id": "39cbc6ff",
   "metadata": {},
   "outputs": [],
   "source": [
    "dico = { \"A\" : \"a\", \n",
    "         \"B\" : \"b\",\n",
    "         \"C\" : \"c\"} # écrit sur trois lignes pour plus de lisibilité\n",
    "\n",
    "print(f'dico[\"A\"] = {dico[\"A\"]}')\n",
    "print(f'dico[\"B\"] = {dico[\"B\"]}')\n",
    "print(f'dico[\"C\"] = {dico[\"C\"]}')"
   ]
  },
  {
   "cell_type": "markdown",
   "id": "15bb9cc9",
   "metadata": {},
   "source": [
    "### Explication\n",
    "\n",
    "- Pour accédér aux élements de la liste `liste = [\"a\", \"b\", \"c\"]` on utilise l'index :\n",
    "- `liste[0]` donne `\"a\"`, `liste[1]` donne `\"b\"`, `liste[2]` donne `\"c\"`.\n",
    "- Le dictionnaire `dico = {\"A\": \"a\", \"B\" : \"b\", \"C\" : \"c\"}` resemble à `liste`, sauf qu'on utilise\n",
    "`\"A\", \"B\", \"C\"` pour accéder aux éléments et ne pas les indices  `0, 1, 2`.\n",
    "- `dico[\"A\"]` donne \"a\", `dico[\"B\"]` donne \"b\", `dico[\"C\"]` donne \"c\"."
   ]
  },
  {
   "cell_type": "markdown",
   "id": "bad87d48",
   "metadata": {},
   "source": [
    "Ceci nous permet de simplifier notre fonction `majuscule_en_minuscule`:    \n",
    "(**bien comprendre le programme**)"
   ]
  },
  {
   "cell_type": "code",
   "execution_count": null,
   "id": "4812b696",
   "metadata": {},
   "outputs": [],
   "source": [
    "def majuscule_en_minuscule(mot_majuscule, dico): # deuxième version\n",
    "    mot_minuscule = \"\" # initialisation comme avant\n",
    "    for lettre in mot_majuscule: # lettre prend comme valeur les lettres du mot: lettre=\"A\" ou lettre=\"B\"\n",
    "        mot_minuscule = mot_minuscule + dico[lettre] # sdon rajoute dico[\"A\"]=\"a\" ou dico[\"B\"]=\"b\"\n",
    "    return mot_minuscule\n",
    "\n",
    "dico = { \"A\" : \"a\", \n",
    "         \"B\" : \"b\",\n",
    "         \"C\" : \"c\"} # écrit sur trois lignes pour plus de lisibilité\n",
    "\n",
    "mot_majuscule = \"AABCABCCBA\"\n",
    "print(f\"mot majuscule est {mot_majuscule}\")\n",
    "mot_minuscule = majuscule_en_minuscule(mot_majuscule, dico)\n",
    "print(f\"mot minuscule est {mot_minuscule}\")  "
   ]
  },
  {
   "cell_type": "markdown",
   "id": "10435a65",
   "metadata": {},
   "source": [
    "## Tache 2 - transcription d'ADN en ARNm"
   ]
  },
  {
   "cell_type": "markdown",
   "id": "98a109a9",
   "metadata": {},
   "source": [
    "Les gènes portés par l'ADN vont être codés sous une autre forme, en ARN messager, au cours d'un processus nommé « transcription ».\n",
    "\n",
    "Lors de la transcription du gène, un des brins d'ADN est transcrit en une séquence ARN messager (ARNm) par un complexe d'une douzaine de protéines, l'ARN polymérase.\n",
    "\n",
    "![transcription](https://raw.githubusercontent.com/maxbauergit/SVE/main/DNA_RNA_transcription.png)\n",
    "\n",
    "On obtient l'ARN à partir d'un brin d'ADN en remlaçant \"T\" par \"A\", \"C\" par \"G\", \"G\" par \"C\", et \"A\" par \"U\"."
   ]
  },
  {
   "cell_type": "markdown",
   "id": "a04b4439",
   "metadata": {},
   "source": [
    "### Exercice 2:\n",
    "\n",
    ">Écrire une fonction `transcription(brin_ADN, dico)` qui prend comme argument un brin d'ADN (valide) ainsi qu'un dictionnaire et qui donne en retour l'ARN correspondant.    \n",
    ">> *Indication*: \n",
    ">>- Vous pouvez imiter la deuxième version (méthode 2: dictionnaire) de la fonction `majuscule_en_minuscule` en utilisant le \"dictionnaire\" `dico_transcription = { \"T\" : \"A\", ...(compléter)}` .\n",
    ">>- Vous pouvez supposer que `brin_ADN` est une séquence valide.  \n",
    "\n",
    "**Solution :**"
   ]
  },
  {
   "cell_type": "code",
   "execution_count": null,
   "id": "8ec5388f",
   "metadata": {},
   "outputs": [],
   "source": [
    "# def transcription(brin_ADN, dico):\n",
    "#    ..compléter..\n",
    "    \n",
    "# dico_transcription = { \"T\" : \"A\", ...(compléter)}"
   ]
  },
  {
   "cell_type": "code",
   "execution_count": null,
   "id": "86aa1952",
   "metadata": {},
   "outputs": [],
   "source": [
    "# tester votre fonction\n",
    "# brin_ADN = \"CGTAACAAGGTTTCC\"\n",
    "# transcription(brin_ADN, dico_transcription)"
   ]
  },
  {
   "cell_type": "markdown",
   "id": "899af2ac",
   "metadata": {},
   "source": [
    "## Tache 3 - extraction d'une chaine d'ARN"
   ]
  },
  {
   "cell_type": "markdown",
   "id": "5ea61d37",
   "metadata": {},
   "source": [
    "La lecture du message porté par l'ARNm et sa traduction sous forme de protéine sont assurées par le ribosome. Son rôle est le décodage d'une information écrite avec quatre lettres -  A, C, G, U de l'ARN - vers un alphabet à vingt lettres : les vingt acides aminés composant les protéines. Il réalise cette opération en lisant la séquence de l'ARN par groupes de trois bases, chaque triplet ou **codon** indiquant un acide aminé de la séquence de la protéine en cours de fabrication.\n",
    "\n",
    "![codons](https://raw.githubusercontent.com/maxbauergit/SVE/main/MRNA_Codons.png)\n",
    "\n",
    "Une protéine commence toujours par l'acide aminé méthionine codée par le codon initiateur AUG (codon « start »).  La synthèse s'achève lorsque le ribosome rencontre un codon « stop » (UAG, UGA ou UAA) qui indique au ribosome qu'il est arrivé à la fin de la séquence de la protéine. "
   ]
  },
  {
   "cell_type": "markdown",
   "id": "bd0b48e1",
   "metadata": {},
   "source": [
    "### Exercice 3\n",
    "\n",
    "> Écrire une fonction `extraction(ARN)` qui prend comme argument une chaine d'ARN qui contient le codon « start » ou codon initiateur \"AUG\" (pas nécessairement au début) suivi plus loin d'un codon « stop » : \"UAG\", \"UGA\" ou \"UAA\". Cette fonction donne en retour une sous-chaine qui commence avec le codon « start »  et se termine avec un codon « stop ».\n",
    ">> - **Exemple 1 :** Les codons de la chaine `ARN1 = \"GUAAUGACCCGUAAAUAGAAA\"` sont `\"GUA AUG ACC CGU AAA UAG AAA\"`, donc le deuxième codon est le codon start `\"AUG\"` et le sixième codon est le codon stop `\"UAG\"`. La fonction `extraction(ARN1)` doit donner en retour la sous-chaine `\"AUGACCCGUAAAUAG\"`.     \n",
    ">> - **Attention :** `ARN1` contient le mot `UAA`, mais `UAA` n'est pas un codon, donc `UAA` n'est pas le codon stop.    \n",
    ">> - **Exemple 2 :** `ARN2 = \"CGAUUCGACCGUAAUAUGCCUACCCGUAAUGUGCUCCACCUCUUACGAUUGUCAGUAUUCCGACGAUAAACUUAGGGG\"`.\n",
    "La fonction `extraction(ARN2)` doit donner en retour la sous-chaine `\"AUGCCUACCCGUAAUGUGCUCCACCUCUUACGAUUGUCAGUAUUCCGACGAUAA\"`. \n",
    ">> - Vous pouvez supposer que `ARN` contient un codon « start » et un codon « stop ».\n",
    "\n",
    "*Votre fonction pourrait avoir la forme suivante :*\n",
    "```py\n",
    "def extraction(ARN):\n",
    "    i = 0 # indice qui indique le début d'un codon\n",
    "    codon = ARN[...:...] # premier codon; remplacer ... par des valeurs\n",
    "    tant que le codon est différent du codon start : \n",
    "        i = ... # position du codon suivant; i=i+1 n'est pas la bonne solution.\n",
    "        codon = ARN[...:...] # prochain codon\n",
    "    index_start = i # on garde en mémoire la position du dernier codon lu qui est un codon start\n",
    "    tant que le codon n'est pas dans la liste ['UAA', 'UAG', 'UGA'] :\n",
    "        i = .... # position du prochain codon\n",
    "        codon = ARN[...:...] # prochain codon\n",
    "    index_stop = .... # attention, on veut inclure le codon stop donc index_stop = i ne marche pas\n",
    "    retrourner ARN[index_start: index_stop] \n",
    "```\n",
    "\n",
    "### Solution :"
   ]
  },
  {
   "cell_type": "code",
   "execution_count": null,
   "id": "98bb1f31",
   "metadata": {},
   "outputs": [],
   "source": []
  },
  {
   "cell_type": "code",
   "execution_count": null,
   "id": "6c5aa541",
   "metadata": {},
   "outputs": [],
   "source": [
    "# tester avec le codon suivant; voir l'énoncé pour la bonne réponse\n",
    "ARN1 = \"GUAAUGACCCGUAAAUAGAAA\""
   ]
  },
  {
   "cell_type": "code",
   "execution_count": null,
   "id": "f5306b25",
   "metadata": {},
   "outputs": [],
   "source": [
    "# tester avec le codon suivant; voir l'énoncé pour la bonne réponse\n",
    "ARN2 = \"CGAUUCGACCGUAAUAUGCCUACCCGUAAUGUGCUCCACCUCUUACGAUUGUCAGUAUUCCGACGAUAAACUUAGGGG\""
   ]
  },
  {
   "cell_type": "markdown",
   "id": "ce0c07aa",
   "metadata": {},
   "source": [
    "## Retour sur la boucle for"
   ]
  },
  {
   "cell_type": "markdown",
   "id": "729ddad0",
   "metadata": {},
   "source": [
    "Pour afficher les bases de `sequence = \"AUGCCUACCUAA\"` on peut utiliser:"
   ]
  },
  {
   "cell_type": "code",
   "execution_count": null,
   "id": "421cee63",
   "metadata": {},
   "outputs": [],
   "source": [
    "sequence = \"AUGCCUACCUAA\"\n",
    "for base in sequence:\n",
    "    print(base)"
   ]
  },
  {
   "cell_type": "markdown",
   "id": "a6b36f40",
   "metadata": {},
   "source": [
    "Parfois il est nécessaire d'utiliser des indices : la première lettre de `sequence` est\n",
    "`sequence[0]`, la deuxième est `sequence[1]`, ...\n",
    "\n",
    "Donc on peut écrire:"
   ]
  },
  {
   "cell_type": "code",
   "execution_count": null,
   "id": "902389ac",
   "metadata": {},
   "outputs": [],
   "source": [
    "sequence = \"AUGCCUACCUAA\"\n",
    "longueur = len(sequence) # nombre de bases dans sequence\n",
    "for i in range(0, longueur): # i=0, 1, 2, ..., longueur-1 sont les indices des lettres de sequence\n",
    "    print(f\"lettre d'indice {i} est {sequence[i]}\") # on affiche le i-ème caractere"
   ]
  },
  {
   "cell_type": "markdown",
   "id": "f24691ce",
   "metadata": {},
   "source": [
    "Cette deuxième méthode nous permet d'afficher les codons :"
   ]
  },
  {
   "cell_type": "code",
   "execution_count": null,
   "id": "4d759893",
   "metadata": {},
   "outputs": [],
   "source": [
    "sequence = \"AUGCCUACCUAA\"\n",
    "longueur = len(sequence)\n",
    "for i in range(0, longueur, 3): # on utilise le pas 3, donc i = 0, 3, 6, ....\n",
    "    print(sequence[i:i+3]) # i-ème codon"
   ]
  },
  {
   "cell_type": "markdown",
   "id": "4e928c9b",
   "metadata": {},
   "source": [
    "## Tache 4 - Traduction d'ADN en protéine"
   ]
  },
  {
   "cell_type": "markdown",
   "id": "732ba8ef",
   "metadata": {},
   "source": [
    "- Nous nous donnons une séquence d'ADN qui commence par un codon « start »\n",
    "et se termine par un codon « stop ».    \n",
    "- Pour traduire cette séquence en une protéine, il faut la lire par groupes de trois bases, et chaque triplet ou codon correspond à un acide aminé de la séquence de la protéine en cours de fabrication. La correspondance est donné par:"
   ]
  },
  {
   "cell_type": "markdown",
   "id": "be435309",
   "metadata": {},
   "source": [
    "![Correspondance_acides_amines](https://raw.githubusercontent.com/PythonLycee/PyLyc/master/SVT/img/Correspondance_am.png)"
   ]
  },
  {
   "cell_type": "markdown",
   "id": "c3864439",
   "metadata": {},
   "source": [
    "Donc par exemple, les codons \"AGG\" et \"AGA\" corréspondent à l'acide aminé \"Arg\".\n",
    "\n",
    "La correspondance entre codon et acide aminé est donné par le dictionnaire Python suivant :"
   ]
  },
  {
   "cell_type": "code",
   "execution_count": null,
   "id": "7d03ce61",
   "metadata": {},
   "outputs": [],
   "source": [
    "dico_genetic_code = {'UUA': 'Leu', 'UUG': 'Leu', 'CUU': 'Leu', 'CUC': 'Leu', 'CUA': 'Leu', 'CUG': 'Leu',\n",
    "            'UUU': 'Phe', 'UUC': 'Phe',\n",
    "            'AUU': 'Ile', 'AUC': 'Ile', 'AUA': 'Ile',\n",
    "            'AUG': 'Met',\n",
    "            'GUU': 'Val', 'GUC': 'Val', 'GUA': 'Val', 'GUG': 'Val',\n",
    "            'UCU': 'Ser', 'UCC': 'Ser', 'UCA': 'Ser', 'UCG': 'Ser', 'AGU': 'Ser', 'AGC': 'Ser',\n",
    "            'CCU': 'Pro', 'CCC': 'Pro', 'CCA': 'Pro', 'CCG': 'Pro', \n",
    "            'ACU': 'Thr', 'ACC': 'Thr', 'ACA': 'Thr', 'ACG': 'Thr', \n",
    "            'GCU': 'Ala', 'GCC': 'Ala', 'GCA': 'Ala', 'GCG': 'Ala',\n",
    "            'UAU': 'Tyr', 'UAC': 'Tyr', \n",
    "            'UAA': 'STOP', 'UAG': 'STOP', 'UGA': 'STOP',\n",
    "            'CAU': 'His', 'CAC': 'His', \n",
    "            'CAA': 'Gln', 'CAG': 'Gln',\n",
    "            'AAU': 'Asn', 'AAC': 'Asn', \n",
    "            'AAA': 'Lys', 'AAG': 'Lys',\n",
    "            'GAU': 'Asp', 'GAC': 'Asp',\n",
    "            'GAA': 'Glu', 'GAG': 'Glu',\n",
    "            'UGU': 'Cys', 'UGC': 'Cys',\n",
    "            'UGG': 'Trp',\n",
    "            'CGU': 'Arg', 'CGC': 'Arg', 'CGA': 'Arg', 'CGG': 'Arg', 'AGA': 'Arg', 'AGG': 'Arg',\n",
    "            'GGU': 'Gly', 'GGC': 'Gly', 'GGA': 'Gly', 'GGG': 'Gly'}"
   ]
  },
  {
   "cell_type": "code",
   "execution_count": null,
   "id": "5aa0d422",
   "metadata": {},
   "outputs": [],
   "source": [
    "dico_genetic_code[\"AGG\"]"
   ]
  },
  {
   "cell_type": "code",
   "execution_count": null,
   "id": "d315c731",
   "metadata": {},
   "outputs": [],
   "source": [
    "dico_genetic_code[\"AGA\"]"
   ]
  },
  {
   "cell_type": "markdown",
   "id": "c8ddf315",
   "metadata": {},
   "source": [
    "### Exercice 4:\n",
    "    \n",
    ">Ecrire une fonction `traduction(sequence, dico)` qui prend comme argument une sous-chaine d'ARN et donne en retour le proteine correspondant.\n",
    ">> - **Exemple :** pour la séquence `sequence = \"AUGCCUACCUAA\"`, le codon start \"AUG\" correspond à l'acide aminé \"Met\", le codon \"CCU\" correspond à \"Pro\", \"ACC\" correspond à \"Thr\", et le codon strop \"UAA\" correspond à  \"STOP\". La \n",
    ">>traduction de `sequence = \"AUGCCUACCUAA\"` est donc \"MetProThrSTOP\".\n",
    ">> - Pour la lecture des codons d'une chaine, voir \"retour sur la boucle for\".  \n",
    ">> - Pour l'utilisation d'un dictionnaire, voir votre solution de l'exercice 2 (transcription d'une ADN en ARN).\n",
    "\n",
    "### Solution :"
   ]
  },
  {
   "cell_type": "code",
   "execution_count": null,
   "id": "a1b58658",
   "metadata": {},
   "outputs": [],
   "source": [
    "def traduction(sequence, dico):\n",
    "    ... compléter ...\n",
    "\n",
    "dico_genetic_code = ... compléter ..."
   ]
  },
  {
   "cell_type": "code",
   "execution_count": null,
   "id": "785cd8c0",
   "metadata": {},
   "outputs": [],
   "source": [
    "# tester avec \n",
    "# sequence = \"AUGCCUACCUAA\" "
   ]
  },
  {
   "cell_type": "code",
   "execution_count": null,
   "id": "ad81f292",
   "metadata": {},
   "outputs": [],
   "source": [
    "# tester avec\n",
    "# sequence = \"AUGCCUACCUACACCGUGCUCCACCUCUUACGAUUGUCAGUAUUCCGACGAUAA\""
   ]
  },
  {
   "cell_type": "markdown",
   "id": "60492c24",
   "metadata": {},
   "source": [
    "## Compléments sur les chaines de caractères"
   ]
  },
  {
   "cell_type": "code",
   "execution_count": null,
   "id": "02884c9d",
   "metadata": {},
   "outputs": [],
   "source": [
    "texte = \"ligne1\\nligne2\\nligne3\\n\"\n",
    "texte"
   ]
  },
  {
   "cell_type": "markdown",
   "id": "09d31d22",
   "metadata": {},
   "source": [
    "- Si on affiche `texte` avec `print`, chaque caractère `\"\\n\"` se traduit par un retour à la ligne."
   ]
  },
  {
   "cell_type": "code",
   "execution_count": null,
   "id": "538921cb",
   "metadata": {},
   "outputs": [],
   "source": [
    "print(texte)"
   ]
  },
  {
   "cell_type": "markdown",
   "id": "3c0ef62d",
   "metadata": {},
   "source": [
    "- Nous souhaitons maintenant supprimer ces retours à la ligne.   \n",
    "- Pour cela, il suffit de remplacer `\"\\n\"` par la chaine vide `\"\"` en utilisant la commande `replace(\"\\n\", \"\")`:"
   ]
  },
  {
   "cell_type": "code",
   "execution_count": null,
   "id": "029b9a42",
   "metadata": {},
   "outputs": [],
   "source": [
    "texte = \"ligne1\\nligne2\\nligne3\\n\"\n",
    "texte_brute = texte.replace(\"\\n\", \"\") # remplace \\n par un espace vide\n",
    "print(texte_brute)"
   ]
  },
  {
   "cell_type": "markdown",
   "id": "5a84793e",
   "metadata": {},
   "source": [
    "## Tache 5 - Lecture d'un fichier \"FASTA\""
   ]
  },
  {
   "cell_type": "markdown",
   "id": "35bd253a",
   "metadata": {},
   "source": [
    "## Lecture d'un fichier ligne par ligne"
   ]
  },
  {
   "cell_type": "markdown",
   "id": "9f3ee9b5",
   "metadata": {},
   "source": [
    "Avant de procéder, **télécharger le fichier `exemple_ADN.fasta`** depuis le cours Moodle et enregistrer-le au même dossier ou se trouve ce notebook.\n",
    "\n",
    "<span style=\"background:yellow;color:black\"> Important :</span> Si vous utilisez Basthon, il faut \n",
    "- menu fichier (de Basthon), choisir \"Ouvrir\"\n",
    "- chercher le fichier \"exemple_ADN.fasta\" que vous avez préalablement téléchargé\n",
    "- un message vous dit que \"exemple_ADN.fasta est maintenant utilisable depuis Python 3\". Cliquer sur \"ok\".\n",
    "- vous pouvez maintenant exécuter la cellule suivante."
   ]
  },
  {
   "cell_type": "code",
   "execution_count": null,
   "id": "5b623c47",
   "metadata": {},
   "outputs": [],
   "source": [
    "# vous avez bien téléchargé le fichier? \n",
    "# Vous avez suivi les instructions ci-dessus si vous utilisez Basthon?\n",
    "\n",
    "with open(\"exemple_ADN.fasta\") as mon_fichier:   # ouverture du fichier et création de la référence mon_fichier\n",
    "    for ligne in mon_fichier: # on parcourt ligne par ligne\n",
    "        print(ligne) # on affiche une ligne à la fois\n",
    "# le fichier est automatiquement fermé"
   ]
  },
  {
   "cell_type": "markdown",
   "id": "0d635e56",
   "metadata": {},
   "source": [
    "**Remarque :** - Chaque `print` se fait sur une nouvelle ligne. Mais comme en plus chaque ligne se termine par `\\n` qui se traduit par un retour à la ligne nous avons une ligne blanche après chaque ligne.\n",
    "\n",
    "- Un fichier fasta contient toujours une ligne qui donne la description de l'ADN. Cette ligne commence toujours par le prompt `>`. "
   ]
  },
  {
   "cell_type": "markdown",
   "id": "6f5ee884",
   "metadata": {},
   "source": [
    "### Exercice 5\n",
    "\n",
    "> Écrire un programme qui crée une chaine qui contient le brin d'ADN du fichier `exemple_ADN.fasta` sans la description et sans les retrour à la ligne `\\n` qui terminent chaque ligne du fichier.\n",
    ">> - Vous pouvez adapter le programme de \"Bonne façon de lire un fichier ligne par ligne\".      \n",
    ">> - Pour vérifier si une ligne `ligne` du fichier ne contient pas la description, il suffit de vérifier si son premier caractère est différent du prompt \">\". Donc il suffit de vérifier si `ligne[0]` est différent de `\">\"`.      \n",
    "*Votre programme pourrait avoir la forme suivante :*\n",
    "\n",
    "```py\n",
    "with open(\"exemple_ADN.fasta\") as mon_fichier: \n",
    "    brin_ADN = ..compléter.. # initialisation par mot vide\n",
    "    pour chaque ligne de mon_fichier:\n",
    "        si la ligne ne contient pas la description:\n",
    "            ligne_brute = ligne sans \"\\n\"\n",
    "            ajouter ligne_brute à brin_ADN\n",
    "```\n",
    "\n",
    "**Solution**"
   ]
  },
  {
   "cell_type": "code",
   "execution_count": null,
   "id": "7a2c56b2",
   "metadata": {},
   "outputs": [],
   "source": []
  },
  {
   "cell_type": "markdown",
   "id": "29934907",
   "metadata": {},
   "source": [
    "## Tache 6 - Conclusion"
   ]
  },
  {
   "cell_type": "markdown",
   "id": "0ff9144c",
   "metadata": {},
   "source": [
    "### Exercice 6\n",
    "> Pour `brin_ADN` de l'exercice précédent:\n",
    "> - tester s'il s'agit d'une chaine valide avec `test_sequence_valide(brin_ADN)`\n",
    "> - transcrire `brin_ADN` en `ARN` avec la commande `ARN = transcription(brin_ADN, dico_transcription)`\n",
    "> - extraire de `ARN` une séquence `sequence` qui commence avec un codon start et termine avec un codon stop avec la commande `sequence = extraction(ARN)`\n",
    "> - traduire `sequence` en protéine avec la commande `traduction(sequence, dico_genetic_code)`\n",
    ">> **Indication :** Il n'est pas nécessaire de recopier les fonctions `test_sequence_valide`, ... Il suffit d'avoir exécuté les cellules qui contiennent ces fonctions (et la définition des dictionnaires) pour pouvoir les utiliser dans la cellule ci-dessous.\n",
    "\n",
    "**Solution :**"
   ]
  },
  {
   "cell_type": "code",
   "execution_count": null,
   "id": "a0f33c25",
   "metadata": {},
   "outputs": [],
   "source": []
  }
 ],
 "metadata": {
  "kernelspec": {
   "display_name": "Python 3 (ipykernel)",
   "language": "python",
   "name": "python3"
  },
  "language_info": {
   "codemirror_mode": {
    "name": "ipython",
    "version": 3
   },
   "file_extension": ".py",
   "mimetype": "text/x-python",
   "name": "python",
   "nbconvert_exporter": "python",
   "pygments_lexer": "ipython3",
   "version": "3.9.7"
  }
 },
 "nbformat": 4,
 "nbformat_minor": 5
}
